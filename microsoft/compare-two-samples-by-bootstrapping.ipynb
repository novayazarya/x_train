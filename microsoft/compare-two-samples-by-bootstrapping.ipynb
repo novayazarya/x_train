{
 "cells": [
  {
   "cell_type": "code",
   "execution_count": 21,
   "metadata": {},
   "outputs": [],
   "source": [
    "import numpy as np\n",
    "import pandas as pd\n",
    "\n",
    "import matplotlib.pyplot as plt"
   ]
  },
  {
   "cell_type": "markdown",
   "metadata": {},
   "source": [
    "# A/B-тестирование\n",
    "\n",
    "> Часть курса <a href=\"https://docs.microsoft.com/ru-ru/learn/modules/compare-two-samples-by-bootstrapping/\">«Основы обработки и анализа данных»</a> от Microsoft с переработанными примерами под библиотеку `pandas`.\n",
    "\n",
    "В современной аналитике данных решение о том, взяты ли две числовые выборки из одного и того же исходного распределения, называется *A/B-тестированием*. Название связано с метками двух выборок: A и B.\n",
    "\n",
    "Разберем применение этого метода на примере. Данные взяты из выборки новорожденных в одной из крупной сети больниц. Мы будем работать с ней как с простой случайной выборкой, хотя процесс ее формирования проводился в несколько этапов. Информацию о более крупном наборе данных, из которого взята эта выборка, см. в книге Stat Labs Деборы Нолан (Deborah Nolan) и Терри Спида (Terry Speed).\n",
    "\n",
    "## Курящие и некурящие\n",
    "\n",
    "Таблица `births` содержит следующие переменные для 1174 пар \"мать — ребенок\": вес ребенка при рождении в унциях, гестационный возраст в днях, возраст матери (полных лет), рост матери в дюймах, вес во время беременности в фунтах, а также сведения о том, курила ли мать во время беременности."
   ]
  },
  {
   "cell_type": "code",
   "execution_count": 9,
   "metadata": {},
   "outputs": [
    {
     "data": {
      "text/html": [
       "<div>\n",
       "<style scoped>\n",
       "    .dataframe tbody tr th:only-of-type {\n",
       "        vertical-align: middle;\n",
       "    }\n",
       "\n",
       "    .dataframe tbody tr th {\n",
       "        vertical-align: top;\n",
       "    }\n",
       "\n",
       "    .dataframe thead th {\n",
       "        text-align: right;\n",
       "    }\n",
       "</style>\n",
       "<table border=\"1\" class=\"dataframe\">\n",
       "  <thead>\n",
       "    <tr style=\"text-align: right;\">\n",
       "      <th></th>\n",
       "      <th>Birth Weight</th>\n",
       "      <th>Gestational Days</th>\n",
       "      <th>Maternal Age</th>\n",
       "      <th>Maternal Height</th>\n",
       "      <th>Maternal Pregnancy Weight</th>\n",
       "      <th>Maternal Smoker</th>\n",
       "    </tr>\n",
       "  </thead>\n",
       "  <tbody>\n",
       "    <tr>\n",
       "      <th>0</th>\n",
       "      <td>120</td>\n",
       "      <td>284</td>\n",
       "      <td>27</td>\n",
       "      <td>62</td>\n",
       "      <td>100</td>\n",
       "      <td>False</td>\n",
       "    </tr>\n",
       "    <tr>\n",
       "      <th>1</th>\n",
       "      <td>113</td>\n",
       "      <td>282</td>\n",
       "      <td>33</td>\n",
       "      <td>64</td>\n",
       "      <td>135</td>\n",
       "      <td>False</td>\n",
       "    </tr>\n",
       "    <tr>\n",
       "      <th>2</th>\n",
       "      <td>128</td>\n",
       "      <td>279</td>\n",
       "      <td>28</td>\n",
       "      <td>64</td>\n",
       "      <td>115</td>\n",
       "      <td>True</td>\n",
       "    </tr>\n",
       "    <tr>\n",
       "      <th>3</th>\n",
       "      <td>108</td>\n",
       "      <td>282</td>\n",
       "      <td>23</td>\n",
       "      <td>67</td>\n",
       "      <td>125</td>\n",
       "      <td>True</td>\n",
       "    </tr>\n",
       "    <tr>\n",
       "      <th>4</th>\n",
       "      <td>136</td>\n",
       "      <td>286</td>\n",
       "      <td>25</td>\n",
       "      <td>62</td>\n",
       "      <td>93</td>\n",
       "      <td>False</td>\n",
       "    </tr>\n",
       "    <tr>\n",
       "      <th>...</th>\n",
       "      <td>...</td>\n",
       "      <td>...</td>\n",
       "      <td>...</td>\n",
       "      <td>...</td>\n",
       "      <td>...</td>\n",
       "      <td>...</td>\n",
       "    </tr>\n",
       "    <tr>\n",
       "      <th>1169</th>\n",
       "      <td>113</td>\n",
       "      <td>275</td>\n",
       "      <td>27</td>\n",
       "      <td>60</td>\n",
       "      <td>100</td>\n",
       "      <td>False</td>\n",
       "    </tr>\n",
       "    <tr>\n",
       "      <th>1170</th>\n",
       "      <td>128</td>\n",
       "      <td>265</td>\n",
       "      <td>24</td>\n",
       "      <td>67</td>\n",
       "      <td>120</td>\n",
       "      <td>False</td>\n",
       "    </tr>\n",
       "    <tr>\n",
       "      <th>1171</th>\n",
       "      <td>130</td>\n",
       "      <td>291</td>\n",
       "      <td>30</td>\n",
       "      <td>65</td>\n",
       "      <td>150</td>\n",
       "      <td>True</td>\n",
       "    </tr>\n",
       "    <tr>\n",
       "      <th>1172</th>\n",
       "      <td>125</td>\n",
       "      <td>281</td>\n",
       "      <td>21</td>\n",
       "      <td>65</td>\n",
       "      <td>110</td>\n",
       "      <td>False</td>\n",
       "    </tr>\n",
       "    <tr>\n",
       "      <th>1173</th>\n",
       "      <td>117</td>\n",
       "      <td>297</td>\n",
       "      <td>38</td>\n",
       "      <td>65</td>\n",
       "      <td>129</td>\n",
       "      <td>False</td>\n",
       "    </tr>\n",
       "  </tbody>\n",
       "</table>\n",
       "<p>1174 rows × 6 columns</p>\n",
       "</div>"
      ],
      "text/plain": [
       "      Birth Weight  Gestational Days  Maternal Age  Maternal Height  \\\n",
       "0              120               284            27               62   \n",
       "1              113               282            33               64   \n",
       "2              128               279            28               64   \n",
       "3              108               282            23               67   \n",
       "4              136               286            25               62   \n",
       "...            ...               ...           ...              ...   \n",
       "1169           113               275            27               60   \n",
       "1170           128               265            24               67   \n",
       "1171           130               291            30               65   \n",
       "1172           125               281            21               65   \n",
       "1173           117               297            38               65   \n",
       "\n",
       "      Maternal Pregnancy Weight  Maternal Smoker  \n",
       "0                           100            False  \n",
       "1                           135            False  \n",
       "2                           115             True  \n",
       "3                           125             True  \n",
       "4                            93            False  \n",
       "...                         ...              ...  \n",
       "1169                        100            False  \n",
       "1170                        120            False  \n",
       "1171                        150             True  \n",
       "1172                        110            False  \n",
       "1173                        129            False  \n",
       "\n",
       "[1174 rows x 6 columns]"
      ]
     },
     "execution_count": 9,
     "metadata": {},
     "output_type": "execute_result"
    }
   ],
   "source": [
    "births = pd.read_csv('https://raw.githubusercontent.com/MicrosoftDocs/inferentialthinking/master/data/baby.csv')\n",
    "births"
   ]
  },
  {
   "cell_type": "markdown",
   "metadata": {},
   "source": [
    "Одна из целей этого исследования — определить, влияет ли курение матери на вес ребенка при рождении. Посмотрим, что можно сказать о двух переменных.\n",
    "\n",
    "Для начала выберем только `Birth Weight` и `Maternal Smoker`. Среди женщин в выборке 715 некурящих и 459 курящих."
   ]
  },
  {
   "cell_type": "code",
   "execution_count": 95,
   "metadata": {},
   "outputs": [],
   "source": [
    "smoking_and_birthweight = births[['Maternal Smoker', 'Birth Weight']]"
   ]
  },
  {
   "cell_type": "code",
   "execution_count": 14,
   "metadata": {},
   "outputs": [
    {
     "data": {
      "text/html": [
       "<div>\n",
       "<style scoped>\n",
       "    .dataframe tbody tr th:only-of-type {\n",
       "        vertical-align: middle;\n",
       "    }\n",
       "\n",
       "    .dataframe tbody tr th {\n",
       "        vertical-align: top;\n",
       "    }\n",
       "\n",
       "    .dataframe thead th {\n",
       "        text-align: right;\n",
       "    }\n",
       "</style>\n",
       "<table border=\"1\" class=\"dataframe\">\n",
       "  <thead>\n",
       "    <tr style=\"text-align: right;\">\n",
       "      <th></th>\n",
       "      <th>Birth Weight</th>\n",
       "    </tr>\n",
       "    <tr>\n",
       "      <th>Maternal Smoker</th>\n",
       "      <th></th>\n",
       "    </tr>\n",
       "  </thead>\n",
       "  <tbody>\n",
       "    <tr>\n",
       "      <th>False</th>\n",
       "      <td>715</td>\n",
       "    </tr>\n",
       "    <tr>\n",
       "      <th>True</th>\n",
       "      <td>459</td>\n",
       "    </tr>\n",
       "  </tbody>\n",
       "</table>\n",
       "</div>"
      ],
      "text/plain": [
       "                 Birth Weight\n",
       "Maternal Smoker              \n",
       "False                     715\n",
       "True                      459"
      ]
     },
     "execution_count": 14,
     "metadata": {},
     "output_type": "execute_result"
    }
   ],
   "source": [
    "smoking_and_birthweight.groupby('Maternal Smoker').count()"
   ]
  },
  {
   "cell_type": "markdown",
   "metadata": {},
   "source": [
    "Посмотрим на распределение веса при рождении у детей некурящих матерей по сравнению с детьми курящих матерей. Чтобы создать две пересекающиеся гистограммы, воспользуемся `hist` вспомогательным `group` аргументом — меткой или индексом столбца. Сначала сгруппируем строки по этому столбцу, а затем построим для каждой из них гистограмму."
   ]
  },
  {
   "cell_type": "code",
   "execution_count": 25,
   "metadata": {},
   "outputs": [
    {
     "data": {
      "text/html": [
       "<div>\n",
       "<style scoped>\n",
       "    .dataframe tbody tr th:only-of-type {\n",
       "        vertical-align: middle;\n",
       "    }\n",
       "\n",
       "    .dataframe tbody tr th {\n",
       "        vertical-align: top;\n",
       "    }\n",
       "\n",
       "    .dataframe thead th {\n",
       "        text-align: right;\n",
       "    }\n",
       "</style>\n",
       "<table border=\"1\" class=\"dataframe\">\n",
       "  <thead>\n",
       "    <tr style=\"text-align: right;\">\n",
       "      <th></th>\n",
       "      <th>Birth Weight</th>\n",
       "    </tr>\n",
       "  </thead>\n",
       "  <tbody>\n",
       "    <tr>\n",
       "      <th>0</th>\n",
       "      <td>120</td>\n",
       "    </tr>\n",
       "    <tr>\n",
       "      <th>1</th>\n",
       "      <td>113</td>\n",
       "    </tr>\n",
       "    <tr>\n",
       "      <th>2</th>\n",
       "      <td>128</td>\n",
       "    </tr>\n",
       "    <tr>\n",
       "      <th>3</th>\n",
       "      <td>108</td>\n",
       "    </tr>\n",
       "    <tr>\n",
       "      <th>4</th>\n",
       "      <td>136</td>\n",
       "    </tr>\n",
       "    <tr>\n",
       "      <th>...</th>\n",
       "      <td>...</td>\n",
       "    </tr>\n",
       "    <tr>\n",
       "      <th>1169</th>\n",
       "      <td>113</td>\n",
       "    </tr>\n",
       "    <tr>\n",
       "      <th>1170</th>\n",
       "      <td>128</td>\n",
       "    </tr>\n",
       "    <tr>\n",
       "      <th>1171</th>\n",
       "      <td>130</td>\n",
       "    </tr>\n",
       "    <tr>\n",
       "      <th>1172</th>\n",
       "      <td>125</td>\n",
       "    </tr>\n",
       "    <tr>\n",
       "      <th>1173</th>\n",
       "      <td>117</td>\n",
       "    </tr>\n",
       "  </tbody>\n",
       "</table>\n",
       "<p>1174 rows × 1 columns</p>\n",
       "</div>"
      ],
      "text/plain": [
       "      Birth Weight\n",
       "0              120\n",
       "1              113\n",
       "2              128\n",
       "3              108\n",
       "4              136\n",
       "...            ...\n",
       "1169           113\n",
       "1170           128\n",
       "1171           130\n",
       "1172           125\n",
       "1173           117\n",
       "\n",
       "[1174 rows x 1 columns]"
      ]
     },
     "execution_count": 25,
     "metadata": {},
     "output_type": "execute_result"
    }
   ],
   "source": [
    "smoking_and_birthweight[['Birth Weight']]"
   ]
  },
  {
   "cell_type": "code",
   "execution_count": 48,
   "metadata": {},
   "outputs": [
    {
     "data": {
      "image/png": "[encoded data removed]",
      "text/plain": [
       "<Figure size 432x288 with 1 Axes>"
      ]
     },
     "metadata": {
      "needs_background": "light"
     },
     "output_type": "display_data"
    }
   ],
   "source": [
    "smoking_and_birthweight.groupby(['Maternal Smoker'])['Birth Weight'] \\\n",
    "                                                         .hist(alpha=0.5);"
   ]
  },
  {
   "cell_type": "markdown",
   "metadata": {},
   "source": [
    "Распределение веса при рождении у детей, чьи матери курили, смещено немного влево по сравнению с распределением, соответствующим некурящим матерям. Вес при рождении у детей, чьи матери курили, в среднем ниже, чем вес у детей, родившихся у некурящих женщин.\n",
    "\n",
    "В результате возникает вопрос, что означает эта разница — только случайную вариацию или разницу в распределениях в более крупной генеральной совокупности. Возможно ли, что в генеральной совокупности никакой разницы между двумя этим распределениями нет, а разница, которую мы наблюдаем в выборке, относится только к случайно выбранным матерям?"
   ]
  },
  {
   "cell_type": "markdown",
   "metadata": {},
   "source": [
    "## Гипотеза\n",
    "Чтобы ответить на этот вопрос, проверим гипотезу. Согласно модели вероятности, которую мы будем тестировать, никакой фундаментальной разницы в генеральных совокупностях нет, а распределения в выборках различаются по чистой случайности.\n",
    "\n",
    "Это называется \"нулевая гипотеза\". Нам необходимо понять, как смоделировать полезную статистику по этой гипотезе. Но для начала просто сформулируем две логичные гипотезы.\n",
    "\n",
    "__Нулевая гипотеза.__ _В популяции распределение значений веса детей при рождении одинаково и для генеральной совокупности, и для курящих матерей. Разница в конкретной выборке случайна._\n",
    "\n",
    "__Альтернативная гипотеза.__ _В генеральной совокупности дети, родившиеся у курящих женщин, в среднем весят при рождении меньше, чем дети, чьи матери не курят._"
   ]
  },
  {
   "cell_type": "markdown",
   "metadata": {},
   "source": [
    "## Статистический критерий\n",
    "Альтернативная гипотеза сравнивает средний вес при рождении в двух группах и утверждает, что в группе курящих матерей этот показатель ниже. Таким образом, для нас будет разумно использовать в качестве статистического критерия разность между средними показателями двух этих групп.\n",
    "\n",
    "Для этого мы произведем вычисление: \"средний вес в группе курящих — средний вес в группе некурящих\". Маленькие (т. е. большие отрицательные) значения статистического критерия говорят о том, что верна альтернативная гипотеза.\n",
    "\n",
    "Наблюдаемое значение статистического критерия составляет около -9,27 унции."
   ]
  },
  {
   "cell_type": "code",
   "execution_count": 51,
   "metadata": {},
   "outputs": [
    {
     "data": {
      "text/html": [
       "<div>\n",
       "<style scoped>\n",
       "    .dataframe tbody tr th:only-of-type {\n",
       "        vertical-align: middle;\n",
       "    }\n",
       "\n",
       "    .dataframe tbody tr th {\n",
       "        vertical-align: top;\n",
       "    }\n",
       "\n",
       "    .dataframe thead th {\n",
       "        text-align: right;\n",
       "    }\n",
       "</style>\n",
       "<table border=\"1\" class=\"dataframe\">\n",
       "  <thead>\n",
       "    <tr style=\"text-align: right;\">\n",
       "      <th></th>\n",
       "      <th>Birth Weight</th>\n",
       "    </tr>\n",
       "    <tr>\n",
       "      <th>Maternal Smoker</th>\n",
       "      <th></th>\n",
       "    </tr>\n",
       "  </thead>\n",
       "  <tbody>\n",
       "    <tr>\n",
       "      <th>False</th>\n",
       "      <td>123.085315</td>\n",
       "    </tr>\n",
       "    <tr>\n",
       "      <th>True</th>\n",
       "      <td>113.819172</td>\n",
       "    </tr>\n",
       "  </tbody>\n",
       "</table>\n",
       "</div>"
      ],
      "text/plain": [
       "                 Birth Weight\n",
       "Maternal Smoker              \n",
       "False              123.085315\n",
       "True               113.819172"
      ]
     },
     "execution_count": 51,
     "metadata": {},
     "output_type": "execute_result"
    }
   ],
   "source": [
    "means_table = smoking_and_birthweight.groupby('Maternal Smoker').agg(np.average)\n",
    "means_table"
   ]
  },
  {
   "cell_type": "code",
   "execution_count": 56,
   "metadata": {},
   "outputs": [
    {
     "data": {
      "text/plain": [
       "-9.266142572024918"
      ]
     },
     "execution_count": 56,
     "metadata": {},
     "output_type": "execute_result"
    }
   ],
   "source": [
    "observed_difference = np.diff(means_table['Birth Weight'])[0]\n",
    "observed_difference"
   ]
  },
  {
   "cell_type": "markdown",
   "metadata": {},
   "source": [
    "Вычислим такие разницы снова в моделях, представленных ниже, и определим таким образом функцию для решения данной задачи. Функция принимает три аргумента:\n",
    "\n",
    "- имя таблицы данных;\n",
    "- метка столбца, содержащего числовую переменную, среднее значение которой нас интересует;\n",
    "- метка столбца, содержащего логическую переменную для группирования.\n",
    "\n",
    "Она возвращает разность между средними арифметическими группы `True` и группы `False`."
   ]
  },
  {
   "cell_type": "code",
   "execution_count": 178,
   "metadata": {},
   "outputs": [],
   "source": [
    "def difference_of_means(table, label, group_label):\n",
    "    reduced = table[[label, group_label]]\n",
    "    means_table = reduced.groupby(group_label).mean()\n",
    "    return np.diff(means_table[label])[0]"
   ]
  },
  {
   "cell_type": "markdown",
   "metadata": {},
   "source": [
    "Чтобы проверить, работает ли функция, рассчитаем с ее помощью наблюдаемую разность между средними арифметическими двух входящих в выборку групп."
   ]
  },
  {
   "cell_type": "code",
   "execution_count": 62,
   "metadata": {},
   "outputs": [
    {
     "data": {
      "text/plain": [
       "-9.266142572024918"
      ]
     },
     "execution_count": 62,
     "metadata": {},
     "output_type": "execute_result"
    }
   ],
   "source": [
    "difference_of_means(births, 'Birth Weight', 'Maternal Smoker')"
   ]
  },
  {
   "cell_type": "markdown",
   "metadata": {},
   "source": [
    "Мы получим значение, равное вычисленному ранее значению `observed_difference`."
   ]
  },
  {
   "cell_type": "markdown",
   "metadata": {},
   "source": [
    "# Прогнозирование статистики по нулевой гипотезе\n",
    "Чтобы увидеть, как должен измениться статистический показатель, если нулевая гипотеза верна, нам нужно понять, как смоделировать статистический критерий по этой гипотезе. Для этого можно использовать метод на основе случайных перестановок.\n",
    "\n",
    "Если бы разницы между двумя распределениями в исходной генеральной совокупности не было, то наличие у веса при рождении метки `True` или `False`, связанной с курением матери, не влияло бы на среднее значение. Идея в том, чтобы перераспределить все эти метки между матерями случайным образом. Это называется _случайной перестановкой_.\n",
    "\n",
    "Рассмотрим разность средних арифметических двух новых групп: средний вес детей, матери которых были случайным образом помечены как курящие, и средний вес детей, матери которых были случайным образом помечены как некурящие. Это моделирование значения статистического критерия по нулевой гипотезе.\n",
    "\n",
    "Посмотрим, как это работает. Лучше всего начинать с данных."
   ]
  },
  {
   "cell_type": "code",
   "execution_count": 63,
   "metadata": {},
   "outputs": [
    {
     "data": {
      "text/html": [
       "<div>\n",
       "<style scoped>\n",
       "    .dataframe tbody tr th:only-of-type {\n",
       "        vertical-align: middle;\n",
       "    }\n",
       "\n",
       "    .dataframe tbody tr th {\n",
       "        vertical-align: top;\n",
       "    }\n",
       "\n",
       "    .dataframe thead th {\n",
       "        text-align: right;\n",
       "    }\n",
       "</style>\n",
       "<table border=\"1\" class=\"dataframe\">\n",
       "  <thead>\n",
       "    <tr style=\"text-align: right;\">\n",
       "      <th></th>\n",
       "      <th>Maternal Smoker</th>\n",
       "      <th>Birth Weight</th>\n",
       "    </tr>\n",
       "  </thead>\n",
       "  <tbody>\n",
       "    <tr>\n",
       "      <th>0</th>\n",
       "      <td>False</td>\n",
       "      <td>120</td>\n",
       "    </tr>\n",
       "    <tr>\n",
       "      <th>1</th>\n",
       "      <td>False</td>\n",
       "      <td>113</td>\n",
       "    </tr>\n",
       "    <tr>\n",
       "      <th>2</th>\n",
       "      <td>True</td>\n",
       "      <td>128</td>\n",
       "    </tr>\n",
       "    <tr>\n",
       "      <th>3</th>\n",
       "      <td>True</td>\n",
       "      <td>108</td>\n",
       "    </tr>\n",
       "    <tr>\n",
       "      <th>4</th>\n",
       "      <td>False</td>\n",
       "      <td>136</td>\n",
       "    </tr>\n",
       "    <tr>\n",
       "      <th>...</th>\n",
       "      <td>...</td>\n",
       "      <td>...</td>\n",
       "    </tr>\n",
       "    <tr>\n",
       "      <th>1169</th>\n",
       "      <td>False</td>\n",
       "      <td>113</td>\n",
       "    </tr>\n",
       "    <tr>\n",
       "      <th>1170</th>\n",
       "      <td>False</td>\n",
       "      <td>128</td>\n",
       "    </tr>\n",
       "    <tr>\n",
       "      <th>1171</th>\n",
       "      <td>True</td>\n",
       "      <td>130</td>\n",
       "    </tr>\n",
       "    <tr>\n",
       "      <th>1172</th>\n",
       "      <td>False</td>\n",
       "      <td>125</td>\n",
       "    </tr>\n",
       "    <tr>\n",
       "      <th>1173</th>\n",
       "      <td>False</td>\n",
       "      <td>117</td>\n",
       "    </tr>\n",
       "  </tbody>\n",
       "</table>\n",
       "<p>1174 rows × 2 columns</p>\n",
       "</div>"
      ],
      "text/plain": [
       "      Maternal Smoker  Birth Weight\n",
       "0               False           120\n",
       "1               False           113\n",
       "2                True           128\n",
       "3                True           108\n",
       "4               False           136\n",
       "...               ...           ...\n",
       "1169            False           113\n",
       "1170            False           128\n",
       "1171             True           130\n",
       "1172            False           125\n",
       "1173            False           117\n",
       "\n",
       "[1174 rows x 2 columns]"
      ]
     },
     "execution_count": 63,
     "metadata": {},
     "output_type": "execute_result"
    }
   ],
   "source": [
    "smoking_and_birthweight"
   ]
  },
  {
   "cell_type": "markdown",
   "metadata": {},
   "source": [
    "В таблице 1174 строки. Чтобы перемешать все метки, сделаем случайную выборку из 1174 строк без замены. Такая выборка будет включать все строки таблицы в случайном порядке."
   ]
  },
  {
   "cell_type": "code",
   "execution_count": 85,
   "metadata": {},
   "outputs": [
    {
     "data": {
      "text/html": [
       "<div>\n",
       "<style scoped>\n",
       "    .dataframe tbody tr th:only-of-type {\n",
       "        vertical-align: middle;\n",
       "    }\n",
       "\n",
       "    .dataframe tbody tr th {\n",
       "        vertical-align: top;\n",
       "    }\n",
       "\n",
       "    .dataframe thead th {\n",
       "        text-align: right;\n",
       "    }\n",
       "</style>\n",
       "<table border=\"1\" class=\"dataframe\">\n",
       "  <thead>\n",
       "    <tr style=\"text-align: right;\">\n",
       "      <th></th>\n",
       "      <th>Maternal Smoker</th>\n",
       "      <th>Birth Weight</th>\n",
       "    </tr>\n",
       "  </thead>\n",
       "  <tbody>\n",
       "    <tr>\n",
       "      <th>533</th>\n",
       "      <td>True</td>\n",
       "      <td>117.0</td>\n",
       "    </tr>\n",
       "    <tr>\n",
       "      <th>211</th>\n",
       "      <td>True</td>\n",
       "      <td>140.0</td>\n",
       "    </tr>\n",
       "    <tr>\n",
       "      <th>645</th>\n",
       "      <td>False</td>\n",
       "      <td>99.0</td>\n",
       "    </tr>\n",
       "    <tr>\n",
       "      <th>136</th>\n",
       "      <td>False</td>\n",
       "      <td>102.0</td>\n",
       "    </tr>\n",
       "    <tr>\n",
       "      <th>842</th>\n",
       "      <td>False</td>\n",
       "      <td>127.0</td>\n",
       "    </tr>\n",
       "    <tr>\n",
       "      <th>...</th>\n",
       "      <td>...</td>\n",
       "      <td>...</td>\n",
       "    </tr>\n",
       "    <tr>\n",
       "      <th>641</th>\n",
       "      <td>False</td>\n",
       "      <td>115.0</td>\n",
       "    </tr>\n",
       "    <tr>\n",
       "      <th>780</th>\n",
       "      <td>False</td>\n",
       "      <td>62.0</td>\n",
       "    </tr>\n",
       "    <tr>\n",
       "      <th>961</th>\n",
       "      <td>False</td>\n",
       "      <td>103.0</td>\n",
       "    </tr>\n",
       "    <tr>\n",
       "      <th>920</th>\n",
       "      <td>True</td>\n",
       "      <td>123.0</td>\n",
       "    </tr>\n",
       "    <tr>\n",
       "      <th>547</th>\n",
       "      <td>False</td>\n",
       "      <td>115.0</td>\n",
       "    </tr>\n",
       "  </tbody>\n",
       "</table>\n",
       "<p>1175 rows × 2 columns</p>\n",
       "</div>"
      ],
      "text/plain": [
       "    Maternal Smoker  Birth Weight\n",
       "533            True         117.0\n",
       "211            True         140.0\n",
       "645           False          99.0\n",
       "136           False         102.0\n",
       "842           False         127.0\n",
       "..              ...           ...\n",
       "641           False         115.0\n",
       "780           False          62.0\n",
       "961           False         103.0\n",
       "920            True         123.0\n",
       "547           False         115.0\n",
       "\n",
       "[1175 rows x 2 columns]"
      ]
     },
     "execution_count": 85,
     "metadata": {},
     "output_type": "execute_result"
    }
   ],
   "source": [
    "shuffled_labels"
   ]
  },
  {
   "cell_type": "code",
   "execution_count": 136,
   "metadata": {},
   "outputs": [],
   "source": [
    "shuffled_labels = smoking_and_birthweight.sample(frac=1) \\\n",
    "                                  .reset_index()['Maternal Smoker']\n",
    "shuffled_labels.name = 'Shuffled Label'"
   ]
  },
  {
   "cell_type": "code",
   "execution_count": 137,
   "metadata": {},
   "outputs": [
    {
     "data": {
      "text/html": [
       "<div>\n",
       "<style scoped>\n",
       "    .dataframe tbody tr th:only-of-type {\n",
       "        vertical-align: middle;\n",
       "    }\n",
       "\n",
       "    .dataframe tbody tr th {\n",
       "        vertical-align: top;\n",
       "    }\n",
       "\n",
       "    .dataframe thead th {\n",
       "        text-align: right;\n",
       "    }\n",
       "</style>\n",
       "<table border=\"1\" class=\"dataframe\">\n",
       "  <thead>\n",
       "    <tr style=\"text-align: right;\">\n",
       "      <th></th>\n",
       "      <th>Maternal Smoker</th>\n",
       "      <th>Birth Weight</th>\n",
       "      <th>Shuffled Label</th>\n",
       "    </tr>\n",
       "  </thead>\n",
       "  <tbody>\n",
       "    <tr>\n",
       "      <th>0</th>\n",
       "      <td>False</td>\n",
       "      <td>120</td>\n",
       "      <td>True</td>\n",
       "    </tr>\n",
       "    <tr>\n",
       "      <th>1</th>\n",
       "      <td>False</td>\n",
       "      <td>113</td>\n",
       "      <td>True</td>\n",
       "    </tr>\n",
       "    <tr>\n",
       "      <th>2</th>\n",
       "      <td>True</td>\n",
       "      <td>128</td>\n",
       "      <td>False</td>\n",
       "    </tr>\n",
       "    <tr>\n",
       "      <th>3</th>\n",
       "      <td>True</td>\n",
       "      <td>108</td>\n",
       "      <td>False</td>\n",
       "    </tr>\n",
       "    <tr>\n",
       "      <th>4</th>\n",
       "      <td>False</td>\n",
       "      <td>136</td>\n",
       "      <td>False</td>\n",
       "    </tr>\n",
       "    <tr>\n",
       "      <th>...</th>\n",
       "      <td>...</td>\n",
       "      <td>...</td>\n",
       "      <td>...</td>\n",
       "    </tr>\n",
       "    <tr>\n",
       "      <th>1169</th>\n",
       "      <td>False</td>\n",
       "      <td>113</td>\n",
       "      <td>False</td>\n",
       "    </tr>\n",
       "    <tr>\n",
       "      <th>1170</th>\n",
       "      <td>False</td>\n",
       "      <td>128</td>\n",
       "      <td>True</td>\n",
       "    </tr>\n",
       "    <tr>\n",
       "      <th>1171</th>\n",
       "      <td>True</td>\n",
       "      <td>130</td>\n",
       "      <td>True</td>\n",
       "    </tr>\n",
       "    <tr>\n",
       "      <th>1172</th>\n",
       "      <td>False</td>\n",
       "      <td>125</td>\n",
       "      <td>True</td>\n",
       "    </tr>\n",
       "    <tr>\n",
       "      <th>1173</th>\n",
       "      <td>False</td>\n",
       "      <td>117</td>\n",
       "      <td>False</td>\n",
       "    </tr>\n",
       "  </tbody>\n",
       "</table>\n",
       "<p>1174 rows × 3 columns</p>\n",
       "</div>"
      ],
      "text/plain": [
       "      Maternal Smoker  Birth Weight  Shuffled Label\n",
       "0               False           120            True\n",
       "1               False           113            True\n",
       "2                True           128           False\n",
       "3                True           108           False\n",
       "4               False           136           False\n",
       "...               ...           ...             ...\n",
       "1169            False           113           False\n",
       "1170            False           128            True\n",
       "1171             True           130            True\n",
       "1172            False           125            True\n",
       "1173            False           117           False\n",
       "\n",
       "[1174 rows x 3 columns]"
      ]
     },
     "execution_count": 137,
     "metadata": {},
     "output_type": "execute_result"
    }
   ],
   "source": [
    "original_and_shuffled = pd.concat([smoking_and_birthweight, shuffled_labels], axis=1)\n",
    "original_and_shuffled"
   ]
  },
  {
   "cell_type": "markdown",
   "metadata": {},
   "source": [
    "Теперь у матери каждого ребенка появилась случайная метка о факте курения в столбце `Shuffled Label`, в то время как исходная метка указана в столбце `Maternal Smoker`. Если нулевая гипотеза верна, любые случайные перетасовки меток должны быть одинаково вероятны.\n",
    "\n",
    "Теперь посмотрим, как различаются средние показатели веса в двух группах со случайными метками."
   ]
  },
  {
   "cell_type": "code",
   "execution_count": 138,
   "metadata": {},
   "outputs": [
    {
     "data": {
      "text/html": [
       "<div>\n",
       "<style scoped>\n",
       "    .dataframe tbody tr th:only-of-type {\n",
       "        vertical-align: middle;\n",
       "    }\n",
       "\n",
       "    .dataframe tbody tr th {\n",
       "        vertical-align: top;\n",
       "    }\n",
       "\n",
       "    .dataframe thead th {\n",
       "        text-align: right;\n",
       "    }\n",
       "</style>\n",
       "<table border=\"1\" class=\"dataframe\">\n",
       "  <thead>\n",
       "    <tr style=\"text-align: right;\">\n",
       "      <th></th>\n",
       "      <th>Maternal Smoker</th>\n",
       "      <th>Birth Weight</th>\n",
       "      <th>Shuffled Label</th>\n",
       "    </tr>\n",
       "  </thead>\n",
       "  <tbody>\n",
       "    <tr>\n",
       "      <th>0</th>\n",
       "      <td>False</td>\n",
       "      <td>120</td>\n",
       "      <td>True</td>\n",
       "    </tr>\n",
       "    <tr>\n",
       "      <th>1</th>\n",
       "      <td>False</td>\n",
       "      <td>113</td>\n",
       "      <td>True</td>\n",
       "    </tr>\n",
       "    <tr>\n",
       "      <th>2</th>\n",
       "      <td>True</td>\n",
       "      <td>128</td>\n",
       "      <td>False</td>\n",
       "    </tr>\n",
       "    <tr>\n",
       "      <th>3</th>\n",
       "      <td>True</td>\n",
       "      <td>108</td>\n",
       "      <td>False</td>\n",
       "    </tr>\n",
       "    <tr>\n",
       "      <th>4</th>\n",
       "      <td>False</td>\n",
       "      <td>136</td>\n",
       "      <td>False</td>\n",
       "    </tr>\n",
       "    <tr>\n",
       "      <th>...</th>\n",
       "      <td>...</td>\n",
       "      <td>...</td>\n",
       "      <td>...</td>\n",
       "    </tr>\n",
       "    <tr>\n",
       "      <th>1169</th>\n",
       "      <td>False</td>\n",
       "      <td>113</td>\n",
       "      <td>False</td>\n",
       "    </tr>\n",
       "    <tr>\n",
       "      <th>1170</th>\n",
       "      <td>False</td>\n",
       "      <td>128</td>\n",
       "      <td>True</td>\n",
       "    </tr>\n",
       "    <tr>\n",
       "      <th>1171</th>\n",
       "      <td>True</td>\n",
       "      <td>130</td>\n",
       "      <td>True</td>\n",
       "    </tr>\n",
       "    <tr>\n",
       "      <th>1172</th>\n",
       "      <td>False</td>\n",
       "      <td>125</td>\n",
       "      <td>True</td>\n",
       "    </tr>\n",
       "    <tr>\n",
       "      <th>1173</th>\n",
       "      <td>False</td>\n",
       "      <td>117</td>\n",
       "      <td>False</td>\n",
       "    </tr>\n",
       "  </tbody>\n",
       "</table>\n",
       "<p>1174 rows × 3 columns</p>\n",
       "</div>"
      ],
      "text/plain": [
       "      Maternal Smoker  Birth Weight  Shuffled Label\n",
       "0               False           120            True\n",
       "1               False           113            True\n",
       "2                True           128           False\n",
       "3                True           108           False\n",
       "4               False           136           False\n",
       "...               ...           ...             ...\n",
       "1169            False           113           False\n",
       "1170            False           128            True\n",
       "1171             True           130            True\n",
       "1172            False           125            True\n",
       "1173            False           117           False\n",
       "\n",
       "[1174 rows x 3 columns]"
      ]
     },
     "execution_count": 138,
     "metadata": {},
     "output_type": "execute_result"
    }
   ],
   "source": [
    "original_and_shuffled"
   ]
  },
  {
   "cell_type": "code",
   "execution_count": 139,
   "metadata": {},
   "outputs": [
    {
     "data": {
      "text/html": [
       "<div>\n",
       "<style scoped>\n",
       "    .dataframe tbody tr th:only-of-type {\n",
       "        vertical-align: middle;\n",
       "    }\n",
       "\n",
       "    .dataframe tbody tr th {\n",
       "        vertical-align: top;\n",
       "    }\n",
       "\n",
       "    .dataframe thead th {\n",
       "        text-align: right;\n",
       "    }\n",
       "</style>\n",
       "<table border=\"1\" class=\"dataframe\">\n",
       "  <thead>\n",
       "    <tr style=\"text-align: right;\">\n",
       "      <th></th>\n",
       "      <th>Birth Weight</th>\n",
       "    </tr>\n",
       "    <tr>\n",
       "      <th>Shuffled Label</th>\n",
       "      <th></th>\n",
       "    </tr>\n",
       "  </thead>\n",
       "  <tbody>\n",
       "    <tr>\n",
       "      <th>False</th>\n",
       "      <td>119.395804</td>\n",
       "    </tr>\n",
       "    <tr>\n",
       "      <th>True</th>\n",
       "      <td>119.566449</td>\n",
       "    </tr>\n",
       "  </tbody>\n",
       "</table>\n",
       "</div>"
      ],
      "text/plain": [
       "                Birth Weight\n",
       "Shuffled Label              \n",
       "False             119.395804\n",
       "True              119.566449"
      ]
     },
     "execution_count": 139,
     "metadata": {},
     "output_type": "execute_result"
    }
   ],
   "source": [
    "shuffled_only = original_and_shuffled.drop('Maternal Smoker', axis=1)\n",
    "shuffled_group_means = shuffled_only.groupby('Shuffled Label').mean()\n",
    "shuffled_group_means"
   ]
  },
  {
   "cell_type": "markdown",
   "metadata": {},
   "source": [
    "Средние значения двух случайно выбранных групп намного более близки, чем средние значения двух исходных групп. Для определения двух разностей можно использовать функцию `difference_of_means`."
   ]
  },
  {
   "cell_type": "code",
   "execution_count": 140,
   "metadata": {},
   "outputs": [
    {
     "data": {
      "text/plain": [
       "0.1706446059387332"
      ]
     },
     "execution_count": 140,
     "metadata": {},
     "output_type": "execute_result"
    }
   ],
   "source": [
    "difference_of_means(original_and_shuffled, 'Birth Weight', 'Shuffled Label')"
   ]
  },
  {
   "cell_type": "code",
   "execution_count": 141,
   "metadata": {},
   "outputs": [
    {
     "data": {
      "text/plain": [
       "-9.266142572024918"
      ]
     },
     "execution_count": 141,
     "metadata": {},
     "output_type": "execute_result"
    }
   ],
   "source": [
    "difference_of_means(original_and_shuffled, 'Birth Weight', 'Maternal Smoker')"
   ]
  },
  {
   "cell_type": "markdown",
   "metadata": {},
   "source": [
    "Но не может ли быть так, что при другом распределении разность между средними показателями групп будет больше? Чтобы определить такую вероятность, нужно смоделировать эту разность много раз.\n",
    "\n",
    "Как обычно, для начала определим функцию, моделирующую единое значение статистического критерия по нулевой гипотезе. Для этого нужно собрать только код, который мы написали выше. Но, так как в дальнейшем мы собираемся использовать этот процесс для сравнения средних арифметических других переменных, мы определим функцию, которая принимает три аргумента:\n",
    "\n",
    "- имя таблицы данных;\n",
    "- метка столбца, содержащего числовую переменную;\n",
    "- метка столбца, содержащего логическую переменную для группирования.\n",
    "\n",
    "Эта функция возвращает разность между средними арифметическими двух групп, образованных в результате случайного перераспределения меток."
   ]
  },
  {
   "cell_type": "code",
   "execution_count": 263,
   "metadata": {},
   "outputs": [],
   "source": [
    "def one_simulated_difference(table, label, group_label):\n",
    "    shuffled_labels = table.sample(frac=1) \\\n",
    "                           .reset_index()[group_label] \\\n",
    "                           .to_frame() \\\n",
    "                           .rename({group_label: 'Shuffled Label'}, axis=1)\n",
    "    shuffled_table = pd.concat([table, shuffled_labels], axis=1)\n",
    "    return difference_of_means(shuffled_table, label, 'Shuffled Label')"
   ]
  },
  {
   "cell_type": "code",
   "execution_count": 265,
   "metadata": {},
   "outputs": [
    {
     "data": {
      "text/plain": [
       "0.12414034766975135"
      ]
     },
     "execution_count": 265,
     "metadata": {},
     "output_type": "execute_result"
    }
   ],
   "source": [
    "one_simulated_difference(births, 'Birth Weight', 'Maternal Smoker')"
   ]
  },
  {
   "cell_type": "markdown",
   "metadata": {},
   "source": [
    "## Тест на перестановку\n",
    "Тесты на основе случайных перестановок данных называются _тестами на перестановку_. В этом примере мы выполняем подобный тест. В приведенной ниже ячейке мы смоделируем статистический критерий — разность между средними значениями двух групп, — повторим ее много раз и соберем полученные разности в массив."
   ]
  },
  {
   "cell_type": "code",
   "execution_count": 164,
   "metadata": {},
   "outputs": [],
   "source": [
    "repetitions = 5000\n",
    "differences = np.empty((repetitions, 1))\n",
    "\n",
    "for i in np.arange(repetitions):\n",
    "    new_difference = one_simulated_difference(births, 'Birth Weight', 'Maternal Smoker')\n",
    "    differences[i] = new_difference"
   ]
  },
  {
   "cell_type": "markdown",
   "metadata": {},
   "source": [
    "Массив `differences` содержит 5000 смоделированных значений статистического критерия: разность между средним весом в группе курящих и средним весом в группе некурящих при присвоении меток случайным образом."
   ]
  },
  {
   "cell_type": "markdown",
   "metadata": {},
   "source": [
    "## Результат теста\n",
    "Распределение этих 5000 значений показано на гистограмме ниже. Она показывает эмпирическое распределение статистического критерия, смоделированного по нулевой гипотезе. Это прогноз статистического критерия, исходя из нулевой гипотезы."
   ]
  },
  {
   "cell_type": "code",
   "execution_count": 277,
   "metadata": {},
   "outputs": [
    {
     "name": "stdout",
     "output_type": "stream",
     "text": [
      "Observed Difference: 0.733522727272728\n"
     ]
    },
    {
     "data": {
      "image/png": "[encoded data removed]",
      "text/plain": [
       "<Figure size 432x288 with 1 Axes>"
      ]
     },
     "metadata": {
      "needs_background": "light"
     },
     "output_type": "display_data"
    }
   ],
   "source": [
    "pd.DataFrame(differences, columns=['Difference Between Group Means']).hist(alpha=.5)\n",
    "print('Observed Difference:', observed_difference)\n",
    "plt.title('Prediction Under the Null Hypothesis');"
   ]
  },
  {
   "cell_type": "markdown",
   "metadata": {},
   "source": [
    "Обратите внимание, что распределение сосредоточено вокруг 0. Это имеет смысл, поскольку, по нулевой гипотезе, среднее в двух группах должно быть в целом одинаково. Таким образом, разность между средними показателями групп должна быть около 0.\n",
    "\n",
    "Наблюдаемая разность в исходной выборке составляет около \n",
    "−9,27 унции — на горизонтальной оси этой гистограммы такого показателя просто нет. Наблюдаемое значение статистики и прогнозируемое поведение статистики по нулевой гипотезе не совпадают.\n",
    "\n",
    "Из этого следует, что, согласно данным, верна альтернативная, а не нулевая гипотеза. Средний вес при рождении у детей, чьи матери курят, меньше, чем у тех, чьи матери не курят.\n",
    "\n",
    "Если вы хотите вычислить эмпирическое P-значение, помните, что низкие значения статистики поддерживают альтернативную гипотезу."
   ]
  },
  {
   "cell_type": "code",
   "execution_count": 172,
   "metadata": {},
   "outputs": [
    {
     "data": {
      "text/plain": [
       "0.0"
      ]
     },
     "execution_count": 172,
     "metadata": {},
     "output_type": "execute_result"
    }
   ],
   "source": [
    "empirical_P = np.count_nonzero(differences <= observed_difference) / repetitions\n",
    "empirical_P"
   ]
  },
  {
   "cell_type": "markdown",
   "metadata": {},
   "source": [
    "Эмпирическое P-значение равно 0, а значит, ни одна из 5000 выборок с перестановкой не показала разность –9,27 или меньше. И это только приближение. Точная вероятность получения разности в этом диапазоне не равна 0, но при этом ничтожно мала."
   ]
  },
  {
   "cell_type": "markdown",
   "metadata": {},
   "source": [
    "## Другой тест на перестановку\n",
    "Этот же метод можно использовать для сравнения других атрибутов курящих и некурящих матерей, например возраста. Гистограммы возраста двух групп показывают, что в данной выборке курящие матери обычно моложе."
   ]
  },
  {
   "cell_type": "code",
   "execution_count": 173,
   "metadata": {},
   "outputs": [
    {
     "data": {
      "image/png": "[encoded data removed]",
      "text/plain": [
       "<Figure size 432x288 with 1 Axes>"
      ]
     },
     "metadata": {
      "needs_background": "light"
     },
     "output_type": "display_data"
    }
   ],
   "source": [
    "smoking_and_age = births[['Maternal Smoker', 'Maternal Age']]\n",
    "smoking_and_age.groupby(['Maternal Smoker'])['Maternal Age'].hist(alpha=0.5);"
   ]
  },
  {
   "cell_type": "markdown",
   "metadata": {},
   "source": [
    "Наблюдаемая разность среднего возраста составляет около -0,8 года."
   ]
  },
  {
   "cell_type": "code",
   "execution_count": 179,
   "metadata": {},
   "outputs": [
    {
     "data": {
      "text/plain": [
       "-0.8076725017901509"
      ]
     },
     "execution_count": 179,
     "metadata": {},
     "output_type": "execute_result"
    }
   ],
   "source": [
    "observed_age_difference = difference_of_means(births, 'Maternal Age', 'Maternal Smoker')\n",
    "observed_age_difference"
   ]
  },
  {
   "cell_type": "markdown",
   "metadata": {},
   "source": [
    "Помните, что эта разность вычисляется как средний возраст курящих минус средний возраст некурящих. Отрицательный знак показывает, что в среднем курящие моложе.\n",
    "\n",
    "Случайна ли эта разность или она отражает различие в генеральной совокупности?\n",
    "\n",
    "Как и прежде, для ответа на этот вопрос можно использовать тест на перестановку. Если исходные распределения возрастов в двух группах одинаковы, то эмпирическое распределение разности в выборках с перестановкой покажет, как изменится статистика при случайном распределении."
   ]
  },
  {
   "cell_type": "code",
   "execution_count": 181,
   "metadata": {},
   "outputs": [],
   "source": [
    "repetitions = 5000\n",
    "age_differences = np.empty((repetitions, 1))\n",
    "\n",
    "for i in np.arange(repetitions):\n",
    "    new_difference = one_simulated_difference(births, 'Maternal Age', 'Maternal Smoker')\n",
    "    age_differences[i] = new_difference"
   ]
  },
  {
   "cell_type": "markdown",
   "metadata": {},
   "source": [
    "Наблюдаемая разность находится в хвосте эмпирического распределения разностей, смоделированных по нулевой гипотезе."
   ]
  },
  {
   "cell_type": "code",
   "execution_count": 206,
   "metadata": {},
   "outputs": [
    {
     "name": "stdout",
     "output_type": "stream",
     "text": [
      "Observed Difference: -0.8076725017901509\n"
     ]
    },
    {
     "data": {
      "image/png": "[encoded data removed]",
      "text/plain": [
       "<Figure size 432x288 with 1 Axes>"
      ]
     },
     "metadata": {
      "needs_background": "light"
     },
     "output_type": "display_data"
    }
   ],
   "source": [
    "plt.hist(age_differences, alpha=.5)\n",
    "plt.plot(observed_age_difference, 0, marker=7, markersize=7, color='red')\n",
    "plt.title('Prediction Under the Null Hypothesis')\n",
    "print('Observed Difference:', observed_age_difference)"
   ]
  },
  {
   "cell_type": "markdown",
   "metadata": {},
   "source": [
    "Эмпирическое P-значение теста — это доля смоделированных разностей, которая равна наблюдаемой разности или меньше. Это связано с тем, что низкие значения разности показывают, что верна альтернативная гипотеза, согласно которой курящие в среднем моложе."
   ]
  },
  {
   "cell_type": "code",
   "execution_count": 196,
   "metadata": {},
   "outputs": [
    {
     "data": {
      "text/plain": [
       "0.0094"
      ]
     },
     "execution_count": 196,
     "metadata": {},
     "output_type": "execute_result"
    }
   ],
   "source": [
    "empirical_P = np.count_nonzero(age_differences <= observed_age_difference) / repetitions\n",
    "empirical_P"
   ]
  },
  {
   "cell_type": "markdown",
   "metadata": {},
   "source": [
    "Эмпирическое P-значение составляет около 1%, а значит, результат статистически значимый. Тест подтверждает гипотезу о том, что курящие в среднем моложе."
   ]
  },
  {
   "cell_type": "markdown",
   "metadata": {},
   "source": [
    "# Дифлейтгейтский скандал\n",
    "18 января 2015 г. \"Индианаполис Колтс\" и \"Патриоты Новой Англии\" встретились на чемпионате Американской футбольной конференции (АФК), чтобы определить, какая из этих команд примет участие в Суперкубке. После матча появились заявления о том, что \"Патриоты\" играли мячами, надутыми меньше, чем того требует регламент, из-за чего мячи были мягче. В результате они могли получить преимущество, поскольку более мягкие мячи легче ловить.\n",
    "\n",
    "В течение нескольких недель весь мир американского футбола был поглощен обвинениями, опровержениями, теориями и подозрениями, а пресса назвала этот скандал Дифлейтгейтским по аналогии с Уотергейтским политическим скандалом 1970-х годов. Национальная футбольная лига (НФЛ) организовала независимый анализ. В этом примере мы проведем свой собственный анализ данных.\n",
    "\n",
    "Давление часто измеряют в фунтах на квадратный дюйм (PSI). Согласно правилам НФЛ, давление в игровых мячах должно составлять от 12,5 до 13,5 psi. Каждая команда играет 12 мячами. Команды сами отвечают за поддержание давления в своих мячах, но мячи проверяют арбитры. Перед началом матча АФК давление во всех мячах \"Патриотов\" составляло около 12,5 psi. У \"Колтс\" большинство мячей было надуто до 13,0 psi. При этом данные о давлении в мячах перед игрой нигде не зафиксировали.\n",
    "\n",
    "Во время второго периода игроки \"Колтс\" перехватили мяч \"Патриотов\". На скамейке запасных они замерили давление в мяче и определили, что оно было меньше обязательных 12,5 psi. Об этом сразу же сообщили арбитрам.\n",
    "\n",
    "В перерыве после второго периода все игровые мячи собрали на проверку. Два арбитра, Клит Блакемэн (Clete Blakeman) и Дирол Прайолу (Dyrol Prioleau), замерили давление в каждом из мячей.\n",
    "\n",
    "Вот эти данные. Каждая строка соответствует одному мячу. Давление измерено в psi. Мяч \"Патриотов\", который перехватили \"Колтс\", в перерыве после второго периода не проверялся. Не проверили и большинство мячей \"Колтс\" — арбитрам просто не хватило времени и пришлось вернуть мячи для возобновления матча."
   ]
  },
  {
   "cell_type": "code",
   "execution_count": 210,
   "metadata": {},
   "outputs": [
    {
     "data": {
      "text/html": [
       "<div>\n",
       "<style scoped>\n",
       "    .dataframe tbody tr th:only-of-type {\n",
       "        vertical-align: middle;\n",
       "    }\n",
       "\n",
       "    .dataframe tbody tr th {\n",
       "        vertical-align: top;\n",
       "    }\n",
       "\n",
       "    .dataframe thead th {\n",
       "        text-align: right;\n",
       "    }\n",
       "</style>\n",
       "<table border=\"1\" class=\"dataframe\">\n",
       "  <thead>\n",
       "    <tr style=\"text-align: right;\">\n",
       "      <th></th>\n",
       "      <th>Team</th>\n",
       "      <th>Blakeman</th>\n",
       "      <th>Prioleau</th>\n",
       "    </tr>\n",
       "  </thead>\n",
       "  <tbody>\n",
       "    <tr>\n",
       "      <th>0</th>\n",
       "      <td>Patriots</td>\n",
       "      <td>11.50</td>\n",
       "      <td>11.80</td>\n",
       "    </tr>\n",
       "    <tr>\n",
       "      <th>1</th>\n",
       "      <td>Patriots</td>\n",
       "      <td>10.85</td>\n",
       "      <td>11.20</td>\n",
       "    </tr>\n",
       "    <tr>\n",
       "      <th>2</th>\n",
       "      <td>Patriots</td>\n",
       "      <td>11.15</td>\n",
       "      <td>11.50</td>\n",
       "    </tr>\n",
       "    <tr>\n",
       "      <th>3</th>\n",
       "      <td>Patriots</td>\n",
       "      <td>10.70</td>\n",
       "      <td>11.00</td>\n",
       "    </tr>\n",
       "    <tr>\n",
       "      <th>4</th>\n",
       "      <td>Patriots</td>\n",
       "      <td>11.10</td>\n",
       "      <td>11.45</td>\n",
       "    </tr>\n",
       "    <tr>\n",
       "      <th>5</th>\n",
       "      <td>Patriots</td>\n",
       "      <td>11.60</td>\n",
       "      <td>11.95</td>\n",
       "    </tr>\n",
       "    <tr>\n",
       "      <th>6</th>\n",
       "      <td>Patriots</td>\n",
       "      <td>11.85</td>\n",
       "      <td>12.30</td>\n",
       "    </tr>\n",
       "    <tr>\n",
       "      <th>7</th>\n",
       "      <td>Patriots</td>\n",
       "      <td>11.10</td>\n",
       "      <td>11.55</td>\n",
       "    </tr>\n",
       "    <tr>\n",
       "      <th>8</th>\n",
       "      <td>Patriots</td>\n",
       "      <td>10.95</td>\n",
       "      <td>11.35</td>\n",
       "    </tr>\n",
       "    <tr>\n",
       "      <th>9</th>\n",
       "      <td>Patriots</td>\n",
       "      <td>10.50</td>\n",
       "      <td>10.90</td>\n",
       "    </tr>\n",
       "    <tr>\n",
       "      <th>10</th>\n",
       "      <td>Patriots</td>\n",
       "      <td>10.90</td>\n",
       "      <td>11.35</td>\n",
       "    </tr>\n",
       "    <tr>\n",
       "      <th>11</th>\n",
       "      <td>Colts</td>\n",
       "      <td>12.70</td>\n",
       "      <td>12.35</td>\n",
       "    </tr>\n",
       "    <tr>\n",
       "      <th>12</th>\n",
       "      <td>Colts</td>\n",
       "      <td>12.75</td>\n",
       "      <td>12.30</td>\n",
       "    </tr>\n",
       "    <tr>\n",
       "      <th>13</th>\n",
       "      <td>Colts</td>\n",
       "      <td>12.50</td>\n",
       "      <td>12.95</td>\n",
       "    </tr>\n",
       "    <tr>\n",
       "      <th>14</th>\n",
       "      <td>Colts</td>\n",
       "      <td>12.55</td>\n",
       "      <td>12.15</td>\n",
       "    </tr>\n",
       "  </tbody>\n",
       "</table>\n",
       "</div>"
      ],
      "text/plain": [
       "        Team  Blakeman  Prioleau\n",
       "0   Patriots     11.50     11.80\n",
       "1   Patriots     10.85     11.20\n",
       "2   Patriots     11.15     11.50\n",
       "3   Patriots     10.70     11.00\n",
       "4   Patriots     11.10     11.45\n",
       "5   Patriots     11.60     11.95\n",
       "6   Patriots     11.85     12.30\n",
       "7   Patriots     11.10     11.55\n",
       "8   Patriots     10.95     11.35\n",
       "9   Patriots     10.50     10.90\n",
       "10  Patriots     10.90     11.35\n",
       "11     Colts     12.70     12.35\n",
       "12     Colts     12.75     12.30\n",
       "13     Colts     12.50     12.95\n",
       "14     Colts     12.55     12.15"
      ]
     },
     "execution_count": 210,
     "metadata": {},
     "output_type": "execute_result"
    }
   ],
   "source": [
    "football = pd.read_csv('https://raw.githubusercontent.com/MicrosoftDocs/inferentialthinking/master/data/deflategate.csv')\n",
    "football"
   ]
  },
  {
   "cell_type": "markdown",
   "metadata": {},
   "source": [
    "По каждому из 15 проверенных мячей два арбитра получили разные результаты. Нередко повторные измерения одного и того же объекта дают другие результаты, особенно если их делают разные люди. В связи с этим каждому мячу мы присвоим среднее значение двух измерений, сделанных для этого мяча."
   ]
  },
  {
   "cell_type": "code",
   "execution_count": 213,
   "metadata": {},
   "outputs": [
    {
     "data": {
      "text/html": [
       "<div>\n",
       "<style scoped>\n",
       "    .dataframe tbody tr th:only-of-type {\n",
       "        vertical-align: middle;\n",
       "    }\n",
       "\n",
       "    .dataframe tbody tr th {\n",
       "        vertical-align: top;\n",
       "    }\n",
       "\n",
       "    .dataframe thead th {\n",
       "        text-align: right;\n",
       "    }\n",
       "</style>\n",
       "<table border=\"1\" class=\"dataframe\">\n",
       "  <thead>\n",
       "    <tr style=\"text-align: right;\">\n",
       "      <th></th>\n",
       "      <th>Team</th>\n",
       "      <th>Combined</th>\n",
       "    </tr>\n",
       "  </thead>\n",
       "  <tbody>\n",
       "    <tr>\n",
       "      <th>0</th>\n",
       "      <td>Patriots</td>\n",
       "      <td>11.650</td>\n",
       "    </tr>\n",
       "    <tr>\n",
       "      <th>1</th>\n",
       "      <td>Patriots</td>\n",
       "      <td>11.025</td>\n",
       "    </tr>\n",
       "    <tr>\n",
       "      <th>2</th>\n",
       "      <td>Patriots</td>\n",
       "      <td>11.325</td>\n",
       "    </tr>\n",
       "    <tr>\n",
       "      <th>3</th>\n",
       "      <td>Patriots</td>\n",
       "      <td>10.850</td>\n",
       "    </tr>\n",
       "    <tr>\n",
       "      <th>4</th>\n",
       "      <td>Patriots</td>\n",
       "      <td>11.275</td>\n",
       "    </tr>\n",
       "    <tr>\n",
       "      <th>5</th>\n",
       "      <td>Patriots</td>\n",
       "      <td>11.775</td>\n",
       "    </tr>\n",
       "    <tr>\n",
       "      <th>6</th>\n",
       "      <td>Patriots</td>\n",
       "      <td>12.075</td>\n",
       "    </tr>\n",
       "    <tr>\n",
       "      <th>7</th>\n",
       "      <td>Patriots</td>\n",
       "      <td>11.325</td>\n",
       "    </tr>\n",
       "    <tr>\n",
       "      <th>8</th>\n",
       "      <td>Patriots</td>\n",
       "      <td>11.150</td>\n",
       "    </tr>\n",
       "    <tr>\n",
       "      <th>9</th>\n",
       "      <td>Patriots</td>\n",
       "      <td>10.700</td>\n",
       "    </tr>\n",
       "    <tr>\n",
       "      <th>10</th>\n",
       "      <td>Patriots</td>\n",
       "      <td>11.125</td>\n",
       "    </tr>\n",
       "    <tr>\n",
       "      <th>11</th>\n",
       "      <td>Colts</td>\n",
       "      <td>12.525</td>\n",
       "    </tr>\n",
       "    <tr>\n",
       "      <th>12</th>\n",
       "      <td>Colts</td>\n",
       "      <td>12.525</td>\n",
       "    </tr>\n",
       "    <tr>\n",
       "      <th>13</th>\n",
       "      <td>Colts</td>\n",
       "      <td>12.725</td>\n",
       "    </tr>\n",
       "    <tr>\n",
       "      <th>14</th>\n",
       "      <td>Colts</td>\n",
       "      <td>12.350</td>\n",
       "    </tr>\n",
       "  </tbody>\n",
       "</table>\n",
       "</div>"
      ],
      "text/plain": [
       "        Team  Combined\n",
       "0   Patriots    11.650\n",
       "1   Patriots    11.025\n",
       "2   Patriots    11.325\n",
       "3   Patriots    10.850\n",
       "4   Patriots    11.275\n",
       "5   Patriots    11.775\n",
       "6   Patriots    12.075\n",
       "7   Patriots    11.325\n",
       "8   Patriots    11.150\n",
       "9   Patriots    10.700\n",
       "10  Patriots    11.125\n",
       "11     Colts    12.525\n",
       "12     Colts    12.525\n",
       "13     Colts    12.725\n",
       "14     Colts    12.350"
      ]
     },
     "execution_count": 213,
     "metadata": {},
     "output_type": "execute_result"
    }
   ],
   "source": [
    "football = football.eval('Combined = (Blakeman + Prioleau) / 2') \\\n",
    "                                   .drop(['Blakeman', 'Prioleau'], axis=1)\n",
    "football"
   ]
  },
  {
   "cell_type": "markdown",
   "metadata": {},
   "source": [
    "На первый взгляд очевидно, что давление в мячах \"Патриотов\" было меньше, чем в мячах \"Колтс\". Поскольку в ходе игры небольшое выпускание воздуха из мячей вполне естественно, независимые аналитики решили рассчитать снижение давления с начала игры. Вспомним, что перед матчем давление в мячах \"Патриотов\" составляло около 12,5 psi, а в мячах \"Колтс\" — 13,0 psi. Таким образом, снижение давления в мячах \"Патриотов\" рассчитали как 12,5 минус давление после второго периода, а снижение давления в мячах \"Колтс\" — как 13,0 минус давление после второго периода.\n",
    "\n",
    "Чтобы рассчитать снижения давления в каждом мяче, создадим массив начальных значений. Для этого нам потребуется массив, состоящий из 11 значений, каждое из которых равно 12,5, и еще один массив, состоящий из четырех значений, каждое из которых равно 13. Мы будем использовать функцию NumPy `np.ones`, которая принимает в качестве аргумента значение `count` и возвращает массив из соответствующего количества элементов, каждый из которых равен 1."
   ]
  },
  {
   "cell_type": "code",
   "execution_count": 214,
   "metadata": {},
   "outputs": [
    {
     "data": {
      "text/plain": [
       "array([12.5, 12.5, 12.5, 12.5, 12.5, 12.5, 12.5, 12.5, 12.5, 12.5, 12.5,\n",
       "       13. , 13. , 13. , 13. ])"
      ]
     },
     "execution_count": 214,
     "metadata": {},
     "output_type": "execute_result"
    }
   ],
   "source": [
    "patriots_start = 12.5 * np.ones(11)\n",
    "colts_start = 13 * np.ones(4)\n",
    "start = np.append(patriots_start, colts_start)\n",
    "start"
   ]
  },
  {
   "cell_type": "markdown",
   "metadata": {},
   "source": [
    "Снижение давления в каждом футбольном мяче — это разность между начальным давлением и комбинированным результатом измерения давления."
   ]
  },
  {
   "cell_type": "code",
   "execution_count": 223,
   "metadata": {},
   "outputs": [
    {
     "data": {
      "text/html": [
       "<div>\n",
       "<style scoped>\n",
       "    .dataframe tbody tr th:only-of-type {\n",
       "        vertical-align: middle;\n",
       "    }\n",
       "\n",
       "    .dataframe tbody tr th {\n",
       "        vertical-align: top;\n",
       "    }\n",
       "\n",
       "    .dataframe thead th {\n",
       "        text-align: right;\n",
       "    }\n",
       "</style>\n",
       "<table border=\"1\" class=\"dataframe\">\n",
       "  <thead>\n",
       "    <tr style=\"text-align: right;\">\n",
       "      <th></th>\n",
       "      <th>Team</th>\n",
       "      <th>Combined</th>\n",
       "      <th>Pressure Drop</th>\n",
       "    </tr>\n",
       "  </thead>\n",
       "  <tbody>\n",
       "    <tr>\n",
       "      <th>0</th>\n",
       "      <td>Patriots</td>\n",
       "      <td>11.650</td>\n",
       "      <td>0.850</td>\n",
       "    </tr>\n",
       "    <tr>\n",
       "      <th>1</th>\n",
       "      <td>Patriots</td>\n",
       "      <td>11.025</td>\n",
       "      <td>1.475</td>\n",
       "    </tr>\n",
       "    <tr>\n",
       "      <th>2</th>\n",
       "      <td>Patriots</td>\n",
       "      <td>11.325</td>\n",
       "      <td>1.175</td>\n",
       "    </tr>\n",
       "    <tr>\n",
       "      <th>3</th>\n",
       "      <td>Patriots</td>\n",
       "      <td>10.850</td>\n",
       "      <td>1.650</td>\n",
       "    </tr>\n",
       "    <tr>\n",
       "      <th>4</th>\n",
       "      <td>Patriots</td>\n",
       "      <td>11.275</td>\n",
       "      <td>1.225</td>\n",
       "    </tr>\n",
       "    <tr>\n",
       "      <th>5</th>\n",
       "      <td>Patriots</td>\n",
       "      <td>11.775</td>\n",
       "      <td>0.725</td>\n",
       "    </tr>\n",
       "    <tr>\n",
       "      <th>6</th>\n",
       "      <td>Patriots</td>\n",
       "      <td>12.075</td>\n",
       "      <td>0.425</td>\n",
       "    </tr>\n",
       "    <tr>\n",
       "      <th>7</th>\n",
       "      <td>Patriots</td>\n",
       "      <td>11.325</td>\n",
       "      <td>1.175</td>\n",
       "    </tr>\n",
       "    <tr>\n",
       "      <th>8</th>\n",
       "      <td>Patriots</td>\n",
       "      <td>11.150</td>\n",
       "      <td>1.350</td>\n",
       "    </tr>\n",
       "    <tr>\n",
       "      <th>9</th>\n",
       "      <td>Patriots</td>\n",
       "      <td>10.700</td>\n",
       "      <td>1.800</td>\n",
       "    </tr>\n",
       "    <tr>\n",
       "      <th>10</th>\n",
       "      <td>Patriots</td>\n",
       "      <td>11.125</td>\n",
       "      <td>1.375</td>\n",
       "    </tr>\n",
       "    <tr>\n",
       "      <th>11</th>\n",
       "      <td>Colts</td>\n",
       "      <td>12.525</td>\n",
       "      <td>0.475</td>\n",
       "    </tr>\n",
       "    <tr>\n",
       "      <th>12</th>\n",
       "      <td>Colts</td>\n",
       "      <td>12.525</td>\n",
       "      <td>0.475</td>\n",
       "    </tr>\n",
       "    <tr>\n",
       "      <th>13</th>\n",
       "      <td>Colts</td>\n",
       "      <td>12.725</td>\n",
       "      <td>0.275</td>\n",
       "    </tr>\n",
       "    <tr>\n",
       "      <th>14</th>\n",
       "      <td>Colts</td>\n",
       "      <td>12.350</td>\n",
       "      <td>0.650</td>\n",
       "    </tr>\n",
       "  </tbody>\n",
       "</table>\n",
       "</div>"
      ],
      "text/plain": [
       "        Team  Combined  Pressure Drop\n",
       "0   Patriots    11.650          0.850\n",
       "1   Patriots    11.025          1.475\n",
       "2   Patriots    11.325          1.175\n",
       "3   Patriots    10.850          1.650\n",
       "4   Patriots    11.275          1.225\n",
       "5   Patriots    11.775          0.725\n",
       "6   Patriots    12.075          0.425\n",
       "7   Patriots    11.325          1.175\n",
       "8   Patriots    11.150          1.350\n",
       "9   Patriots    10.700          1.800\n",
       "10  Patriots    11.125          1.375\n",
       "11     Colts    12.525          0.475\n",
       "12     Colts    12.525          0.475\n",
       "13     Colts    12.725          0.275\n",
       "14     Colts    12.350          0.650"
      ]
     },
     "execution_count": 223,
     "metadata": {},
     "output_type": "execute_result"
    }
   ],
   "source": [
    "drop = start - football[['Combined']].values.ravel()\n",
    "football['Pressure Drop'] = drop\n",
    "football"
   ]
  },
  {
   "cell_type": "markdown",
   "metadata": {},
   "source": [
    "Похоже, что в мячах \"Патриотов\" давление снизилось сильнее, чем в мячах \"Колтс\". Определим теперь среднее снижение давления в каждой из двух групп. Комбинированные оценки нам больше не нужны."
   ]
  },
  {
   "cell_type": "code",
   "execution_count": 224,
   "metadata": {},
   "outputs": [
    {
     "data": {
      "text/html": [
       "<div>\n",
       "<style scoped>\n",
       "    .dataframe tbody tr th:only-of-type {\n",
       "        vertical-align: middle;\n",
       "    }\n",
       "\n",
       "    .dataframe tbody tr th {\n",
       "        vertical-align: top;\n",
       "    }\n",
       "\n",
       "    .dataframe thead th {\n",
       "        text-align: right;\n",
       "    }\n",
       "</style>\n",
       "<table border=\"1\" class=\"dataframe\">\n",
       "  <thead>\n",
       "    <tr style=\"text-align: right;\">\n",
       "      <th></th>\n",
       "      <th>Pressure Drop</th>\n",
       "    </tr>\n",
       "    <tr>\n",
       "      <th>Team</th>\n",
       "      <th></th>\n",
       "    </tr>\n",
       "  </thead>\n",
       "  <tbody>\n",
       "    <tr>\n",
       "      <th>Colts</th>\n",
       "      <td>0.468750</td>\n",
       "    </tr>\n",
       "    <tr>\n",
       "      <th>Patriots</th>\n",
       "      <td>1.202273</td>\n",
       "    </tr>\n",
       "  </tbody>\n",
       "</table>\n",
       "</div>"
      ],
      "text/plain": [
       "          Pressure Drop\n",
       "Team                   \n",
       "Colts          0.468750\n",
       "Patriots       1.202273"
      ]
     },
     "execution_count": 224,
     "metadata": {},
     "output_type": "execute_result"
    }
   ],
   "source": [
    "football = football.drop('Combined', axis=1)\n",
    "football.groupby('Team').mean()"
   ]
  },
  {
   "cell_type": "markdown",
   "metadata": {},
   "source": [
    "Среднее снижение давления в мячах \"Патриотов\" составило около 1,2 psi, а в мячах \"Колтс\" — 0,47 psi.\n",
    "\n",
    "Вопрос в том, почему давление в мячах \"Патриотов\" снизилось в среднем сильнее, чем в мячах \"Колтс\". Возможно ли, что это случайность?"
   ]
  },
  {
   "cell_type": "markdown",
   "metadata": {},
   "source": [
    "## Гипотеза\n",
    "Как здесь проявляется случайность? Никаких случайных выборок здесь нет. Однако мы можем составить вероятностную модель, предположив, что 11 снижений давления в мячах \"Патриотов\" представляют собой случайную выборку 11 из всех 15 снижений давления, из которых четыре оставшихся — это снижение давления в мячах \"Колтс\". Это полностью определенная вероятностная модель, в которой можно смоделировать данные. И это же нулевая гипотеза.\n",
    "\n",
    "В качестве альтернативной гипотезы можно принять такую позицию, что давление в мячах \"Патриотов\" в среднем снизилось слишком сильно, чтобы считать это случайной выборкой из всех снижений давления.\n",
    "\n",
    "## Статистический критерий\n",
    "Логичный статистический критерий — это разность между двумя средними значениями снижения давления, которую мы вычислим по формуле: среднее снижение давления у \"Патриотов\" – среднее снижение давления у \"Колтс\". Большие значения этого статистического критерия говорят в пользу альтернативной гипотезы."
   ]
  },
  {
   "cell_type": "code",
   "execution_count": 230,
   "metadata": {},
   "outputs": [
    {
     "data": {
      "text/plain": [
       "0.733522727272728"
      ]
     },
     "execution_count": 230,
     "metadata": {},
     "output_type": "execute_result"
    }
   ],
   "source": [
    "observed_means = football.groupby('Team').mean()['Pressure Drop']\n",
    "observed_difference = np.diff(observed_means)[0]\n",
    "observed_difference"
   ]
  },
  {
   "cell_type": "markdown",
   "metadata": {},
   "source": [
    "Положительная разность отражает тот факт, что среднее снижение давления в мячах \"Патриотов\" было больше, чем в мячах \"Колтс\".\n",
    "\n",
    "Функция `difference_of_means` принимает три аргумента:\n",
    "\n",
    "- имя таблицы данных;\n",
    "- метка столбца, содержащего числовую переменную, среднее значение которой нас интересует;\n",
    "- метка столбца, содержащего метки двух групп.\n",
    "\n",
    "Она возвращает разность между средними арифметическими двух групп."
   ]
  },
  {
   "cell_type": "code",
   "execution_count": 231,
   "metadata": {},
   "outputs": [
    {
     "data": {
      "text/plain": [
       "0.733522727272728"
      ]
     },
     "execution_count": 231,
     "metadata": {},
     "output_type": "execute_result"
    }
   ],
   "source": [
    "difference_of_means(football, 'Pressure Drop', 'Team')"
   ]
  },
  {
   "cell_type": "markdown",
   "metadata": {},
   "source": [
    "Обратите внимание на то, что разность вычисляется как снижение давления в мячах \"Патриотов\" минус снижение давления в мячах \"Колтс\", как и выше."
   ]
  },
  {
   "cell_type": "markdown",
   "metadata": {},
   "source": [
    "## Прогнозирование статистики по нулевой гипотезе\n",
    "Если бы нулевая гипотеза была верна, было бы неважно, какие мячи относятся к \"Патриотам\", а какие к \"Колтс\". Распределения двух наборов данных по снижению давления были бы одинаковы. Мы можем это смоделировать, переставив метки команд в случайном порядке."
   ]
  },
  {
   "cell_type": "code",
   "execution_count": 233,
   "metadata": {},
   "outputs": [
    {
     "data": {
      "text/html": [
       "<div>\n",
       "<style scoped>\n",
       "    .dataframe tbody tr th:only-of-type {\n",
       "        vertical-align: middle;\n",
       "    }\n",
       "\n",
       "    .dataframe tbody tr th {\n",
       "        vertical-align: top;\n",
       "    }\n",
       "\n",
       "    .dataframe thead th {\n",
       "        text-align: right;\n",
       "    }\n",
       "</style>\n",
       "<table border=\"1\" class=\"dataframe\">\n",
       "  <thead>\n",
       "    <tr style=\"text-align: right;\">\n",
       "      <th></th>\n",
       "      <th>Team</th>\n",
       "      <th>Pressure Drop</th>\n",
       "      <th>Shuffled Label</th>\n",
       "    </tr>\n",
       "  </thead>\n",
       "  <tbody>\n",
       "    <tr>\n",
       "      <th>0</th>\n",
       "      <td>Patriots</td>\n",
       "      <td>0.850</td>\n",
       "      <td>Patriots</td>\n",
       "    </tr>\n",
       "    <tr>\n",
       "      <th>1</th>\n",
       "      <td>Patriots</td>\n",
       "      <td>1.475</td>\n",
       "      <td>Colts</td>\n",
       "    </tr>\n",
       "    <tr>\n",
       "      <th>2</th>\n",
       "      <td>Patriots</td>\n",
       "      <td>1.175</td>\n",
       "      <td>Patriots</td>\n",
       "    </tr>\n",
       "    <tr>\n",
       "      <th>3</th>\n",
       "      <td>Patriots</td>\n",
       "      <td>1.650</td>\n",
       "      <td>Patriots</td>\n",
       "    </tr>\n",
       "    <tr>\n",
       "      <th>4</th>\n",
       "      <td>Patriots</td>\n",
       "      <td>1.225</td>\n",
       "      <td>Patriots</td>\n",
       "    </tr>\n",
       "    <tr>\n",
       "      <th>5</th>\n",
       "      <td>Patriots</td>\n",
       "      <td>0.725</td>\n",
       "      <td>Patriots</td>\n",
       "    </tr>\n",
       "    <tr>\n",
       "      <th>6</th>\n",
       "      <td>Patriots</td>\n",
       "      <td>0.425</td>\n",
       "      <td>Patriots</td>\n",
       "    </tr>\n",
       "    <tr>\n",
       "      <th>7</th>\n",
       "      <td>Patriots</td>\n",
       "      <td>1.175</td>\n",
       "      <td>Patriots</td>\n",
       "    </tr>\n",
       "    <tr>\n",
       "      <th>8</th>\n",
       "      <td>Patriots</td>\n",
       "      <td>1.350</td>\n",
       "      <td>Patriots</td>\n",
       "    </tr>\n",
       "    <tr>\n",
       "      <th>9</th>\n",
       "      <td>Patriots</td>\n",
       "      <td>1.800</td>\n",
       "      <td>Patriots</td>\n",
       "    </tr>\n",
       "    <tr>\n",
       "      <th>10</th>\n",
       "      <td>Patriots</td>\n",
       "      <td>1.375</td>\n",
       "      <td>Patriots</td>\n",
       "    </tr>\n",
       "    <tr>\n",
       "      <th>11</th>\n",
       "      <td>Colts</td>\n",
       "      <td>0.475</td>\n",
       "      <td>Colts</td>\n",
       "    </tr>\n",
       "    <tr>\n",
       "      <th>12</th>\n",
       "      <td>Colts</td>\n",
       "      <td>0.475</td>\n",
       "      <td>Patriots</td>\n",
       "    </tr>\n",
       "    <tr>\n",
       "      <th>13</th>\n",
       "      <td>Colts</td>\n",
       "      <td>0.275</td>\n",
       "      <td>Colts</td>\n",
       "    </tr>\n",
       "    <tr>\n",
       "      <th>14</th>\n",
       "      <td>Colts</td>\n",
       "      <td>0.650</td>\n",
       "      <td>Colts</td>\n",
       "    </tr>\n",
       "  </tbody>\n",
       "</table>\n",
       "</div>"
      ],
      "text/plain": [
       "        Team  Pressure Drop Shuffled Label\n",
       "0   Patriots          0.850       Patriots\n",
       "1   Patriots          1.475          Colts\n",
       "2   Patriots          1.175       Patriots\n",
       "3   Patriots          1.650       Patriots\n",
       "4   Patriots          1.225       Patriots\n",
       "5   Patriots          0.725       Patriots\n",
       "6   Patriots          0.425       Patriots\n",
       "7   Patriots          1.175       Patriots\n",
       "8   Patriots          1.350       Patriots\n",
       "9   Patriots          1.800       Patriots\n",
       "10  Patriots          1.375       Patriots\n",
       "11     Colts          0.475          Colts\n",
       "12     Colts          0.475       Patriots\n",
       "13     Colts          0.275          Colts\n",
       "14     Colts          0.650          Colts"
      ]
     },
     "execution_count": 233,
     "metadata": {},
     "output_type": "execute_result"
    }
   ],
   "source": [
    "shuffled_labels = football.sample(frac=1).reset_index()['Team']\n",
    "shuffled_labels.name = 'Shuffled Label'\n",
    "\n",
    "original_and_shuffled = pd.concat([football, shuffled_labels], axis=1)\n",
    "original_and_shuffled"
   ]
  },
  {
   "cell_type": "markdown",
   "metadata": {},
   "source": [
    "Как соотносятся средние значения групп?"
   ]
  },
  {
   "cell_type": "code",
   "execution_count": 237,
   "metadata": {},
   "outputs": [
    {
     "data": {
      "text/plain": [
       "0.39261363636363655"
      ]
     },
     "execution_count": 237,
     "metadata": {},
     "output_type": "execute_result"
    }
   ],
   "source": [
    "difference_of_means(original_and_shuffled, 'Pressure Drop', 'Shuffled Label')"
   ]
  },
  {
   "cell_type": "code",
   "execution_count": 274,
   "metadata": {},
   "outputs": [],
   "source": [
    "observed_difference = difference_of_means(original_and_shuffled, 'Pressure Drop', 'Team')"
   ]
  },
  {
   "cell_type": "markdown",
   "metadata": {},
   "source": [
    "Средние значения снижения давления в мячах двух команд при случайном распределении меток между мячами различаются меньше, чем тогда, когда мячи относились к тем группам, которые фактически использовали их во время игры."
   ]
  },
  {
   "cell_type": "markdown",
   "metadata": {},
   "source": [
    "## Тест на перестановку\n",
    "Теперь перейдем к этапу, который вам уже знаком. Выполним повторные моделирования статистического критерия по нулевой гипотезе, используя многократную перестановку мячей и перераспределяя их между двумя командами случайным образом.\n",
    "\n",
    "Снова воспользуемся функцией `one_simulated_difference`. С помощью этой функции создадим массив `differences`, содержащий 10 000 значений статистического критерия, смоделированных по нулевой гипотезе."
   ]
  },
  {
   "cell_type": "code",
   "execution_count": 267,
   "metadata": {},
   "outputs": [],
   "source": [
    "repetitions = 10000\n",
    "differences = np.zeros(repetitions)\n",
    "\n",
    "for i in np.arange(repetitions):\n",
    "    new_difference = one_simulated_difference(football, 'Pressure Drop', 'Team')\n",
    "    differences[i] = new_difference"
   ]
  },
  {
   "cell_type": "markdown",
   "metadata": {},
   "source": [
    "## Результат теста\n",
    "Чтобы вычислить эмпирическое P-значение, нужно вспомнить альтернативную гипотезу, которая заключается в том, что давление в мячах \"Патриотов\" снизилось слишком сильно, чтобы быть случайным.\n",
    "\n",
    "Более сильное снижение давления в мячах \"Патриотов\" говорит в пользу альтернативной гипотезы. P-значение — это (вычисленная по нулевой гипотезе) вероятность получения статистического критерия, равного наблюдаемому значению 0,733522727272728 или выше."
   ]
  },
  {
   "cell_type": "code",
   "execution_count": 275,
   "metadata": {},
   "outputs": [
    {
     "data": {
      "text/plain": [
       "0.0021"
      ]
     },
     "execution_count": 275,
     "metadata": {},
     "output_type": "execute_result"
    }
   ],
   "source": [
    "empirical_P = np.count_nonzero(differences >= observed_difference) / 10000\n",
    "empirical_P"
   ]
  },
  {
   "cell_type": "markdown",
   "metadata": {},
   "source": [
    "Это довольно небольшое P-значение. Для наглядности представим эмпирическое распределение статистического критерия по нулевой гипотезе, отметив наблюдаемую статистику на горизонтальной оси."
   ]
  },
  {
   "cell_type": "code",
   "execution_count": 276,
   "metadata": {},
   "outputs": [
    {
     "name": "stdout",
     "output_type": "stream",
     "text": [
      "Observed Difference: 0.733522727272728\n",
      "Empirical P-value: 0.0021\n"
     ]
    },
    {
     "data": {
      "image/png": "[encoded data removed]",
      "text/plain": [
       "<Figure size 432x288 with 1 Axes>"
      ]
     },
     "metadata": {
      "needs_background": "light"
     },
     "output_type": "display_data"
    }
   ],
   "source": [
    "plt.hist(differences, alpha=.5)\n",
    "plt.plot(observed_difference, 0, marker=7, markersize=7, color='red')\n",
    "plt.title('Prediction Under the Null Hypothesis')\n",
    "print('Observed Difference:', observed_difference)\n",
    "print('Empirical P-value:', empirical_P)"
   ]
  },
  {
   "cell_type": "markdown",
   "metadata": {},
   "source": [
    "Как и в предыдущих примерах этого теста, основная часть распределения сосредоточена вокруг 0. Согласно нулевой гипотезе, снижение давления в мячах \"Патриотс\" — это случайная выборка из всех 15 значений снижения давления в мячах, в т. ч. в мячах \"Колтс\". Следовательно, снижение давления в двух наборах должно быть в среднем одинаково, а значит, их разность должна быть около 0.\n",
    "\n",
    "Однако наблюдаемое значение статистического критерия довольно сильно отличается от центра распределения. По любой разумной логике эмпирическое P-значение низкое. В связи с этим мы отклоняем нулевую гипотезу о случайности и приходим к выводу, что давление в мячах \"Патриотов\" снизилось слишком сильно, чтобы быть случайным.\n",
    "\n",
    "Независимая исследовательская группа проанализировала данные несколькими разными способами с учетом законов физики. В итоговом отчете было сказано:\n",
    "> Среднее снижение давления в игровых мячах 'Патриотов' превысило среднее снижение давления в мячах 'Колтс' на 0,45–1,02 psi с учетом различных возможных допущений в отношении устройств, которые использовались для выполнения измерений, и исходя из того, что исходное давление составляло 12,5 psi для 'Патриотов' и 13,0 psi для 'Колтс'.\n",
    "\n",
    "Отчет комиссии НФЛ по результатам расследования в отношении матча Чемпионата АФК 18 января 2015 г.\n",
    "\n",
    "Наш анализ показал, что давление в среднем снизилось на 0,73 psi, что примерно соответствует центру интервала 0,45–1,02 psi, а значит, согласуется с официальным анализом.\n",
    "\n",
    "Помните, что наша проверка гипотез не устанавливает, почему разница не случайна. Установить причинно-следственные связи обычно намного сложнее, чем проверить гипотезы.\n",
    "\n",
    "Но мир футбола в первую очередь интересуют именно они: вопрос был в том, было ли чрезмерное снижение давления в мячах \"Патриотов\" намеренным."
   ]
  },
  {
   "cell_type": "markdown",
   "metadata": {},
   "source": [
    "# Причинно-следственная связь\n",
    "\n",
    "Наши методы сравнения двух выборок эффективное работают в анализе рандомизированных контролируемых экспериментов. Поскольку экспериментальная и контрольная группы назначаются в таких экспериментах случайным образом, различия в их результатах можно сравнивать со случайными результатами, которые имели бы место в отсутствие какого бы то ни было лечения. Если наблюдаемые различия будут более выражены, чем то, что можно было бы считать абсолютной случайности, мы получим доказательство причинно-следственной связи. Беспристрастное распределение участников между экспериментальной и контрольной группами позволяет относить различия в результатах двух этих групп на счет лечения.\n",
    "\n",
    "Ключ к анализу рандомизированных контролируемых экспериментов — это точное понимание того, какую роль здесь играет вероятность. Оно позволит нам сформулировать четкую нулевую и альтернативную гипотезы. После этого мы сможем применить методы из предыдущих разделов для выполнения анализа.\n",
    "\n",
    "Посмотрим, как это делается, на примере.\n",
    "\n",
    "## Лечение хронической боли в спине, рандомизированное контролируемое исследование\n",
    "Боль в пояснице у взрослых может плохо поддаваться лечению. Для ее лечения применяют широкий спектр методов, от кортикостероидов до акупунктуры. В ходе рандомизированного контролируемого исследования (РКИ) изучалась эффективность лечения ботулиническим токсином типа А. Ботулинический токсин — это нейротоксин белковой природы, вызывающий ботулизм; согласно Википедии, ботулотоксин — \"сильнейший из известных науке токсинов\". Существуют семь типов ботулинического токсина. Ботулинический токсин типа A — один из типов, которые могут вызывать у людей ботулизм, однако также применяется в медицине для лечения различных болезней, связанных с мышечными тканями. РКИ, который Фостер, Клапп и Джаббари (Foster, Clapp, and Jabbari) проанализировали в 2001 году, изучало его применение для лечения боли в пояснице.\n",
    "\n",
    "31 пациента с болью в пояснице распределили случайным образом либо в экспериментальную, либо в контрольную группу (15 человек попали в первую, 16 — во вторую). Членам контрольной группы давали обычный физраствор, причем исследование было двойным слепым, т. е. ни врачи, ни пациенты не знали, в какую именно группу входит тот или иной пациент.\n",
    "\n",
    "Через восемь недель после начала исследования 9 из 15 членов экспериментальной группы и 2 из 16 членов контрольной группы отметили облегчение боли (согласно тому определению, которым пользовались исследователи). Эти данные показаны в таблице `bta` и подтверждают, что лечение имело явную пользу."
   ]
  },
  {
   "cell_type": "code",
   "execution_count": 280,
   "metadata": {},
   "outputs": [
    {
     "data": {
      "text/html": [
       "<div>\n",
       "<style scoped>\n",
       "    .dataframe tbody tr th:only-of-type {\n",
       "        vertical-align: middle;\n",
       "    }\n",
       "\n",
       "    .dataframe tbody tr th {\n",
       "        vertical-align: top;\n",
       "    }\n",
       "\n",
       "    .dataframe thead th {\n",
       "        text-align: right;\n",
       "    }\n",
       "</style>\n",
       "<table border=\"1\" class=\"dataframe\">\n",
       "  <thead>\n",
       "    <tr style=\"text-align: right;\">\n",
       "      <th></th>\n",
       "      <th>Group</th>\n",
       "      <th>Result</th>\n",
       "    </tr>\n",
       "  </thead>\n",
       "  <tbody>\n",
       "    <tr>\n",
       "      <th>0</th>\n",
       "      <td>Control</td>\n",
       "      <td>1.0</td>\n",
       "    </tr>\n",
       "    <tr>\n",
       "      <th>1</th>\n",
       "      <td>Control</td>\n",
       "      <td>1.0</td>\n",
       "    </tr>\n",
       "    <tr>\n",
       "      <th>2</th>\n",
       "      <td>Control</td>\n",
       "      <td>0.0</td>\n",
       "    </tr>\n",
       "    <tr>\n",
       "      <th>3</th>\n",
       "      <td>Control</td>\n",
       "      <td>0.0</td>\n",
       "    </tr>\n",
       "    <tr>\n",
       "      <th>4</th>\n",
       "      <td>Control</td>\n",
       "      <td>0.0</td>\n",
       "    </tr>\n",
       "  </tbody>\n",
       "</table>\n",
       "</div>"
      ],
      "text/plain": [
       "     Group  Result\n",
       "0  Control     1.0\n",
       "1  Control     1.0\n",
       "2  Control     0.0\n",
       "3  Control     0.0\n",
       "4  Control     0.0"
      ]
     },
     "execution_count": 280,
     "metadata": {},
     "output_type": "execute_result"
    }
   ],
   "source": [
    "bta = pd.read_csv('https://raw.githubusercontent.com/MicrosoftDocs/inferentialthinking/master/data/bta.csv')\n",
    "bta.head()"
   ]
  },
  {
   "cell_type": "markdown",
   "metadata": {},
   "source": [
    "Напомним, что для проведения расчетов нужно сложить единицы и нули. Сумма единиц в контрольной группе — это количество членов контрольной группы, которые почувствовали облегчение боли. Среднее число единиц — это доля членов контрольной группы, которые почувствовали облегчение боли."
   ]
  },
  {
   "cell_type": "code",
   "execution_count": 281,
   "metadata": {},
   "outputs": [
    {
     "data": {
      "text/html": [
       "<div>\n",
       "<style scoped>\n",
       "    .dataframe tbody tr th:only-of-type {\n",
       "        vertical-align: middle;\n",
       "    }\n",
       "\n",
       "    .dataframe tbody tr th {\n",
       "        vertical-align: top;\n",
       "    }\n",
       "\n",
       "    .dataframe thead th {\n",
       "        text-align: right;\n",
       "    }\n",
       "</style>\n",
       "<table border=\"1\" class=\"dataframe\">\n",
       "  <thead>\n",
       "    <tr style=\"text-align: right;\">\n",
       "      <th></th>\n",
       "      <th>Result</th>\n",
       "    </tr>\n",
       "    <tr>\n",
       "      <th>Group</th>\n",
       "      <th></th>\n",
       "    </tr>\n",
       "  </thead>\n",
       "  <tbody>\n",
       "    <tr>\n",
       "      <th>Control</th>\n",
       "      <td>0.125</td>\n",
       "    </tr>\n",
       "    <tr>\n",
       "      <th>Treatment</th>\n",
       "      <td>0.600</td>\n",
       "    </tr>\n",
       "  </tbody>\n",
       "</table>\n",
       "</div>"
      ],
      "text/plain": [
       "           Result\n",
       "Group            \n",
       "Control     0.125\n",
       "Treatment   0.600"
      ]
     },
     "execution_count": 281,
     "metadata": {},
     "output_type": "execute_result"
    }
   ],
   "source": [
    "bta.groupby('Group').mean()"
   ]
  },
  {
   "cell_type": "markdown",
   "metadata": {},
   "source": [
    "В экспериментальной группе 60 % пациентов почувствовали облегчение боли, а в контрольной — только 12,5 %. Ни у кого из пациентов не было побочных эффектов.\n",
    "\n",
    "Это значит, что ботулинический токсин типа А показал себя лучше, чем физраствор. Однако этот вывод еще нельзя назвать убедительным. Поскольку пациенты распределялись между группами случайным образом, не могла ли эта разница быть случайной?\n",
    "\n",
    "Чтобы в этом разобраться, нам нужно учесть вероятность того, что из 31 участника данного исследования кто-то был более способен к выздоровлению даже без помощи соответствующего лекарства. Что, если в экспериментальную группу случайно попала чрезмерно высокая доля таких пациентов? В этом случае результаты в экспериментальной группе могли оказаться лучше, чем в контрольной, даже если бы лечение было не эффективнее физраствора, который давали контрольной группе.\n",
    "\n",
    "Чтобы учесть эту возможность, для начала тщательно выстроим модель вероятности.\n",
    "\n",
    "## Потенциальные результаты\n",
    "До того как пациентов случайным образом распределят на две группы, наш разум инстинктивно представляет себе два возможных варианта для каждого пациента: результат, который пациент получит, если попадет в экспериментальную группу, и результат, который он получит, если попадет в контрольную группу. Это два _потенциальных результата_ пациента.\n",
    "\n",
    "Таким образом, мы получаем 31 потенциальный результат экспериментальной группы и 31 потенциальный результат контрольной группы. Вопрос в распределении каждого из этих двух наборов из 31 результата. Будет ли оно одинаковым или разным?\n",
    "\n",
    "Ответить на этот вопрос мы пока не можем, поскольку не сможем увидеть все 31 значение в каждой группе. Мы видим только 16 случайным образом отобранных потенциальных результатов контрольной группы и результаты лечения _остальных_ 15 пациентов.\n",
    "\n",
    "Вот как можно представить это наглядно. Каждый пациент получает билет, состоящий из двух половинок.\n",
    "\n",
    "![](./media/causality1.png)\n",
    "\n",
    "После случайного распределения мы видим правую половину билетов случайной выборки пациентов и левую половину билетов оставшихся пациентов.\n",
    "\n",
    "![](./media/causality2.png)"
   ]
  },
  {
   "cell_type": "markdown",
   "metadata": {},
   "source": [
    "В таблице `observed_outcomes` собраны сведения о возможных результатах каждого пациента, в которых невидимая часть каждого \"билета\" опущена. (Это просто еще один способ представления таблицы `bta`, которая содержит те же самые данные.)"
   ]
  },
  {
   "cell_type": "code",
   "execution_count": 284,
   "metadata": {},
   "outputs": [],
   "source": [
    "observed_outcomes = pd.read_csv('https://raw.githubusercontent.com/MicrosoftDocs/inferentialthinking/master/data/observed_outcomes.csv')"
   ]
  },
  {
   "cell_type": "code",
   "execution_count": 285,
   "metadata": {},
   "outputs": [
    {
     "data": {
      "text/html": [
       "<div>\n",
       "<style scoped>\n",
       "    .dataframe tbody tr th:only-of-type {\n",
       "        vertical-align: middle;\n",
       "    }\n",
       "\n",
       "    .dataframe tbody tr th {\n",
       "        vertical-align: top;\n",
       "    }\n",
       "\n",
       "    .dataframe thead th {\n",
       "        text-align: right;\n",
       "    }\n",
       "</style>\n",
       "<table border=\"1\" class=\"dataframe\">\n",
       "  <thead>\n",
       "    <tr style=\"text-align: right;\">\n",
       "      <th></th>\n",
       "      <th>Group</th>\n",
       "      <th>Outcome if assigned treatment</th>\n",
       "      <th>Outcome if assigned control</th>\n",
       "    </tr>\n",
       "  </thead>\n",
       "  <tbody>\n",
       "    <tr>\n",
       "      <th>0</th>\n",
       "      <td>Control</td>\n",
       "      <td>Unknown</td>\n",
       "      <td>1</td>\n",
       "    </tr>\n",
       "    <tr>\n",
       "      <th>1</th>\n",
       "      <td>Control</td>\n",
       "      <td>Unknown</td>\n",
       "      <td>1</td>\n",
       "    </tr>\n",
       "    <tr>\n",
       "      <th>2</th>\n",
       "      <td>Control</td>\n",
       "      <td>Unknown</td>\n",
       "      <td>0</td>\n",
       "    </tr>\n",
       "    <tr>\n",
       "      <th>3</th>\n",
       "      <td>Control</td>\n",
       "      <td>Unknown</td>\n",
       "      <td>0</td>\n",
       "    </tr>\n",
       "    <tr>\n",
       "      <th>4</th>\n",
       "      <td>Control</td>\n",
       "      <td>Unknown</td>\n",
       "      <td>0</td>\n",
       "    </tr>\n",
       "    <tr>\n",
       "      <th>5</th>\n",
       "      <td>Control</td>\n",
       "      <td>Unknown</td>\n",
       "      <td>0</td>\n",
       "    </tr>\n",
       "    <tr>\n",
       "      <th>6</th>\n",
       "      <td>Control</td>\n",
       "      <td>Unknown</td>\n",
       "      <td>0</td>\n",
       "    </tr>\n",
       "    <tr>\n",
       "      <th>7</th>\n",
       "      <td>Control</td>\n",
       "      <td>Unknown</td>\n",
       "      <td>0</td>\n",
       "    </tr>\n",
       "    <tr>\n",
       "      <th>8</th>\n",
       "      <td>Control</td>\n",
       "      <td>Unknown</td>\n",
       "      <td>0</td>\n",
       "    </tr>\n",
       "    <tr>\n",
       "      <th>9</th>\n",
       "      <td>Control</td>\n",
       "      <td>Unknown</td>\n",
       "      <td>0</td>\n",
       "    </tr>\n",
       "    <tr>\n",
       "      <th>10</th>\n",
       "      <td>Control</td>\n",
       "      <td>Unknown</td>\n",
       "      <td>0</td>\n",
       "    </tr>\n",
       "    <tr>\n",
       "      <th>11</th>\n",
       "      <td>Control</td>\n",
       "      <td>Unknown</td>\n",
       "      <td>0</td>\n",
       "    </tr>\n",
       "    <tr>\n",
       "      <th>12</th>\n",
       "      <td>Control</td>\n",
       "      <td>Unknown</td>\n",
       "      <td>0</td>\n",
       "    </tr>\n",
       "    <tr>\n",
       "      <th>13</th>\n",
       "      <td>Control</td>\n",
       "      <td>Unknown</td>\n",
       "      <td>0</td>\n",
       "    </tr>\n",
       "    <tr>\n",
       "      <th>14</th>\n",
       "      <td>Control</td>\n",
       "      <td>Unknown</td>\n",
       "      <td>0</td>\n",
       "    </tr>\n",
       "    <tr>\n",
       "      <th>15</th>\n",
       "      <td>Control</td>\n",
       "      <td>Unknown</td>\n",
       "      <td>0</td>\n",
       "    </tr>\n",
       "    <tr>\n",
       "      <th>16</th>\n",
       "      <td>Treatment</td>\n",
       "      <td>1</td>\n",
       "      <td>Unknown</td>\n",
       "    </tr>\n",
       "    <tr>\n",
       "      <th>17</th>\n",
       "      <td>Treatment</td>\n",
       "      <td>1</td>\n",
       "      <td>Unknown</td>\n",
       "    </tr>\n",
       "    <tr>\n",
       "      <th>18</th>\n",
       "      <td>Treatment</td>\n",
       "      <td>1</td>\n",
       "      <td>Unknown</td>\n",
       "    </tr>\n",
       "    <tr>\n",
       "      <th>19</th>\n",
       "      <td>Treatment</td>\n",
       "      <td>1</td>\n",
       "      <td>Unknown</td>\n",
       "    </tr>\n",
       "    <tr>\n",
       "      <th>20</th>\n",
       "      <td>Treatment</td>\n",
       "      <td>1</td>\n",
       "      <td>Unknown</td>\n",
       "    </tr>\n",
       "    <tr>\n",
       "      <th>21</th>\n",
       "      <td>Treatment</td>\n",
       "      <td>1</td>\n",
       "      <td>Unknown</td>\n",
       "    </tr>\n",
       "    <tr>\n",
       "      <th>22</th>\n",
       "      <td>Treatment</td>\n",
       "      <td>1</td>\n",
       "      <td>Unknown</td>\n",
       "    </tr>\n",
       "    <tr>\n",
       "      <th>23</th>\n",
       "      <td>Treatment</td>\n",
       "      <td>1</td>\n",
       "      <td>Unknown</td>\n",
       "    </tr>\n",
       "    <tr>\n",
       "      <th>24</th>\n",
       "      <td>Treatment</td>\n",
       "      <td>1</td>\n",
       "      <td>Unknown</td>\n",
       "    </tr>\n",
       "    <tr>\n",
       "      <th>25</th>\n",
       "      <td>Treatment</td>\n",
       "      <td>0</td>\n",
       "      <td>Unknown</td>\n",
       "    </tr>\n",
       "    <tr>\n",
       "      <th>26</th>\n",
       "      <td>Treatment</td>\n",
       "      <td>0</td>\n",
       "      <td>Unknown</td>\n",
       "    </tr>\n",
       "    <tr>\n",
       "      <th>27</th>\n",
       "      <td>Treatment</td>\n",
       "      <td>0</td>\n",
       "      <td>Unknown</td>\n",
       "    </tr>\n",
       "    <tr>\n",
       "      <th>28</th>\n",
       "      <td>Treatment</td>\n",
       "      <td>0</td>\n",
       "      <td>Unknown</td>\n",
       "    </tr>\n",
       "    <tr>\n",
       "      <th>29</th>\n",
       "      <td>Treatment</td>\n",
       "      <td>0</td>\n",
       "      <td>Unknown</td>\n",
       "    </tr>\n",
       "    <tr>\n",
       "      <th>30</th>\n",
       "      <td>Treatment</td>\n",
       "      <td>0</td>\n",
       "      <td>Unknown</td>\n",
       "    </tr>\n",
       "  </tbody>\n",
       "</table>\n",
       "</div>"
      ],
      "text/plain": [
       "        Group Outcome if assigned treatment Outcome if assigned control\n",
       "0     Control                       Unknown                           1\n",
       "1     Control                       Unknown                           1\n",
       "2     Control                       Unknown                           0\n",
       "3     Control                       Unknown                           0\n",
       "4     Control                       Unknown                           0\n",
       "5     Control                       Unknown                           0\n",
       "6     Control                       Unknown                           0\n",
       "7     Control                       Unknown                           0\n",
       "8     Control                       Unknown                           0\n",
       "9     Control                       Unknown                           0\n",
       "10    Control                       Unknown                           0\n",
       "11    Control                       Unknown                           0\n",
       "12    Control                       Unknown                           0\n",
       "13    Control                       Unknown                           0\n",
       "14    Control                       Unknown                           0\n",
       "15    Control                       Unknown                           0\n",
       "16  Treatment                             1                     Unknown\n",
       "17  Treatment                             1                     Unknown\n",
       "18  Treatment                             1                     Unknown\n",
       "19  Treatment                             1                     Unknown\n",
       "20  Treatment                             1                     Unknown\n",
       "21  Treatment                             1                     Unknown\n",
       "22  Treatment                             1                     Unknown\n",
       "23  Treatment                             1                     Unknown\n",
       "24  Treatment                             1                     Unknown\n",
       "25  Treatment                             0                     Unknown\n",
       "26  Treatment                             0                     Unknown\n",
       "27  Treatment                             0                     Unknown\n",
       "28  Treatment                             0                     Unknown\n",
       "29  Treatment                             0                     Unknown\n",
       "30  Treatment                             0                     Unknown"
      ]
     },
     "execution_count": 285,
     "metadata": {},
     "output_type": "execute_result"
    }
   ],
   "source": [
    "observed_outcomes"
   ]
  },
  {
   "cell_type": "markdown",
   "metadata": {},
   "source": [
    "## Гипотеза\n",
    "Вопрос в том, имеет ли лечение какой-то эффект. С точки зрения таблицы `observed_outcomes` необходимо понять, отличается ли распределение 31 \"экспериментального\" значения в столбце 1 (включая неизвестные) от распределения 31 \"контрольного\" значения в столбце 2 (также включая неизвестные).\n",
    "\n",
    "__Нулевая гипотеза.__ Распределение 31 потенциального \"экспериментального\" результата совпадает с распределением 31 потенциального \"контрольного\" результата. Ботулинический токсин типа A действует точно так же, как физраствор; разница в выборках абсолютно случайна.\n",
    "\n",
    "__Альтернативная гипотеза.__ Распределение 31 потенциального \"экспериментального\" результата отличается от распределения 31 потенциального \"контрольного\" результата. Эффект от лечения не такой, как в контрольной группе.\n",
    "\n",
    "В двух группах совокупно наблюдается 31 результат. Если нулевая гипотеза верна, то неважно, какой из этого 31 результата обозначен как \"экспериментальный\", а какой как \"контрольный\". Любое случайное подмножество в размере 16 из 31 значений может называться \"контрольным\", а остальные 15 — \"экспериментальным\".\n",
    "\n",
    "Это можно смоделировать. Мы можем перемешать это 31 значение, разделить его на две группы из 16 и 15 значений и посмотреть, как изменятся распределения в этих двух группах. Поскольку данные отображаются в виде нулей и единиц, можно просто сравнить их соотношение.\n",
    "\n",
    "Так мы поступали в процессе A/B-тестирования, которое рассматривалось в предыдущем блоке. Теперь выборка A — это контрольная группа, а выборка B — экспериментальная. Проведем тест, подробное описание всех шагов которого приводится ниже. Это должны быть те же самые шаги, из которых состоит A/B-тестирование.\n",
    "\n",
    "## Статистический критерий\n",
    "Если соотношения в группах отличаются, обратимся к альтернативной гипотезе о том, что исходные распределения различаются. Наш статистический критерий будет отражать разницу между соотношениями двух групп, т. е. абсолютное значение разности между ними.\n",
    "\n",
    "Большие значения в статистике теста говорят в пользу альтернативной гипотезы.\n",
    "\n",
    "Поскольку соотношения в группах равны 0,6 и 0,125, наблюдаемое значение статистического критерия составляет $∣0,6–0,125∣ = 0,475$\n"
   ]
  },
  {
   "cell_type": "code",
   "execution_count": 286,
   "metadata": {},
   "outputs": [
    {
     "data": {
      "text/html": [
       "<div>\n",
       "<style scoped>\n",
       "    .dataframe tbody tr th:only-of-type {\n",
       "        vertical-align: middle;\n",
       "    }\n",
       "\n",
       "    .dataframe tbody tr th {\n",
       "        vertical-align: top;\n",
       "    }\n",
       "\n",
       "    .dataframe thead th {\n",
       "        text-align: right;\n",
       "    }\n",
       "</style>\n",
       "<table border=\"1\" class=\"dataframe\">\n",
       "  <thead>\n",
       "    <tr style=\"text-align: right;\">\n",
       "      <th></th>\n",
       "      <th>Result</th>\n",
       "    </tr>\n",
       "    <tr>\n",
       "      <th>Group</th>\n",
       "      <th></th>\n",
       "    </tr>\n",
       "  </thead>\n",
       "  <tbody>\n",
       "    <tr>\n",
       "      <th>Control</th>\n",
       "      <td>0.125</td>\n",
       "    </tr>\n",
       "    <tr>\n",
       "      <th>Treatment</th>\n",
       "      <td>0.600</td>\n",
       "    </tr>\n",
       "  </tbody>\n",
       "</table>\n",
       "</div>"
      ],
      "text/plain": [
       "           Result\n",
       "Group            \n",
       "Control     0.125\n",
       "Treatment   0.600"
      ]
     },
     "execution_count": 286,
     "metadata": {},
     "output_type": "execute_result"
    }
   ],
   "source": [
    "bta.groupby('Group').mean()"
   ]
  },
  {
   "cell_type": "code",
   "execution_count": 289,
   "metadata": {},
   "outputs": [
    {
     "data": {
      "text/plain": [
       "0.475"
      ]
     },
     "execution_count": 289,
     "metadata": {},
     "output_type": "execute_result"
    }
   ],
   "source": [
    "observed_proportions = bta.groupby('Group').mean()['Result']\n",
    "observed_distance = np.diff(observed_proportions)[0]\n",
    "observed_distance"
   ]
  },
  {
   "cell_type": "markdown",
   "metadata": {},
   "source": [
    "Как и раньше, определим функцию, которая принимает следующие аргументы:\n",
    "\n",
    "- имя таблицы данных;\n",
    "- метка столбца с числовой переменной;\n",
    "- метка столбца с метками групп;\n",
    "\n",
    "и возвращает абсолютную разность соотношений двух групп."
   ]
  },
  {
   "cell_type": "code",
   "execution_count": 295,
   "metadata": {},
   "outputs": [],
   "source": [
    "def distance(table, label, group_label):\n",
    "    reduced = table[[label, group_label]]\n",
    "    proportions = reduced.groupby(group_label).mean()[label]\n",
    "    return abs(np.diff(proportions)[0])"
   ]
  },
  {
   "cell_type": "code",
   "execution_count": 296,
   "metadata": {},
   "outputs": [
    {
     "data": {
      "text/plain": [
       "0.475"
      ]
     },
     "execution_count": 296,
     "metadata": {},
     "output_type": "execute_result"
    }
   ],
   "source": [
    "distance(bta, 'Result', 'Group')"
   ]
  },
  {
   "cell_type": "markdown",
   "metadata": {},
   "source": [
    "### Прогнозирование статистики по нулевой гипотезе\n",
    "Мы можем смоделировать результаты по нулевой гипотезе, чтобы проверить, какой статистический критерий мы получим, если нулевая гипотеза верна.\n",
    "\n",
    "### Получение одного значения статистического показателя\n",
    "Выполним точно такое же моделирование, как в предыдущем блоке. Для начала перераспределим все метки групп случайным образом и назначим перетасованные метки результатам 0/1."
   ]
  },
  {
   "cell_type": "code",
   "execution_count": 305,
   "metadata": {},
   "outputs": [
    {
     "data": {
      "text/html": [
       "<div>\n",
       "<style scoped>\n",
       "    .dataframe tbody tr th:only-of-type {\n",
       "        vertical-align: middle;\n",
       "    }\n",
       "\n",
       "    .dataframe tbody tr th {\n",
       "        vertical-align: top;\n",
       "    }\n",
       "\n",
       "    .dataframe thead th {\n",
       "        text-align: right;\n",
       "    }\n",
       "</style>\n",
       "<table border=\"1\" class=\"dataframe\">\n",
       "  <thead>\n",
       "    <tr style=\"text-align: right;\">\n",
       "      <th></th>\n",
       "      <th>Group</th>\n",
       "      <th>Result</th>\n",
       "      <th>Shuffled Label</th>\n",
       "    </tr>\n",
       "  </thead>\n",
       "  <tbody>\n",
       "    <tr>\n",
       "      <th>0</th>\n",
       "      <td>Control</td>\n",
       "      <td>1.0</td>\n",
       "      <td>Treatment</td>\n",
       "    </tr>\n",
       "    <tr>\n",
       "      <th>1</th>\n",
       "      <td>Control</td>\n",
       "      <td>1.0</td>\n",
       "      <td>Control</td>\n",
       "    </tr>\n",
       "    <tr>\n",
       "      <th>2</th>\n",
       "      <td>Control</td>\n",
       "      <td>0.0</td>\n",
       "      <td>Control</td>\n",
       "    </tr>\n",
       "    <tr>\n",
       "      <th>3</th>\n",
       "      <td>Control</td>\n",
       "      <td>0.0</td>\n",
       "      <td>Control</td>\n",
       "    </tr>\n",
       "    <tr>\n",
       "      <th>4</th>\n",
       "      <td>Control</td>\n",
       "      <td>0.0</td>\n",
       "      <td>Treatment</td>\n",
       "    </tr>\n",
       "    <tr>\n",
       "      <th>5</th>\n",
       "      <td>Control</td>\n",
       "      <td>0.0</td>\n",
       "      <td>Control</td>\n",
       "    </tr>\n",
       "    <tr>\n",
       "      <th>6</th>\n",
       "      <td>Control</td>\n",
       "      <td>0.0</td>\n",
       "      <td>Control</td>\n",
       "    </tr>\n",
       "    <tr>\n",
       "      <th>7</th>\n",
       "      <td>Control</td>\n",
       "      <td>0.0</td>\n",
       "      <td>Treatment</td>\n",
       "    </tr>\n",
       "    <tr>\n",
       "      <th>8</th>\n",
       "      <td>Control</td>\n",
       "      <td>0.0</td>\n",
       "      <td>Treatment</td>\n",
       "    </tr>\n",
       "    <tr>\n",
       "      <th>9</th>\n",
       "      <td>Control</td>\n",
       "      <td>0.0</td>\n",
       "      <td>Treatment</td>\n",
       "    </tr>\n",
       "    <tr>\n",
       "      <th>10</th>\n",
       "      <td>Control</td>\n",
       "      <td>0.0</td>\n",
       "      <td>Treatment</td>\n",
       "    </tr>\n",
       "    <tr>\n",
       "      <th>11</th>\n",
       "      <td>Control</td>\n",
       "      <td>0.0</td>\n",
       "      <td>Control</td>\n",
       "    </tr>\n",
       "    <tr>\n",
       "      <th>12</th>\n",
       "      <td>Control</td>\n",
       "      <td>0.0</td>\n",
       "      <td>Treatment</td>\n",
       "    </tr>\n",
       "    <tr>\n",
       "      <th>13</th>\n",
       "      <td>Control</td>\n",
       "      <td>0.0</td>\n",
       "      <td>Treatment</td>\n",
       "    </tr>\n",
       "    <tr>\n",
       "      <th>14</th>\n",
       "      <td>Control</td>\n",
       "      <td>0.0</td>\n",
       "      <td>Control</td>\n",
       "    </tr>\n",
       "    <tr>\n",
       "      <th>15</th>\n",
       "      <td>Control</td>\n",
       "      <td>0.0</td>\n",
       "      <td>Control</td>\n",
       "    </tr>\n",
       "    <tr>\n",
       "      <th>16</th>\n",
       "      <td>Treatment</td>\n",
       "      <td>1.0</td>\n",
       "      <td>Treatment</td>\n",
       "    </tr>\n",
       "    <tr>\n",
       "      <th>17</th>\n",
       "      <td>Treatment</td>\n",
       "      <td>1.0</td>\n",
       "      <td>Control</td>\n",
       "    </tr>\n",
       "    <tr>\n",
       "      <th>18</th>\n",
       "      <td>Treatment</td>\n",
       "      <td>1.0</td>\n",
       "      <td>Control</td>\n",
       "    </tr>\n",
       "    <tr>\n",
       "      <th>19</th>\n",
       "      <td>Treatment</td>\n",
       "      <td>1.0</td>\n",
       "      <td>Control</td>\n",
       "    </tr>\n",
       "    <tr>\n",
       "      <th>20</th>\n",
       "      <td>Treatment</td>\n",
       "      <td>1.0</td>\n",
       "      <td>Treatment</td>\n",
       "    </tr>\n",
       "    <tr>\n",
       "      <th>21</th>\n",
       "      <td>Treatment</td>\n",
       "      <td>1.0</td>\n",
       "      <td>Control</td>\n",
       "    </tr>\n",
       "    <tr>\n",
       "      <th>22</th>\n",
       "      <td>Treatment</td>\n",
       "      <td>1.0</td>\n",
       "      <td>Control</td>\n",
       "    </tr>\n",
       "    <tr>\n",
       "      <th>23</th>\n",
       "      <td>Treatment</td>\n",
       "      <td>1.0</td>\n",
       "      <td>Treatment</td>\n",
       "    </tr>\n",
       "    <tr>\n",
       "      <th>24</th>\n",
       "      <td>Treatment</td>\n",
       "      <td>1.0</td>\n",
       "      <td>Control</td>\n",
       "    </tr>\n",
       "    <tr>\n",
       "      <th>25</th>\n",
       "      <td>Treatment</td>\n",
       "      <td>0.0</td>\n",
       "      <td>Control</td>\n",
       "    </tr>\n",
       "    <tr>\n",
       "      <th>26</th>\n",
       "      <td>Treatment</td>\n",
       "      <td>0.0</td>\n",
       "      <td>Treatment</td>\n",
       "    </tr>\n",
       "    <tr>\n",
       "      <th>27</th>\n",
       "      <td>Treatment</td>\n",
       "      <td>0.0</td>\n",
       "      <td>Control</td>\n",
       "    </tr>\n",
       "    <tr>\n",
       "      <th>28</th>\n",
       "      <td>Treatment</td>\n",
       "      <td>0.0</td>\n",
       "      <td>Treatment</td>\n",
       "    </tr>\n",
       "    <tr>\n",
       "      <th>29</th>\n",
       "      <td>Treatment</td>\n",
       "      <td>0.0</td>\n",
       "      <td>Treatment</td>\n",
       "    </tr>\n",
       "    <tr>\n",
       "      <th>30</th>\n",
       "      <td>Treatment</td>\n",
       "      <td>0.0</td>\n",
       "      <td>Treatment</td>\n",
       "    </tr>\n",
       "  </tbody>\n",
       "</table>\n",
       "</div>"
      ],
      "text/plain": [
       "        Group  Result Shuffled Label\n",
       "0     Control     1.0      Treatment\n",
       "1     Control     1.0        Control\n",
       "2     Control     0.0        Control\n",
       "3     Control     0.0        Control\n",
       "4     Control     0.0      Treatment\n",
       "5     Control     0.0        Control\n",
       "6     Control     0.0        Control\n",
       "7     Control     0.0      Treatment\n",
       "8     Control     0.0      Treatment\n",
       "9     Control     0.0      Treatment\n",
       "10    Control     0.0      Treatment\n",
       "11    Control     0.0        Control\n",
       "12    Control     0.0      Treatment\n",
       "13    Control     0.0      Treatment\n",
       "14    Control     0.0        Control\n",
       "15    Control     0.0        Control\n",
       "16  Treatment     1.0      Treatment\n",
       "17  Treatment     1.0        Control\n",
       "18  Treatment     1.0        Control\n",
       "19  Treatment     1.0        Control\n",
       "20  Treatment     1.0      Treatment\n",
       "21  Treatment     1.0        Control\n",
       "22  Treatment     1.0        Control\n",
       "23  Treatment     1.0      Treatment\n",
       "24  Treatment     1.0        Control\n",
       "25  Treatment     0.0        Control\n",
       "26  Treatment     0.0      Treatment\n",
       "27  Treatment     0.0        Control\n",
       "28  Treatment     0.0      Treatment\n",
       "29  Treatment     0.0      Treatment\n",
       "30  Treatment     0.0      Treatment"
      ]
     },
     "execution_count": 305,
     "metadata": {},
     "output_type": "execute_result"
    }
   ],
   "source": [
    "shuffled_labels = bta.sample(frac=1).reset_index()['Group']\n",
    "shuffled_labels.name = 'Shuffled Label'\n",
    "\n",
    "bta_with_shuffled_labels = pd.concat([bta, shuffled_labels], axis=1)\n",
    "bta_with_shuffled_labels"
   ]
  },
  {
   "cell_type": "markdown",
   "metadata": {},
   "source": [
    "Теперь можно узнать расстояние между двумя соотношениями после перетасовки меток."
   ]
  },
  {
   "cell_type": "code",
   "execution_count": 306,
   "metadata": {},
   "outputs": [
    {
     "data": {
      "text/plain": [
       "0.17083333333333334"
      ]
     },
     "execution_count": 306,
     "metadata": {},
     "output_type": "execute_result"
    }
   ],
   "source": [
    "distance(bta_with_shuffled_labels, 'Result', 'Shuffled Label')"
   ]
  },
  {
   "cell_type": "markdown",
   "metadata": {},
   "source": [
    "Оно должно отличаться от расстояния между двумя исходными соотношениями."
   ]
  },
  {
   "cell_type": "code",
   "execution_count": 310,
   "metadata": {},
   "outputs": [
    {
     "data": {
      "text/plain": [
       "0.475"
      ]
     },
     "execution_count": 310,
     "metadata": {},
     "output_type": "execute_result"
    }
   ],
   "source": [
    "observed_distance = distance(bta_with_shuffled_labels, 'Result', 'Group')\n",
    "observed_distance"
   ]
  },
  {
   "cell_type": "markdown",
   "metadata": {},
   "source": [
    "## Тест на перестановку\n",
    "Если мы снова перемешаем метки, насколько изменится новое расстояние? Чтобы ответить на этот вопрос, определим функцию, которая моделирует одно смоделированное значение расстояния согласно гипотезе случайной перестановки в пределах того же исходного распределения. Затем мы соберем 20 000 таких смоделированных значений в массив.\n",
    "\n",
    "Как видите, мы делаем все то же самое, что и в предыдущих примерах теста на перестановку."
   ]
  },
  {
   "cell_type": "code",
   "execution_count": 308,
   "metadata": {},
   "outputs": [],
   "source": [
    "def one_simulated_distance(table, label, group_label):\n",
    "    shuffled_labels = table.sample(frac=1) \\\n",
    "                           .reset_index()[group_label] \\\n",
    "                           .to_frame() \\\n",
    "                           .rename({group_label: 'Shuffled Label'}, axis=1)\n",
    "    shuffled_table = pd.concat([table, shuffled_labels], axis=1)\n",
    "    return difference_of_means(shuffled_table, label, 'Shuffled Label')"
   ]
  },
  {
   "cell_type": "code",
   "execution_count": 309,
   "metadata": {},
   "outputs": [],
   "source": [
    "repetitions = 20000\n",
    "distances = np.zeros(repetitions)\n",
    "\n",
    "for i in np.arange(repetitions):\n",
    "    new_distance = one_simulated_distance(bta, 'Result', 'Group')\n",
    "    distances[i] = new_distance"
   ]
  },
  {
   "cell_type": "markdown",
   "metadata": {},
   "source": [
    "## Результат теста\n",
    "Массив `distances` содержит 20 000 значений статистического критерия, смоделированных по нулевой гипотезе.\n",
    "\n",
    "Чтобы найти значение P для теста, вспомним, что большие значения статистического критерия поддерживают альтернативную гипотезу. Таким образом, эмпирическое P-значение — это доля смоделированной статистики, которая равна наблюдаемой статистике или больше нее."
   ]
  },
  {
   "cell_type": "code",
   "execution_count": 311,
   "metadata": {},
   "outputs": [
    {
     "data": {
      "text/plain": [
       "0.0083"
      ]
     },
     "execution_count": 311,
     "metadata": {},
     "output_type": "execute_result"
    }
   ],
   "source": [
    "empirical_P = np.count_nonzero(distances >= observed_distance) / repetitions\n",
    "empirical_P"
   ]
  },
  {
   "cell_type": "markdown",
   "metadata": {},
   "source": [
    "Это маленькое P-значение. Наблюдаемая статистика, показанная ниже в виде красной точки, находится в хвосте гистограммы статистических критериев, сформированных по нулевой гипотезе.\n",
    "\n",
    "Результат статистически значимый. Тест говорит о том, что альтернативная гипотеза превалирует над нулевой. Доказательство подтверждает гипотезу о том, что лечение работает."
   ]
  },
  {
   "cell_type": "code",
   "execution_count": 312,
   "metadata": {},
   "outputs": [
    {
     "name": "stdout",
     "output_type": "stream",
     "text": [
      "Observed Difference: 0.733522727272728\n",
      "Empirical P-value: 0.83 %\n"
     ]
    },
    {
     "data": {
      "image/png": "[encoded data removed]",
      "text/plain": [
       "<Figure size 432x288 with 1 Axes>"
      ]
     },
     "metadata": {
      "needs_background": "light"
     },
     "output_type": "display_data"
    }
   ],
   "source": [
    "plt.hist(differences, bins=np.arange(0, 0.7, 0.1), alpha=.5)\n",
    "plt.plot(observed_distance, 0, marker=7, markersize=7, color='red')\n",
    "plt.title('Prediction Under the Null Hypothesis')\n",
    "print('Observed Difference:', observed_difference)\n",
    "print('Empirical P-value:', round(empirical_P, 4) * 100, '%')"
   ]
  },
  {
   "cell_type": "markdown",
   "metadata": {},
   "source": [
    "В результатах исследования заявлено P-значение 0,009 или 0,9%, что ненамного отличается от нашего эмпирического значения."
   ]
  },
  {
   "cell_type": "markdown",
   "metadata": {},
   "source": [
    "## Причинно-следственная связь\n",
    "Поскольку исследования были рандомизированными, тест подтверждает, что лечение оказывает определенное действие. Случайное распределение пациентов на две группы гарантирует, что на выводы о причинно-следственной связи не повлияет никакая вмешивающаяся переменная.\n",
    "\n",
    "Если бы лечение назначалось не в случайном порядке, наш тест все равно бы указал на связь между лечением и конечным состоянием боли в пояснице у 31 пациента. При этом следует иметь в виду, что без рандомизации эта связь не могла бы означать, что на состояние боли в пояснице повлияло лечение. Например, если бы пациенты сами выбирали, принимать ли лечение, возможно, что те из них, кто испытывал более сильную боль, с большей вероятностью выбрали бы лечение и испытали бы ослабление боли даже без препарата. В этом случае наличие боли до проведения исследования считалось был вмешивающимся фактором при анализе.\n",
    "\n",
    "## Метаанализ\n",
    "\n",
    "При том что РКИ доказывает, что ботулинический токсин типа А помог пациентам, исследования с участием 31 пациента недостаточно для подтверждения эффективности медицинского лечения. И это не только из-за небольшого размера выборки. Результаты, полученные в этом разделе, действительны для 31 участвовавшего в исследовании пациента, однако нас интересует совокупность всех возможных пациентов. Если этот 31 пациент был выбран случайно из более крупной генеральной совокупности, наш доверительный интервал должен быть действителен и для всей этой популяции. Однако выборка не была случайной.\n",
    "\n",
    "В 2011 году группа исследователей провела метаанализ исследований данного лечения. Это значит, что они нашли все доступные исследования подобных способов лечения боли в пояснице и просуммировали их совокупные результаты.\n",
    "\n",
    "Исследований оказалось несколько, но лишь немногие их них можно было включить в анализ научно обоснованным образом: \"Мы исключили данные 19 исследований из-за отсутствия рандомизации или из-за неполных или неопубликованных данных\". Остались только три рандомизированных контролируемых исследования, одно из которых мы изучили в этом разделе. Оно получило наивысшую оценку среди всех исследований, которые рассматривались в это метаанализе (БП — боль в пояснице): \"Мы обнаружили три исследования, изучавших преимущества применения БоНТ для лечения БП, но только одно имело низкий риск системной ошибки и включало пациентов с неспецифической БП (N = 31)\".\n",
    "\n",
    "Результатом метаанализа стал следующий вывод: \"Существуют недостаточно достоверные признаки того, что инъекции БоНТ уменьшают боли и/или функцию лучше, чем инъекции физраствора, и действуют эффективнее акупунктуры или инъекций стероидов\". ... Дальнейшие исследования могут значительно повлиять на оценку эффективности этого способа лечения и нашу уверенность. Дальнейшие исследования должны стандартизировать генеральные совокупности пациентов, протоколы лечения и группы сравнения, включать больше участников и результаты за более длительное время, анализ рентабельности и данные о клинической значимости результатов\".\n",
    "\n",
    "Подтверждение эффективности определенного способа лечения требует серьезной, тщательной работы. Важную часть этой работы составляет знание о том, как анализировать рандомизированные контролируемые исследования. Узнав, как это делается, вы получили хорошие возможности помочь медицинским и другим специалистам в установлении причинно-следственных связей."
   ]
  },
  {
   "cell_type": "markdown",
   "metadata": {},
   "source": [
    "# Бутстрэп\n",
    "\n",
    "Специалист по анализу и обработке данных использует данные в случайной выборке для оценки неизвестного параметра. На основе выборки специалист по обработке и анализу данных вычисляет значение статистического критерия, который он будет использовать для оценки.\n",
    "\n",
    "Вычислив наблюдаемое значение статистического критерия, специалист по обработке и анализу данных сможет просто представить его как оценку и пойти дальше. Он знает, что случайная выборка — это только одна из многочисленных возможных случайных выборок, а значит, эта оценка только одна из многочисленных вероятных оценок.\n",
    "\n",
    "Насколько могут различаться эти оценки? Похоже, что для ответа на этот вопрос специалисту по обработке и анализу данных необходимо создать еще одну выборку из генеральной совокупности и вычислить новую оценку по этой выборке. Однако у него нет ресурсов для того, чтобы возвращаться к генеральной совокупности и делать еще одну выборку.\n",
    "\n",
    "Похоже, ничего не поделаешь.\n",
    "\n",
    "К счастью, способ решения этой задачи есть — это _бутстрэп_. Поскольку новые выборки из генеральной совокупности создать нельзя, бутстрэп генерирует случайные выборки методом, который называется перестановка: новые выборки образуются за счет случайной перекомпоновки исходной выборки.\n",
    "\n",
    "В этом разделе мы рассмотрим, как и почему работает бутстрэп. В оставшейся части этой главы мы будем применять бутстрэп для получения логических выводов.\n",
    "\n",
    "## Заработная плата муниципальных работников города Сан Франциско\n",
    "\n",
    "На веб-сайте San Francisco OpenData город и округ Сан-Франциско публикуют некоторые свои данные в открытом доступе. Один из наборов данных содержит данные о заработных платах муниципальных работников города. Они включают данные о заработной плате врачей в городских больницах, полицейских, пожарных, транспортных рабочих, выборных чиновников и всех остальных муниципальных работников города.\n",
    "\n",
    "Данные о заработной плате за 2015 календарный год представлены в таблице `sf2015`."
   ]
  },
  {
   "cell_type": "code",
   "execution_count": 313,
   "metadata": {},
   "outputs": [],
   "source": [
    "sf2015 = pd.read_csv('https://raw.githubusercontent.com/MicrosoftDocs/inferentialthinking/master/data/san_francisco_2015.csv')"
   ]
  },
  {
   "cell_type": "code",
   "execution_count": 314,
   "metadata": {},
   "outputs": [
    {
     "data": {
      "text/html": [
       "<div>\n",
       "<style scoped>\n",
       "    .dataframe tbody tr th:only-of-type {\n",
       "        vertical-align: middle;\n",
       "    }\n",
       "\n",
       "    .dataframe tbody tr th {\n",
       "        vertical-align: top;\n",
       "    }\n",
       "\n",
       "    .dataframe thead th {\n",
       "        text-align: right;\n",
       "    }\n",
       "</style>\n",
       "<table border=\"1\" class=\"dataframe\">\n",
       "  <thead>\n",
       "    <tr style=\"text-align: right;\">\n",
       "      <th></th>\n",
       "      <th>Year Type</th>\n",
       "      <th>Year</th>\n",
       "      <th>Organization Group Code</th>\n",
       "      <th>Organization Group</th>\n",
       "      <th>Department Code</th>\n",
       "      <th>Department</th>\n",
       "      <th>Union Code</th>\n",
       "      <th>Union</th>\n",
       "      <th>Job Family Code</th>\n",
       "      <th>Job Family</th>\n",
       "      <th>...</th>\n",
       "      <th>Employee Identifier</th>\n",
       "      <th>Salaries</th>\n",
       "      <th>Overtime</th>\n",
       "      <th>Other Salaries</th>\n",
       "      <th>Total Salary</th>\n",
       "      <th>Retirement</th>\n",
       "      <th>Health/Dental</th>\n",
       "      <th>Other Benefits</th>\n",
       "      <th>Total Benefits</th>\n",
       "      <th>Total Compensation</th>\n",
       "    </tr>\n",
       "  </thead>\n",
       "  <tbody>\n",
       "    <tr>\n",
       "      <th>0</th>\n",
       "      <td>Calendar</td>\n",
       "      <td>2015</td>\n",
       "      <td>2</td>\n",
       "      <td>Public Works, Transportation &amp; Commerce</td>\n",
       "      <td>WTR</td>\n",
       "      <td>PUC Water Department</td>\n",
       "      <td>21.0</td>\n",
       "      <td>Prof &amp; Tech Engineers - Miscellaneous, Local 21</td>\n",
       "      <td>2400</td>\n",
       "      <td>Lab, Pharmacy &amp; Med Techs</td>\n",
       "      <td>...</td>\n",
       "      <td>21538</td>\n",
       "      <td>82146.04</td>\n",
       "      <td>0.00</td>\n",
       "      <td>0.00</td>\n",
       "      <td>82146.04</td>\n",
       "      <td>16942.21</td>\n",
       "      <td>12340.88</td>\n",
       "      <td>6337.73</td>\n",
       "      <td>35620.82</td>\n",
       "      <td>117766.86</td>\n",
       "    </tr>\n",
       "    <tr>\n",
       "      <th>1</th>\n",
       "      <td>Calendar</td>\n",
       "      <td>2015</td>\n",
       "      <td>2</td>\n",
       "      <td>Public Works, Transportation &amp; Commerce</td>\n",
       "      <td>DPW</td>\n",
       "      <td>General Services Agency - Public Works</td>\n",
       "      <td>12.0</td>\n",
       "      <td>Carpet, Linoleum and Soft Tile Workers, Local 12</td>\n",
       "      <td>7300</td>\n",
       "      <td>Journeyman Trade</td>\n",
       "      <td>...</td>\n",
       "      <td>5459</td>\n",
       "      <td>32165.75</td>\n",
       "      <td>973.19</td>\n",
       "      <td>848.96</td>\n",
       "      <td>33987.90</td>\n",
       "      <td>0.00</td>\n",
       "      <td>4587.51</td>\n",
       "      <td>2634.42</td>\n",
       "      <td>7221.93</td>\n",
       "      <td>41209.83</td>\n",
       "    </tr>\n",
       "    <tr>\n",
       "      <th>2</th>\n",
       "      <td>Calendar</td>\n",
       "      <td>2015</td>\n",
       "      <td>4</td>\n",
       "      <td>Community Health</td>\n",
       "      <td>DPH</td>\n",
       "      <td>Public Health</td>\n",
       "      <td>790.0</td>\n",
       "      <td>SEIU - Miscellaneous, Local 1021</td>\n",
       "      <td>1600</td>\n",
       "      <td>Payroll, Billing &amp; Accounting</td>\n",
       "      <td>...</td>\n",
       "      <td>41541</td>\n",
       "      <td>71311.00</td>\n",
       "      <td>5757.98</td>\n",
       "      <td>0.00</td>\n",
       "      <td>77068.98</td>\n",
       "      <td>14697.59</td>\n",
       "      <td>12424.50</td>\n",
       "      <td>6370.06</td>\n",
       "      <td>33492.15</td>\n",
       "      <td>110561.13</td>\n",
       "    </tr>\n",
       "    <tr>\n",
       "      <th>3</th>\n",
       "      <td>Calendar</td>\n",
       "      <td>2015</td>\n",
       "      <td>4</td>\n",
       "      <td>Community Health</td>\n",
       "      <td>DPH</td>\n",
       "      <td>Public Health</td>\n",
       "      <td>351.0</td>\n",
       "      <td>Municipal Executive Association - Miscellaneous</td>\n",
       "      <td>0900</td>\n",
       "      <td>Management</td>\n",
       "      <td>...</td>\n",
       "      <td>26718</td>\n",
       "      <td>28430.25</td>\n",
       "      <td>0.00</td>\n",
       "      <td>763.07</td>\n",
       "      <td>29193.32</td>\n",
       "      <td>0.00</td>\n",
       "      <td>4223.14</td>\n",
       "      <td>5208.51</td>\n",
       "      <td>9431.65</td>\n",
       "      <td>38624.97</td>\n",
       "    </tr>\n",
       "    <tr>\n",
       "      <th>4</th>\n",
       "      <td>Calendar</td>\n",
       "      <td>2015</td>\n",
       "      <td>2</td>\n",
       "      <td>Public Works, Transportation &amp; Commerce</td>\n",
       "      <td>MTA</td>\n",
       "      <td>Municipal Transportation Agency</td>\n",
       "      <td>790.0</td>\n",
       "      <td>SEIU - Miscellaneous, Local 1021</td>\n",
       "      <td>8200</td>\n",
       "      <td>Protection &amp; Apprehension</td>\n",
       "      <td>...</td>\n",
       "      <td>45810</td>\n",
       "      <td>7948.75</td>\n",
       "      <td>0.00</td>\n",
       "      <td>0.00</td>\n",
       "      <td>7948.75</td>\n",
       "      <td>0.00</td>\n",
       "      <td>2873.17</td>\n",
       "      <td>616.24</td>\n",
       "      <td>3489.41</td>\n",
       "      <td>11438.16</td>\n",
       "    </tr>\n",
       "  </tbody>\n",
       "</table>\n",
       "<p>5 rows × 22 columns</p>\n",
       "</div>"
      ],
      "text/plain": [
       "  Year Type  Year  Organization Group Code  \\\n",
       "0  Calendar  2015                        2   \n",
       "1  Calendar  2015                        2   \n",
       "2  Calendar  2015                        4   \n",
       "3  Calendar  2015                        4   \n",
       "4  Calendar  2015                        2   \n",
       "\n",
       "                        Organization Group Department Code  \\\n",
       "0  Public Works, Transportation & Commerce             WTR   \n",
       "1  Public Works, Transportation & Commerce             DPW   \n",
       "2                         Community Health             DPH   \n",
       "3                         Community Health             DPH   \n",
       "4  Public Works, Transportation & Commerce             MTA   \n",
       "\n",
       "                               Department  Union Code  \\\n",
       "0                    PUC Water Department        21.0   \n",
       "1  General Services Agency - Public Works        12.0   \n",
       "2                           Public Health       790.0   \n",
       "3                           Public Health       351.0   \n",
       "4         Municipal Transportation Agency       790.0   \n",
       "\n",
       "                                              Union Job Family Code  \\\n",
       "0   Prof & Tech Engineers - Miscellaneous, Local 21            2400   \n",
       "1  Carpet, Linoleum and Soft Tile Workers, Local 12            7300   \n",
       "2                  SEIU - Miscellaneous, Local 1021            1600   \n",
       "3   Municipal Executive Association - Miscellaneous            0900   \n",
       "4                  SEIU - Miscellaneous, Local 1021            8200   \n",
       "\n",
       "                      Job Family  ... Employee Identifier  Salaries  Overtime  \\\n",
       "0      Lab, Pharmacy & Med Techs  ...               21538  82146.04      0.00   \n",
       "1               Journeyman Trade  ...                5459  32165.75    973.19   \n",
       "2  Payroll, Billing & Accounting  ...               41541  71311.00   5757.98   \n",
       "3                     Management  ...               26718  28430.25      0.00   \n",
       "4      Protection & Apprehension  ...               45810   7948.75      0.00   \n",
       "\n",
       "   Other Salaries  Total Salary  Retirement  Health/Dental  Other Benefits  \\\n",
       "0            0.00      82146.04    16942.21       12340.88         6337.73   \n",
       "1          848.96      33987.90        0.00        4587.51         2634.42   \n",
       "2            0.00      77068.98    14697.59       12424.50         6370.06   \n",
       "3          763.07      29193.32        0.00        4223.14         5208.51   \n",
       "4            0.00       7948.75        0.00        2873.17          616.24   \n",
       "\n",
       "   Total Benefits  Total Compensation  \n",
       "0        35620.82           117766.86  \n",
       "1         7221.93            41209.83  \n",
       "2        33492.15           110561.13  \n",
       "3         9431.65            38624.97  \n",
       "4         3489.41            11438.16  \n",
       "\n",
       "[5 rows x 22 columns]"
      ]
     },
     "execution_count": 314,
     "metadata": {},
     "output_type": "execute_result"
    }
   ],
   "source": [
    "sf2015.head()"
   ]
  },
  {
   "cell_type": "markdown",
   "metadata": {},
   "source": [
    "В таблице 42 979 строк, по одной на каждого наемного работника. Многочисленные столбцы содержат информацию о принадлежности к тому или иному городскому департаменту и различных компонентах, из которых складывается заработная плата работника. Ниже показана строка, соответствующая ныне покойному Эдварду Ли (Edward Lee), который в тот год был мэром."
   ]
  },
  {
   "cell_type": "code",
   "execution_count": 319,
   "metadata": {},
   "outputs": [
    {
     "data": {
      "text/html": [
       "<div>\n",
       "<style scoped>\n",
       "    .dataframe tbody tr th:only-of-type {\n",
       "        vertical-align: middle;\n",
       "    }\n",
       "\n",
       "    .dataframe tbody tr th {\n",
       "        vertical-align: top;\n",
       "    }\n",
       "\n",
       "    .dataframe thead th {\n",
       "        text-align: right;\n",
       "    }\n",
       "</style>\n",
       "<table border=\"1\" class=\"dataframe\">\n",
       "  <thead>\n",
       "    <tr style=\"text-align: right;\">\n",
       "      <th></th>\n",
       "      <th>Year Type</th>\n",
       "      <th>Year</th>\n",
       "      <th>Organization Group Code</th>\n",
       "      <th>Organization Group</th>\n",
       "      <th>Department Code</th>\n",
       "      <th>Department</th>\n",
       "      <th>Union Code</th>\n",
       "      <th>Union</th>\n",
       "      <th>Job Family Code</th>\n",
       "      <th>Job Family</th>\n",
       "      <th>...</th>\n",
       "      <th>Employee Identifier</th>\n",
       "      <th>Salaries</th>\n",
       "      <th>Overtime</th>\n",
       "      <th>Other Salaries</th>\n",
       "      <th>Total Salary</th>\n",
       "      <th>Retirement</th>\n",
       "      <th>Health/Dental</th>\n",
       "      <th>Other Benefits</th>\n",
       "      <th>Total Benefits</th>\n",
       "      <th>Total Compensation</th>\n",
       "    </tr>\n",
       "  </thead>\n",
       "  <tbody>\n",
       "    <tr>\n",
       "      <th>3335</th>\n",
       "      <td>Calendar</td>\n",
       "      <td>2015</td>\n",
       "      <td>6</td>\n",
       "      <td>General Administration &amp; Finance</td>\n",
       "      <td>MYR</td>\n",
       "      <td>Mayor</td>\n",
       "      <td>556.0</td>\n",
       "      <td>Elected Officials</td>\n",
       "      <td>1100</td>\n",
       "      <td>Administrative &amp; Mgmt (Unrep)</td>\n",
       "      <td>...</td>\n",
       "      <td>22433</td>\n",
       "      <td>288963.55</td>\n",
       "      <td>0.0</td>\n",
       "      <td>0.0</td>\n",
       "      <td>288963.55</td>\n",
       "      <td>58117.03</td>\n",
       "      <td>12424.5</td>\n",
       "      <td>20292.95</td>\n",
       "      <td>90834.48</td>\n",
       "      <td>379798.03</td>\n",
       "    </tr>\n",
       "  </tbody>\n",
       "</table>\n",
       "<p>1 rows × 22 columns</p>\n",
       "</div>"
      ],
      "text/plain": [
       "     Year Type  Year  Organization Group Code  \\\n",
       "3335  Calendar  2015                        6   \n",
       "\n",
       "                    Organization Group Department Code Department  Union Code  \\\n",
       "3335  General Administration & Finance             MYR      Mayor       556.0   \n",
       "\n",
       "                  Union Job Family Code                     Job Family  ...  \\\n",
       "3335  Elected Officials            1100  Administrative & Mgmt (Unrep)  ...   \n",
       "\n",
       "     Employee Identifier   Salaries  Overtime  Other Salaries  Total Salary  \\\n",
       "3335               22433  288963.55       0.0             0.0     288963.55   \n",
       "\n",
       "      Retirement  Health/Dental  Other Benefits  Total Benefits  \\\n",
       "3335    58117.03        12424.5        20292.95        90834.48   \n",
       "\n",
       "      Total Compensation  \n",
       "3335           379798.03  \n",
       "\n",
       "[1 rows x 22 columns]"
      ]
     },
     "execution_count": 319,
     "metadata": {},
     "output_type": "execute_result"
    }
   ],
   "source": [
    "sf2015[sf2015.Job == 'Mayor']"
   ]
  },
  {
   "cell_type": "markdown",
   "metadata": {},
   "source": [
    "Нас интересует последний столбец — `Total Compensation`. Это заработная плата работника плюс вклад города в его пенсионное и социальное обеспечение.\n",
    "\n",
    "Разобраться в финансовых пакетах за календарный год может быть непросто — они зависят от даты найма, перехода на другую должность в пределах города и т. д. Например, наименьшие значения столбце в `Total Compensation` выглядят странновато."
   ]
  },
  {
   "cell_type": "code",
   "execution_count": 322,
   "metadata": {},
   "outputs": [
    {
     "data": {
      "text/html": [
       "<div>\n",
       "<style scoped>\n",
       "    .dataframe tbody tr th:only-of-type {\n",
       "        vertical-align: middle;\n",
       "    }\n",
       "\n",
       "    .dataframe tbody tr th {\n",
       "        vertical-align: top;\n",
       "    }\n",
       "\n",
       "    .dataframe thead th {\n",
       "        text-align: right;\n",
       "    }\n",
       "</style>\n",
       "<table border=\"1\" class=\"dataframe\">\n",
       "  <thead>\n",
       "    <tr style=\"text-align: right;\">\n",
       "      <th></th>\n",
       "      <th>Year Type</th>\n",
       "      <th>Year</th>\n",
       "      <th>Organization Group Code</th>\n",
       "      <th>Organization Group</th>\n",
       "      <th>Department Code</th>\n",
       "      <th>Department</th>\n",
       "      <th>Union Code</th>\n",
       "      <th>Union</th>\n",
       "      <th>Job Family Code</th>\n",
       "      <th>Job Family</th>\n",
       "      <th>...</th>\n",
       "      <th>Employee Identifier</th>\n",
       "      <th>Salaries</th>\n",
       "      <th>Overtime</th>\n",
       "      <th>Other Salaries</th>\n",
       "      <th>Total Salary</th>\n",
       "      <th>Retirement</th>\n",
       "      <th>Health/Dental</th>\n",
       "      <th>Other Benefits</th>\n",
       "      <th>Total Benefits</th>\n",
       "      <th>Total Compensation</th>\n",
       "    </tr>\n",
       "  </thead>\n",
       "  <tbody>\n",
       "    <tr>\n",
       "      <th>27308</th>\n",
       "      <td>Calendar</td>\n",
       "      <td>2015</td>\n",
       "      <td>1</td>\n",
       "      <td>Public Protection</td>\n",
       "      <td>FIR</td>\n",
       "      <td>Fire Department</td>\n",
       "      <td>798.0</td>\n",
       "      <td>Firefighters - Miscellaneous, Local 798</td>\n",
       "      <td>H000</td>\n",
       "      <td>Fire Services</td>\n",
       "      <td>...</td>\n",
       "      <td>43833</td>\n",
       "      <td>0.00</td>\n",
       "      <td>0.00</td>\n",
       "      <td>0.00</td>\n",
       "      <td>0.00</td>\n",
       "      <td>0.00</td>\n",
       "      <td>0.00</td>\n",
       "      <td>-423.76</td>\n",
       "      <td>-423.76</td>\n",
       "      <td>-423.76</td>\n",
       "    </tr>\n",
       "    <tr>\n",
       "      <th>15746</th>\n",
       "      <td>Calendar</td>\n",
       "      <td>2015</td>\n",
       "      <td>4</td>\n",
       "      <td>Community Health</td>\n",
       "      <td>DPH</td>\n",
       "      <td>Public Health</td>\n",
       "      <td>790.0</td>\n",
       "      <td>SEIU - Miscellaneous, Local 1021</td>\n",
       "      <td>9900</td>\n",
       "      <td>Public Service Aide</td>\n",
       "      <td>...</td>\n",
       "      <td>27871</td>\n",
       "      <td>-292.40</td>\n",
       "      <td>0.00</td>\n",
       "      <td>0.00</td>\n",
       "      <td>-292.40</td>\n",
       "      <td>0.00</td>\n",
       "      <td>-95.58</td>\n",
       "      <td>-22.63</td>\n",
       "      <td>-118.21</td>\n",
       "      <td>-410.61</td>\n",
       "    </tr>\n",
       "    <tr>\n",
       "      <th>24576</th>\n",
       "      <td>Calendar</td>\n",
       "      <td>2015</td>\n",
       "      <td>1</td>\n",
       "      <td>Public Protection</td>\n",
       "      <td>JUV</td>\n",
       "      <td>Juvenile Probation</td>\n",
       "      <td>790.0</td>\n",
       "      <td>SEIU - Miscellaneous, Local 1021</td>\n",
       "      <td>8300</td>\n",
       "      <td>Correction &amp; Detention</td>\n",
       "      <td>...</td>\n",
       "      <td>10517</td>\n",
       "      <td>0.00</td>\n",
       "      <td>0.00</td>\n",
       "      <td>0.00</td>\n",
       "      <td>0.00</td>\n",
       "      <td>0.00</td>\n",
       "      <td>0.00</td>\n",
       "      <td>-159.12</td>\n",
       "      <td>-159.12</td>\n",
       "      <td>-159.12</td>\n",
       "    </tr>\n",
       "    <tr>\n",
       "      <th>42982</th>\n",
       "      <td>Calendar</td>\n",
       "      <td>2015</td>\n",
       "      <td>6</td>\n",
       "      <td>General Administration &amp; Finance</td>\n",
       "      <td>CPC</td>\n",
       "      <td>City Planning</td>\n",
       "      <td>21.0</td>\n",
       "      <td>Prof &amp; Tech Engineers - Miscellaneous, Local 21</td>\n",
       "      <td>1000</td>\n",
       "      <td>Information Systems</td>\n",
       "      <td>...</td>\n",
       "      <td>18961</td>\n",
       "      <td>0.00</td>\n",
       "      <td>0.00</td>\n",
       "      <td>0.00</td>\n",
       "      <td>0.00</td>\n",
       "      <td>0.00</td>\n",
       "      <td>0.00</td>\n",
       "      <td>-26.53</td>\n",
       "      <td>-26.53</td>\n",
       "      <td>-26.53</td>\n",
       "    </tr>\n",
       "    <tr>\n",
       "      <th>23310</th>\n",
       "      <td>Calendar</td>\n",
       "      <td>2015</td>\n",
       "      <td>6</td>\n",
       "      <td>General Administration &amp; Finance</td>\n",
       "      <td>CPC</td>\n",
       "      <td>City Planning</td>\n",
       "      <td>21.0</td>\n",
       "      <td>Prof &amp; Tech Engineers - Miscellaneous, Local 21</td>\n",
       "      <td>5200</td>\n",
       "      <td>Professional Engineering</td>\n",
       "      <td>...</td>\n",
       "      <td>19387</td>\n",
       "      <td>0.00</td>\n",
       "      <td>0.00</td>\n",
       "      <td>0.00</td>\n",
       "      <td>0.00</td>\n",
       "      <td>0.00</td>\n",
       "      <td>0.00</td>\n",
       "      <td>-9.51</td>\n",
       "      <td>-9.51</td>\n",
       "      <td>-9.51</td>\n",
       "    </tr>\n",
       "    <tr>\n",
       "      <th>...</th>\n",
       "      <td>...</td>\n",
       "      <td>...</td>\n",
       "      <td>...</td>\n",
       "      <td>...</td>\n",
       "      <td>...</td>\n",
       "      <td>...</td>\n",
       "      <td>...</td>\n",
       "      <td>...</td>\n",
       "      <td>...</td>\n",
       "      <td>...</td>\n",
       "      <td>...</td>\n",
       "      <td>...</td>\n",
       "      <td>...</td>\n",
       "      <td>...</td>\n",
       "      <td>...</td>\n",
       "      <td>...</td>\n",
       "      <td>...</td>\n",
       "      <td>...</td>\n",
       "      <td>...</td>\n",
       "      <td>...</td>\n",
       "      <td>...</td>\n",
       "    </tr>\n",
       "    <tr>\n",
       "      <th>5171</th>\n",
       "      <td>Calendar</td>\n",
       "      <td>2015</td>\n",
       "      <td>4</td>\n",
       "      <td>Community Health</td>\n",
       "      <td>DPH</td>\n",
       "      <td>Public Health</td>\n",
       "      <td>351.0</td>\n",
       "      <td>Municipal Executive Association - Miscellaneous</td>\n",
       "      <td>0900</td>\n",
       "      <td>Management</td>\n",
       "      <td>...</td>\n",
       "      <td>1523</td>\n",
       "      <td>256098.01</td>\n",
       "      <td>0.00</td>\n",
       "      <td>82292.31</td>\n",
       "      <td>338390.32</td>\n",
       "      <td>51977.53</td>\n",
       "      <td>11468.77</td>\n",
       "      <td>20963.32</td>\n",
       "      <td>84409.62</td>\n",
       "      <td>422799.94</td>\n",
       "    </tr>\n",
       "    <tr>\n",
       "      <th>17805</th>\n",
       "      <td>Calendar</td>\n",
       "      <td>2015</td>\n",
       "      <td>2</td>\n",
       "      <td>Public Works, Transportation &amp; Commerce</td>\n",
       "      <td>AIR</td>\n",
       "      <td>Airport Commission</td>\n",
       "      <td>351.0</td>\n",
       "      <td>Municipal Executive Association - Miscellaneous</td>\n",
       "      <td>0900</td>\n",
       "      <td>Management</td>\n",
       "      <td>...</td>\n",
       "      <td>17356</td>\n",
       "      <td>326764.01</td>\n",
       "      <td>0.00</td>\n",
       "      <td>0.00</td>\n",
       "      <td>326764.01</td>\n",
       "      <td>65806.33</td>\n",
       "      <td>12424.50</td>\n",
       "      <td>21691.23</td>\n",
       "      <td>99922.06</td>\n",
       "      <td>426686.07</td>\n",
       "    </tr>\n",
       "    <tr>\n",
       "      <th>499</th>\n",
       "      <td>Calendar</td>\n",
       "      <td>2015</td>\n",
       "      <td>6</td>\n",
       "      <td>General Administration &amp; Finance</td>\n",
       "      <td>ADM</td>\n",
       "      <td>General Services Agency - City Admin</td>\n",
       "      <td>164.0</td>\n",
       "      <td>Physicians and Dentists - Miscellaneous</td>\n",
       "      <td>2500</td>\n",
       "      <td>Med Therapy &amp; Auxiliary</td>\n",
       "      <td>...</td>\n",
       "      <td>13746</td>\n",
       "      <td>279311.03</td>\n",
       "      <td>9046.92</td>\n",
       "      <td>56742.56</td>\n",
       "      <td>345100.51</td>\n",
       "      <td>56211.61</td>\n",
       "      <td>12424.50</td>\n",
       "      <td>13482.66</td>\n",
       "      <td>82118.77</td>\n",
       "      <td>427219.28</td>\n",
       "    </tr>\n",
       "    <tr>\n",
       "      <th>13194</th>\n",
       "      <td>Calendar</td>\n",
       "      <td>2015</td>\n",
       "      <td>6</td>\n",
       "      <td>General Administration &amp; Finance</td>\n",
       "      <td>ADM</td>\n",
       "      <td>General Services Agency - City Admin</td>\n",
       "      <td>164.0</td>\n",
       "      <td>Physicians and Dentists - Miscellaneous</td>\n",
       "      <td>2500</td>\n",
       "      <td>Med Therapy &amp; Auxiliary</td>\n",
       "      <td>...</td>\n",
       "      <td>1016</td>\n",
       "      <td>279311.10</td>\n",
       "      <td>3829.36</td>\n",
       "      <td>114433.58</td>\n",
       "      <td>397574.04</td>\n",
       "      <td>56211.64</td>\n",
       "      <td>12424.50</td>\n",
       "      <td>14299.10</td>\n",
       "      <td>82935.24</td>\n",
       "      <td>480509.28</td>\n",
       "    </tr>\n",
       "    <tr>\n",
       "      <th>19177</th>\n",
       "      <td>Calendar</td>\n",
       "      <td>2015</td>\n",
       "      <td>6</td>\n",
       "      <td>General Administration &amp; Finance</td>\n",
       "      <td>RET</td>\n",
       "      <td>Retirement System</td>\n",
       "      <td>351.0</td>\n",
       "      <td>Municipal Executive Association - Miscellaneous</td>\n",
       "      <td>1100</td>\n",
       "      <td>Administrative &amp; Mgmt (Unrep)</td>\n",
       "      <td>...</td>\n",
       "      <td>46881</td>\n",
       "      <td>507831.60</td>\n",
       "      <td>0.00</td>\n",
       "      <td>0.00</td>\n",
       "      <td>507831.60</td>\n",
       "      <td>105052.98</td>\n",
       "      <td>12424.50</td>\n",
       "      <td>23566.16</td>\n",
       "      <td>141043.64</td>\n",
       "      <td>648875.24</td>\n",
       "    </tr>\n",
       "  </tbody>\n",
       "</table>\n",
       "<p>42989 rows × 22 columns</p>\n",
       "</div>"
      ],
      "text/plain": [
       "      Year Type  Year  Organization Group Code  \\\n",
       "27308  Calendar  2015                        1   \n",
       "15746  Calendar  2015                        4   \n",
       "24576  Calendar  2015                        1   \n",
       "42982  Calendar  2015                        6   \n",
       "23310  Calendar  2015                        6   \n",
       "...         ...   ...                      ...   \n",
       "5171   Calendar  2015                        4   \n",
       "17805  Calendar  2015                        2   \n",
       "499    Calendar  2015                        6   \n",
       "13194  Calendar  2015                        6   \n",
       "19177  Calendar  2015                        6   \n",
       "\n",
       "                            Organization Group Department Code  \\\n",
       "27308                        Public Protection             FIR   \n",
       "15746                         Community Health             DPH   \n",
       "24576                        Public Protection             JUV   \n",
       "42982         General Administration & Finance             CPC   \n",
       "23310         General Administration & Finance             CPC   \n",
       "...                                        ...             ...   \n",
       "5171                          Community Health             DPH   \n",
       "17805  Public Works, Transportation & Commerce             AIR   \n",
       "499           General Administration & Finance             ADM   \n",
       "13194         General Administration & Finance             ADM   \n",
       "19177         General Administration & Finance             RET   \n",
       "\n",
       "                                 Department  Union Code  \\\n",
       "27308                       Fire Department       798.0   \n",
       "15746                         Public Health       790.0   \n",
       "24576                    Juvenile Probation       790.0   \n",
       "42982                         City Planning        21.0   \n",
       "23310                         City Planning        21.0   \n",
       "...                                     ...         ...   \n",
       "5171                          Public Health       351.0   \n",
       "17805                    Airport Commission       351.0   \n",
       "499    General Services Agency - City Admin       164.0   \n",
       "13194  General Services Agency - City Admin       164.0   \n",
       "19177                     Retirement System       351.0   \n",
       "\n",
       "                                                 Union Job Family Code  \\\n",
       "27308          Firefighters - Miscellaneous, Local 798            H000   \n",
       "15746                 SEIU - Miscellaneous, Local 1021            9900   \n",
       "24576                 SEIU - Miscellaneous, Local 1021            8300   \n",
       "42982  Prof & Tech Engineers - Miscellaneous, Local 21            1000   \n",
       "23310  Prof & Tech Engineers - Miscellaneous, Local 21            5200   \n",
       "...                                                ...             ...   \n",
       "5171   Municipal Executive Association - Miscellaneous            0900   \n",
       "17805  Municipal Executive Association - Miscellaneous            0900   \n",
       "499            Physicians and Dentists - Miscellaneous            2500   \n",
       "13194          Physicians and Dentists - Miscellaneous            2500   \n",
       "19177  Municipal Executive Association - Miscellaneous            1100   \n",
       "\n",
       "                          Job Family  ... Employee Identifier   Salaries  \\\n",
       "27308                  Fire Services  ...               43833       0.00   \n",
       "15746            Public Service Aide  ...               27871    -292.40   \n",
       "24576         Correction & Detention  ...               10517       0.00   \n",
       "42982            Information Systems  ...               18961       0.00   \n",
       "23310       Professional Engineering  ...               19387       0.00   \n",
       "...                              ...  ...                 ...        ...   \n",
       "5171                      Management  ...                1523  256098.01   \n",
       "17805                     Management  ...               17356  326764.01   \n",
       "499          Med Therapy & Auxiliary  ...               13746  279311.03   \n",
       "13194        Med Therapy & Auxiliary  ...                1016  279311.10   \n",
       "19177  Administrative & Mgmt (Unrep)  ...               46881  507831.60   \n",
       "\n",
       "       Overtime  Other Salaries  Total Salary  Retirement  Health/Dental  \\\n",
       "27308      0.00            0.00          0.00        0.00           0.00   \n",
       "15746      0.00            0.00       -292.40        0.00         -95.58   \n",
       "24576      0.00            0.00          0.00        0.00           0.00   \n",
       "42982      0.00            0.00          0.00        0.00           0.00   \n",
       "23310      0.00            0.00          0.00        0.00           0.00   \n",
       "...         ...             ...           ...         ...            ...   \n",
       "5171       0.00        82292.31     338390.32    51977.53       11468.77   \n",
       "17805      0.00            0.00     326764.01    65806.33       12424.50   \n",
       "499     9046.92        56742.56     345100.51    56211.61       12424.50   \n",
       "13194   3829.36       114433.58     397574.04    56211.64       12424.50   \n",
       "19177      0.00            0.00     507831.60   105052.98       12424.50   \n",
       "\n",
       "       Other Benefits  Total Benefits  Total Compensation  \n",
       "27308         -423.76         -423.76             -423.76  \n",
       "15746          -22.63         -118.21             -410.61  \n",
       "24576         -159.12         -159.12             -159.12  \n",
       "42982          -26.53          -26.53              -26.53  \n",
       "23310           -9.51           -9.51               -9.51  \n",
       "...               ...             ...                 ...  \n",
       "5171         20963.32        84409.62           422799.94  \n",
       "17805        21691.23        99922.06           426686.07  \n",
       "499          13482.66        82118.77           427219.28  \n",
       "13194        14299.10        82935.24           480509.28  \n",
       "19177        23566.16       141043.64           648875.24  \n",
       "\n",
       "[42989 rows x 22 columns]"
      ]
     },
     "execution_count": 322,
     "metadata": {},
     "output_type": "execute_result"
    }
   ],
   "source": [
    "sf2015.sort_values(by='Total Compensation')"
   ]
  },
  {
   "cell_type": "markdown",
   "metadata": {},
   "source": [
    "Для простоты сравнения мы сосредоточимся только на тех, кто работал хотя бы неполный рабочий день в течение всего года. При минимальной заработной плате около 10 долл. в час и 20 часах работы в неделю в течение 52 недель заработная плата составит 10 000 долл."
   ]
  },
  {
   "cell_type": "code",
   "execution_count": 326,
   "metadata": {},
   "outputs": [],
   "source": [
    "sf2015 = sf2015.query('Salaries > 10000')"
   ]
  },
  {
   "cell_type": "markdown",
   "metadata": {},
   "source": [
    "## Генеральная совокупность и параметр\n",
    "\n",
    "Пусть эта таблица из 36 500 с небольшим строк будет нашей генеральной совокупностью. Построим гистограмму общих сумм заработной платы."
   ]
  },
  {
   "cell_type": "code",
   "execution_count": 331,
   "metadata": {},
   "outputs": [
    {
     "data": {
      "image/png": "[encoded data removed]",
      "text/plain": [
       "<Figure size 432x288 with 1 Axes>"
      ]
     },
     "metadata": {
      "needs_background": "light"
     },
     "output_type": "display_data"
    }
   ],
   "source": [
    "sf_bins = np.arange(0, 700000, 25000)\n",
    "sf2015.filter(['Total Compensation']).hist(bins=sf_bins, alpha=.5);"
   ]
  },
  {
   "cell_type": "markdown",
   "metadata": {},
   "source": [
    "Хотя большая часть значений меньше 300 000 долл., некоторые из них ощутимо выше. Например, общая сумма заработной платы директора по инвестициям составляет почти 650 000 долл. Именно поэтому горизонтальная ось доходит до 700 000 долл."
   ]
  },
  {
   "cell_type": "code",
   "execution_count": 333,
   "metadata": {},
   "outputs": [],
   "source": [
    "sf2015.sort_values?"
   ]
  },
  {
   "cell_type": "code",
   "execution_count": 334,
   "metadata": {},
   "outputs": [
    {
     "data": {
      "text/html": [
       "<div>\n",
       "<style scoped>\n",
       "    .dataframe tbody tr th:only-of-type {\n",
       "        vertical-align: middle;\n",
       "    }\n",
       "\n",
       "    .dataframe tbody tr th {\n",
       "        vertical-align: top;\n",
       "    }\n",
       "\n",
       "    .dataframe thead th {\n",
       "        text-align: right;\n",
       "    }\n",
       "</style>\n",
       "<table border=\"1\" class=\"dataframe\">\n",
       "  <thead>\n",
       "    <tr style=\"text-align: right;\">\n",
       "      <th></th>\n",
       "      <th>Year Type</th>\n",
       "      <th>Year</th>\n",
       "      <th>Organization Group Code</th>\n",
       "      <th>Organization Group</th>\n",
       "      <th>Department Code</th>\n",
       "      <th>Department</th>\n",
       "      <th>Union Code</th>\n",
       "      <th>Union</th>\n",
       "      <th>Job Family Code</th>\n",
       "      <th>Job Family</th>\n",
       "      <th>...</th>\n",
       "      <th>Employee Identifier</th>\n",
       "      <th>Salaries</th>\n",
       "      <th>Overtime</th>\n",
       "      <th>Other Salaries</th>\n",
       "      <th>Total Salary</th>\n",
       "      <th>Retirement</th>\n",
       "      <th>Health/Dental</th>\n",
       "      <th>Other Benefits</th>\n",
       "      <th>Total Benefits</th>\n",
       "      <th>Total Compensation</th>\n",
       "    </tr>\n",
       "  </thead>\n",
       "  <tbody>\n",
       "    <tr>\n",
       "      <th>19177</th>\n",
       "      <td>Calendar</td>\n",
       "      <td>2015</td>\n",
       "      <td>6</td>\n",
       "      <td>General Administration &amp; Finance</td>\n",
       "      <td>RET</td>\n",
       "      <td>Retirement System</td>\n",
       "      <td>351.0</td>\n",
       "      <td>Municipal Executive Association - Miscellaneous</td>\n",
       "      <td>1100</td>\n",
       "      <td>Administrative &amp; Mgmt (Unrep)</td>\n",
       "      <td>...</td>\n",
       "      <td>46881</td>\n",
       "      <td>507831.6</td>\n",
       "      <td>0.00</td>\n",
       "      <td>0.00</td>\n",
       "      <td>507831.60</td>\n",
       "      <td>105052.98</td>\n",
       "      <td>12424.5</td>\n",
       "      <td>23566.16</td>\n",
       "      <td>141043.64</td>\n",
       "      <td>648875.24</td>\n",
       "    </tr>\n",
       "    <tr>\n",
       "      <th>13194</th>\n",
       "      <td>Calendar</td>\n",
       "      <td>2015</td>\n",
       "      <td>6</td>\n",
       "      <td>General Administration &amp; Finance</td>\n",
       "      <td>ADM</td>\n",
       "      <td>General Services Agency - City Admin</td>\n",
       "      <td>164.0</td>\n",
       "      <td>Physicians and Dentists - Miscellaneous</td>\n",
       "      <td>2500</td>\n",
       "      <td>Med Therapy &amp; Auxiliary</td>\n",
       "      <td>...</td>\n",
       "      <td>1016</td>\n",
       "      <td>279311.1</td>\n",
       "      <td>3829.36</td>\n",
       "      <td>114433.58</td>\n",
       "      <td>397574.04</td>\n",
       "      <td>56211.64</td>\n",
       "      <td>12424.5</td>\n",
       "      <td>14299.10</td>\n",
       "      <td>82935.24</td>\n",
       "      <td>480509.28</td>\n",
       "    </tr>\n",
       "  </tbody>\n",
       "</table>\n",
       "<p>2 rows × 22 columns</p>\n",
       "</div>"
      ],
      "text/plain": [
       "      Year Type  Year  Organization Group Code  \\\n",
       "19177  Calendar  2015                        6   \n",
       "13194  Calendar  2015                        6   \n",
       "\n",
       "                     Organization Group Department Code  \\\n",
       "19177  General Administration & Finance             RET   \n",
       "13194  General Administration & Finance             ADM   \n",
       "\n",
       "                                 Department  Union Code  \\\n",
       "19177                     Retirement System       351.0   \n",
       "13194  General Services Agency - City Admin       164.0   \n",
       "\n",
       "                                                 Union Job Family Code  \\\n",
       "19177  Municipal Executive Association - Miscellaneous            1100   \n",
       "13194          Physicians and Dentists - Miscellaneous            2500   \n",
       "\n",
       "                          Job Family  ... Employee Identifier  Salaries  \\\n",
       "19177  Administrative & Mgmt (Unrep)  ...               46881  507831.6   \n",
       "13194        Med Therapy & Auxiliary  ...                1016  279311.1   \n",
       "\n",
       "       Overtime  Other Salaries  Total Salary  Retirement  Health/Dental  \\\n",
       "19177      0.00            0.00     507831.60   105052.98        12424.5   \n",
       "13194   3829.36       114433.58     397574.04    56211.64        12424.5   \n",
       "\n",
       "       Other Benefits  Total Benefits  Total Compensation  \n",
       "19177        23566.16       141043.64           648875.24  \n",
       "13194        14299.10        82935.24           480509.28  \n",
       "\n",
       "[2 rows x 22 columns]"
      ]
     },
     "execution_count": 334,
     "metadata": {},
     "output_type": "execute_result"
    }
   ],
   "source": [
    "sf2015.sort_values(by='Total Compensation', ascending=False)[:2]"
   ]
  },
  {
   "cell_type": "markdown",
   "metadata": {},
   "source": [
    "За параметр примем медиану общих сумм заработной платы.\n",
    "\n",
    "Поскольку нам повезло и у нас есть данные по всей генеральной совокупности, мы можем его вычислить:"
   ]
  },
  {
   "cell_type": "code",
   "execution_count": 345,
   "metadata": {},
   "outputs": [
    {
     "data": {
      "text/plain": [
       "110305.79"
      ]
     },
     "execution_count": 345,
     "metadata": {},
     "output_type": "execute_result"
    }
   ],
   "source": [
    "pop_median = np.percentile(sf2015[['Total Compensation']], q=50)\n",
    "pop_median"
   ]
  },
  {
   "cell_type": "markdown",
   "metadata": {},
   "source": [
    "Медианная общая сумма заработной платы всех работников составила чуть больше $110 300 долл.\n",
    "\n",
    "С практической точки зрения причин делать выборку для оценки этого параметра у нас нет, поскольку его значение нам уже известно. Но в этом разделе мы сделаем вид, что не знаем этого значения, и посмотрим, насколько точно мы сможем его оценить по случайно выборке.\n",
    "\n",
    "В последующих разделах мы вернемся с небес на землю и разберем ситуации, когда параметр неизвестен. Ну а пока мы знаем все.\n",
    "\n",
    "## Случайная выборка и оценка\n",
    "Сделаем выборку из 500 работников в случайном порядке без перестановки и примем медианную общую сумму заработной платы попавших в выборку работников за нашу оценку параметра."
   ]
  },
  {
   "cell_type": "code",
   "execution_count": 350,
   "metadata": {},
   "outputs": [
    {
     "data": {
      "image/png": "[encoded data removed]",
      "text/plain": [
       "<Figure size 432x288 with 1 Axes>"
      ]
     },
     "metadata": {
      "needs_background": "light"
     },
     "output_type": "display_data"
    }
   ],
   "source": [
    "our_sample = sf2015.sample(500)\n",
    "our_sample.filter(['Total Compensation']).hist(bins=sf_bins, alpha=.5);"
   ]
  },
  {
   "cell_type": "code",
   "execution_count": 352,
   "metadata": {},
   "outputs": [
    {
     "data": {
      "text/plain": [
       "109548.92"
      ]
     },
     "execution_count": 352,
     "metadata": {},
     "output_type": "execute_result"
    }
   ],
   "source": [
    "est_median = np.percentile(our_sample[['Total Compensation']], 50)\n",
    "est_median"
   ]
  },
  {
   "cell_type": "markdown",
   "metadata": {},
   "source": [
    "Выборка большая. По закону больших чисел распределение выборки отражает распределение популяции, а значит, медиана выборки не должна намного отличаться от медианы генеральной совокупности (хотя и не обязана с ней совпадать).\n",
    "\n",
    "Таким образом, у нас есть одна оценка параметра. Однако, если бы в выборку попали другие работники, оценка была бы другой. Мы хотим выяснить, насколько может варьировать оценка в различных выборках. Эта мера вариативности позволит нам определить, насколько точно мы можем оценить параметр.\n",
    "\n",
    "Чтобы понять, как изменилась бы оценка при другой выборке, можно просто сделать другую выборку из генеральной совокупности, но сейчас нам такой вариант не подходит. Мы пытаемся сымитировать реальную жизнь, где у нас не будет данных по всей генеральной совокупности.\n",
    "\n",
    "Нам нужно получить другую случайную выборку, не делая выборку из генеральной совокупности.\n",
    "\n",
    "## Бутстрэп, перестановка выборки\n",
    "Итак, у нас есть большая случайная выборка из генеральной совокупности. Как нам теперь известно, большая случайная выборка обычно отражает генеральную совокупность, из которой она была сделана. Это наблюдение позволяет специалистам по обработке и анализу данных использовать _бутстрэп_ (от англ. lift oneself up by the bootstraps, что в дословном переводе означает \"вытянуть себя за ремешки на ботинках\", а по сути повторяет историю барона Мюнхгаузена, который вытащил себя из болота, потянув за собственные волосы): процедуру выборки можно повторить _сделав выборку из выборки_.\n",
    "\n",
    "Метод бутстрэпа состоит из следующих шагов по составлению новой случайной выборки, отражающей генеральную совокупность:\n",
    "\n",
    "- Принять исходную выборку за генеральную совокупность.\n",
    "- Выбрать из этой выборки случайное значение с заменой столько раз, сколько позиций включает исходная выборка.\n",
    "\n",
    "Важно повторить это действие столько же раз, сколько позиций включает исходная выборка. Это связано с тем, что вариативность оценки зависит от размера выборки. Поскольку исходная выборка включает 500 работников, медиана этой выборки была основана на 500 значениях. Чтобы понять, насколько может отличаться выборка, сравним ее с медианой других выборок из 500 позиций.\n",
    "\n",
    "Если мы 500 раз выберем из нашей выборки из 500 позиций случайное значение без замены, то получим просто ту же самую выборку. Делая выборку с заменой, мы создаем вероятность того, что новые выборки будут отличаться от исходной, поскольку какие-то работники могут выпасть больше одного раза, а какие-то могут не выпасть совсем.\n",
    "\n",
    "Что это дает? По закону больших чисел распределение исходной выборки обычно отражает генеральную совокупность, а распределения всех повторных выборок обычно отражают исходную выборку. Таким образом, распределения всех повторных выборок должны отражать и всю генеральную совокупность.\n",
    "\n",
    "![](./media/65-bootstrap-25-0.png)\n",
    "\n",
    "## Медиана повторной выборки\n",
    "Напомним, что, если метод `sample` применяется с параметром `frac=1`, размер выборки будет равен количеству строк в таблице, из которой составляется выборка. Для бутстрэпа как раз это и нужно. Вот еще одна новая выборка, сформированная из исходной выборки, и соответствующая медиана."
   ]
  },
  {
   "cell_type": "code",
   "execution_count": 358,
   "metadata": {},
   "outputs": [],
   "source": [
    "resample_1 = our_sample.sample(frac=1)"
   ]
  },
  {
   "cell_type": "code",
   "execution_count": 359,
   "metadata": {},
   "outputs": [
    {
     "data": {
      "image/png": "[encoded data removed]",
      "text/plain": [
       "<Figure size 432x288 with 1 Axes>"
      ]
     },
     "metadata": {
      "needs_background": "light"
     },
     "output_type": "display_data"
    }
   ],
   "source": [
    "resample_1.filter(['Total Compensation']).hist(bins=sf_bins, alpha=.5);"
   ]
  },
  {
   "cell_type": "code",
   "execution_count": 361,
   "metadata": {},
   "outputs": [
    {
     "data": {
      "text/plain": [
       "109548.92"
      ]
     },
     "execution_count": 361,
     "metadata": {},
     "output_type": "execute_result"
    }
   ],
   "source": [
    "resampled_median_1 = np.percentile(resample_1[['Total Compensation']], 50)\n",
    "resampled_median_1"
   ]
  },
  {
   "cell_type": "markdown",
   "metadata": {},
   "source": [
    "С повторной выборкой мы получаем еще одну оценку медианы генеральной совокупности. Повторяя создание выборки снова и снова, мы получим много таких оценок, а следовательно, и эмпирическое распределение этих оценок."
   ]
  },
  {
   "cell_type": "code",
   "execution_count": 370,
   "metadata": {},
   "outputs": [
    {
     "data": {
      "text/plain": [
       "109548.92"
      ]
     },
     "execution_count": 370,
     "metadata": {},
     "output_type": "execute_result"
    }
   ],
   "source": [
    "resample_2 = our_sample.sample(frac=1)\n",
    "resampled_median_2 = np.percentile(resample_2[['Total Compensation']], 50)\n",
    "resampled_median_2"
   ]
  },
  {
   "cell_type": "markdown",
   "metadata": {},
   "source": [
    "## Эмпирическое распределение медианы выборки при использовании бутстрэпа\n",
    "Определим функцию `bootstrap_median`, которая берет нашу исходную выборку, метку столбца, содержащего переменную, и необходимое нам количество выборок методом бутстрэпа и возвращает массив соответствующих медиан повторных выборок.\n",
    "\n",
    "С каждой повторной выборкой и вычислением медианы мы реплицируем процесс бутстрэпа. В связи с этим количество выборок методом бутстрэпа будет называться числом репликаций."
   ]
  },
  {
   "cell_type": "code",
   "execution_count": 441,
   "metadata": {},
   "outputs": [],
   "source": [
    "def bootstrap_median(original_sample, label, replications):\n",
    "    \"\"\"Returns an array of bootstrapped sample medians:\n",
    "    original_sample: table containing the original sample\n",
    "    label: label of column containing the variable\n",
    "    replications: number of bootstrap samples\n",
    "    \"\"\"\n",
    "    just_one_column = original_sample.filter([label])\n",
    "    medians = np.zeros(replications)\n",
    "    for i in np.arange(replications):\n",
    "        bootstrap_sample = just_one_column.sample(frac=.9)\n",
    "        resampled_median = np.percentile(bootstrap_sample, 50)\n",
    "        medians[i] = resampled_median\n",
    "        \n",
    "    return medians"
   ]
  },
  {
   "cell_type": "markdown",
   "metadata": {},
   "source": [
    "Реплицируем процесс бутстрэпа 5000 раз. Медианы всех 5000 выборок методом бутстрэпа будут добавлены в массив `bstrap_medians`. Обратите внимание, что этот код выполняется дольше, чем наш предыдущий код. Ему нужно сделать большое количество повторных выборок."
   ]
  },
  {
   "cell_type": "code",
   "execution_count": 388,
   "metadata": {},
   "outputs": [],
   "source": [
    "bstrap_medians = bootstrap_median(our_sample, 'Total Compensation', 5000)"
   ]
  },
  {
   "cell_type": "markdown",
   "metadata": {},
   "source": [
    "Посмотрим на гистограмму 5000 медиан. Красной точкой обозначен параметр генеральной совокупности — медиана всей генеральной совокупности, которую мы знали, но не использовали в процессе бутстрэпа."
   ]
  },
  {
   "cell_type": "code",
   "execution_count": 391,
   "metadata": {},
   "outputs": [
    {
     "data": {
      "image/png": "[encoded data removed]",
      "text/plain": [
       "<Figure size 432x288 with 1 Axes>"
      ]
     },
     "metadata": {
      "needs_background": "light"
     },
     "output_type": "display_data"
    }
   ],
   "source": [
    "#median_bins=np.arange(100000, 130000, 2500)\n",
    "#resampled_medians.hist(bins = median_bins)\n",
    "plt.hist(bstrap_medians, alpha=.5)\n",
    "plt.scatter(pop_median, 0, color='red', s=30);"
   ]
  },
  {
   "cell_type": "markdown",
   "metadata": {},
   "source": [
    "Важно помнить, что красная точка постоянна и соответствует $110 305,79 — медиане генеральной совокупности. Эмпирическая гистограмма — это результат случайных выборок, а значит, ее расположение относительно красной точки случайно.\n",
    "\n",
    "Напомним также, что цель этих вычислений — дать примерную оценку медианы генеральной совокупности, т. е. красной точки. Наши оценки — это медианы всех наших случайных выборок, гистограмма которых приводится выше. Нам нужно, чтобы эти оценки содержали параметр, иначе они бессмысленны.\n",
    "\n",
    "## Включают ли оценки параметр?\n",
    "Как часто бывает, что эмпирическая гистограмма медиан повторных выборок уверенно седлает красную точку, а не просто до нее дотягивается? Чтобы ответить на этот вопрос, необходимо определиться, что мы понимаем под словом \"седлать\". Пусть оно означает, что \"средние 95% медиан повторных выборок включают красную точку\".\n",
    "\n",
    "Вот два конца интервала средних 95% медиан повторных выборок:"
   ]
  },
  {
   "cell_type": "code",
   "execution_count": 392,
   "metadata": {},
   "outputs": [
    {
     "data": {
      "text/plain": [
       "106250.515"
      ]
     },
     "execution_count": 392,
     "metadata": {},
     "output_type": "execute_result"
    }
   ],
   "source": [
    "left = np.percentile(bstrap_medians, 2.5)\n",
    "left"
   ]
  },
  {
   "cell_type": "code",
   "execution_count": 393,
   "metadata": {},
   "outputs": [
    {
     "data": {
      "text/plain": [
       "112315.025"
      ]
     },
     "execution_count": 393,
     "metadata": {},
     "output_type": "execute_result"
    }
   ],
   "source": [
    "right = np.percentile(bstrap_medians, 97.5)\n",
    "right"
   ]
  },
  {
   "cell_type": "markdown",
   "metadata": {},
   "source": [
    "Медиана генеральной совокупности, $110 305, находится между двумя этими числами. Интервал и медиана генеральной совокупности показаны на приведенной ниже гистограмме."
   ]
  },
  {
   "cell_type": "code",
   "execution_count": 397,
   "metadata": {},
   "outputs": [
    {
     "data": {
      "image/png": "[encoded data removed]",
      "text/plain": [
       "<Figure size 432x288 with 1 Axes>"
      ]
     },
     "metadata": {
      "needs_background": "light"
     },
     "output_type": "display_data"
    }
   ],
   "source": [
    "#median_bins=np.arange(100000, 130000, 2500)\n",
    "#resampled_medians.hist(bins = median_bins)\n",
    "plt.hist(bstrap_medians, alpha=.5)\n",
    "plt.plot(np.array([left, right]), np.array([0, 0]), color='yellow', lw=3, zorder=1)\n",
    "plt.scatter(pop_median, 0, color='red', s=30, zorder=2);"
   ]
  },
  {
   "cell_type": "markdown",
   "metadata": {},
   "source": [
    "Параметр в нашем примере попал в интервал средних 95 % оценок. Однако не было ли это случайностью?\n",
    "\n",
    "Чтобы увидеть, как часто интервал содержит параметр, необходимо многократно повторить весь процесс. В данном случае мы 100 раз повторим следующий процесс:\n",
    "\n",
    "- Получим исходную выборку из генеральной совокупности, содержащую 500 позиций.\n",
    "- Выполним 5000 репликаций процесса бутстрэпа и получим интервал средних 95% медиан повторных выборок.\n",
    "\n",
    "В итоге мы получим 100 интервалов и вычислим, сколько из них содержат медиану генеральной совокупности.\n",
    "\n",
    "Внимание, спойлер! В статистической теории бутстрэп подразумевает, что это количество должно быть около 95. Он может быть ближе к 90 или к 100, но не должно выходить за эти пределы."
   ]
  },
  {
   "cell_type": "code",
   "execution_count": 442,
   "metadata": {},
   "outputs": [],
   "source": [
    "# Generate 100 intervals, in the table intervals\n",
    "\n",
    "left_ends = np.zeros(100)\n",
    "right_ends = np.zeros(100)\n",
    "\n",
    "total_comps = sf2015.filter(['Total Compensation'])\n",
    "\n",
    "for i in np.arange(100):\n",
    "    first_sample = total_comps.sample(500)\n",
    "    medians = bootstrap_median(first_sample, 'Total Compensation', 5000)\n",
    "    left_ends[i] = np.percentile(medians, 2.5)\n",
    "    right_ends[i] = np.percentile(medians, 97.5)\n",
    "\n",
    "intervals = pd.DataFrame(zip(left_ends, right_ends), columns=['Left', 'Right'])"
   ]
  },
  {
   "cell_type": "markdown",
   "metadata": {},
   "source": [
    "Для каждой из 100 репликаций мы получим один интервал оценок медианы."
   ]
  },
  {
   "cell_type": "code",
   "execution_count": 443,
   "metadata": {},
   "outputs": [
    {
     "data": {
      "text/html": [
       "<div>\n",
       "<style scoped>\n",
       "    .dataframe tbody tr th:only-of-type {\n",
       "        vertical-align: middle;\n",
       "    }\n",
       "\n",
       "    .dataframe tbody tr th {\n",
       "        vertical-align: top;\n",
       "    }\n",
       "\n",
       "    .dataframe thead th {\n",
       "        text-align: right;\n",
       "    }\n",
       "</style>\n",
       "<table border=\"1\" class=\"dataframe\">\n",
       "  <thead>\n",
       "    <tr style=\"text-align: right;\">\n",
       "      <th></th>\n",
       "      <th>Left</th>\n",
       "      <th>Right</th>\n",
       "    </tr>\n",
       "  </thead>\n",
       "  <tbody>\n",
       "    <tr>\n",
       "      <th>0</th>\n",
       "      <td>105544.025</td>\n",
       "      <td>111019.035</td>\n",
       "    </tr>\n",
       "    <tr>\n",
       "      <th>1</th>\n",
       "      <td>109751.540</td>\n",
       "      <td>113645.050</td>\n",
       "    </tr>\n",
       "    <tr>\n",
       "      <th>2</th>\n",
       "      <td>106996.340</td>\n",
       "      <td>109583.345</td>\n",
       "    </tr>\n",
       "    <tr>\n",
       "      <th>3</th>\n",
       "      <td>110589.000</td>\n",
       "      <td>113850.165</td>\n",
       "    </tr>\n",
       "    <tr>\n",
       "      <th>4</th>\n",
       "      <td>106250.490</td>\n",
       "      <td>110971.650</td>\n",
       "    </tr>\n",
       "    <tr>\n",
       "      <th>...</th>\n",
       "      <td>...</td>\n",
       "      <td>...</td>\n",
       "    </tr>\n",
       "    <tr>\n",
       "      <th>95</th>\n",
       "      <td>102958.360</td>\n",
       "      <td>106136.970</td>\n",
       "    </tr>\n",
       "    <tr>\n",
       "      <th>96</th>\n",
       "      <td>106868.770</td>\n",
       "      <td>114027.315</td>\n",
       "    </tr>\n",
       "    <tr>\n",
       "      <th>97</th>\n",
       "      <td>105940.510</td>\n",
       "      <td>111366.105</td>\n",
       "    </tr>\n",
       "    <tr>\n",
       "      <th>98</th>\n",
       "      <td>109658.975</td>\n",
       "      <td>112164.920</td>\n",
       "    </tr>\n",
       "    <tr>\n",
       "      <th>99</th>\n",
       "      <td>110416.520</td>\n",
       "      <td>114965.980</td>\n",
       "    </tr>\n",
       "  </tbody>\n",
       "</table>\n",
       "<p>100 rows × 2 columns</p>\n",
       "</div>"
      ],
      "text/plain": [
       "          Left       Right\n",
       "0   105544.025  111019.035\n",
       "1   109751.540  113645.050\n",
       "2   106996.340  109583.345\n",
       "3   110589.000  113850.165\n",
       "4   106250.490  110971.650\n",
       "..         ...         ...\n",
       "95  102958.360  106136.970\n",
       "96  106868.770  114027.315\n",
       "97  105940.510  111366.105\n",
       "98  109658.975  112164.920\n",
       "99  110416.520  114965.980\n",
       "\n",
       "[100 rows x 2 columns]"
      ]
     },
     "execution_count": 443,
     "metadata": {},
     "output_type": "execute_result"
    }
   ],
   "source": [
    "intervals"
   ]
  },
  {
   "cell_type": "markdown",
   "metadata": {},
   "source": [
    "Хорошие интервалы — это интервалы, содержащие параметр, который мы пытаемся оценить. Обычно параметр неизвестен, но в этом разделе мы его знаем."
   ]
  },
  {
   "cell_type": "code",
   "execution_count": 428,
   "metadata": {},
   "outputs": [
    {
     "data": {
      "text/plain": [
       "110305.79"
      ]
     },
     "execution_count": 428,
     "metadata": {},
     "output_type": "execute_result"
    }
   ],
   "source": [
    "pop_median"
   ]
  },
  {
   "cell_type": "code",
   "execution_count": 445,
   "metadata": {},
   "outputs": [
    {
     "data": {
      "text/html": [
       "<div>\n",
       "<style scoped>\n",
       "    .dataframe tbody tr th:only-of-type {\n",
       "        vertical-align: middle;\n",
       "    }\n",
       "\n",
       "    .dataframe tbody tr th {\n",
       "        vertical-align: top;\n",
       "    }\n",
       "\n",
       "    .dataframe thead th {\n",
       "        text-align: right;\n",
       "    }\n",
       "</style>\n",
       "<table border=\"1\" class=\"dataframe\">\n",
       "  <thead>\n",
       "    <tr style=\"text-align: right;\">\n",
       "      <th></th>\n",
       "      <th>Left</th>\n",
       "      <th>Right</th>\n",
       "    </tr>\n",
       "  </thead>\n",
       "  <tbody>\n",
       "    <tr>\n",
       "      <th>0</th>\n",
       "      <td>105544.02500</td>\n",
       "      <td>111019.035000</td>\n",
       "    </tr>\n",
       "    <tr>\n",
       "      <th>1</th>\n",
       "      <td>109751.54000</td>\n",
       "      <td>113645.050000</td>\n",
       "    </tr>\n",
       "    <tr>\n",
       "      <th>4</th>\n",
       "      <td>106250.49000</td>\n",
       "      <td>110971.650000</td>\n",
       "    </tr>\n",
       "    <tr>\n",
       "      <th>7</th>\n",
       "      <td>107275.53500</td>\n",
       "      <td>110571.410000</td>\n",
       "    </tr>\n",
       "    <tr>\n",
       "      <th>9</th>\n",
       "      <td>106521.89500</td>\n",
       "      <td>111656.695000</td>\n",
       "    </tr>\n",
       "    <tr>\n",
       "      <th>10</th>\n",
       "      <td>109055.94000</td>\n",
       "      <td>111551.925000</td>\n",
       "    </tr>\n",
       "    <tr>\n",
       "      <th>11</th>\n",
       "      <td>109607.52500</td>\n",
       "      <td>114532.920000</td>\n",
       "    </tr>\n",
       "    <tr>\n",
       "      <th>12</th>\n",
       "      <td>108609.55500</td>\n",
       "      <td>112422.150000</td>\n",
       "    </tr>\n",
       "    <tr>\n",
       "      <th>13</th>\n",
       "      <td>109783.01000</td>\n",
       "      <td>113973.315000</td>\n",
       "    </tr>\n",
       "    <tr>\n",
       "      <th>14</th>\n",
       "      <td>106530.36000</td>\n",
       "      <td>111153.835000</td>\n",
       "    </tr>\n",
       "    <tr>\n",
       "      <th>16</th>\n",
       "      <td>108760.16000</td>\n",
       "      <td>112299.635000</td>\n",
       "    </tr>\n",
       "    <tr>\n",
       "      <th>20</th>\n",
       "      <td>107642.53500</td>\n",
       "      <td>111621.960000</td>\n",
       "    </tr>\n",
       "    <tr>\n",
       "      <th>21</th>\n",
       "      <td>108499.47000</td>\n",
       "      <td>112493.380000</td>\n",
       "    </tr>\n",
       "    <tr>\n",
       "      <th>22</th>\n",
       "      <td>103705.26500</td>\n",
       "      <td>110318.295000</td>\n",
       "    </tr>\n",
       "    <tr>\n",
       "      <th>24</th>\n",
       "      <td>106176.79000</td>\n",
       "      <td>110443.490000</td>\n",
       "    </tr>\n",
       "    <tr>\n",
       "      <th>26</th>\n",
       "      <td>106975.92500</td>\n",
       "      <td>112045.590000</td>\n",
       "    </tr>\n",
       "    <tr>\n",
       "      <th>32</th>\n",
       "      <td>108759.59500</td>\n",
       "      <td>111655.240000</td>\n",
       "    </tr>\n",
       "    <tr>\n",
       "      <th>35</th>\n",
       "      <td>107606.98500</td>\n",
       "      <td>110386.545000</td>\n",
       "    </tr>\n",
       "    <tr>\n",
       "      <th>36</th>\n",
       "      <td>110212.64500</td>\n",
       "      <td>112920.270000</td>\n",
       "    </tr>\n",
       "    <tr>\n",
       "      <th>40</th>\n",
       "      <td>109313.96000</td>\n",
       "      <td>113376.885000</td>\n",
       "    </tr>\n",
       "    <tr>\n",
       "      <th>42</th>\n",
       "      <td>110181.05000</td>\n",
       "      <td>114650.655000</td>\n",
       "    </tr>\n",
       "    <tr>\n",
       "      <th>43</th>\n",
       "      <td>109642.35000</td>\n",
       "      <td>112303.755000</td>\n",
       "    </tr>\n",
       "    <tr>\n",
       "      <th>47</th>\n",
       "      <td>110130.22500</td>\n",
       "      <td>111921.230000</td>\n",
       "    </tr>\n",
       "    <tr>\n",
       "      <th>48</th>\n",
       "      <td>106572.30500</td>\n",
       "      <td>111469.220000</td>\n",
       "    </tr>\n",
       "    <tr>\n",
       "      <th>50</th>\n",
       "      <td>106861.20500</td>\n",
       "      <td>111201.710000</td>\n",
       "    </tr>\n",
       "    <tr>\n",
       "      <th>57</th>\n",
       "      <td>108971.56000</td>\n",
       "      <td>112843.920000</td>\n",
       "    </tr>\n",
       "    <tr>\n",
       "      <th>59</th>\n",
       "      <td>108435.68000</td>\n",
       "      <td>111739.931875</td>\n",
       "    </tr>\n",
       "    <tr>\n",
       "      <th>60</th>\n",
       "      <td>108044.80000</td>\n",
       "      <td>113404.745000</td>\n",
       "    </tr>\n",
       "    <tr>\n",
       "      <th>62</th>\n",
       "      <td>108903.68500</td>\n",
       "      <td>111563.630000</td>\n",
       "    </tr>\n",
       "    <tr>\n",
       "      <th>63</th>\n",
       "      <td>108944.64500</td>\n",
       "      <td>112424.570000</td>\n",
       "    </tr>\n",
       "    <tr>\n",
       "      <th>64</th>\n",
       "      <td>106170.64500</td>\n",
       "      <td>110686.030000</td>\n",
       "    </tr>\n",
       "    <tr>\n",
       "      <th>65</th>\n",
       "      <td>110183.55325</td>\n",
       "      <td>113599.770000</td>\n",
       "    </tr>\n",
       "    <tr>\n",
       "      <th>66</th>\n",
       "      <td>108309.36000</td>\n",
       "      <td>111392.090000</td>\n",
       "    </tr>\n",
       "    <tr>\n",
       "      <th>67</th>\n",
       "      <td>108396.66000</td>\n",
       "      <td>110747.630000</td>\n",
       "    </tr>\n",
       "    <tr>\n",
       "      <th>68</th>\n",
       "      <td>108633.70500</td>\n",
       "      <td>111618.740000</td>\n",
       "    </tr>\n",
       "    <tr>\n",
       "      <th>71</th>\n",
       "      <td>108359.48500</td>\n",
       "      <td>112030.620000</td>\n",
       "    </tr>\n",
       "    <tr>\n",
       "      <th>72</th>\n",
       "      <td>109859.47000</td>\n",
       "      <td>116844.025000</td>\n",
       "    </tr>\n",
       "    <tr>\n",
       "      <th>73</th>\n",
       "      <td>108805.92000</td>\n",
       "      <td>111454.670000</td>\n",
       "    </tr>\n",
       "    <tr>\n",
       "      <th>75</th>\n",
       "      <td>109338.73500</td>\n",
       "      <td>112453.125000</td>\n",
       "    </tr>\n",
       "    <tr>\n",
       "      <th>77</th>\n",
       "      <td>109102.89000</td>\n",
       "      <td>112178.565000</td>\n",
       "    </tr>\n",
       "    <tr>\n",
       "      <th>79</th>\n",
       "      <td>107951.10500</td>\n",
       "      <td>112102.230000</td>\n",
       "    </tr>\n",
       "    <tr>\n",
       "      <th>81</th>\n",
       "      <td>109122.61500</td>\n",
       "      <td>113641.505000</td>\n",
       "    </tr>\n",
       "    <tr>\n",
       "      <th>82</th>\n",
       "      <td>109667.14250</td>\n",
       "      <td>112658.290000</td>\n",
       "    </tr>\n",
       "    <tr>\n",
       "      <th>83</th>\n",
       "      <td>108603.30500</td>\n",
       "      <td>111263.495000</td>\n",
       "    </tr>\n",
       "    <tr>\n",
       "      <th>85</th>\n",
       "      <td>110091.60500</td>\n",
       "      <td>113664.950000</td>\n",
       "    </tr>\n",
       "    <tr>\n",
       "      <th>88</th>\n",
       "      <td>108489.50000</td>\n",
       "      <td>113100.465000</td>\n",
       "    </tr>\n",
       "    <tr>\n",
       "      <th>90</th>\n",
       "      <td>105848.30350</td>\n",
       "      <td>112478.170000</td>\n",
       "    </tr>\n",
       "    <tr>\n",
       "      <th>93</th>\n",
       "      <td>109186.73500</td>\n",
       "      <td>112289.355000</td>\n",
       "    </tr>\n",
       "    <tr>\n",
       "      <th>96</th>\n",
       "      <td>106868.77000</td>\n",
       "      <td>114027.315000</td>\n",
       "    </tr>\n",
       "    <tr>\n",
       "      <th>97</th>\n",
       "      <td>105940.51000</td>\n",
       "      <td>111366.105000</td>\n",
       "    </tr>\n",
       "    <tr>\n",
       "      <th>98</th>\n",
       "      <td>109658.97500</td>\n",
       "      <td>112164.920000</td>\n",
       "    </tr>\n",
       "  </tbody>\n",
       "</table>\n",
       "</div>"
      ],
      "text/plain": [
       "            Left          Right\n",
       "0   105544.02500  111019.035000\n",
       "1   109751.54000  113645.050000\n",
       "4   106250.49000  110971.650000\n",
       "7   107275.53500  110571.410000\n",
       "9   106521.89500  111656.695000\n",
       "10  109055.94000  111551.925000\n",
       "11  109607.52500  114532.920000\n",
       "12  108609.55500  112422.150000\n",
       "13  109783.01000  113973.315000\n",
       "14  106530.36000  111153.835000\n",
       "16  108760.16000  112299.635000\n",
       "20  107642.53500  111621.960000\n",
       "21  108499.47000  112493.380000\n",
       "22  103705.26500  110318.295000\n",
       "24  106176.79000  110443.490000\n",
       "26  106975.92500  112045.590000\n",
       "32  108759.59500  111655.240000\n",
       "35  107606.98500  110386.545000\n",
       "36  110212.64500  112920.270000\n",
       "40  109313.96000  113376.885000\n",
       "42  110181.05000  114650.655000\n",
       "43  109642.35000  112303.755000\n",
       "47  110130.22500  111921.230000\n",
       "48  106572.30500  111469.220000\n",
       "50  106861.20500  111201.710000\n",
       "57  108971.56000  112843.920000\n",
       "59  108435.68000  111739.931875\n",
       "60  108044.80000  113404.745000\n",
       "62  108903.68500  111563.630000\n",
       "63  108944.64500  112424.570000\n",
       "64  106170.64500  110686.030000\n",
       "65  110183.55325  113599.770000\n",
       "66  108309.36000  111392.090000\n",
       "67  108396.66000  110747.630000\n",
       "68  108633.70500  111618.740000\n",
       "71  108359.48500  112030.620000\n",
       "72  109859.47000  116844.025000\n",
       "73  108805.92000  111454.670000\n",
       "75  109338.73500  112453.125000\n",
       "77  109102.89000  112178.565000\n",
       "79  107951.10500  112102.230000\n",
       "81  109122.61500  113641.505000\n",
       "82  109667.14250  112658.290000\n",
       "83  108603.30500  111263.495000\n",
       "85  110091.60500  113664.950000\n",
       "88  108489.50000  113100.465000\n",
       "90  105848.30350  112478.170000\n",
       "93  109186.73500  112289.355000\n",
       "96  106868.77000  114027.315000\n",
       "97  105940.51000  111366.105000\n",
       "98  109658.97500  112164.920000"
      ]
     },
     "execution_count": 445,
     "metadata": {},
     "output_type": "execute_result"
    }
   ],
   "source": [
    "intervals.query('Left < @pop_median < Right')"
   ]
  },
  {
   "cell_type": "markdown",
   "metadata": {},
   "source": [
    "Создание всех интервалов занимает несколько минут, но, если вам хватит терпения, повторите всю процедуру еще раз. Скорее всего, примерно 95 из 100 окажутся хорошими, т. е. будут содержать параметр.\n",
    "\n",
    "Отображение всех интервалов на горизонтальной оси затрудняет то, что они сильно накладываются друг на друга — в конце концов, все должны дать оценку одного и того же параметра. На представленном ниже графике все интервалы показаны на одних и тех же осях за счет вертикального размещения. Вертикальная ось — это номер репликации, из которой был получен интервал.\n",
    "\n",
    "Красная линия — это параметр. Хорошие интервалы захватывают параметр — обычно их около 95.\n",
    "\n",
    "Если интервал не захватывает параметр, он плохой. Плохими считаются интервалы, которые не пересекаются с красной линией. Обычно их мало, около 5, но они бывают.\n",
    "\n",
    "Любой метод на основе выборок может дать осечку. Преимущество методов на основе случайных выборок в том, что количество возможных осечек можно рассчитать."
   ]
  },
  {
   "cell_type": "code",
   "execution_count": 444,
   "metadata": {},
   "outputs": [
    {
     "data": {
      "image/png": "[encoded data removed]",
      "text/plain": [
       "<Figure size 576x576 with 1 Axes>"
      ]
     },
     "metadata": {
      "needs_background": "light"
     },
     "output_type": "display_data"
    }
   ],
   "source": [
    "intervals2 = pd.DataFrame(np.array([left_ends, right_ends]))\n",
    "\n",
    "plt.figure(figsize=(8,8))\n",
    "for i in np.arange(100):\n",
    "    ends = intervals2[[i]]\n",
    "    plt.plot(ends, np.array([i+1, i+1]), color='gold', lw=5)\n",
    "plt.plot(np.array([pop_median, pop_median]), np.array([0, 100]), color='red', lw=2)\n",
    "plt.xlabel('Median (dollars)')\n",
    "plt.ylabel('Replication')\n",
    "plt.title('Population Median and Intervals of Estimates');"
   ]
  },
  {
   "cell_type": "markdown",
   "metadata": {},
   "source": [
    "Чтобы описать, что показывает эта модель, предположим, что вы оцениваете медиану генеральной совокупности следующим образом.\n",
    "\n",
    "- Делаете большую случайную выборку из генеральной совокупности.\n",
    "- Применяете к случайной выборке процесс бутстрэпа и получаете оценку из новой случайной выборки.\n",
    "- Повторяете указанные выше шаги тысячи раз и получаете тысячи оценок.\n",
    "- Выбираете интервал их \"средних 95%\" всех оценок.\n",
    "\n",
    "В результате вы получаете один интервал оценок. Если вы повторите **весь процесс** 100 раз и получите 100 интервалов, то около 95 из этих 100 интервалов будут содержать параметр генеральной совокупности.\n",
    "\n",
    "Другими словами, процесс оценки захватывает параметр примерно в 95% случаев.\n",
    "\n",
    "Можно заменить 95% другим значением меньше 100. Предположим, что вы заменили 95% на 80% и оставили размер выборки прежним — 500. В этом случае интервалы оценок будут короче, чем в представленной выше модели, поскольку диапазон \"средних 80%\" меньше, чем \"средних 95%\". Параметр будут содержать только 80% интервалов."
   ]
  },
  {
   "cell_type": "markdown",
   "metadata": {},
   "source": [
    "# Доверительные интервалы\n",
    "\n",
    "Мы разработали метод для оценки параметра с использованием случайной выборки и бутстрэпа. Метод создает интервал оценок с учетом случайной изменчивости в случайной выборке. Наличие целого интервала оценок, а не одной единственной оценки дает пространство для маневров.\n",
    "\n",
    "В предыдущем примере наш процесс оценки давал хороший интервал, т. е. интервал захватывал параметр, примерно в 95% случаев. И тогда мы говорим, что на 95% уверены в том, что процесс дает хороший интервал. Наш интервал оценок называется 95%-м _доверительным интервалом_ для параметра, а 95% — _доверительным интервалом_.\n",
    "\n",
    "Ситуация, описанная в предыдущем примере, была довольно необычна. Поскольку мы знали значение параметра, то смогли проверить, был ли интервал хорошим или плохим, что, в свою очередь, позволило нам увидеть, что наш процесс оценки захватывает параметр примерно в 95 из каждых 100 случаев его применения.\n",
    "\n",
    "Обычно специалисты по обработке и анализу данных не узнают значение параметра. Именно поэтому им и нужно его оценить. В таких ситуациях они предоставляют интервал оценок для неизвестного параметра, используя методы, подобные тому, что разработали мы. Благодаря статистической теории и демонстрациям, подобным тем, что мы рассмотрели, специалисты по обработке и анализу данных могут быть уверены в том, что их процесс создания интервала дает хороший интервал в известной доле случаев.\n",
    "\n",
    "## Доверительный интервал для медианы генеральной совокупности, метод бутстреп-процентилей\n",
    "Теперь мы применим метод бутстрэпа для оценки медианы неизвестной генеральной совокупности. Данные взяты из выборки новорожденных в одной из крупной сети больниц. Мы будем работать с ней как с простой случайной выборкой, хотя процесс ее формирования проводился в несколько этапов. Информацию о более крупном наборе данных, из которого взята эта выборка, см. в книге Stat Labs Деборы Нолан (Deborah Nolan) и Терри Спида (Terry Speed).\n",
    "\n",
    "Таблица `baby` содержит следующие переменные для пар \"мать — ребенок\": вес ребенка при рождении в унциях, гестационный возраст в днях, возраст матери (полных лет), рост матери в дюймах, вес во время беременности в фунтах, а также сведения о том, курила ли мать во время беременности."
   ]
  },
  {
   "cell_type": "code",
   "execution_count": 451,
   "metadata": {},
   "outputs": [
    {
     "data": {
      "text/html": [
       "<div>\n",
       "<style scoped>\n",
       "    .dataframe tbody tr th:only-of-type {\n",
       "        vertical-align: middle;\n",
       "    }\n",
       "\n",
       "    .dataframe tbody tr th {\n",
       "        vertical-align: top;\n",
       "    }\n",
       "\n",
       "    .dataframe thead th {\n",
       "        text-align: right;\n",
       "    }\n",
       "</style>\n",
       "<table border=\"1\" class=\"dataframe\">\n",
       "  <thead>\n",
       "    <tr style=\"text-align: right;\">\n",
       "      <th></th>\n",
       "      <th>Birth Weight</th>\n",
       "      <th>Gestational Days</th>\n",
       "      <th>Maternal Age</th>\n",
       "      <th>Maternal Height</th>\n",
       "      <th>Maternal Pregnancy Weight</th>\n",
       "      <th>Maternal Smoker</th>\n",
       "    </tr>\n",
       "  </thead>\n",
       "  <tbody>\n",
       "    <tr>\n",
       "      <th>0</th>\n",
       "      <td>120</td>\n",
       "      <td>284</td>\n",
       "      <td>27</td>\n",
       "      <td>62</td>\n",
       "      <td>100</td>\n",
       "      <td>False</td>\n",
       "    </tr>\n",
       "    <tr>\n",
       "      <th>1</th>\n",
       "      <td>113</td>\n",
       "      <td>282</td>\n",
       "      <td>33</td>\n",
       "      <td>64</td>\n",
       "      <td>135</td>\n",
       "      <td>False</td>\n",
       "    </tr>\n",
       "    <tr>\n",
       "      <th>2</th>\n",
       "      <td>128</td>\n",
       "      <td>279</td>\n",
       "      <td>28</td>\n",
       "      <td>64</td>\n",
       "      <td>115</td>\n",
       "      <td>True</td>\n",
       "    </tr>\n",
       "    <tr>\n",
       "      <th>3</th>\n",
       "      <td>108</td>\n",
       "      <td>282</td>\n",
       "      <td>23</td>\n",
       "      <td>67</td>\n",
       "      <td>125</td>\n",
       "      <td>True</td>\n",
       "    </tr>\n",
       "    <tr>\n",
       "      <th>4</th>\n",
       "      <td>136</td>\n",
       "      <td>286</td>\n",
       "      <td>25</td>\n",
       "      <td>62</td>\n",
       "      <td>93</td>\n",
       "      <td>False</td>\n",
       "    </tr>\n",
       "    <tr>\n",
       "      <th>...</th>\n",
       "      <td>...</td>\n",
       "      <td>...</td>\n",
       "      <td>...</td>\n",
       "      <td>...</td>\n",
       "      <td>...</td>\n",
       "      <td>...</td>\n",
       "    </tr>\n",
       "    <tr>\n",
       "      <th>1169</th>\n",
       "      <td>113</td>\n",
       "      <td>275</td>\n",
       "      <td>27</td>\n",
       "      <td>60</td>\n",
       "      <td>100</td>\n",
       "      <td>False</td>\n",
       "    </tr>\n",
       "    <tr>\n",
       "      <th>1170</th>\n",
       "      <td>128</td>\n",
       "      <td>265</td>\n",
       "      <td>24</td>\n",
       "      <td>67</td>\n",
       "      <td>120</td>\n",
       "      <td>False</td>\n",
       "    </tr>\n",
       "    <tr>\n",
       "      <th>1171</th>\n",
       "      <td>130</td>\n",
       "      <td>291</td>\n",
       "      <td>30</td>\n",
       "      <td>65</td>\n",
       "      <td>150</td>\n",
       "      <td>True</td>\n",
       "    </tr>\n",
       "    <tr>\n",
       "      <th>1172</th>\n",
       "      <td>125</td>\n",
       "      <td>281</td>\n",
       "      <td>21</td>\n",
       "      <td>65</td>\n",
       "      <td>110</td>\n",
       "      <td>False</td>\n",
       "    </tr>\n",
       "    <tr>\n",
       "      <th>1173</th>\n",
       "      <td>117</td>\n",
       "      <td>297</td>\n",
       "      <td>38</td>\n",
       "      <td>65</td>\n",
       "      <td>129</td>\n",
       "      <td>False</td>\n",
       "    </tr>\n",
       "  </tbody>\n",
       "</table>\n",
       "<p>1174 rows × 6 columns</p>\n",
       "</div>"
      ],
      "text/plain": [
       "      Birth Weight  Gestational Days  Maternal Age  Maternal Height  \\\n",
       "0              120               284            27               62   \n",
       "1              113               282            33               64   \n",
       "2              128               279            28               64   \n",
       "3              108               282            23               67   \n",
       "4              136               286            25               62   \n",
       "...            ...               ...           ...              ...   \n",
       "1169           113               275            27               60   \n",
       "1170           128               265            24               67   \n",
       "1171           130               291            30               65   \n",
       "1172           125               281            21               65   \n",
       "1173           117               297            38               65   \n",
       "\n",
       "      Maternal Pregnancy Weight  Maternal Smoker  \n",
       "0                           100            False  \n",
       "1                           135            False  \n",
       "2                           115             True  \n",
       "3                           125             True  \n",
       "4                            93            False  \n",
       "...                         ...              ...  \n",
       "1169                        100            False  \n",
       "1170                        120            False  \n",
       "1171                        150             True  \n",
       "1172                        110            False  \n",
       "1173                        129            False  \n",
       "\n",
       "[1174 rows x 6 columns]"
      ]
     },
     "execution_count": 451,
     "metadata": {},
     "output_type": "execute_result"
    }
   ],
   "source": [
    "baby = pd.read_csv('https://raw.githubusercontent.com/MicrosoftDocs/inferentialthinking/master/data/baby.csv')\n",
    "baby"
   ]
  },
  {
   "cell_type": "markdown",
   "metadata": {},
   "source": [
    "Вес при рождении — важный показатель здоровья новорожденного: детям с меньшим весом обычно требуется больше медицинской помощи в первые дни жизни, чем более крупным новорожденным. В связи с этим оценка веса при рождении до того, как ребенок родится, может быть полезна. Один из способов решения этой задачи — изучить взаимосвязь между весом новорожденного и количеством дней беременности.\n",
    "\n",
    "Простая мера этой взаимосвязи представляет собой соотношение веса при рождении и количества дней беременности. Таблица `ratios` содержит первые два столбца таблицы `baby`, а также столбец соотношений. Первая запись в этом столбце была вычислена следующим образом: 120 унц./284 дн. ≈ 0,4225 унц./день"
   ]
  },
  {
   "cell_type": "code",
   "execution_count": 460,
   "metadata": {},
   "outputs": [
    {
     "name": "stdout",
     "output_type": "stream",
     "text": [
      "<class 'pandas.core.frame.DataFrame'>\n",
      "RangeIndex: 1174 entries, 0 to 1173\n",
      "Data columns (total 6 columns):\n",
      " #   Column                     Non-Null Count  Dtype\n",
      "---  ------                     --------------  -----\n",
      " 0   Birth Weight               1174 non-null   int64\n",
      " 1   Gestational Days           1174 non-null   int64\n",
      " 2   Maternal Age               1174 non-null   int64\n",
      " 3   Maternal Height            1174 non-null   int64\n",
      " 4   Maternal Pregnancy Weight  1174 non-null   int64\n",
      " 5   Maternal Smoker            1174 non-null   bool \n",
      "dtypes: bool(1), int64(5)\n",
      "memory usage: 47.1 KB\n"
     ]
    }
   ],
   "source": [
    "baby.info()"
   ]
  },
  {
   "cell_type": "code",
   "execution_count": 478,
   "metadata": {},
   "outputs": [
    {
     "data": {
      "text/html": [
       "<div>\n",
       "<style scoped>\n",
       "    .dataframe tbody tr th:only-of-type {\n",
       "        vertical-align: middle;\n",
       "    }\n",
       "\n",
       "    .dataframe tbody tr th {\n",
       "        vertical-align: top;\n",
       "    }\n",
       "\n",
       "    .dataframe thead th {\n",
       "        text-align: right;\n",
       "    }\n",
       "</style>\n",
       "<table border=\"1\" class=\"dataframe\">\n",
       "  <thead>\n",
       "    <tr style=\"text-align: right;\">\n",
       "      <th></th>\n",
       "      <th>Birth Weight</th>\n",
       "      <th>Gestational Days</th>\n",
       "      <th>Ratio BW/GD</th>\n",
       "    </tr>\n",
       "  </thead>\n",
       "  <tbody>\n",
       "    <tr>\n",
       "      <th>0</th>\n",
       "      <td>120</td>\n",
       "      <td>284</td>\n",
       "      <td>0.422535</td>\n",
       "    </tr>\n",
       "    <tr>\n",
       "      <th>1</th>\n",
       "      <td>113</td>\n",
       "      <td>282</td>\n",
       "      <td>0.400709</td>\n",
       "    </tr>\n",
       "    <tr>\n",
       "      <th>2</th>\n",
       "      <td>128</td>\n",
       "      <td>279</td>\n",
       "      <td>0.458781</td>\n",
       "    </tr>\n",
       "    <tr>\n",
       "      <th>3</th>\n",
       "      <td>108</td>\n",
       "      <td>282</td>\n",
       "      <td>0.382979</td>\n",
       "    </tr>\n",
       "    <tr>\n",
       "      <th>4</th>\n",
       "      <td>136</td>\n",
       "      <td>286</td>\n",
       "      <td>0.475524</td>\n",
       "    </tr>\n",
       "    <tr>\n",
       "      <th>...</th>\n",
       "      <td>...</td>\n",
       "      <td>...</td>\n",
       "      <td>...</td>\n",
       "    </tr>\n",
       "    <tr>\n",
       "      <th>1169</th>\n",
       "      <td>113</td>\n",
       "      <td>275</td>\n",
       "      <td>0.410909</td>\n",
       "    </tr>\n",
       "    <tr>\n",
       "      <th>1170</th>\n",
       "      <td>128</td>\n",
       "      <td>265</td>\n",
       "      <td>0.483019</td>\n",
       "    </tr>\n",
       "    <tr>\n",
       "      <th>1171</th>\n",
       "      <td>130</td>\n",
       "      <td>291</td>\n",
       "      <td>0.446735</td>\n",
       "    </tr>\n",
       "    <tr>\n",
       "      <th>1172</th>\n",
       "      <td>125</td>\n",
       "      <td>281</td>\n",
       "      <td>0.444840</td>\n",
       "    </tr>\n",
       "    <tr>\n",
       "      <th>1173</th>\n",
       "      <td>117</td>\n",
       "      <td>297</td>\n",
       "      <td>0.393939</td>\n",
       "    </tr>\n",
       "  </tbody>\n",
       "</table>\n",
       "<p>1174 rows × 3 columns</p>\n",
       "</div>"
      ],
      "text/plain": [
       "      Birth Weight  Gestational Days  Ratio BW/GD\n",
       "0              120               284     0.422535\n",
       "1              113               282     0.400709\n",
       "2              128               279     0.458781\n",
       "3              108               282     0.382979\n",
       "4              136               286     0.475524\n",
       "...            ...               ...          ...\n",
       "1169           113               275     0.410909\n",
       "1170           128               265     0.483019\n",
       "1171           130               291     0.446735\n",
       "1172           125               281     0.444840\n",
       "1173           117               297     0.393939\n",
       "\n",
       "[1174 rows x 3 columns]"
      ]
     },
     "execution_count": 478,
     "metadata": {},
     "output_type": "execute_result"
    }
   ],
   "source": [
    "ratios = baby.filter(['Birth Weight', 'Gestational Days'])\n",
    "ratios['Ratio BW/GD'] = ratios['Birth Weight'] / ratios['Gestational Days']\n",
    "ratios"
   ]
  },
  {
   "cell_type": "code",
   "execution_count": 480,
   "metadata": {},
   "outputs": [
    {
     "data": {
      "image/png": "[encoded data removed]",
      "text/plain": [
       "<Figure size 432x288 with 1 Axes>"
      ]
     },
     "metadata": {
      "needs_background": "light"
     },
     "output_type": "display_data"
    }
   ],
   "source": [
    "ratios.filter(['Ratio BW/GD']).hist(alpha=.5);"
   ]
  },
  {
   "cell_type": "markdown",
   "metadata": {},
   "source": [
    "На первый взгляд, гистограмма симметрична с максимальной плотностью значений в интервале от 4 до 4,5 унций в день. Однако при более внимательном изучении окажется, что некоторые соотношения сравнительно больше. Максимальное значение соотношений оказалось больше 0,78 унции в день, что почти вдвое больше типового значения."
   ]
  },
  {
   "cell_type": "code",
   "execution_count": 485,
   "metadata": {},
   "outputs": [
    {
     "data": {
      "text/html": [
       "<div>\n",
       "<style scoped>\n",
       "    .dataframe tbody tr th:only-of-type {\n",
       "        vertical-align: middle;\n",
       "    }\n",
       "\n",
       "    .dataframe tbody tr th {\n",
       "        vertical-align: top;\n",
       "    }\n",
       "\n",
       "    .dataframe thead th {\n",
       "        text-align: right;\n",
       "    }\n",
       "</style>\n",
       "<table border=\"1\" class=\"dataframe\">\n",
       "  <thead>\n",
       "    <tr style=\"text-align: right;\">\n",
       "      <th></th>\n",
       "      <th>Birth Weight</th>\n",
       "      <th>Gestational Days</th>\n",
       "      <th>Ratio BW/GD</th>\n",
       "    </tr>\n",
       "  </thead>\n",
       "  <tbody>\n",
       "    <tr>\n",
       "      <th>238</th>\n",
       "      <td>116</td>\n",
       "      <td>148</td>\n",
       "      <td>0.783784</td>\n",
       "    </tr>\n",
       "  </tbody>\n",
       "</table>\n",
       "</div>"
      ],
      "text/plain": [
       "     Birth Weight  Gestational Days  Ratio BW/GD\n",
       "238           116               148     0.783784"
      ]
     },
     "execution_count": 485,
     "metadata": {},
     "output_type": "execute_result"
    }
   ],
   "source": [
    "ratios.sort_values('Ratio BW/GD', ascending=False)[:1]"
   ]
  },
  {
   "cell_type": "markdown",
   "metadata": {},
   "source": [
    "Медиана отражает типовое соотношение, поскольку на нее влияют слишком большие или маленькие соотношения. Медианное соотношение в этой выборке составляет около 0,429 унции в день."
   ]
  },
  {
   "cell_type": "code",
   "execution_count": 489,
   "metadata": {},
   "outputs": [
    {
     "data": {
      "text/plain": [
       "0.42907801418439717"
      ]
     },
     "execution_count": 489,
     "metadata": {},
     "output_type": "execute_result"
    }
   ],
   "source": [
    "ratios['Ratio BW/GD'].median()"
   ]
  },
  {
   "cell_type": "markdown",
   "metadata": {},
   "source": [
    "Но какова была медиана генеральной совокупности? Мы не знаем, поэтому вычислим ее приблизительно.\n",
    "\n",
    "Метод будет точно таким же, как в предыдущем разделе. Мы повторим процесс бутстрэпа 5000 раз и получим 5000 оценок медианы. Наш 95%-й доверительный интервал составят средние 95% всех наших оценок.\n",
    "\n",
    "Вызовем функцию `bootstrap_median`, определенную в предыдущем разделе. Вызвав эту функцию, мы получим 95%-й доверительный интервал для медианного соотношения в генеральной совокупности. Как вы помните, таблица `ratios` содержит релевантные данные из нашей исходной выборки."
   ]
  },
  {
   "cell_type": "code",
   "execution_count": 557,
   "metadata": {},
   "outputs": [],
   "source": [
    "# Generate the medians from 5000 bootstrap samples\n",
    "bstrap_medians = bootstrap_median(ratios, 'Ratio BW/GD', 5000)"
   ]
  },
  {
   "cell_type": "code",
   "execution_count": 558,
   "metadata": {},
   "outputs": [
    {
     "data": {
      "text/plain": [
       "array([0.42808219, 0.43006993])"
      ]
     },
     "execution_count": 558,
     "metadata": {},
     "output_type": "execute_result"
    }
   ],
   "source": [
    "# Get the endpoints of the 95% confidence interval\n",
    "left = np.percentile(bstrap_medians, 2.5)\n",
    "right = np.percentile(bstrap_medians, 97.5)\n",
    "\n",
    "np.array([left, right])"
   ]
  },
  {
   "cell_type": "markdown",
   "metadata": {},
   "source": [
    "В 95%-й доверительный интервал входят значения от 0,428 до 0,430 унции в день. Судя по нашей оценке, медианное соотношение \"веса рождения и количества дней беременности\" в генеральной совокупности находится где-то в диапазоне от 0,428 до 0,430 унции в день.\n",
    "\n",
    "Оценка 0,429 согласно исходной выборке приходится ровно на середину интервала между этими двумя значениями, хотя в целом это не значит, что она верна.\n",
    "\n",
    "Для наглядности построим эмпирическую гистограмму с начальными значениями медиан, полученных с помощью бутстрэпа, и отложим доверительный интервал на горизонтальной оси."
   ]
  },
  {
   "cell_type": "code",
   "execution_count": 563,
   "metadata": {},
   "outputs": [
    {
     "data": {
      "image/png": "[encoded data removed]",
      "text/plain": [
       "<Figure size 432x288 with 1 Axes>"
      ]
     },
     "metadata": {
      "needs_background": "light"
     },
     "output_type": "display_data"
    }
   ],
   "source": [
    "plt.hist(bstrap_medians, bins=8, alpha=.5)\n",
    "plt.plot(np.array([left, right]), np.array([0, 0]), color='yellow', lw=8);"
   ]
  },
  {
   "cell_type": "markdown",
   "metadata": {},
   "source": [
    "Гистограмма и интервал похожи на то, что мы получили в предыдущих главах, с одним существенным отличием: нет красной точки, указывающей местонахождение параметра. Мы не знаем, где должна быть эта точка и попадает ли она в интервал.\n",
    "\n",
    "У нас есть только интервал оценок. Доверительный интервал составляет 95%, поскольку процесс его получения дает хороший интервал примерно в 95% случаев. Это гораздо лучше, чем гадать вслепую.\n",
    "\n",
    "Помните, что этот интервал примерно соответствует 95 %-му доверительному интервалу. В этом вычислении много приближений. Приближение само по себе неплохо, но не является точным.\n",
    "\n",
    "## Доверительный интервал для среднего по совокупности: метод бутстрэп-процентилей\n",
    "Так же, как определяли медианы, можно определить и средние арифметические. Допустим, мы хотим оценить средний возраст матерей в генеральной совокупности. Логично будет для этого оценить средний возраст матерей в выборке. На гистограмме ниже показано распределение их возрастов, а также их средний возраст, который составил около 27,2 года."
   ]
  },
  {
   "cell_type": "code",
   "execution_count": 499,
   "metadata": {},
   "outputs": [
    {
     "data": {
      "image/png": "[encoded data removed]",
      "text/plain": [
       "<Figure size 432x288 with 1 Axes>"
      ]
     },
     "metadata": {
      "needs_background": "light"
     },
     "output_type": "display_data"
    }
   ],
   "source": [
    "baby.filter(['Maternal Age']).hist(alpha=.5);"
   ]
  },
  {
   "cell_type": "code",
   "execution_count": 500,
   "metadata": {},
   "outputs": [
    {
     "data": {
      "text/plain": [
       "27.228279386712096"
      ]
     },
     "execution_count": 500,
     "metadata": {},
     "output_type": "execute_result"
    }
   ],
   "source": [
    "baby['Maternal Age'].mean()"
   ]
  },
  {
   "cell_type": "markdown",
   "metadata": {},
   "source": [
    "Каков средний возраст матерей в генеральной совокупности? Значение этого параметра нам не известно.\n",
    "\n",
    "Рассчитаем неизвестный параметр методом бутстрэпа. Для этого необходимо изменить код для `bootstrap_median`, определив в нем функцию `bootstrap_mean`. Код будет тем же самым, за исключением того что статистика будет содержать средние значения, а не медианы и собираться в массив с именем `means`, а не `medians`."
   ]
  },
  {
   "cell_type": "code",
   "execution_count": 503,
   "metadata": {},
   "outputs": [],
   "source": [
    "def bootstrap_mean(original_sample, label, replications):\n",
    "    \n",
    "    \"\"\"Returns an array of bootstrapped sample means:\n",
    "    original_sample: table containing the original sample\n",
    "    label: label of column containing the variable\n",
    "    replications: number of bootstrap samples\n",
    "    \"\"\"\n",
    "    just_one_column = original_sample.filter([label])\n",
    "    means = np.zeros(replications)\n",
    "    for i in np.arange(replications):\n",
    "        bootstrap_sample = just_one_column.sample(frac=.9)\n",
    "        resampled_mean = np.mean(bootstrap_sample)\n",
    "        means[i] = resampled_mean\n",
    "        \n",
    "    return means"
   ]
  },
  {
   "cell_type": "code",
   "execution_count": 504,
   "metadata": {},
   "outputs": [
    {
     "data": {
      "text/plain": [
       "array([27.11163671, 27.33774834])"
      ]
     },
     "execution_count": 504,
     "metadata": {},
     "output_type": "execute_result"
    }
   ],
   "source": [
    "# Generate the means from 5000 bootstrap samples\n",
    "bstrap_means = bootstrap_mean(baby, 'Maternal Age', 5000)\n",
    "\n",
    "# Get the endpoints of the 95% confidence interval\n",
    "left = np.percentile(bstrap_means, 2.5)\n",
    "right = np.percentile(bstrap_means, 97.5)\n",
    "\n",
    "np.array([left, right])"
   ]
  },
  {
   "cell_type": "markdown",
   "metadata": {},
   "source": [
    "Доверительный интервал в 95% включает возраст от 27,1 до 27,3 года. Таким образом, можно сказать, что средний возраст матерей в генеральной совокупности находится в интервале от 27,1 до 27,3 года.\n",
    "\n",
    "Обратите внимание, насколько близки два крайних значения к среднему значению исходной выборки — 27,2 года. Выборка большая, включает 1174 матери, поэтому средние значения выборок существенно не меняются. Рассмотрим это наблюдение более подробно в следующей главе.\n",
    "\n",
    "Ниже показана эмпирическая гистограмма 5000 средних значений, полученных методом бутстрэпа, а также 95-процентный доверительный интервал для среднего по совокупности."
   ]
  },
  {
   "cell_type": "code",
   "execution_count": 512,
   "metadata": {},
   "outputs": [
    {
     "data": {
      "image/png": "[encoded data removed]",
      "text/plain": [
       "<Figure size 432x288 with 1 Axes>"
      ]
     },
     "metadata": {
      "needs_background": "light"
     },
     "output_type": "display_data"
    }
   ],
   "source": [
    "plt.hist(bstrap_means, bins=15, alpha=.5)\n",
    "plt.plot(np.array([left, right]), np.array([0, 0]), color='yellow', lw=8);"
   ]
  },
  {
   "cell_type": "markdown",
   "metadata": {},
   "source": [
    "Среднее значение исходной выборки (27,22 года) снова находится близко к середине интервала. Это не удивительно, поскольку каждая выборка, полученная методом бутстрэпа, получена из исходной выборки. Средние значения выборок, полученных методом бутстрэпа, довольно симметрично распределены по обеим сторонам среднего значения выборки, из которой были сделаны эти выборки.\n",
    "\n",
    "Также следует отметить, что эмпирическая гистограмма средних повторных выборок имеет довольно симметричную колоколообразную форму, хотя гистограмма возрастов в выборке совсем не симметрична:"
   ]
  },
  {
   "cell_type": "code",
   "execution_count": 508,
   "metadata": {},
   "outputs": [
    {
     "data": {
      "image/png": "[encoded data removed]",
      "text/plain": [
       "<Figure size 432x288 with 1 Axes>"
      ]
     },
     "metadata": {
      "needs_background": "light"
     },
     "output_type": "display_data"
    }
   ],
   "source": [
    "baby['Maternal Age'].hist(alpha=.5);"
   ]
  },
  {
   "cell_type": "markdown",
   "metadata": {},
   "source": [
    "Это следствие центральной предельной теоремы вероятности и статистики. Суть этой теоремы мы рассмотрим в последующих разделах."
   ]
  },
  {
   "cell_type": "markdown",
   "metadata": {},
   "source": [
    "## 80%-й доверительный интервал\n",
    "На основе средних значений выборок, полученных методом бутстрэпа, можно построить любой доверительный интервал. Например, чтобы получить 80%-й доверительный интервал для среднего возраста в генеральной совокупности, можно взять средние 80% средних значений повторных выборок. В этом случае по 10% распределения должны приходиться на каждую из двух сторон графика, а значит, конечные точки будут соответствовать 10-му и 90-му процентилям средних значений повторных выборок."
   ]
  },
  {
   "cell_type": "code",
   "execution_count": 509,
   "metadata": {},
   "outputs": [
    {
     "data": {
      "text/plain": [
       "(27.154115421002835, 27.30085146641438)"
      ]
     },
     "execution_count": 509,
     "metadata": {},
     "output_type": "execute_result"
    }
   ],
   "source": [
    "left_80 = np.percentile(bstrap_means, 10)\n",
    "right_80 = np.percentile(bstrap_means, 90)\n",
    "left_80, right_80"
   ]
  },
  {
   "cell_type": "code",
   "execution_count": 511,
   "metadata": {},
   "outputs": [
    {
     "data": {
      "image/png": "[encoded data removed]",
      "text/plain": [
       "<Figure size 432x288 with 1 Axes>"
      ]
     },
     "metadata": {
      "needs_background": "light"
     },
     "output_type": "display_data"
    }
   ],
   "source": [
    "plt.hist(bstrap_means, bins=15, alpha=.5)\n",
    "plt.plot(np.array([left_80, right_80]), np.array([0, 0]), color='yellow', lw=8);"
   ]
  },
  {
   "cell_type": "markdown",
   "metadata": {},
   "source": [
    "Такой 80-процентный доверительный интервал намного меньше, чем 95-процентный. В него входит только диапазон от 27,15 до 27,30 года. Хотя такой набор оценок не строгий, этот процесс, как вы уже знаете, дает хороший интервал только примерно в 80 % случаев.\n",
    "\n",
    "Предыдущий процесс дал более широкий интервал, зато мы были больше уверены в процессе его получения.\n",
    "\n",
    "Чтобы получить более узкий доверительный интервал с высоким уровнем уверенности, исходная выборка должна быть больше. В следующей главе мы узнаем, почему.\n",
    "\n",
    "## Доверительный интервал для доли популяции, метод бутстрэп-процентилей\n",
    "В нашей выборке 39% матерей курили во время беременности."
   ]
  },
  {
   "cell_type": "code",
   "execution_count": 517,
   "metadata": {},
   "outputs": [
    {
     "data": {
      "text/plain": [
       "0.3909710391822828"
      ]
     },
     "execution_count": 517,
     "metadata": {},
     "output_type": "execute_result"
    }
   ],
   "source": [
    "baby.query('`Maternal Smoker` == True').__len__() / len(baby)"
   ]
  },
  {
   "cell_type": "markdown",
   "metadata": {},
   "source": [
    "Используя операцию массива можно также рассчитать следующее:"
   ]
  },
  {
   "cell_type": "code",
   "execution_count": 518,
   "metadata": {},
   "outputs": [
    {
     "data": {
      "text/plain": [
       "0.3909710391822828"
      ]
     },
     "execution_count": 518,
     "metadata": {},
     "output_type": "execute_result"
    }
   ],
   "source": [
    "smoking = baby['Maternal Smoker']\n",
    "np.count_nonzero(smoking) / len(smoking)"
   ]
  },
  {
   "cell_type": "markdown",
   "metadata": {},
   "source": [
    "Какой процент матерей в популяции курил во время беременности? Это неизвестный параметр, который можно оценить, используя доверительный интервал бутстрэпа. В этом случае выполняются те же действия, что и для оценки среднего и медианы по совокупности.\n",
    "\n",
    "Начнем с определения функции `bootstrap_proportion`, возвращающей массив процентов из выборок, полученных методом бутстрэпа. Для этого снова отредактируем определение функции `bootstrap_median`. Единственное, что нам нужно изменить в вычислении, — это заменить медиану повторной выборки на процент курящих. Код предполагает, что столбец с данными содержит логические значения. Другие изменения относятся только к именам массивов, чтобы нам было проще читать и понимать код."
   ]
  },
  {
   "cell_type": "code",
   "execution_count": 531,
   "metadata": {},
   "outputs": [
    {
     "data": {
      "text/plain": [
       "array([25, 40, 30, ..., 39, 22, 19])"
      ]
     },
     "execution_count": 531,
     "metadata": {},
     "output_type": "execute_result"
    }
   ],
   "source": [
    "baby['Maternal Age'].sample(frac=.95).values"
   ]
  },
  {
   "cell_type": "code",
   "execution_count": 535,
   "metadata": {},
   "outputs": [],
   "source": [
    "def bootstrap_proportion(original_sample, label, replications):\n",
    "    \n",
    "    \"\"\"Returns an array of bootstrapped sample proportions:\n",
    "    original_sample: table containing the original sample\n",
    "    label: label of column containing the Boolean variable\n",
    "    replications: number of bootstrap samples\n",
    "    \"\"\"\n",
    "    \n",
    "    just_one_column = original_sample[label]\n",
    "    proportions = np.zeros(replications)\n",
    "    for i in np.arange(replications):\n",
    "        bootstrap_sample = just_one_column.sample(frac=.9)\n",
    "        resample_array = bootstrap_sample.values\n",
    "        resampled_proportion = np.count_nonzero(resample_array) / len(resample_array)\n",
    "        proportions[i] = resampled_proportion        \n",
    "    \n",
    "    return proportions"
   ]
  },
  {
   "cell_type": "markdown",
   "metadata": {},
   "source": [
    "Используя функцию `bootstrap_proportion`, построим 95%-й доверительный интервал для процента курящих матерей в генеральной совокупности. Код будет похож на соответствующий код для определения среднего и медианы."
   ]
  },
  {
   "cell_type": "code",
   "execution_count": 536,
   "metadata": {},
   "outputs": [
    {
     "data": {
      "text/plain": [
       "array([0.38126774, 0.40018921])"
      ]
     },
     "execution_count": 536,
     "metadata": {},
     "output_type": "execute_result"
    }
   ],
   "source": [
    "# Generate the proportions from 5000 bootstrap samples\n",
    "bstrap_props = bootstrap_proportion(baby, 'Maternal Smoker', 5000)\n",
    "\n",
    "# Get the endpoints of the 95% confidence interval\n",
    "left = np.percentile(bstrap_props, 2.5)\n",
    "right = np.percentile(bstrap_props, 97.5)\n",
    "\n",
    "np.array([left, right])"
   ]
  },
  {
   "cell_type": "markdown",
   "metadata": {},
   "source": [
    "Доверительный интервал включает значения от примерно 38 до примерно 40%. Значение исходной выборки, 39%, близко к центру интервала, как видно ниже."
   ]
  },
  {
   "cell_type": "code",
   "execution_count": 537,
   "metadata": {},
   "outputs": [
    {
     "data": {
      "image/png": "[encoded data removed]",
      "text/plain": [
       "<Figure size 432x288 with 1 Axes>"
      ]
     },
     "metadata": {
      "needs_background": "light"
     },
     "output_type": "display_data"
    }
   ],
   "source": [
    "plt.hist(bstrap_props, bins=15, alpha=.5)\n",
    "plt.plot(np.array([left, right]), np.array([0, 0]), color='yellow', lw=8);"
   ]
  },
  {
   "cell_type": "markdown",
   "metadata": {},
   "source": [
    "## Меры предосторожности при применении метода бутстрэпа\n",
    "Метод бутстрэпа изысканный и эффективный. Но прежде чем его использовать, необходимо принять во внимание несколько моментов.\n",
    "\n",
    "- Для начала нужна большая случайная выборка. В противном случае метод работать не будет. Успешное применение метода требует больших случайных выборок (а следовательно, и повторных выборок на их основе), отражающих генеральную совокупность. По закону больших чисел это должно быть верно, если случайная выборка большая.\n",
    "\n",
    "- Чтобы приблизительно вычислить вероятность распределения статистики, нужно реплицировать процедуру повторной выборки как можно больше раз. Несколько тысяч репликаций позволят получить адекватные приблизительные значения медианы выборки, особенно если распределение генеральной совокупности имеет одну точку максимума и не симметрично. Мы использовали в примерах 5000 репликаций, но в целом рекомендуем реплицировать выборки 10 000 раз.\n",
    "\n",
    "- Метод бутстрэп-процентилей хорошо подходит для оценки медианы или среднего по совокупности на основе большой случайной выборки. Однако у него, как у всех методов оценки, есть ограничения. Например, он не будет работать в следующих ситуациях.\n",
    "\n",
    "  - Необходимо оценить минимальное и максимальное значения в генеральной совокупности, очень низкий или очень высокий процентиль или параметры, на которые сильно влияют редкие элементы генеральной совокупности.\n",
    "  - Распределение вероятностей в статистических данных не имеет примерно колоколообразную форму.\n",
    "  - Исходная выборка невелика, например, число элементов в ней не превышает 10 или 15."
   ]
  },
  {
   "cell_type": "markdown",
   "metadata": {},
   "source": [
    "# Использование доверительных интервалов\n",
    "Доверительный интервал имеет одну единственную цель — это оценка неизвестного параметра, исходя из данных случайной выборки. В прошлом блоке мы говорили, что интервал (36–42%) составляет примерно 95%-й доверительный интервал для процента курящих матерей в генеральной совокупности. В переводе на простой язык это будет означать, что, по нашим оценкам, доля курящих матерей в генеральной совокупности составляет от 36 до 42% и наша процедура оценки была верна примерно в 95% случаев.\n",
    "\n",
    "Не поддавайтесь соблазну использовать доверительные интервалы в любых других целях. Например, вспомните: мы рассчитывали интервал (26,9–27,6 года) как примерно 95%-й доверительный интервал для среднего возраста матерей в генеральной совокупности. Крайне распространенная ошибка в применении интервала приводит к выводу о том, что 95% женщин находятся в возрасте от 26,9 до 27,6 года. Не нужно разбираться в доверительных интервалах хорошо, чтобы понять, что это не может быть правдой — невозможно, чтобы 95% матерей отличались друг от друга по возрасту всего на несколько месяцев. На самом деле гистограмма возрастов в выборке демонстрирует довольно широкое расхождение."
   ]
  },
  {
   "cell_type": "code",
   "execution_count": 539,
   "metadata": {},
   "outputs": [
    {
     "data": {
      "image/png": "[encoded data removed]",
      "text/plain": [
       "<Figure size 432x288 with 1 Axes>"
      ]
     },
     "metadata": {
      "needs_background": "light"
     },
     "output_type": "display_data"
    }
   ],
   "source": [
    "baby['Maternal Age'].hist(alpha=.5);"
   ]
  },
  {
   "cell_type": "markdown",
   "metadata": {},
   "source": [
    "Небольшой процент возрастов в выборке попадает в интервал (26,9–27,6), и можно предположить, что в генеральной совокупности этот процент будет таким же низким. Интервал определяет только одно число — среднее арифметическое всех простоев в генеральной совокупности.\n",
    "\n",
    "При этом оценка того или иного параметра по доверительным интервалам не только позволяет примерно понимать, насколько важен этот параметр, но и имеет одно важное применение."
   ]
  },
  {
   "cell_type": "markdown",
   "metadata": {},
   "source": [
    "## Применение доверительного интервала для проверки гипотез\n",
    "Наш примерно 95%-й доверительный интервал для среднего возраста в генеральной совокупности охватывает диапазон от 26,9 до 27,6 года. Допустим, кто-то хочет проверить следующие гипотезы:\n",
    "\n",
    "__Нулевая гипотеза.__ Средний возраст в генеральной совокупности — 30 лет.\n",
    "\n",
    "__Альтернативная гипотеза.__ Средний возраст в генеральной совокупности — не 30 лет.\n",
    "\n",
    "Если при этом для P-значения используется уровень значимости 5%, нулевую гипотезу следует отвергнуть. Это связано с тем, что 30-летний возраст не попадает в 95 %-й доверительный интервал для среднего возраста генеральной совокупности. При 5%-м уровне значимости 30-летний возраст не является правдоподобным значением для среднего возраста генеральной совокупности.\n",
    "\n",
    "Такое использование доверительных интервалов возникает в результате дуальности между ними и тестами. Если вы проверяете, соответствует ли среднее по совокупности определенному значению $x$, а для P-значения используется уровень значимости 5%, нулевую гипотезу следует отвергнуть, если $x$ не попадает в 95 %-й доверительный интервал для среднего арифметического.\n",
    "\n",
    "Это можно установить, используя статистическую теорию. На практике все сводится к проверке того, попадает ли значение, указанное в нулевой гипотезе, в доверительный интервал.\n",
    "\n",
    "Если для P-значения используется уровень значимости 1%, необходимо проверить, попадает ли указанное в нулевой гипотезе значение в 99%-й доверительный интервал для среднего по совокупности.\n",
    "\n",
    "При грубом приближении эти утверждения также справедливы для долей популяции при условии, что выборка большая.\n",
    "\n",
    "Теперь у нас есть способ использовать доверительные интервалы для проверки определенного рода гипотез, но у вас может возникнуть вопрос о ценности проверки того, соответствует ли средний возраст в генеральной совокупности 30 годам. Ценность действительно не ясна. Однако бывают ситуации, когда подобные проверки гипотез и естественны, и полезны.\n",
    "\n",
    "Рассмотрим для примера данные, представляющие собой подмножество информации, собранной в ходе рандомизированного контролируемого исследования методов лечения лимфомы Ходжкина. Лимфома Ходжкина — это рак, который обычно поражает молодых. Эта болезнь излечима, но лечение может быть очень тяжелым. Исследование проводилось с целью подобрать дозировку, достаточную для лечения рака и при этом вызывающую минимум побочных эффектов у пациентов.\n",
    "\n",
    "В таблице `hodgkins` представлены данные о влиянии лечения на легкие 22 пациентов. Столбцы:\n",
    "\n",
    "- Рост в см\n",
    "- Доза облучения в мантийной зоне (шея, грудная клетка, подмышки)\n",
    "- Доза химиотерапии\n",
    "- Оценка состояния легких на исходном уровне, т. е. в начале лечения; чем выше оценка, тем лучше состояние легких\n",
    "- Та же оценка состояния легких, но через 15 месяцев после начала лечения"
   ]
  },
  {
   "cell_type": "code",
   "execution_count": 540,
   "metadata": {},
   "outputs": [],
   "source": [
    "hodgkins = pd.read_csv('https://raw.githubusercontent.com/MicrosoftDocs/inferentialthinking/master/data/hodgkins.csv')"
   ]
  },
  {
   "cell_type": "code",
   "execution_count": 542,
   "metadata": {},
   "outputs": [
    {
     "data": {
      "text/html": [
       "<div>\n",
       "<style scoped>\n",
       "    .dataframe tbody tr th:only-of-type {\n",
       "        vertical-align: middle;\n",
       "    }\n",
       "\n",
       "    .dataframe tbody tr th {\n",
       "        vertical-align: top;\n",
       "    }\n",
       "\n",
       "    .dataframe thead th {\n",
       "        text-align: right;\n",
       "    }\n",
       "</style>\n",
       "<table border=\"1\" class=\"dataframe\">\n",
       "  <thead>\n",
       "    <tr style=\"text-align: right;\">\n",
       "      <th></th>\n",
       "      <th>height</th>\n",
       "      <th>rad</th>\n",
       "      <th>chemo</th>\n",
       "      <th>base</th>\n",
       "      <th>month15</th>\n",
       "    </tr>\n",
       "  </thead>\n",
       "  <tbody>\n",
       "    <tr>\n",
       "      <th>0</th>\n",
       "      <td>164</td>\n",
       "      <td>679</td>\n",
       "      <td>180</td>\n",
       "      <td>160.57</td>\n",
       "      <td>87.77</td>\n",
       "    </tr>\n",
       "    <tr>\n",
       "      <th>1</th>\n",
       "      <td>168</td>\n",
       "      <td>311</td>\n",
       "      <td>180</td>\n",
       "      <td>98.24</td>\n",
       "      <td>67.62</td>\n",
       "    </tr>\n",
       "    <tr>\n",
       "      <th>2</th>\n",
       "      <td>173</td>\n",
       "      <td>388</td>\n",
       "      <td>239</td>\n",
       "      <td>129.04</td>\n",
       "      <td>133.33</td>\n",
       "    </tr>\n",
       "    <tr>\n",
       "      <th>3</th>\n",
       "      <td>157</td>\n",
       "      <td>370</td>\n",
       "      <td>168</td>\n",
       "      <td>85.41</td>\n",
       "      <td>81.28</td>\n",
       "    </tr>\n",
       "    <tr>\n",
       "      <th>4</th>\n",
       "      <td>160</td>\n",
       "      <td>468</td>\n",
       "      <td>151</td>\n",
       "      <td>67.94</td>\n",
       "      <td>79.26</td>\n",
       "    </tr>\n",
       "  </tbody>\n",
       "</table>\n",
       "</div>"
      ],
      "text/plain": [
       "   height  rad  chemo    base  month15\n",
       "0     164  679    180  160.57    87.77\n",
       "1     168  311    180   98.24    67.62\n",
       "2     173  388    239  129.04   133.33\n",
       "3     157  370    168   85.41    81.28\n",
       "4     160  468    151   67.94    79.26"
      ]
     },
     "execution_count": 542,
     "metadata": {},
     "output_type": "execute_result"
    }
   ],
   "source": [
    "hodgkins.head()"
   ]
  },
  {
   "cell_type": "markdown",
   "metadata": {},
   "source": [
    "Мы будем сравнивать показатели на исходном уровне и через 15 месяцев. Так как каждая строка соответствует одному пациенту, мы говорим, что оценки на исходном уровне и через 15 месяцев лечения являются парными — это не просто два набора из 22 значений, а 22 пары значений, по одной для каждого пациента.\n",
    "\n",
    "Сразу видно, что оценки через 15 месяцев лечения в основном ниже, чем оценки на исходном уровне, т. е. через 15 месяцев после начала лечения состояние пациентов ухудшилось. Это подтверждают в основном положительные значения в столбце `drop` — то, насколько упала оценка состояния через 15 месяцев лечения по сравнению с исходным уровнем."
   ]
  },
  {
   "cell_type": "code",
   "execution_count": 544,
   "metadata": {},
   "outputs": [
    {
     "data": {
      "text/html": [
       "<div>\n",
       "<style scoped>\n",
       "    .dataframe tbody tr th:only-of-type {\n",
       "        vertical-align: middle;\n",
       "    }\n",
       "\n",
       "    .dataframe tbody tr th {\n",
       "        vertical-align: top;\n",
       "    }\n",
       "\n",
       "    .dataframe thead th {\n",
       "        text-align: right;\n",
       "    }\n",
       "</style>\n",
       "<table border=\"1\" class=\"dataframe\">\n",
       "  <thead>\n",
       "    <tr style=\"text-align: right;\">\n",
       "      <th></th>\n",
       "      <th>height</th>\n",
       "      <th>rad</th>\n",
       "      <th>chemo</th>\n",
       "      <th>base</th>\n",
       "      <th>month15</th>\n",
       "      <th>drop</th>\n",
       "    </tr>\n",
       "  </thead>\n",
       "  <tbody>\n",
       "    <tr>\n",
       "      <th>0</th>\n",
       "      <td>164</td>\n",
       "      <td>679</td>\n",
       "      <td>180</td>\n",
       "      <td>160.57</td>\n",
       "      <td>87.77</td>\n",
       "      <td>72.80</td>\n",
       "    </tr>\n",
       "    <tr>\n",
       "      <th>1</th>\n",
       "      <td>168</td>\n",
       "      <td>311</td>\n",
       "      <td>180</td>\n",
       "      <td>98.24</td>\n",
       "      <td>67.62</td>\n",
       "      <td>30.62</td>\n",
       "    </tr>\n",
       "    <tr>\n",
       "      <th>2</th>\n",
       "      <td>173</td>\n",
       "      <td>388</td>\n",
       "      <td>239</td>\n",
       "      <td>129.04</td>\n",
       "      <td>133.33</td>\n",
       "      <td>-4.29</td>\n",
       "    </tr>\n",
       "    <tr>\n",
       "      <th>3</th>\n",
       "      <td>157</td>\n",
       "      <td>370</td>\n",
       "      <td>168</td>\n",
       "      <td>85.41</td>\n",
       "      <td>81.28</td>\n",
       "      <td>4.13</td>\n",
       "    </tr>\n",
       "    <tr>\n",
       "      <th>4</th>\n",
       "      <td>160</td>\n",
       "      <td>468</td>\n",
       "      <td>151</td>\n",
       "      <td>67.94</td>\n",
       "      <td>79.26</td>\n",
       "      <td>-11.32</td>\n",
       "    </tr>\n",
       "  </tbody>\n",
       "</table>\n",
       "</div>"
      ],
      "text/plain": [
       "   height  rad  chemo    base  month15   drop\n",
       "0     164  679    180  160.57    87.77  72.80\n",
       "1     168  311    180   98.24    67.62  30.62\n",
       "2     173  388    239  129.04   133.33  -4.29\n",
       "3     157  370    168   85.41    81.28   4.13\n",
       "4     160  468    151   67.94    79.26 -11.32"
      ]
     },
     "execution_count": 544,
     "metadata": {},
     "output_type": "execute_result"
    }
   ],
   "source": [
    "hodgkins['drop'] = hodgkins['base'] - hodgkins['month15']\n",
    "hodgkins.head()"
   ]
  },
  {
   "cell_type": "code",
   "execution_count": 547,
   "metadata": {},
   "outputs": [
    {
     "data": {
      "image/png": "[encoded data removed]",
      "text/plain": [
       "<Figure size 432x288 with 1 Axes>"
      ]
     },
     "metadata": {
      "needs_background": "light"
     },
     "output_type": "display_data"
    }
   ],
   "source": [
    "hodgkins['drop'].hist(bins=np.arange(-20, 81, 20), alpha=.5);"
   ]
  },
  {
   "cell_type": "code",
   "execution_count": 548,
   "metadata": {},
   "outputs": [
    {
     "data": {
      "text/plain": [
       "28.615909090909096"
      ]
     },
     "execution_count": 548,
     "metadata": {},
     "output_type": "execute_result"
    }
   ],
   "source": [
    "hodgkins['drop'].mean()"
   ]
  },
  {
   "cell_type": "markdown",
   "metadata": {},
   "source": [
    "Но не может ли это быть следствием случайной вариации? Скорее всего нет, хотя данные получены из случайной выборки. Возможно ли, что в рамках всей совокупности пациентов среднее снижение оценки будет нулевым?\n",
    "\n",
    "Для ответа на этот вопрос сформулируем две гипотезы:\n",
    "\n",
    "__Нулевая гипотеза.__ Во всей генеральной совокупности среднее снижение оценки — 0.\n",
    "\n",
    "__Альтернативная гипотеза.__ Во всей генеральной совокупности среднее снижение оценки — не 0.\n",
    "\n",
    "Чтобы проверить эту гипотезу, используя для P-значения уровень значимости 1%, создадим для среднего снижения оценки в генеральной совокупности примерно 99-процентный доверительный интервал."
   ]
  },
  {
   "cell_type": "code",
   "execution_count": 550,
   "metadata": {},
   "outputs": [
    {
     "data": {
      "text/plain": [
       "array([24.8055, 31.949 ])"
      ]
     },
     "execution_count": 550,
     "metadata": {},
     "output_type": "execute_result"
    }
   ],
   "source": [
    "bstrap_means = bootstrap_mean(hodgkins, 'drop', 10000)\n",
    "\n",
    "left = np.percentile(bstrap_means, 0.5)\n",
    "right = np.percentile(bstrap_means, 99.5)\n",
    "\n",
    "np.array([left, right])"
   ]
  },
  {
   "cell_type": "code",
   "execution_count": 552,
   "metadata": {},
   "outputs": [
    {
     "data": {
      "image/png": "[encoded data removed]",
      "text/plain": [
       "<Figure size 432x288 with 1 Axes>"
      ]
     },
     "metadata": {
      "needs_background": "light"
     },
     "output_type": "display_data"
    }
   ],
   "source": [
    "plt.hist(bstrap_means, alpha=.5)\n",
    "plt.plot(np.array([left, right]), np.array([0, 0]), color='yellow', lw=8);"
   ]
  },
  {
   "cell_type": "markdown",
   "metadata": {},
   "source": [
    "Доверительный интервал для среднего снижения оценки в генеральной совокупности, равный 99%, включает значения примерно от 25 до примерно 32. В этот интервал не входит значение 0, поэтому мы отвергаем нулевую гипотезу.\n",
    "\n",
    "При этом мы не просто сделали вывод о том, что среднее снижение оценки в генеральной совокупности не равно 0, но и оценили, насколько оно существенно. Это гораздо полезнее, чем просто сказать, что определенный параметр не равен 0.\n",
    "\n",
    "__Примечание о точности.__ Мы используем широкий доверительный интервал по двум основным причинам:\n",
    "- Высокий уровень уверенности (99 %). \n",
    "- Размер выборки относительно небольшой по сравнению с предыдущими примерами.\n",
    "\n",
    "В следующей главе мы рассмотрим, как размер выборки влияет на точность. Мы также обсудим, почему эмпирические распределения средних арифметических выборов часто имеют колоколообразную форму, даже если форма графика распределения исходных данных совершенно иная."
   ]
  }
 ],
 "metadata": {
  "kernelspec": {
   "display_name": "Python 3",
   "language": "python",
   "name": "python3"
  },
  "language_info": {
   "codemirror_mode": {
    "name": "ipython",
    "version": 3
   },
   "file_extension": ".py",
   "mimetype": "text/x-python",
   "name": "python",
   "nbconvert_exporter": "python",
   "pygments_lexer": "ipython3",
   "version": "3.8.3"
  }
 },
 "nbformat": 4,
 "nbformat_minor": 4
}
