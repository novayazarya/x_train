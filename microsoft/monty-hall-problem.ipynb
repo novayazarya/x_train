{
 "cells": [
  {
   "cell_type": "code",
   "execution_count": 1,
   "metadata": {},
   "outputs": [],
   "source": [
    "import numpy as np\n",
    "import pandas as pd"
   ]
  },
  {
   "cell_type": "markdown",
   "metadata": {},
   "source": [
    "# Проблема Монти Холла\n",
    "\n",
    "<a href=\"https://ru.wikipedia.org/wiki/%D0%9F%D0%B0%D1%80%D0%B0%D0%B4%D0%BE%D0%BA%D1%81_%D0%9C%D0%BE%D0%BD%D1%82%D0%B8_%D0%A5%D0%BE%D0%BB%D0%BB%D0%B0\">Проблема Монти Холла</a> годами волновала многих, включая математиков. Давайте посмотрим, сможем ли мы решить ее с помощью моделирования.\n",
    "\n",
    "Условия взяты из телевизионного игрового шоу под названием \"Давайте заключим сделку\". Монти Холл запустил это шоу в 1960-х, и впоследствии на его основе возникло множество подобных шоу. Самой захватывающей частью было то, что, хотя у участников была возможность выиграть отличные призы, они могли вместо них получить нежелательные \"сюрпризы\". Это была основа того, сейчас называется проблемой Монти Холла.\n",
    "\n",
    "Место действия представляет собой игровое шоу, в котором участник встречается с тремя закрытыми дверями. За одной из дверей стоит шикарная машина, а за остальными двумя находятся козлы. Участник не знает, где автомобиль, и должен попытаться найти его по следующим правилам.\n",
    "\n",
    "- Участник делает первоначальный выбор, но эта дверь не открывается.\n",
    "\n",
    "- По крайней мере за одной из двух других дверей должен быть козел. Монти открывает одну из этих дверей, чтобы показать козла. Этот козел во всех красках описан в Википедии:\n",
    "\n",
    "![](https://upload.wikimedia.org/wikipedia/commons/thumb/3/3f/Monty_open_door.svg/1280px-Monty_open_door.svg.png)\n",
    "\n",
    "- Остается две двери, одну из которых первоначально выбрал участник. За одной из них автомобиль, за другой — козел. Теперь участник может выбрать, какую из двух дверей открыть.\n",
    "\n",
    "Участник должен принять решение. Какую дверь он должен открыть, если хочет автомобиль? Должен ли он придерживаться своего первоначального выбора или переключиться на другую дверь? Это и есть проблема Монти Холла."
   ]
  },
  {
   "cell_type": "markdown",
   "metadata": {},
   "source": [
    "## Решение\n",
    "В любой проблеме, связанной с вероятностями, важную роль играют допущения о случайности. Разумно предположить, что с вероятностью 1/3 автомобиль находится за дверью, первоначально выбранной участником.\n",
    "\n",
    "Исходя из этого предположения, решение проблемы довольно простое, хотя простое решение убеждает не всех. В любом случае вот оно.\n",
    "\n",
    "- Вероятность того, что автомобиль находится за первоначально выбранной дверью, составляет 1/3.\n",
    "- Автомобиль находится либо за первоначально выбранной дверью, либо за оставшейся дверью. Он не может быть где-нибудь еще.\n",
    "- Следовательно, вероятность того, что машина находится за оставшейся дверью, составляет 2/3.\n",
    "- Поэтому участник должен переключиться на другую дверь.\n",
    "\n",
    "Вот и все. Конец истории.\n",
    "\n",
    "Не убеждены? Тогда давайте смоделируем игру и посмотрим, какие получатся результаты."
   ]
  },
  {
   "cell_type": "markdown",
   "metadata": {},
   "source": [
    "## Моделирование\n",
    "Это моделирование будет более сложным, чем те, что мы делали до сих пор. Давайте разберемся.\n",
    "\n",
    "### Шаг 1. Что нужно моделировать\n",
    "Для каждой игры мы будем моделировать то, что находится за всеми тремя дверями: за той, которую сначала выбирает участник, за той, которую открывает Монти, и за оставшейся дверью.\n",
    "\n",
    "Таким образом, мы будем отслеживать не одну, а три величины.\n",
    "\n",
    "### Шаг 2. Моделирование одного раунда\n",
    "Основная часть нашей работы заключается в моделировании одного раунда игры. Оно состоит из нескольких частей.\n",
    "\n",
    "### Козлы\n",
    "Мы начнем с настройки массива `goats`, который содержит обычные имена для двух козлов."
   ]
  },
  {
   "cell_type": "code",
   "execution_count": 3,
   "metadata": {},
   "outputs": [],
   "source": [
    "goats = np.array(['first goat', 'second goat'])"
   ]
  },
  {
   "cell_type": "markdown",
   "metadata": {},
   "source": [
    "Чтобы помочь Монти провести игру, нам нужно будет определить, какой козел выбирается и какой обнаруживается за открытой дверью. Функция `other_goat` берет одного козла и возвращает другого."
   ]
  },
  {
   "cell_type": "code",
   "execution_count": 4,
   "metadata": {},
   "outputs": [],
   "source": [
    "def other_goat(x):\n",
    "    if x == 'first goat':\n",
    "        return 'second goat'\n",
    "    elif x == 'second goat':\n",
    "        return 'first goat'"
   ]
  },
  {
   "cell_type": "markdown",
   "metadata": {},
   "source": [
    "Давайте проверим, работает ли функция."
   ]
  },
  {
   "cell_type": "code",
   "execution_count": 5,
   "metadata": {},
   "outputs": [
    {
     "data": {
      "text/plain": [
       "('second goat', 'first goat', None)"
      ]
     },
     "execution_count": 5,
     "metadata": {},
     "output_type": "execute_result"
    }
   ],
   "source": [
    "other_goat('first goat'), other_goat('second goat'), other_goat('watermelon')"
   ]
  },
  {
   "cell_type": "markdown",
   "metadata": {},
   "source": [
    "Строка _watermelon_ не является именем одного из козлов, поэтому, когда в функцию `other_goat` вводится *watermelon*, она ничего не делает."
   ]
  },
  {
   "cell_type": "markdown",
   "metadata": {},
   "source": [
    "### Параметры\n",
    "Массив `hidden_behind_doors` содержит множество вещей, которые могут быть за дверями."
   ]
  },
  {
   "cell_type": "code",
   "execution_count": 6,
   "metadata": {},
   "outputs": [],
   "source": [
    "hidden_behind_doors = np.array(['car', 'first goat', 'second goat'])"
   ]
  },
  {
   "cell_type": "markdown",
   "metadata": {},
   "source": [
    "Теперь мы готовы смоделировать одну игру. Для этого мы определим функцию monty_hall_game, которая не принимает аргументы. Когда эта функция вызывается, она играет в игру Монти один раз и возвращает список, состоящий из:\n",
    "\n",
    "- предположения участника;\n",
    "- того, что показывает Монти, когда открывается дверь;\n",
    "- того, что остается за другой дверью.\n",
    "\n",
    "Игра начинается с того, что участник выбирает одну дверь наугад. При этом участник делает случайный выбор из автомобиля, первого козла и второго козла.\n",
    "\n",
    "Если участник выберет одного из козлов, то будет показан другой козел, а автомобиль окажется за оставшейся дверью.\n",
    "\n",
    "Если участник случайно выбирает автомобиль, то Монти показывает одного из козлов, а другой козел будет за оставшейся дверью."
   ]
  },
  {
   "cell_type": "code",
   "execution_count": 7,
   "metadata": {},
   "outputs": [],
   "source": [
    "def monty_hall_game():\n",
    "    \"\"\"Return\n",
    "    [contestant's guess, what Monty reveals, what remains behind the other door]\"\"\"\n",
    "\n",
    "    contestant_guess = np.random.choice(hidden_behind_doors)\n",
    "\n",
    "    if contestant_guess == 'first goat':\n",
    "        return [contestant_guess, 'second goat', 'car']\n",
    "\n",
    "    if contestant_guess == 'second goat':\n",
    "        return [contestant_guess, 'first goat', 'car']\n",
    "\n",
    "    if contestant_guess == 'car':\n",
    "        revealed = np.random.choice(goats)\n",
    "        return [contestant_guess, revealed, other_goat(revealed)]"
   ]
  },
  {
   "cell_type": "markdown",
   "metadata": {},
   "source": [
    "Давайте сыграем! Запустим ячейку несколько раз и посмотрим, как изменяются результаты."
   ]
  },
  {
   "cell_type": "code",
   "execution_count": 8,
   "metadata": {},
   "outputs": [
    {
     "data": {
      "text/plain": [
       "['car', 'first goat', 'second goat']"
      ]
     },
     "execution_count": 8,
     "metadata": {},
     "output_type": "execute_result"
    }
   ],
   "source": [
    "monty_hall_game()"
   ]
  },
  {
   "cell_type": "markdown",
   "metadata": {},
   "source": [
    "## Шаг 3. Количество повторений\n",
    "Чтобы измерить частоту, с которой возникают разные результаты, нам нужно много раз сыграть в игру и собрать результаты. Давайте запустим 10 000 повторений.\n",
    "\n",
    "## Шаг 4. Создание кода модели\n",
    "Настало время запустить всю модель.\n",
    "\n",
    "Мы сыграем в игру 10 000 раз и соберем результаты в таблицу. Каждая строка таблицы будет содержать результат одной игры.\n",
    "\n",
    "Один из способов увеличить таблицу путем добавления новой строки — использовать метод append. Если `my_table` — это таблица, а `new_row` — список, содержащий записи в новой строке, то `my_table.append(new_row)` добавляет новую строку в конец `my_table`.\n",
    "\n",
    "Метод `append` не создает новую таблицу. Он изменяет `my_table`, и в ней становится на одну строку больше, чем раньше.\n",
    "\n",
    "Сначала давайте создадим таблицу `games` тремя пустыми столбцами. Мы можем сделать это, просто указав список меток столбцов, как показано ниже."
   ]
  },
  {
   "cell_type": "code",
   "execution_count": 50,
   "metadata": {},
   "outputs": [],
   "source": [
    "games = pd.DataFrame(columns=['Guess', 'Revealed', 'Remaining'], index=np.arange(10000))"
   ]
  },
  {
   "cell_type": "markdown",
   "metadata": {},
   "source": [
    "Обратите внимание, что мы выбрали порядок столбцов, совпадающий с порядком, в котором `monty_hall_game` возвращает результат одной игры.\n",
    "\n",
    "Теперь мы можем добавить 10 000 строк в `trials`. Каждая строка будет представлять результат одного раунда игры Монти."
   ]
  },
  {
   "cell_type": "code",
   "execution_count": 51,
   "metadata": {},
   "outputs": [],
   "source": [
    "# Play the game 10000 times and\n",
    "# record the results in the table games\n",
    "\n",
    "for i in np.arange(10000):\n",
    "    games.loc[i] = monty_hall_game()"
   ]
  },
  {
   "cell_type": "markdown",
   "metadata": {},
   "source": [
    "Моделирование выполнено. Обратите внимание, насколько короткий код у нас получился. Большая часть работы была выполнена при моделировании результатов одного раунда."
   ]
  },
  {
   "cell_type": "markdown",
   "metadata": {},
   "source": [
    "## Визуализация\n",
    "Чтобы увидеть, должен ли участник придерживаться своего первоначального выбора или изменить его, давайте посмотрим, как часто автомобиль оказывается за каждым из двух вариантов."
   ]
  },
  {
   "cell_type": "code",
   "execution_count": 78,
   "metadata": {},
   "outputs": [
    {
     "data": {
      "text/plain": [
       "Guess\n",
       "car            3438\n",
       "first goat     3268\n",
       "second goat    3294\n",
       "dtype: int64"
      ]
     },
     "execution_count": 78,
     "metadata": {},
     "output_type": "execute_result"
    }
   ],
   "source": [
    "original_choice = games.groupby('Guess').size()\n",
    "original_choice"
   ]
  },
  {
   "cell_type": "code",
   "execution_count": 79,
   "metadata": {},
   "outputs": [
    {
     "data": {
      "text/plain": [
       "Remaining\n",
       "car            6562\n",
       "first goat     1783\n",
       "second goat    1655\n",
       "dtype: int64"
      ]
     },
     "execution_count": 79,
     "metadata": {},
     "output_type": "execute_result"
    }
   ],
   "source": [
    "remaining_door = games.groupby('Remaining').size()\n",
    "remaining_door"
   ]
  },
  {
   "cell_type": "markdown",
   "metadata": {},
   "source": [
    "Как говорилось в нашем предыдущем решении, автомобиль находится за оставшейся дверью в двух третях случаев, в весьма хорошем приближении. Участник получает в два раза больше шансов получить машину, если изменяет свой выбор, чем если придерживается первоначального выбора.\n",
    "\n",
    "Чтобы увидеть это графически, мы можем объединить две таблицы выше и нарисовать наложенные гистограммы."
   ]
  },
  {
   "cell_type": "code",
   "execution_count": 86,
   "metadata": {},
   "outputs": [
    {
     "data": {
      "text/html": [
       "<div>\n",
       "<style scoped>\n",
       "    .dataframe tbody tr th:only-of-type {\n",
       "        vertical-align: middle;\n",
       "    }\n",
       "\n",
       "    .dataframe tbody tr th {\n",
       "        vertical-align: top;\n",
       "    }\n",
       "\n",
       "    .dataframe thead th {\n",
       "        text-align: right;\n",
       "    }\n",
       "</style>\n",
       "<table border=\"1\" class=\"dataframe\">\n",
       "  <thead>\n",
       "    <tr style=\"text-align: right;\">\n",
       "      <th></th>\n",
       "      <th>Original Door</th>\n",
       "      <th>Remaining Door</th>\n",
       "    </tr>\n",
       "  </thead>\n",
       "  <tbody>\n",
       "    <tr>\n",
       "      <th>car</th>\n",
       "      <td>3438</td>\n",
       "      <td>6562</td>\n",
       "    </tr>\n",
       "    <tr>\n",
       "      <th>first goat</th>\n",
       "      <td>3268</td>\n",
       "      <td>1783</td>\n",
       "    </tr>\n",
       "    <tr>\n",
       "      <th>second goat</th>\n",
       "      <td>3294</td>\n",
       "      <td>1655</td>\n",
       "    </tr>\n",
       "  </tbody>\n",
       "</table>\n",
       "</div>"
      ],
      "text/plain": [
       "             Original Door  Remaining Door\n",
       "car                   3438            6562\n",
       "first goat            3268            1783\n",
       "second goat           3294            1655"
      ]
     },
     "execution_count": 86,
     "metadata": {},
     "output_type": "execute_result"
    }
   ],
   "source": [
    "joined = pd.concat([original_choice, remaining_door], axis=1) \\\n",
    "                                         .rename(columns={0: 'Original Door',\n",
    "                                                          1: 'Remaining Door'})\n",
    "joined"
   ]
  },
  {
   "cell_type": "code",
   "execution_count": 101,
   "metadata": {},
   "outputs": [
    {
     "data": {
      "image/png": "[encoded data removed]",
      "text/plain": [
       "<Figure size 432x288 with 1 Axes>"
      ]
     },
     "metadata": {},
     "output_type": "display_data"
    }
   ],
   "source": [
    "import seaborn as sns\n",
    "import matplotlib.pyplot as plt\n",
    "\n",
    "\n",
    "sns.set(style=\"white\")\n",
    "sns.set(style=\"whitegrid\", color_codes=True)\n",
    "\n",
    "ax = joined.plot.barh();"
   ]
  },
  {
   "cell_type": "markdown",
   "metadata": {},
   "source": [
    "Обратите внимание, что три синие полосы почти равны — исходный выбор с равной вероятностью может оказаться любым из трех доступных элементов. Но оранжевая полоса, соответствующая `car`, в два раза длиннее синей.\n",
    "\n",
    "Моделирование подтверждает, что у участника в два раза больше шансов на победу, если он изменит свой выбор."
   ]
  }
 ],
 "metadata": {
  "kernelspec": {
   "display_name": "Python 3",
   "language": "python",
   "name": "python3"
  },
  "language_info": {
   "codemirror_mode": {
    "name": "ipython",
    "version": 3
   },
   "file_extension": ".py",
   "mimetype": "text/x-python",
   "name": "python",
   "nbconvert_exporter": "python",
   "pygments_lexer": "ipython3",
   "version": "3.8.3"
  }
 },
 "nbformat": 4,
 "nbformat_minor": 4
}
