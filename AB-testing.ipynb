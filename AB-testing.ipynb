{
 "cells": [
  {
   "cell_type": "markdown",
   "metadata": {},
   "source": [
    "# A/B-тестирование"
   ]
  },
  {
   "cell_type": "markdown",
   "metadata": {},
   "source": [
    "*A/B-тест* — это эксперимент с двумя группами для определения того, какой из двух вариантов продуктов, процедур, лечения и других сравниваемых объектов лучше. Часто один вариант из двух является стандартным существующим вариантом или отсутствует вообще. Если используется стандартный вариант (или же он отсутствует), то он называется *контрольным*. Типичная гипотеза состоит в том, что предлагаемый вариант лучше контрольного.\n",
    "\n",
    "Надлежащий A/B-тест имеет испытуемых, которые могут быть отнесены к тому или иному варианту. Испытуемым может быть человек, саженец, посетитель вебсайта; главное, что испытуемому предлагается вариант эксперимента. В идеальном случае испытуемые рандомизируются (назначаются в произвольном порядке) по двум предлагаемым вариантам. Таким образом, вы знаете, что любая разница между тестовыми группами наблюдается вследствие одного из двух событий:\n",
    "\n",
    " - эффекта условий разных вариантов;\n",
    " - чистой случайности, с которой испытуемые назначаются вариантам (т. е. случайное назначение, возможно, привело к тому, что более результативные испытуемые были естественным образом сконцентрированы в группе A или группе B).\n",
    " \n",
    "Необходимо также обратить внимание на проверочную статистику — метрический показатель, который используется для сравнения группы A с группой B. Возможно, самым общепринятым метрическим показателем в науке о данных является двоичная переменная: нажатие или отсутствие нажатия, купить или воздержаться от покупки, мошенничество или не мошенничество и т. д. Эти результаты будут обобщены в таблице размера 2×2.\n",
    "\n",
    "|Исход| Цена A| Цена B|\n",
    "| --- | --- | --- |\n",
    "|Конверсия|200|182|\n",
    "|Нет конверсии|23539|22406|\n",
    "\n",
    "Если метрический показатель представлен непрерывной величиной (сумма покупки, прибыль и т. д.) или количеством (например, дни в стационаре, посещенные страницы), то результат может быть отображен по-разному. Если интересует не конверсия, а доход в расчете на один просмотр страницы, то результаты ценового теста в табл. 3.1 могут выглядеть как в стандартном выводе программной системы по умолчанию:\n",
    "\n",
    "```\n",
    "Доход/просмотр с ценой A: среднее = 3.87, СО = 51.10\n",
    "Дохода/просмотра с ценой B: среднее = 4.11, СО = 62.98\n",
    "```\n",
    "\n",
    "\"СО\" обозначает стандартное отклонение значений внутри каждой группы."
   ]
  },
  {
   "cell_type": "markdown",
   "metadata": {},
   "source": [
    "## Зачем нужна контрольная группа?\n",
    "\n",
    "Почему нельзя проигнорировать контрольную группу и просто выполнить эксперимент, применив целевой вариант только для одной группы и сравнив результат с предшествующим опытом?\n",
    "\n",
    "Без контрольной группы нет никакой гарантии, что \"прочие условия будут равными\" и что любая разница действительно возникает в силу варианта эксперимента (либо случайным образом). Когда есть контрольная группа, она подчиняется тем же условиям (за исключением целевого варианта), что и тестовая группа. Если просто сравнивать с \"базовым\" или предшествующим опытом, то помимо варианта могут разниться и другие факторы.\n",
    "\n",
    "Использование A/B-тестирования в науке о данных, как правило, находится в веб-контексте. В качестве вариантов эксперимента могут выступать дизайн веб-страницы, цена товара, формулировка заголовка объявления или какой-либо другой объект. Для того чтобы сохранить принципы рандомизации, необходимо серьезно продумать эксперимент. Обычно испытуемым в эксперименте является посетитель веб-сайта, а измеряемыми нами целевыми исходами — нажатия, покупки, продолжительность посещения, число посещаемых страниц, просмотрена ли определенная страница и т. п. В стандартном A/B-эксперименте нужно выбрать один метрический показатель заранее. Могут быть собраны и представлять интерес многочисленные метрические показатели поведения, но если эксперимент ожидаемо ведет к выбору между вариантом A и вариантом B, то одиночный метрический показатель (или проверочная статистика) должен быть установлен заранее. Выбор проверочной статистики после того, как эксперимент проведен, создает условие для смещения вследствие предвзятости исследователя."
   ]
  },
  {
   "cell_type": "markdown",
   "metadata": {},
   "source": [
    "> #### Ключевые идеи для A/B-тестирования\n",
    "> - Испытуемые распределяются на две (или более) групп, с которыми обращаются строго одинаково, за исключением того, что варианты отличаются один от другого.\n",
    "> - В идеальном случае испытуемые распределяются по группам в произвольном порядке."
   ]
  },
  {
   "cell_type": "markdown",
   "metadata": {},
   "source": [
    "## Ограничения A/B-тестирования\n",
    "\n",
    "Метод A/B-тестирования имеет две проблемы.\n",
    "\n",
    "__Результаты могут быть обычным совпадением.__ По чистой случайности неудачная реклама может превзойти лучшую. Для большей уверенности в результатах мы можем увеличить число людей, которым показываются разные версии, но это и приводит нас ко второй проблеме.\n",
    "\n",
    "__Возможная потеря прибыли.__ Увеличивая число людей, которым мы будем показывать разные версии рекламы со 100 до 200, мы удваиваем показ менее успешной рекламы, что может привести к потере покупателей, которых бы убедила лучшая версия.\n",
    "\n",
    "Две эти проблемы показывают компромисс A/B-тестирования: эксплорация против эксплуатации. Если увеличить число людей для тестирования рекламы (эксплорация), то можно надежнее выявить, какая из версий лучше, но будут потеряны возможные покупатели, которые могли совер- шить покупки, увидев лучшую рекламу (эксплуатация).\n",
    "\n",
    "### Стратегия снижения эпсилона\n",
    "\n",
    "В то время как A/B-тестирование подразумевает, что исследование того, какая из версий лучше, предшествует ее применению, нам в действительности необязательно ждать окончания эксплорации до начала эксплуатации.\n",
    "\n",
    "Если у первых 100 посетителей реклама A собрала больше кликов, чем реклама B, то для следующих 100 посетителей мы можем увеличить ее показ на 60%, снизив показ рекламы B до 40%. Это позволит нам применить уже первоначальные результаты, говорящие о большей эффективности версии A, не мешая продолжать исследование на случай, если эффективность версии B улучшится. Чем больше результаты будут свидетельствовать в пользу рекламы A, тем меньше мы будем показывать рекламу B.\n",
    "\n",
    "Этот подход называется стратегией снижения эпсилона (Epsilon-Decreasing Strategy). Эпсилоном обозначается доля времени, которая тратится на показ альтерна- тивы для подтверждения ее низкой эффективности. Поскольку мы снижаем эпсилон по мере укрепления нашей уверенности в том, что одна из версий лучше, этот метод принадлежит к классу алгоритмов обучения с подкреплением.\n",
    "\n",
    "### Многорукие бандиты\n",
    "\n",
    "Типичным примером для иллюстрации различий между A/B-тестированием и стратегией снижения эпсилона является игровой автомат по типу слот-машины. Предположим, что слот-машины имеют разный коэффициент отдачи, а цель игрока, выбрать ту из них, которая обеспечит лучший выигрыш.\n",
    "\n",
    "Слот-машины прозвали однорукими бандитами за их умение с каждым нажатием рычага опустошать карманы игроков. Выбор того, на какой из слот-машин играть, известен как проблема многорукого бандита, как теперь называют любую схожую задачу с распределением ресурсов, например то, какую онлайн-рекламу показывать, какие темы освежить перед экзаменом или какие фармацевтические исследования профинансировать.\n",
    "\n",
    "Предположим, что выбирать нужно из двух слот-машин, A и B, а у нас достаточно денег, чтобы сыграть на них 2000 раз. Во время каждой игры мы дергаем рычаг, что может принести нам \\\\$ 1 или не вернуть ничего.\n",
    "\n",
    "|Слот-машина| Коэфициент отдачи|\n",
    "| --- | --- |\n",
    "|A|0.5|\n",
    "|B|0.4|"
   ]
  },
  {
   "cell_type": "markdown",
   "metadata": {},
   "source": [
    "Итак, шанс выплаты составляет 50% для слот-машины A и 40% для слот-машины B. Тем не менее нам это неизвестно. Вопрос в том, как нам играть, чтобы максимизи- ровать выигрыш.\n",
    "\n",
    "Давайте сравним возможные стратегии.\n",
    "\n",
    "__Полная эксплорация.__ Если мы играем на слот-машинах по очереди, то получим \\\\$ 900.\n",
    "\n",
    "__A/B-тестирование.__ Если мы применим A/B-тестирование на первых 200 играх, а затем используем это знание для следующих 1800 игр, то сможем выиграть в среднем \\\\$ 976. Но здесь есть подводный камень: поскольку коэффициент отдачи обеих слот-машин схож, есть 8%-ный шанс, что мы ошибочно сочтем наиболее выгодной слот-машину B.\n",
    "Чтобы снизить риск такой ошибки, мы можем увеличить эксплорацию до 500 игр. Это уменьшит вероятность ошибки до 1%, но наш выигрыш тоже упадет до \\\\$ 963.\n",
    "\n",
    "__Стратегия снижения эпсилона.__ Если мы используем стратегию снижения эпсилона, чтобы во время игр отдавать приоритет более щедрой слот-машине, то сможем выиграть в среднем \\\\$ 984 при 4%-ной вероятности ошибки. Мы можем снизить риск ошибки путем увеличения доли эксплорации (значения эпсилона), но, как и прежде, это повлияло бы на наш выигрыш.\n",
    "\n",
    "__Полная эксплуатация.__ Если мы располагаем инсайдерской информацией о том, что слот-машина A возвращает больше, мы эксплуатируем ее с самого начала, рассчиты- вая в среднем на \\\\$ 1000. Но это (почти) недостижимо."
   ]
  },
  {
   "cell_type": "markdown",
   "metadata": {},
   "source": [
    "# Проверка статистических гипотез\n",
    "\n",
    "Проверки статистических гипотез, так называемые проверки значимости, получили широкое распространение в традиционном статистическом анализе, который встречается в публикуемых исследованиях. Цель таких проверок состоит в том, чтобы выяснить, может ли наблюдаемый эффект вызываться случайной возможностью.\n",
    "\n",
    "A/B-тест, как правило, конструируется с учетом гипотезы. Например, гипотеза может заключаться в том, что цена B приносит более высокую прибыль. Зачем нужна гипотеза? Почему нельзя просто взглянуть на результат эксперимента и остановиться на любом варианте, который работает лучше?\n",
    "\n",
    "Ответ заключается в склонности человеческого разума недооценивать размах естественного случайного поведения. Одно из проявлений этой склонности состоит в неумении предвидеть предельные события или так называемых \"черных лебедей\". Еще одним ее проявлением является тенденция неправильно истолковывать случайные события, как имеющие признаки какой-либо значимости. Статистическая проверка гипотез была изобретена как способ защитить исследователей от того, чтобы оказаться обманутым случайной возможностью.\n",
    "\n",
    "В надлежащем образом разработанном A/B-тесте вы собираете данные о вариантах A и B таким образом, что любая наблюдаемая разница между A и B должна произойти вследствие одного из двух:\n",
    "- случайной возможности в назначении испытуемых в группы;\n",
    "- истинной разницы между A и B.\n",
    "\n",
    "Статистическая проверка гипотез является дальнейшим анализом A/B-теста либо любого рандомизированного эксперимента с целью установить, является ли случайная возможность разумным объяснением наблюдаемой разницы между группами A и B.\n",
    "\n",
    "## Нулевая гипотеза\n",
    "В проверках гипотез используется следующая логика: \"С учетом склонности человека реагировать на необычное, но случайное поведение и интерпретировать его как нечто содержательное и реальное, в наших экспериментах нам потребуются доказательства, что разница между группами является более предельной, чем та, которую могла бы обоснованно породить случайность\". Эта логика сопряжена с базовым предположением, что варианты эквивалентны, и любая разница между группами является случайной. Это базовое предположение называется нулевой гипотезой. И наша надежда тогда состоит в том, что мы сможем на деле доказать неправильность нулевой гипотезы и показать, что исходы для групп A и B отличаются больше, чем то, что может породить случайность.\n",
    "Один из путей это сделать лежит через процедуру перетасовки на основе повторного отбора, в которой мы перемешиваем результаты групп A и B и далее неоднократно раздаем данные в группы аналогичных размеров, затем наблюдаем, как часто мы получаем такую же предельную разницу, что и наблюдаемая разница.\n",
    "\n",
    "## Альтернативная гипотеза\n",
    "Проверки гипотез по их природе сопряжены не только с нулевой гипотезой, но и с компенсирующей ее альтернативной гипотезой. Вот несколько примеров:\n",
    "- нулевая гипотеза — \"разницы между средними в группе A и группе B нет\", альтернативная гипотеза — \"A отличается от B\" (может быть больше или меньше);\n",
    "- нулевая гипотеза — \"A ≤ B\", альтернативная — \"B > A\";\n",
    "- нулевая гипотеза — \"B не больше A на X%\", альтернативная — \"B больше A на X%\".\n",
    "\n",
    "Взятые вместе нулевая и альтернативная гипотезы охватывают абсолютно все имеющиеся возможности. Природа нулевой гипотезы определяет структуру про- верки гипотезы.\n",
    "\n",
    "## Односторонняя и двухсторонняя проверки гипотез\n",
    "Нередко в A/B-тесте вы проверяете новую возможность (скажем, B) против заданной по умолчанию возможности (A) и презюмируете, что будете придерживаться возможности по умолчанию, если только новая возможность не окажется определенно лучше. В таком случае при проверке гипотезы вам потребуется защититься от того, чтобы не обмануться случайностью в пользу B. Вы не заботитесь о том, чтобы быть обманутым случайностью в другом направлении, потому что останетесь на стороне A, если B не окажется определенно лучше. Поэтому вам нужна направленная альтернативная гипотеза (B лучше A). В таком случае вы используете одностороннюю (т. е. с одним хвостом) проверку гипотезы. Это означает, что пре- дельный шанс приводит только к однонаправленному подсчету в сторону p-значения.\n",
    "\n",
    "Если вы хотите, чтобы проверка гипотезы защитила вас от обмана случайностью в любом направлении, то альтернативная гипотеза является двунаправленной (A отличается от B и может быть больше или меньше). В таком случае вы используете двустороннюю (или с двумя хвостами) гипотезу. Это означает, что предельный шанс приводит к двунаправленному подсчету в сторону p-значения.\n",
    "\n",
    "Проверка гипотезы с одним хвостом часто соответствует природе принятия решения в A/B-тестировании, в котором принятие решения обязательно, и одной возможности обычно присваивается состояние \"по умолчанию\", если другая не оказывается лучше. Однако программные системы, включая R, как правило, предоставляют на выходе двухстороннюю проверку (с двумя хвостами) по умолчанию, и многие специалисты в области статистики отдают предпочтение более консервативной двухсторонней проверке, только чтобы предотвратить полемику. Тема различий между проверками с одним хвостом или с двумя хвостами является довольно запутанной и не имеет прямого отношения к науке о данных, где точность расчетов p-значения не слишком важна.\n",
    "\n",
    "> #### Ключевые идеи для проверки статистических гипотез\n",
    "> - Нулевая гипотеза — это логическая конструкция, воплощающая утверждение, что ничего особенного не произошло, и любой эффект, который вы наблюдаете, происходит в силу случайной возможности.\n",
    "> - Проверка статистической гипотезы предполагает, что нулевая гипотеза является истинной, создает \"нулевую модель\" (вероятностную модель) и проверяет, является ли эффект, который вы наблюдаете, разумным результатом этой модели."
   ]
  },
  {
   "attachments": {},
   "cell_type": "markdown",
   "metadata": {},
   "source": [
    "# Повторный отбор\n",
    "\n",
    "Повторный отбор в статистике означает многократное извлечение выборочных значений из наблюдаемых данных с общей целью определения случайной вариабельности в статистической величине. Этот метод также может использоваться для диагностики и улучшения точности некоторых машинно-обучаемых моделей (например, предсказания в моделях на основе деревьев решений, построенных на многократно бутстрапированных данных, которые могут быть усреднены в результате процесса, известного как бэггинг.\n",
    "\n",
    "Существует два главных типа процедур повторного отбора: бутстрап и перестановка. Бутстрап используется для определения надежности оценки. Перестановочные тесты применяются для проверки гипотез и, как правило, сопряжены с двумя или более группами.\n",
    "\n",
    "## Перестановочный тест\n",
    "\n",
    "В процедуре перестановки задействуются две или более выборок, как правило, группы в A/B-тесте или другой проверке гипотезы. Перестановка означает изменение порядка следования значений, или их пермутацию. Первый шаг в перестановочной проверке гипотезы состоит в объединении результатов из групп A и B (и групп C, D, ..., если они используются). В этом заключается логическое воплощение нулевой гипотезы — варианты, которые были предложены группам, не различаются. Затем мы тестируем эту гипотезу путем произвольной выемки групп из этого объединенного набора и смотрим, насколько они отличаются друг от друга. Перестановочная процедура следующая:\n",
    "\n",
    "1. Объединить результаты из разных групп в один набор данных.\n",
    "2. Перетасовать объединенные данные, затем в произвольном порядке вынуть (без возврата) повторную выборку того же размера, что и группа A.\n",
    "3. Из оставшихся данных в произвольном порядке вынуть (без возврата) повторную выборку того же размера, что и группа B.\n",
    "4. Сделать то же для групп C, D и т. д.\n",
    "5. В зависимости от вычисленной для исходных выборок статистики или оценки (например, разница в долях групп) теперь рассчитать ее для повторных выборок и записать; это будет одной итерацией перестановки.\n",
    "6. Повторить предыдущие шаги R раз для получения перестановочного распреде- ления проверочной статистики.\n",
    "\n",
    "Теперь вернемся к наблюдаемой разнице между группами и сравним ее с набором перестановочных разниц. Если наблюдаемая разница убедительно лежит в пределах набора перестановочных разниц, то мы ничего не доказали — наблюдаемая разница находится внутри диапазона того, что может породить случайность. Однако если наблюдаемая разница лежит вне большей части перестановочного распределения, то мы приходим к заключению, что случайность не несет ответственности. Говоря техническим языком, разница является *статистически значимой*.\n",
    "\n",
    "## Пример: прилипчивость веб-страниц\n",
    "Компания, продающая относительно дорогостоящую услугу, хочет протестировать, какой из двух лендингов справляется с продажей лучше. Ввиду дороговизны продаваемой услуги, продажи случаются нечасто, и цикл продаж продолжительный; аккумулирование достаточного количества продаж с целью узнать, какая посадочная страница лучше, заняло бы слишком много времени. Поэтому компания решает измерить результаты при помощи эрзац-переменной, используя подробную внутреннюю страницу веб-сайта, в которой описывается услуга.\n",
    "\n",
    "Одна из потенциальных эрзац-переменных для нашего случая — это число нажатий на подробной посадочной странице. Еще лучше — сколько времени люди проводят на странице. Разумно полагать, что посадочная страница, которая задерживает внимание людей дольше, приведет к большему количеству продаж. Следовательно, при сравнении страницы A со страницей B нашим метрическим показателем будет среднее время сеанса.\n",
    "\n",
    "Речь идет о внутренней странице специального назначения, поэтому она не получает огромного числа посетителей. Также стоит отметить, что служба Google Analytics (GA), при помощи которой мы измеряем время сеанса, не может измерить время сеанса последнего посещения страницы клиентом. Вместо того чтобы удалить этот сеанс из данных, GA записывает его как 0, поэтому данные требуют доработки, чтобы удалить эти сеансы. В результате получается в общей сложности 36 сеансов для двух разных презентаций: 21 сеанс для страницы A и 15 сеансов для страницы B."
   ]
  },
  {
   "cell_type": "code",
   "execution_count": 11,
   "metadata": {},
   "outputs": [],
   "source": [
    "import pandas as pd\n",
    "import numpy as np\n",
    "import matplotlib.pyplot as plt\n",
    "import seaborn as sns\n",
    "sns.set(style=\"white\", color_codes=True)"
   ]
  },
  {
   "cell_type": "code",
   "execution_count": 4,
   "metadata": {},
   "outputs": [],
   "source": [
    "data = pd.read_csv('~/web_page_data.csv')"
   ]
  },
  {
   "cell_type": "code",
   "execution_count": 6,
   "metadata": {},
   "outputs": [
    {
     "data": {
      "text/html": [
       "<div>\n",
       "<style scoped>\n",
       "    .dataframe tbody tr th:only-of-type {\n",
       "        vertical-align: middle;\n",
       "    }\n",
       "\n",
       "    .dataframe tbody tr th {\n",
       "        vertical-align: top;\n",
       "    }\n",
       "\n",
       "    .dataframe thead th {\n",
       "        text-align: right;\n",
       "    }\n",
       "</style>\n",
       "<table border=\"1\" class=\"dataframe\">\n",
       "  <thead>\n",
       "    <tr style=\"text-align: right;\">\n",
       "      <th></th>\n",
       "      <th>Page</th>\n",
       "      <th>Time</th>\n",
       "    </tr>\n",
       "  </thead>\n",
       "  <tbody>\n",
       "    <tr>\n",
       "      <th>0</th>\n",
       "      <td>Page A</td>\n",
       "      <td>0.21</td>\n",
       "    </tr>\n",
       "    <tr>\n",
       "      <th>1</th>\n",
       "      <td>Page B</td>\n",
       "      <td>2.53</td>\n",
       "    </tr>\n",
       "    <tr>\n",
       "      <th>2</th>\n",
       "      <td>Page A</td>\n",
       "      <td>0.35</td>\n",
       "    </tr>\n",
       "    <tr>\n",
       "      <th>3</th>\n",
       "      <td>Page B</td>\n",
       "      <td>0.71</td>\n",
       "    </tr>\n",
       "    <tr>\n",
       "      <th>4</th>\n",
       "      <td>Page A</td>\n",
       "      <td>0.67</td>\n",
       "    </tr>\n",
       "  </tbody>\n",
       "</table>\n",
       "</div>"
      ],
      "text/plain": [
       "     Page  Time\n",
       "0  Page A  0.21\n",
       "1  Page B  2.53\n",
       "2  Page A  0.35\n",
       "3  Page B  0.71\n",
       "4  Page A  0.67"
      ]
     },
     "execution_count": 6,
     "metadata": {},
     "output_type": "execute_result"
    }
   ],
   "source": [
    "data.head()"
   ]
  },
  {
   "cell_type": "markdown",
   "metadata": {},
   "source": [
    "Используя программный пакет `seaborn`, можно визуально сравнить времена сеансов при помощи парных коробчатых диаграмм:"
   ]
  },
  {
   "cell_type": "code",
   "execution_count": 12,
   "metadata": {},
   "outputs": [
    {
     "data": {
      "image/png": "[encoded data removed]",
      "text/plain": [
       "<Figure size 432x288 with 1 Axes>"
      ]
     },
     "metadata": {},
     "output_type": "display_data"
    }
   ],
   "source": [
    "sns.boxplot(x='Page', y='Time', data=data);"
   ]
  },
  {
   "cell_type": "markdown",
   "metadata": {},
   "source": [
    "Коробчатая диаграмма говорит о том, что страница B приводит к более продолжительным сеансам, чем страница A. Средние для каждой группы могут быть вычислены следующим образом:"
   ]
  },
  {
   "cell_type": "code",
   "execution_count": 32,
   "metadata": {},
   "outputs": [],
   "source": [
    "mean_b = data.query('Page == \"Page B\"')['Time'].mean()\n",
    "mean_a = data.query('Page == \"Page A\"')['Time'].mean()"
   ]
  },
  {
   "cell_type": "code",
   "execution_count": 31,
   "metadata": {},
   "outputs": [
    {
     "data": {
      "text/html": [
       "<div>\n",
       "<style scoped>\n",
       "    .dataframe tbody tr th:only-of-type {\n",
       "        vertical-align: middle;\n",
       "    }\n",
       "\n",
       "    .dataframe tbody tr th {\n",
       "        vertical-align: top;\n",
       "    }\n",
       "\n",
       "    .dataframe thead th {\n",
       "        text-align: right;\n",
       "    }\n",
       "</style>\n",
       "<table border=\"1\" class=\"dataframe\">\n",
       "  <thead>\n",
       "    <tr style=\"text-align: right;\">\n",
       "      <th></th>\n",
       "      <th>Time</th>\n",
       "    </tr>\n",
       "    <tr>\n",
       "      <th>Page</th>\n",
       "      <th></th>\n",
       "    </tr>\n",
       "  </thead>\n",
       "  <tbody>\n",
       "    <tr>\n",
       "      <th>Page A</th>\n",
       "      <td>NaN</td>\n",
       "    </tr>\n",
       "    <tr>\n",
       "      <th>Page B</th>\n",
       "      <td>0.356667</td>\n",
       "    </tr>\n",
       "  </tbody>\n",
       "</table>\n",
       "</div>"
      ],
      "text/plain": [
       "            Time\n",
       "Page            \n",
       "Page A       NaN\n",
       "Page B  0.356667"
      ]
     },
     "execution_count": 31,
     "metadata": {},
     "output_type": "execute_result"
    }
   ],
   "source": [
    "data.groupby('Page').mean().diff() # .to_numpy()[1]"
   ]
  },
  {
   "cell_type": "markdown",
   "metadata": {},
   "source": [
    "Времена сеансов страницы B продолжительнее в среднем на 0.35 секунды в отличие от страницы A. Вопрос состоит в том, находится ли эта разница внутри диапазона того, что может породить случайная возможность, или же, напротив, является статистически значимой. Один из способов ответить на этот вопрос состоит в том, чтобы применить перестановочный тест — объединить все времена сеансов, затем многократно перетасовать и поделить их на группы, состоящие из 21 элемента (вспомним, что n = 21 для страницы A) и из 15 элементов (n = 15 для B)."
   ]
  },
  {
   "cell_type": "code",
   "execution_count": 33,
   "metadata": {},
   "outputs": [
    {
     "data": {
      "text/plain": [
       "Page\n",
       "Page A    21\n",
       "Page B    15\n",
       "dtype: int64"
      ]
     },
     "execution_count": 33,
     "metadata": {},
     "output_type": "execute_result"
    }
   ],
   "source": [
    "data.groupby('Page').size()"
   ]
  },
  {
   "cell_type": "markdown",
   "metadata": {},
   "source": [
    "Для того чтобы применить перестановочный тест, нам нужна функция, которая будет произвольно назначать 36 времен сеансов группе из 21 элемента (страница A) и группе из 15 элементов (страница B):"
   ]
  },
  {
   "cell_type": "code",
   "execution_count": 35,
   "metadata": {},
   "outputs": [],
   "source": [
    "from typing import List"
   ]
  },
  {
   "cell_type": "markdown",
   "metadata": {},
   "source": [
    "```R\n",
    "perm_fun <- function(x, n1, n2) {\n",
    "  n <- n1 + n2\n",
    "  idx_b <- sample(1:n, n1)\n",
    "  idx_a <- setdiff(1:n, idx_b)\n",
    "  mean_diff <- mean(x[idx_b]) - mean(x[idx_a])\n",
    "  return(mean_diff)\n",
    "}\n",
    "```\n",
    "\n",
    "Данная функция работает путем отбора индексов `n2` без возврата и отнесения их к группе B; оставшиеся индексы `n1` назначаются группе A. Функция возвращает разницу между двумя средними. Вызов этой функции в количестве `R=1000` раз и установка `n2=15` и `n1=21` приводит к перераспределению разниц во временах сеансов, которые могут быть отображены в виде гистограммы.\n"
   ]
  },
  {
   "cell_type": "code",
   "execution_count": 69,
   "metadata": {},
   "outputs": [],
   "source": [
    "def perm_fun(data: List[float], n: int) -> float:\n",
    "    b = data.sample(n)\n",
    "    a = data[~data.index.isin(b.index)]\n",
    "    return b.mean() - a.mean()"
   ]
  },
  {
   "cell_type": "code",
   "execution_count": 72,
   "metadata": {},
   "outputs": [],
   "source": [
    "perm_diffs = [perm_fun(data.Time, 21) for _ in range(1000)]"
   ]
  },
  {
   "cell_type": "code",
   "execution_count": 87,
   "metadata": {},
   "outputs": [
    {
     "data": {
      "image/png": "[encoded data removed]",
      "text/plain": [
       "<Figure size 432x288 with 1 Axes>"
      ]
     },
     "metadata": {},
     "output_type": "display_data"
    }
   ],
   "source": [
    "plt.hist(perm_diffs, alpha=.8, bins=10)\n",
    "plt.xlabel('Разницы во времени сессий, с')\n",
    "plt.axvline(x=mean_b-mean_a , ls='--', color='y');"
   ]
  },
  {
   "cell_type": "markdown",
   "metadata": {},
   "source": [
    "Гистограмма показывает, что средняя разница произвольных перестановок превышает наблюдаемую разницу во временах сеансов (вертикальная линия). Это свидетельствует о том, что наблюдаемая разница во временах сеансов между страницами A и B находится далеко внутри диапазона случайной вариации и, следовательно, не является статистически значимой."
   ]
  },
  {
   "cell_type": "markdown",
   "metadata": {},
   "source": [
    "## Исчерпывающий и бутстраповский перестановочные тесты\n",
    "\n",
    "В дополнение к предыдущей процедуре произвольной перетасовки, также именуемой произвольным перестановочным тестом, или рандомизационным тестом, существуют два варианта перестановочного теста:\n",
    "- исчерпывающий перестановочный тест;\n",
    "- бутстраповский перестановочный тест.\n",
    "\n",
    "В исчерпывающем перестановочном тесте вместо простой произвольной перетасовки и разделения данных мы фактически выясняем все возможные способы, которыми они могут быть разделены. Это практически осуществимо только для относительно небольших размеров выборок. При большом количестве повторных перетасовок результаты случайного перестановочного теста аппроксимируют результаты исчерпывающего перестановочного теста и приближаются к ним в пределе. Исчерпывающие перестановочные тесты также иногда именуются точными тестами из-за их статистического свойства, которое гарантирует, что нулевая модель не протестируется как \"значимая\" больше уровня значимости $α$ в тесте.\n",
    "\n",
    "В бутстраповском перестановочном тесте выемки, кратко описанные в шагах 2 и 3 случайного перестановочного теста, делаются с возвратом, а не без возврата. Тем самым процедура повторного отбора моделирует не только случайный элемент при отнесении испытуемого к варианту, но и случайный отбор испытуемых из популяции. Обе процедуры встречаются в статистике, и разница между ними носит довольно замысловатый характер и не имеет особой важности в практике науки о данных.\n",
    "\n",
    "### Перестановочные тесты: сухой остаток для науки о данных\n",
    "Перестановочные тесты являются полезными эвристическими процедурами для исследования роли случайной вариации. Они относительно легко программируются, интерпретируются и объясняются. Они также предлагают полезный обходной путь вместо формализма и \"ложного детерминизма\" статистики, основанной на формулах.\n",
    "\n",
    "Одно из достоинств повторного отбора, в отличие от подходов на основе формул, состоит в том, что он почти вплотную сближается с универсальным (\"единым для всех\") подходом к статистическому выводу. Данные могут быть десятичными или двоичными. Размеры выборок могут быть одинаковыми или разными. Предположения о нормально распределенных данных не требуются.\n",
    "\n",
    "> #### Ключевые идеи для повторного отбора\n",
    "- В перестановочном тесте многочисленные выборки объединяются и далее перетасовываются.\n",
    "- Перетасованные значения далее делятся на изымаемые повторно выборки, и затем вычисляется целевая статистика.\n",
    "- Этот процесс повторяется, и повторно опробованная статистика сводится в таблицу.\n",
    "- Сравнение наблюдаемого значения статистики с повторно опробованным распределением позволяет судить, могла ли наблюдаемая разница между выборками произойти случайно."
   ]
  },
  {
   "cell_type": "markdown",
   "metadata": {},
   "source": [
    "# Статистическая значимость и p-значения\n",
    "\n",
    "Статистическая значимость описывает, как специалисты в области статистики измеряют статистический эксперимент (или вообще любое статистическое исследование существующих данных), отвечая на вопрос: дает ли эксперимент более предельный результат, чем тот, который может породить случайность?\n",
    "\n",
    "Если результат лежит за рамками случайной вариации, то говорят, что он является статистически значимым.\n",
    "\n",
    "\n",
    "> #### Ключевые термины\n",
    "> - **P-значение (P-value)** С учетом случайной модели, которая воплощает нулевую гипотезу, p-значение является вероятностью получения столь же необычных или предельных результатов, что и наблюдаемые результаты.\n",
    "> - **Альфа ($α$, alpha)** Вероятностный порог \"необычности\", который случайные результаты должны превзойти, чтобы фактические исходы считались статистически значимыми. Синонимы: уровень значимости.\n",
    "> - **Ошибка 1-го рода (type 1 error)** Ошибочный вывод о том, что эффект — реальный (в то время, как он случайный).\n",
    "> - **Ошибка 2-го рода (type 2 error)** Ошибочный вывод о том, что эффект — случайный (в то время, как он реальный)."
   ]
  },
  {
   "cell_type": "markdown",
   "metadata": {},
   "source": [
    "Рассмотрим результаты веб-теста, показанного ранее.\n",
    "\n",
    "|Исход| Цена A| Цена B|\n",
    "| --- | --- | --- |\n",
    "|Конверсия|200|182|\n",
    "|Нет конверсии|23539|22406|\n",
    "\n",
    "Цена A конвертирует (т. е. превращает посетителей в покупателей) почти на 5% лучше, чем цена B (0,8425% против 0,8057% — разность 0,0368 процентных пунктов); это достаточно весомый результат, чтобы компания была значимой в крупно- масштабном бизнесе. Здесь имеется более 45000 точек данных, и возникает соблазн рассматривать их как \"большие данные\", не требуя проверок статистической значимости (необходимой главным образом, чтобы учитывать выборочную вариабельность в небольших выборках). Однако уровень конверсии настолько низкий (менее 1%), что фактические содержательные значения — конверсии — находятся лишь в сотых долях, при этом необходимый размер выборки действительно определяется этими конверсиями.\n",
    "\n",
    "Мы можем проверить, лежит ли разность в конверсиях между ценами A и B внутри диапазона случайной вариации, воспользовавшись процедурой повторного отбора. Под \"случайной вариацией\" мы подразумеваем случайную вариацию, порожденную вероятностной моделью, которая воплощает нулевую гипотезу, что нет никакой разницы между уровнями конверсии. Следующая перестановочная процедура ставит вопрос: если этим двум ценам присущ один и тот же уровень конверсии, то сможет ли случайная вариация привести к разнице на целых 5%?\n",
    "\n",
    "1. Создать коробку со всеми выборочными результатами: она будет представлять воображаемый совместный уровень конверсии из 382 единиц и 45,945 нулей — 0,008246=0,8246%.\n",
    "2. Перетасовать и вынуть повторную выборку размера 23,739 (число n такое же, что и у цены A) и записать количество единиц.\n",
    "3. Записать число единиц в оставшихся 22,588 (число n такое же, что и у цены B).\n",
    "4. Записать разницу в виде доли единиц.\n",
    "5. Повторить шаги 2–4.\n",
    "\n",
    "Как часто наблюдалась разница ≥ 0,0368?"
   ]
  },
  {
   "cell_type": "code",
   "execution_count": 88,
   "metadata": {},
   "outputs": [],
   "source": [
    "obs_pct_diff = 100 * (200/23739 - 182/22588)"
   ]
  },
  {
   "cell_type": "code",
   "execution_count": 89,
   "metadata": {},
   "outputs": [],
   "source": [
    "conversion = [0] * 45945 + [1] * 382"
   ]
  },
  {
   "cell_type": "code",
   "execution_count": 90,
   "metadata": {},
   "outputs": [],
   "source": [
    "import random"
   ]
  },
  {
   "cell_type": "code",
   "execution_count": 94,
   "metadata": {},
   "outputs": [],
   "source": [
    "def perm_fun(x: List[int], n: int) -> float:\n",
    "    random.shuffle(x)\n",
    "    b, a = x[:n+1], x[n:]\n",
    "    return np.mean(b) - np.mean(a)"
   ]
  },
  {
   "cell_type": "code",
   "execution_count": 95,
   "metadata": {},
   "outputs": [],
   "source": [
    "perm_diffs = [100 * perm_fun(conversion, 23739) for _ in range(1000)]"
   ]
  },
  {
   "cell_type": "code",
   "execution_count": 135,
   "metadata": {},
   "outputs": [],
   "source": [
    "# Вот два конца интервала средних 95% разниц средних повторных выборок:\n",
    "left = np.percentile(perm_diffs, 2.5)\n",
    "right = np.percentile(perm_diffs, 97.5)"
   ]
  },
  {
   "cell_type": "code",
   "execution_count": 137,
   "metadata": {},
   "outputs": [
    {
     "data": {
      "image/png": "[encoded data removed]",
      "text/plain": [
       "<Figure size 432x288 with 1 Axes>"
      ]
     },
     "metadata": {},
     "output_type": "display_data"
    }
   ],
   "source": [
    "plt.hist(perm_diffs, alpha=.8, bins=10)\n",
    "plt.xlabel('Разницы во времени сессий, с')\n",
    "plt.plot(np.array([left, right]), np.array([0, 0]), color='yellow', lw=5, zorder=1) # доверительный интервал\n",
    "plt.axvline(x=obs_pct_diff , ls='--', color='y', label='Наблюдаемая разница')\n",
    "plt.legend(frameon=False);"
   ]
  },
  {
   "cell_type": "markdown",
   "metadata": {},
   "source": [
    "Посмотрим на гистограмму из 1000 повторно опробованных результатов; как оказалось, в данном случае наблюдаемая разница 0,0368% лежит далеко внутри диапазона случайной вариации."
   ]
  },
  {
   "cell_type": "markdown",
   "metadata": {},
   "source": [
    "## p-Значение\n",
    "Простой осмотр графика — не очень точный способ измерить статистическую значимость, поэтому бóльший интерес вызывает $p$-значение. Это частота, с которой случайная модель приводит к результату, более предельному, чем наблюдаемый результат. Мы можем оценить $p$-значение из нашего перестановочного теста путем взятия доли количества раз, когда перестановочный тест порождает разницу, равную или бóльшую, чем наблюдаемое различие:"
   ]
  },
  {
   "cell_type": "code",
   "execution_count": 114,
   "metadata": {},
   "outputs": [
    {
     "data": {
      "text/plain": [
       "0.306"
      ]
     },
     "execution_count": 114,
     "metadata": {},
     "output_type": "execute_result"
    }
   ],
   "source": [
    "np.mean(np.array(perm_diffs) >= obs_pct_diff)"
   ]
  },
  {
   "cell_type": "markdown",
   "metadata": {},
   "source": [
    "$p$-Значение составляет 0,306, что означает, что мы более 30% времени ожидаемо будем достигать такого же предельного результата, как и этот, или более предельного в силу случайной возможности.\n",
    "\n",
    "В данном случае, чтобы получить $p$-значение, нам не нужно было использовать перестановочный тест. Поскольку имеется биномиальное распределение, мы можем аппроксимировать $p$-значение при помощи нормального распределения."
   ]
  },
  {
   "cell_type": "code",
   "execution_count": 110,
   "metadata": {},
   "outputs": [],
   "source": [
    "from statsmodels.stats.proportion import proportions_ztest # аналог prop.test в R"
   ]
  },
  {
   "cell_type": "code",
   "execution_count": 149,
   "metadata": {},
   "outputs": [
    {
     "name": "stdout",
     "output_type": "stream",
     "text": [
      "0.331\n"
     ]
    }
   ],
   "source": [
    "stat, pval = proportions_ztest(np.array((200, 182)), np.array((23739, 22588)), alternative=\"larger\")\n",
    "print('{0:0.3f}'.format(pval))"
   ]
  },
  {
   "cell_type": "markdown",
   "metadata": {},
   "source": [
    "Нормальное приближение дает $p$-значение 0,331, близкое к p-значению, полученному в результате перестановочного теста."
   ]
  },
  {
   "cell_type": "code",
   "execution_count": 145,
   "metadata": {},
   "outputs": [],
   "source": [
    "n1 = 23739 + 200\n",
    "n2 = 22588 + 182\n",
    "\n",
    "# пропорция успехов:\n",
    "p1 = 200 / 23739\n",
    "p2 = 182 / 22588\n",
    "\n",
    "# пропорция успехов в комбинированном датасете:\n",
    "p_combined = (200 + 182) / (23739 + 22588)\n",
    "\n",
    "# разница пропорций\n",
    "difference = p1 - p2\n",
    "\n",
    "# считаем статистику в ст.отклонениях стандартного нормального распределения\n",
    "z_value = difference / np.sqrt(p_combined * (1-p_combined) * (1/n1 + 1/n2))\n",
    "\n",
    "# определяем вероятность получить отличие между группами больше критического уровня статичтиеской значимости,\n",
    "# так как распределение статистики нормальное, вызовем метод cdf()\n",
    "distr = stats.norm(0, 1) \n",
    "\n",
    "pval = (1 - distr.cdf(z_value))"
   ]
  },
  {
   "cell_type": "code",
   "execution_count": 146,
   "metadata": {},
   "outputs": [
    {
     "name": "stdout",
     "output_type": "stream",
     "text": [
      "0.330\n"
     ]
    }
   ],
   "source": [
    "print('{0:0.3f}'.format(pval))"
   ]
  },
  {
   "cell_type": "markdown",
   "metadata": {},
   "source": [
    "## Альфа\n",
    "Специалисты в области статистики осуждают практику, когда на усмотрение исследователя оставляется решение, не является ли результат \"слишком необычным\", чтобы произойти случайно. Вместо этого заранее устанавливается порог, как, например, \"более предельный, чем 5% случайных (нулевая гипотеза) результатов\".\n",
    "\n",
    "Этот порог называется уровнем значимости, или альфа-уровнем ($α$). Типичными $α$-уровнями являются 5 и 1%. При этом выбор любого из двух является произвольным решением — в данной процедуре нет ничего, что будет гарантировать правильные решения в $x$% случаях. Это вызвано тем, что получаемый ответ на вопрос о вероятности состоит не в том, \"какова вероятность, что он произошел случайно?\", а в том, \"какова вероятность, что результат будет таким предельным, с учетом случайной модели?\" Затем мы делаем обратный вывод о правомерности случайной модели, но такое суждение не предполагает вероятность. Этот момент всегда был источником часто возникающей путаницы.\n",
    "\n",
    "### Чему равно $p$-значение?\n",
    "В последние годы использование p-значения было окружено активной полемикой. В марте 2016г. Американская статистическая ассоциация (American Statistical Association, ASA) после долгих внутренних дискуссий показала степень недоразумения по поводу $p$-значений, когда выпустила предостережение относительно их использования.\n",
    "В заявлении ASA было подчеркнуто шесть принципов для исследователей и редакторов журналов.\n",
    "\n",
    "1. $p$-Значения могут свидетельствовать о том, насколько несовместимы данные с заданной статистической моделью.\n",
    "2. $p$-Значения не измеряют вероятность, что изучаемая гипотеза является истинной, либо вероятность, что данные были порождены исключительно в силу случайной возможности.\n",
    "3. Научные выводы и бизнес или стратегические решения не должны базироваться только на том, переходит ли $p$-значение определенный порог.\n",
    "4. Надлежащий вывод требует полной отчетности и прозрачности.\n",
    "5. $p$-Значение, или статистическая значимость, не измеряет размер эффекта или важность результата.\n",
    "6. Как таковое, $p$-значение не обеспечивает хорошую меру доказательства относительно модели или гипотезы.\n",
    "\n",
    "### Ошибки 1-го и 2-го рода\n",
    "В определении статистической значимости возможны два рода ошибок:\n",
    "1. ошибка 1-го рода, когда вы ошибочно заключаете, что эффект является реальным, в то время как в действительности он чисто случайный;\n",
    "2. ошибка 2-го рода, когда вы ошибочно заключаете, что эффект не является реальным (т. е. является случайным), в то время как он в действительности реальный.\n",
    "\n",
    "Ошибка 2-го рода в сущности является не столько ошибкой, сколько суждением, что размер выборки слишком маленький для того, чтобы вы смогли обнаружить эффект. Когда $p$-значение лежит далеко от статистической значимости (например, оно превышает 5%), мы фактически хотим сказать, что \"эффект не доказан\". Может оказаться, что более крупная выборка приведет к меньшему $p$-значению.\n",
    "Основная функция проверок значимости (или так называемых проверок гипотез) — защитить от того, чтобы экспериментатор был обманут случайной возможностью; следовательно, они обычно строятся таким образом, чтобы минимизировать ошибки 1-го рода.\n",
    "\n",
    ">#### Ключевые идеи для статистической значимости и $p$-значения\n",
    ">- Проверки значимости используются для определения, лежит ли наблюдаемый эффект внутри диапазона случайной вариации для модели нулевой гипотезы.\n",
    ">- $p$-Значение — это вероятность, которая приводит к результатам, таким же предельным, какими могут оказаться наблюдаемые результаты с учетом модели нулевой гипотезы.\n",
    ">- Значение $α$, или уровень значимости, — это порог \"необычности\" в случайной модели нулевой гипотезы.\n",
    ">- Проверка значимости остается намного более релевантной для формализованной отчетности об исследовании, чем для науки о данных (но чья важность в последнее время начала угасать даже для первой)."
   ]
  },
  {
   "cell_type": "markdown",
   "metadata": {},
   "source": [
    "## Проверка на основе $t$-статистики\n",
    "\n",
    "Существуют многочисленные типы проверок значимости, которые зависят от того, являются ли данные количественными или измерительными, сколько имеется выборок и что измеряется. Самой общепринятой является проверка на основе $t$-ста- тистики (или $t$-тест), названной в честь $t$-распределения Стьюдента, первоначально разработанного У. С. Госсетом для аппроксимации распределения одновыборочного среднего.\n",
    "\n",
    ">#### Ключевые термины\n",
    ">- **Проверочная статистика (test statistic)** Метрический показатель целевой разницы или эффекта. Синоним: статистика критерия.\n",
    ">- **$t$-Статистика (t-statistic)** Стандартизированная версия проверочной статистики.\n",
    ">- **$t$-Распределение (t-distribution)** Эталонное распределение (в данном случае полученное из нулевой гипотезы), с которым может быть сопоставлена наблюдаемая $t$-статистика.\n",
    "\n",
    "Все проверки значимости требуют, чтобы вы определили проверочную статистику (в отечественной литературе — статистику критерия), которая измеряет интересующий вас эффект и помогает установить, находится ли этот наблюдаемый эффект внутри диапазона нормальной случайной вариации. В проверке с повторным отбором шкала данных не имеет значения. Вы создаете эталонное (нулевая гипотеза) распределение непосредственно из самих данных и используете проверочную статистику как есть.\n",
    "\n",
    "В 1920–30-х гг., когда проверка статистических гипотез была в стадии разработки, задача произвольной перетасовки данных с несколькими тысячами итераций с целью выполнить проверку на основе повторного отбора образцов была невыполнима. Специалисты в области статистики обнаружили, что хорошим приближением перестановочного (перетасованного) распределения является основанная на $t$-статистике проверка, опирающаяся на $t$-распределение Госсета. Она используется для очень распространенного двухвыборочного сравнения — A/B-теста, в котором данные являются числовыми. Но для того чтобы $t$-распределение можно было использовать без привязки к какой-либо конкретной шкале данных, должна использоваться стандартизированная форма проверочной статистики.\n",
    "\n",
    "В классическом статистическом тексте на данном этапе были бы показаны различные формулы, которые имеют в своем составе распределение Госсета и демонстрируют, каким образом выполняется стандартизация ваших данных с целью их сравнения со стандартным $t$-распределением. Эти формулы здесь не приводятся, потому что все статистические программные системы, а также R и Python, содержат команды, которые эти формулы реализуют."
   ]
  },
  {
   "cell_type": "code",
   "execution_count": 150,
   "metadata": {},
   "outputs": [],
   "source": [
    "from scipy.stats import ttest_ind as ttest"
   ]
  },
  {
   "cell_type": "code",
   "execution_count": 182,
   "metadata": {},
   "outputs": [
    {
     "data": {
      "text/plain": [
       "Ttest_indResult(statistic=-1.1237042154424823, pvalue=0.26901024363926024)"
      ]
     },
     "execution_count": 182,
     "metadata": {},
     "output_type": "execute_result"
    }
   ],
   "source": [
    "a = data.query('Page == \"Page A\"')['Time'].to_numpy()\n",
    "b = data.query('Page == \"Page B\"')['Time'].to_numpy()\n",
    "\n",
    "ttest(a, b)"
   ]
  },
  {
   "cell_type": "markdown",
   "metadata": {},
   "source": [
    "Альтернативная гипотеза состоит в том, что среднее время сеанса для страницы A меньше, чем для страницы B. Это достаточно близко к p-значению 0,33 перестановочного теста.\n",
    "\n",
    "В режиме повторного отбора мы структурируем решение так, чтобы отразить наблюдаемые данные и подлежащую проверке гипотезу, не заботясь о том, являются ли данные десятичными или двоичными, сбалансированы ли размеры выборок или нет, имеются ли дисперсии выборок либо множество других факторов. В мире формул многие вариации представляют самих себя, и они могут быть изумительными. Специалистам в области статистики нужно путешествовать по этому миру и изучать его карту, но аналитикам данных в этом нет необходимости — они, как правило, не занимаются выжимкой подробностей из проверок гипотез и доверительных интервалов, как это делает исследователь, который готовит научную работу к публикации.\n",
    "\n",
    ">#### Ключевые идеи для проверки на основе $t$-статистики\n",
    ">- До появления компьютеров проверки на основе повторного отбора образцов не были практичны, и специалисты в области статистики использовали стандартные эталонные распределения.\n",
    ">- Проверочная статистика далее может быть стандартизирована и сопоставлена с эталонным распределением.\n",
    ">- Одной из таких широко используемых стандартизированных статистик является $t$-статистика."
   ]
  }
 ],
 "metadata": {
  "kernelspec": {
   "display_name": "Python 3",
   "language": "python",
   "name": "python3"
  },
  "language_info": {
   "codemirror_mode": {
    "name": "ipython",
    "version": 3
   },
   "file_extension": ".py",
   "mimetype": "text/x-python",
   "name": "python",
   "nbconvert_exporter": "python",
   "pygments_lexer": "ipython3",
   "version": "3.8.3"
  }
 },
 "nbformat": 4,
 "nbformat_minor": 4
}
