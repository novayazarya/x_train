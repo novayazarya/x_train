{
 "cells": [
  {
   "cell_type": "code",
   "execution_count": 1,
   "metadata": {},
   "outputs": [],
   "source": [
    "%matplotlib inline\n",
    "\n",
    "import pandas as pd\n",
    "import numpy as np\n",
    "import matplotlib.pyplot as plt\n",
    "import scipy.stats as sts\n",
    "import seaborn as sns\n",
    "sns.set(style=\"white\")\n",
    "sns.set(style=\"whitegrid\", color_codes=True)\n",
    "plt.rc(\"font\", size=14)"
   ]
  },
  {
   "cell_type": "markdown",
   "metadata": {},
   "source": [
    "## Марафон"
   ]
  },
  {
   "cell_type": "markdown",
   "metadata": {},
   "source": [
    "Как-то раз Винни-Пух, Пятачок, Кролик и Иа-Иа решили пробежать марафон. Они договорились бежать `n` часов. Побеждает тот, кто пробегает за эти `n` часов больше всего километров. Каждый участник бежит по-разному -- то сколько он пробежит за лдин час поддается одному из законов распределений. Например, если распределение равномерно $U[1,3]$, то участник может пробежать за первый час 1,3 км, за второй 2,4 км и т.д.\n",
    "\n",
    "- Винни-Пух в целом может пробежать достаточно много, но с большой вероятностью останавливается отведать мёда и пробегает мало. Его закон распределения — это показательное распределение с $\\lambda = 1$.\n",
    "- Пятачок бежит в одном темпе и старается пробегать приблизительно одинаковую дистанцию. Изредка он может перепутать направление и немного пробежать не в ту сторону. Его закон распределения — это нормальное распределение $N(1,1)$.\n",
    "- Кролик — перфекционист. Он бежит целое количество километров. Если он понимает, что за оставшееся время он уже не пробежит еще один километр, то он станавливается и ждет следующий час. Его закон распределения — это распределение Пуассона с $\\lambda = 1$.\n",
    "- Иа-Иа в течение часа может грустить с вероятностью $p = 0.5$ и пробежать 0 километров или быть очень веселым (с вероятностью $1 - p$) и пробежать сразу 2 километра. Его закон распределения — это распределение Бернулли.\n"
   ]
  },
  {
   "cell_type": "markdown",
   "metadata": {},
   "source": [
    "### Задание №1\n",
    "\n",
    "- Создать трехмерную матрицу $10^4 \\times 4 \\times n$. Первая ось отвечает за номер марафона, вторая ось — за каждого участинка, а третья — за каждый час марафона. Вторую и третью ось можно поменять местами.\n",
    "- Выявить победителя в каждом из $10^4$ марафонов.\n",
    "- Нарисовать столбчатую диаграмму, на которой будет видно кто и сколько раз побеждал в марафоне.\n",
    "- Использовать возможности библиотеки Numpy."
   ]
  },
  {
   "cell_type": "markdown",
   "metadata": {},
   "source": [
    "### Задание №2\n",
    "\n",
    "Участники решили объединиться в пары: Винни-Пух с Пятачком, Кролик с Иа-Иа. Они решили суммировать свои результаты.\n",
    "\n",
    "- Сгенерировать новую трехмерную матрицу, но уже объединив участников в команды.\n",
    "- Выявить победителя в каждом из $10^4$ марафонов.\n",
    "- Нарисовать столбчатую диаграмму, на которой будет видно кто и сколько раз побеждал в марафоне."
   ]
  },
  {
   "cell_type": "code",
   "execution_count": 22,
   "metadata": {},
   "outputs": [],
   "source": [
    "n = 6 # количество часов в марафоне\n",
    "m = int(10e4) # количество марафонов 10^4"
   ]
  },
  {
   "cell_type": "code",
   "execution_count": 23,
   "metadata": {},
   "outputs": [],
   "source": [
    "A = sts.expon.rvs(scale=1, size=(m, n)) # Винни-Пух c экспоненциональным распределением с 𝜆=1"
   ]
  },
  {
   "cell_type": "code",
   "execution_count": 24,
   "metadata": {},
   "outputs": [],
   "source": [
    "B = sts.norm.rvs(loc=1, scale=1, size=(m, n)) # Пятачок с нормальным распределением N(1,1)"
   ]
  },
  {
   "cell_type": "code",
   "execution_count": 25,
   "metadata": {},
   "outputs": [],
   "source": [
    "C = sts.poisson.rvs(mu=1, loc=1, size=(m, n)) # Кролик с пуассоновским распределением с 𝜆=1"
   ]
  },
  {
   "cell_type": "code",
   "execution_count": 26,
   "metadata": {},
   "outputs": [],
   "source": [
    "D = sts.bernoulli.rvs(p=0.5, loc=0, size=(m, n)) # Иа-Иа с распределением Бернулли c p=0.5 (либо 0, либо 2)\n",
    "D[D == 1] = D[D == 1] + 1"
   ]
  },
  {
   "cell_type": "code",
   "execution_count": 27,
   "metadata": {},
   "outputs": [],
   "source": [
    "maraphon = np.dstack([A, B, C, D]) # объединяем распределения в общую матрицу 10^4×4×𝑛"
   ]
  },
  {
   "cell_type": "code",
   "execution_count": 28,
   "metadata": {},
   "outputs": [
    {
     "data": {
      "text/plain": [
       "(100000, 6, 4)"
      ]
     },
     "execution_count": 28,
     "metadata": {},
     "output_type": "execute_result"
    }
   ],
   "source": [
    "maraphon.shape"
   ]
  },
  {
   "cell_type": "markdown",
   "metadata": {},
   "source": [
    "#### Столбчатая диаграмма победителей"
   ]
  },
  {
   "cell_type": "code",
   "execution_count": 64,
   "metadata": {},
   "outputs": [
    {
     "data": {
      "image/png": "[encoded data removed]",
      "text/plain": [
       "<Figure size 432x288 with 1 Axes>"
      ]
     },
     "metadata": {},
     "output_type": "display_data"
    }
   ],
   "source": [
    "plt.bar(np.arange(maraphon.shape[2]), \n",
    "                    pd.Series(maraphon.sum(axis=1).argmax(axis=1)). \\\n",
    "                    value_counts(sort=False), \n",
    "                    align='center', \n",
    "                    alpha=0.5\n",
    ");\n",
    "plt.xticks(np.arange(maraphon.shape[2]), ['Винни-Пух', \n",
    "                                          'Пятачок', \n",
    "                                          'Кролик', \n",
    "                                          'Иа-Иа'\n",
    "                                         ]\n",
    ");\n",
    "plt.xlabel('Количество побед')\n",
    "plt.ylabel('Количество марафонов');"
   ]
  },
  {
   "cell_type": "code",
   "execution_count": 47,
   "metadata": {},
   "outputs": [],
   "source": [
    "#pd.Series(maraphon.sum(axis=1).argmax(axis=1)).value_counts().plot(kind='bar');"
   ]
  },
  {
   "cell_type": "markdown",
   "metadata": {},
   "source": [
    "#### Объединение в команды"
   ]
  },
  {
   "cell_type": "code",
   "execution_count": 33,
   "metadata": {},
   "outputs": [],
   "source": [
    "C1 = maraphon[:,:,:2].sum(axis=1) # команда №1\n",
    "C2 = maraphon[:,:,2:].sum(axis=1) # команда №2"
   ]
  },
  {
   "cell_type": "code",
   "execution_count": 34,
   "metadata": {},
   "outputs": [],
   "source": [
    "maraphon_c = np.dstack([C1, C2])"
   ]
  },
  {
   "cell_type": "code",
   "execution_count": 35,
   "metadata": {},
   "outputs": [
    {
     "data": {
      "text/plain": [
       "(100000, 2, 2)"
      ]
     },
     "execution_count": 35,
     "metadata": {},
     "output_type": "execute_result"
    }
   ],
   "source": [
    "maraphon_c.shape"
   ]
  },
  {
   "cell_type": "markdown",
   "metadata": {},
   "source": [
    "#### Столбчатая диаграмма команд победителей"
   ]
  },
  {
   "cell_type": "code",
   "execution_count": 66,
   "metadata": {},
   "outputs": [
    {
     "data": {
      "image/png": "[encoded data removed]",
      "text/plain": [
       "<Figure size 432x288 with 1 Axes>"
      ]
     },
     "metadata": {},
     "output_type": "display_data"
    }
   ],
   "source": [
    "plt.bar(np.arange(maraphon_c.shape[2]), pd.Series(maraphon_c.sum(axis=1).argmax(axis=1)).value_counts(sort=False), \n",
    "                                   align='center', alpha=0.5)\n",
    "plt.xticks(np.arange(maraphon_c.shape[2]), ['Команда № 1', 'Команда № 2'])\n",
    "plt.xlabel('Количество побед')\n",
    "plt.ylabel('Количество марафонов');"
   ]
  },
  {
   "cell_type": "code",
   "execution_count": 17,
   "metadata": {},
   "outputs": [],
   "source": [
    "#pd.Series(np.dstack([C1, C2]).sum(axis=1).argmax(axis=1)).value_counts().plot(kind='bar');"
   ]
  },
  {
   "cell_type": "markdown",
   "metadata": {},
   "source": [
    "## Парадокс дней рождения"
   ]
  },
  {
   "cell_type": "markdown",
   "metadata": {},
   "source": [
    "Прочитайте про <a href=\"https://ru.wikipedia.org/wiki/%D0%9F%D0%B0%D1%80%D0%B0%D0%B4%D0%BE%D0%BA%D1%81_%D0%B4%D0%BD%D0%B5%D0%B9_%D1%80%D0%BE%D0%B6%D0%B4%D0%B5%D0%BD%D0%B8%D1%8F\">парадокс дней рождения</a>. В этой задаче предстоит его проверить.\n",
    "В произвольной группе из 50 человек вероятность того, что хотя бы у двоих людей  дни рождения совпадут, равно 0,97. При решении задачи мы предполагаем, что рождения людей равномерно распределены в течение года. Однако на практике это может быть не так и реальная вероятность будет отличаться от теоретической.\n",
    "\n",
    "В этой задаче предстоит проверить парадокс дней рождения на эмпирических данных.\n",
    "\n",
    " 1. Выбрать сообщество в ВКонтакте. С помошью vkAPI выбрать информацию по ее подписчикам (id и дату рождения).\n",
    " 2. Удалите из данных всех, кто не указал дату рождения. Приведите колонку с датами к одному виду.\n",
    " 3. Постройте гистограмму, на которой было бы понятно в какой месяц родилось какое количество людей. Равномерно ли распрелилась рождаемость в течение года?\n",
    " 4. Эмпирически оцените вероятность того, что в группе из 50 произвольных людей найдутся хотя бы двое с одинаковым днем рождения."
   ]
  },
  {
   "cell_type": "markdown",
   "metadata": {},
   "source": [
    "### Извлечение данных"
   ]
  },
  {
   "cell_type": "code",
   "execution_count": 67,
   "metadata": {},
   "outputs": [],
   "source": [
    "import requests\n",
    "import json"
   ]
  },
  {
   "cell_type": "code",
   "execution_count": 68,
   "metadata": {},
   "outputs": [],
   "source": [
    "token = \"50d2e9bc50d2e9bc50d2e9bc1850a3e2da550d250d2e9bc0e4675f2927730572196c1af\"\n",
    "v = 5.103"
   ]
  },
  {
   "cell_type": "code",
   "execution_count": 69,
   "metadata": {},
   "outputs": [],
   "source": [
    "params = dict(group_id = \"welovedmitrov\", offset = 2000, count = 1000)"
   ]
  },
  {
   "cell_type": "code",
   "execution_count": 70,
   "metadata": {},
   "outputs": [],
   "source": [
    "pub_id = \"welovedmitrov\""
   ]
  },
  {
   "cell_type": "code",
   "execution_count": 71,
   "metadata": {},
   "outputs": [],
   "source": [
    "def vk(method, params=\"\"):\n",
    "    if params:\n",
    "        params = \"?%s\" % '&'.join([f\"{key}={value}\" for key, value in params.items()])\n",
    "    url = \"https://api.vk.com/method/%s%s&access_token=%s&v=%s\" % (method, params, token, v)\n",
    "    data = requests.get(url).json()\n",
    "    return data"
   ]
  },
  {
   "cell_type": "code",
   "execution_count": 72,
   "metadata": {},
   "outputs": [],
   "source": [
    "count = vk(\"groups.getById\", dict(group_id=pub_id, \n",
    "                                  fields=\"members_count\"))['response'][0].get('members_count')"
   ]
  },
  {
   "cell_type": "code",
   "execution_count": 74,
   "metadata": {},
   "outputs": [],
   "source": [
    "offset = 1000\n",
    "params = dict(group_id=pub_id, offset=0, count=offset, fields=\"bdate\")\n",
    "res = []\n",
    "\n",
    "for i in range(count // offset):\n",
    "    params[\"offset\"] += offset\n",
    "    response = vk(method=\"groups.getMembers\", params=params)['response']\n",
    "    res += [(x['id'], x.get('bdate')) for x in response['items']]"
   ]
  },
  {
   "cell_type": "code",
   "execution_count": 75,
   "metadata": {},
   "outputs": [],
   "source": [
    "bd = pd.DataFrame(res, columns=['id', 'birth date'])"
   ]
  },
  {
   "cell_type": "code",
   "execution_count": 76,
   "metadata": {},
   "outputs": [],
   "source": [
    "bd = bd.dropna()"
   ]
  },
  {
   "cell_type": "code",
   "execution_count": 77,
   "metadata": {},
   "outputs": [],
   "source": [
    "bd['birth date'] = bd['birth date'].apply(lambda x: pd.to_datetime(x) if len(x) > 5 \n",
    "                                          else pd.to_datetime('%s.2020' %x))"
   ]
  },
  {
   "cell_type": "markdown",
   "metadata": {},
   "source": [
    "### Гистограмма распределения рождаемости"
   ]
  },
  {
   "cell_type": "code",
   "execution_count": 99,
   "metadata": {},
   "outputs": [
    {
     "data": {
      "image/png": "[encoded data removed]",
      "text/plain": [
       "<Figure size 432x288 with 1 Axes>"
      ]
     },
     "metadata": {},
     "output_type": "display_data"
    }
   ],
   "source": [
    "plt.hist(bd['birth date'].dt.month, bins=12, density=True, \n",
    "                                    histtype='bar', color='red', alpha=0.5);"
   ]
  },
  {
   "cell_type": "code",
   "execution_count": 88,
   "metadata": {},
   "outputs": [],
   "source": [
    "#plt.bar(np.arange(1, 13), bd['birth date'].dt.month.value_counts(sort=False), \n",
    "#                          align='center', alpha=0.5);"
   ]
  },
  {
   "cell_type": "code",
   "execution_count": 30,
   "metadata": {},
   "outputs": [],
   "source": [
    "#bd['birth date'].dt.month.value_counts(sort=False).plot(kind='bar')"
   ]
  },
  {
   "cell_type": "code",
   "execution_count": 94,
   "metadata": {},
   "outputs": [],
   "source": [
    "bd.index = pd.RangeIndex(0, len(bd.index)) # перестройка индекса после удаления пустых строк"
   ]
  },
  {
   "cell_type": "code",
   "execution_count": 95,
   "metadata": {},
   "outputs": [],
   "source": [
    "from datetime import datetime"
   ]
  },
  {
   "cell_type": "code",
   "execution_count": 96,
   "metadata": {},
   "outputs": [],
   "source": [
    "bd['day'] = bd['birth date'].apply(lambda x: x.strftime('%m-%d')) # извлечение дня и месяца из даты"
   ]
  },
  {
   "cell_type": "code",
   "execution_count": 97,
   "metadata": {},
   "outputs": [],
   "source": [
    "group_by_50 = bd.index // 50 # разбивка индекса по 50 строк"
   ]
  },
  {
   "cell_type": "markdown",
   "metadata": {},
   "source": [
    "###  Получение вероятности"
   ]
  },
  {
   "cell_type": "code",
   "execution_count": 98,
   "metadata": {},
   "outputs": [
    {
     "data": {
      "text/plain": [
       "0.9757127771911299"
      ]
     },
     "execution_count": 98,
     "metadata": {},
     "output_type": "execute_result"
    }
   ],
   "source": [
    "bd.groupby(group_by_50).agg({'day': lambda x: \n",
    "                             (x.size - x.nunique()) != 0})['day'].sum() / len(group_by_50.unique())"
   ]
  }
 ],
 "metadata": {
  "kernelspec": {
   "display_name": "Python 3",
   "language": "python",
   "name": "python3"
  },
  "language_info": {
   "codemirror_mode": {
    "name": "ipython",
    "version": 3
   },
   "file_extension": ".py",
   "mimetype": "text/x-python",
   "name": "python",
   "nbconvert_exporter": "python",
   "pygments_lexer": "ipython3",
   "version": "3.7.6"
  }
 },
 "nbformat": 4,
 "nbformat_minor": 4
}
