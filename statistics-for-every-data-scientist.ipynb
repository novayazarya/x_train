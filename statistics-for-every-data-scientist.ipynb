{
 "cells": [
  {
   "cell_type": "markdown",
   "metadata": {
    "_cell_guid": "79c7e3d0-c299-4dcb-8224-4455121ee9b0",
    "_uuid": "d629ff2d2480ee46fbb7e2d37f6b5fab8052498a",
    "collapsed": true
   },
   "source": [
    "* [Statistical Estimators](#Statistical Estimators)\n",
    "    - [Central Tendency](#Central Tendency)\n",
    "    - [Mean](#Mean)\n",
    "    - [Median](#Median)\n",
    "    - [Mode](#Mode)\n",
    "    - [Variance](#Variance)\n",
    "    - [Standard deviation](#Standard deviation)\n",
    "    - [Covariance](#Covariance)\n",
    "    - [Correlation / Pearson's Correlation](#Correlation / Pearson's Correlation)\n",
    "    - [Standard Error](#Standard Error)     \n",
    "* [Probability Distributions](#Probability Distributions)\n",
    "    - [Gausian / Normal distribution](#Gausian / Normal distribution)  \n",
    "         - [Standard Normal distribution](#Standard Normal distribution)\n",
    "    - [Student’s T-Distribution](#Student’s T-Distribution) \n",
    "    - [Binomial Distribution](#Binomial Distribution) \n",
    "    - [Bernoulli’s Distribution](#Bernoulli’s Distribution) \n",
    "    - [Uniform Distribution](#Uniform Distribution)\n",
    "    - [Exponential Distribution](#Exponential Distribution)\n",
    "    - [Poisson Distribution](#Poisson Distribution)\n",
    "    - [Probability Density Function and Probability Mass Function](#Probability Density Function and Probability Mass Function)\n",
    "* [P-value](#P-value)\n",
    "* [Degrees of Freedom](#Degrees of Freedom)\n",
    "* [Parametric vs. Non-Parametric Data](#Parametric vs. Non-Parametric Data) \n",
    "     - [Parametric Data](#Parametric Data)\n",
    "     - [Non-Parametric Data](#Non-Parametric Data) \n",
    "* [Univariate Statistical Analysis](#Univariate Statistical Analysis)\n",
    "     - [Normality Tests](#Normality Tests)\n",
    "         - [Shapiro-Wilk Test](#Shapiro-Wilk Test) \n",
    "         - [D’Agostino’s K^2 Test](#D’Agostino’s K^2 Test) \n",
    "         - [Anderson-Darling Test](#Anderson-Darling Test)\n",
    "     - [Correlation Tests](#Correlation Tests)  \n",
    "         - [Covariance Analysis](#Covariance Analysis) \n",
    "         - [Pearson’s Correlation Coefficient](#Pearson’s Correlation Coefficient) \n",
    "         - [Spearman’s Rank Correlation](#Spearman’s Rank Correlation) \n",
    "         - [Chi-Squared Test](#Chi-Squared Test)\n",
    "     - [Parametric Statistical Hypothesis Tests](#Parametric Statistical Hypothesis Tests)\n",
    "          - [Student’s t-test](#Student’s t-test) \n",
    "          - [Analysis of Variance Test (ANOVA)](#Analysis of Variance Test)\n",
    "     - [Nonparametric Statistical Hypothesis Tests](#Nonparametric Statistical Hypothesis Tests)\n",
    "          - [Mann-Whitney U Test](#Mann-Whitney U Test) \n",
    "          - [Wilcoxon Signed-Rank Test](#Wilcoxon Signed-Rank Test) \n",
    "          - [Kruskal-Wallis H Test](#Kruskal-Wallis H Test) \n",
    "          - [Friedman Test](#Friedman Test)\n",
    "* [Multivariate Statistical Analysis](#Multivariate Statistical Analysis)  \n",
    "    - [Covariance and Correlation Statistical Analysis](#Covariance and Correlation Statistical Analysis)\n"
   ]
  },
  {
   "cell_type": "markdown",
   "metadata": {},
   "source": [
    "<a id=\"Statistical Estimators\"></a>\n",
    "# <u> Statistical Estimators </u>\n",
    "\n",
    "<a id=\"Central Tendency\"></a>\n",
    "## <u> Central Tendency </u>\n",
    "\n",
    "A measure of central tendency is a single value that describes the way in which a group of data cluster around a central value. It is a way to describe the center of a data set. There are three measures of central tendency: the mean, the median, and the mode.\n",
    "\n",
    "<a id=\"Mean\"></a>\n",
    "## <u> Mean </u>\n",
    "\n",
    "Add up the values in the data set and then divide by the number of values.\n",
    "\n",
    "$$\\bar{x} = \\frac{\\sum{x_i}}{n}$$\n",
    "\n",
    "<a id=\"Median\"></a>\n",
    "## <u> Median </u>\n",
    "\n",
    "List the values of the data set in numerical order (ascending/ descending) and identify which value appears in the middle of the list.\n",
    "\n",
    "$$\\text{Median} = \\frac{n + 1}{2}$$\n",
    "\n",
    "<a id=\"Mode\"></a>\n",
    "## <u> Mode </u>\n",
    "\n",
    "Value in the data set which occurs most often.\n",
    "\n",
    "\n",
    "<a id=\"Variance\"></a>\n",
    "## <u> Variance </u>\n",
    "\n",
    "Variance measures how far a set of data is spread out. Variance of zero indicates that all of the data values are identical. It is the average of the squared distances from each point to the mean.\n",
    "\n",
    "$$\\sigma^2 = \\frac{\\sum (x_i - \\bar{x})^2}{N}$$\n",
    "\n",
    "<a id=\"Standard deviation\"></a>\n",
    "## <u> Standard deviation </u>\n",
    "\n",
    "Standard Deviation measures the absolute variability of a datasets’ distribution. It is the square root of variance. It is used more often than variance because the unit in which it is measured is the same as that of mean, a measure of central tendency.\n",
    "\n",
    "$$\\sigma = \\sqrt{\\sigma^2}$$\n",
    "\n",
    "<a id=\"Covariance\"></a>\n",
    "## <u> Covariance </u>\n",
    "\n",
    "Covariance is a measure of how change in one variable is associated with change in a second variable. Covariance measures the degree to which two variables are linearly associated. The sign of the covariance shows the tendency in the linear relationship between the variables. The magnitude of the covariance is not easily interpreted.\n",
    "\n",
    "$$Cov(𝑋, 𝑌 ) = \\frac{\\sum(x_i - \\bar{x}) (y_i - \\bar{y})}{N-1}$$\n",
    "\n",
    "$$Cov(𝑋, 𝑋) = Var(𝑋)$$\n",
    "$$Cov(𝑋, 𝑌 ) = Cov(𝑌, 𝑋)$$\n",
    "\n",
    "The use of the mean in the calculation suggests the need for each data sample to have a Gaussian or Gaussian-like distribution. Term in numerator is called the sum of cross products. Term in denominator (N-1) indicates the degrees of freedom.\n",
    "\n",
    "The value of covariance is affected by the change in scale of the variables. If all the values of the given variable are multiplied by a constant and all the values of another variable are multiplied, by a similar or different constant, then the value of covariance also changes.\n",
    "Covariance can take any value between -∞ and +∞.\n",
    "\n",
    "<a id=\"Correlation / Pearson's Correlation\"></a>\n",
    "## <u> Correlation / Pearson's Correlation</u>\n",
    "\n",
    "Both Covariance and Correlation measures the relationship and the dependency between two variables. “Covariance” indicates the direction of the linear relationship between variables whereas “Correlation” measures both the magnitude and direction of the linear relationship between two variables. Correlation values are standardized whereas, covariance values are not. When we divide the covariance values by the standard deviation, it scales the value down to a limited range of -1 to +1 that represents the limits of correlation from a full negative correlation to a full positive correlation. A value of 0 means no correlation. The value below -0.5 or above 0.5 indicates a notable correlation, and values below those values suggests a less notable correlation.\n",
    "\n",
    "$$Corr_{xy} = \\frac{Cov(𝑋, 𝑌 )}{\\sigma_x \\sigma_y}$$\n",
    "\n",
    "Types of correlations:\n",
    "- Positive Correlation: both variables change in the same direction.\n",
    "- Neutral Correlation: No relationship in the change of the variables.\n",
    "- Negative Correlation: variables change in opposite directions.\n",
    "\n",
    "The value of correlation is not influenced by the change in scale of the values. \n",
    "\n",
    "The performance of some algorithms can deteriorate if two or more variables are tightly related, called multicollinearity. An example is Logistic Regression or Linear Regression. Decision trees and boosted trees algorithms are immune to multicollinearity by nature.\n",
    "\n",
    "<b>Quick Tip</b> : Multicollinearity can be handled by: 1 -  Delete one of the perfectly correlated features. 2 -  Use a dimension reduction algorithm such as Principle Component Analysis (PCA).\n",
    "\n"
   ]
  },
  {
   "cell_type": "markdown",
   "metadata": {},
   "source": [
    "<a id=\"Standard Error\"></a>\n",
    "## <u> Standard Error</u>\n",
    "\n",
    "The standard error of the mean, also called the standard deviation of the mean tells us how accurate the mean of any given sample from that population is likely to be compared to the true population mean. When the standard error increases, i.e. the means are more spread out, it becomes more likely that any given mean is an inaccurate representation of the true population mean.\n",
    "\n",
    "- Draw \"n\" samples from a population.\n",
    "- Calaulate the mean of every sample.\n",
    "- Calculate the standard deviation of all the means.\n",
    "- Divide by the number of samples observed.\n",
    "\n",
    "$$SE(\\bar{x}) = \\frac{\\sigma_x}{\\sqrt{n}}$$"
   ]
  },
  {
   "cell_type": "markdown",
   "metadata": {},
   "source": [
    "<a id=\"Confidence Intervals\"></a>\n",
    "## <u> Confidence Intervals</u>\n",
    "\n",
    "A Confidence Interval is a range of values we are fairly sure our true value (eg. mean) lies in.\n",
    "\n",
    "$$\\text{Confidence interval} =\\bar{X} \\pm Z\\frac{\\sigma}{\\sqrt{n}}$$\n",
    "\n",
    "Where $\\bar{X}$ is the mean, $Z$ is the z-value(calculated from a table) for a confidence interval (eg. 80%, 85%), $\\sigma$ is the standard deviation, $n$ is the number of items in a sample.\n",
    "\n",
    "<b> Example: Average Height </b>\n",
    "\n",
    "We measure the heights of 40 randomly chosen men, and get a mean height of 175cm, We also know the standard deviation of men's heights is 20cm. The 95% Confidence Interval is:  175cm ± 6.2cm.\n",
    "\n",
    "This says the true mean (95% of times) of ALL men (population) is likely to be between 168.8cm and 181.2cm."
   ]
  },
  {
   "cell_type": "markdown",
   "metadata": {},
   "source": [
    "<a id=\"Probability Distributions\"></a>\n",
    "# <u> Probability Distributions</u>\n",
    "\n",
    "In statistics when we use the term Distribution it usually means Probability distribution.\n",
    "\n",
    "A Distribution is a function that shows the possible values for a variable and how often they occur.\n",
    "\n",
    "Or A Probability Distribution is a mathematical function that can be thought of as providing the probabilities of occurrence of different possible outcomes in an experiment.\n",
    "\n",
    "\n",
    "<a id=\"Gausian / Normal distribution\"></a>\n",
    "## <u> Gausian / Normal distribution </u> \n",
    "\n",
    "Normal Distribution is useful because of the <b> Central Limit Theorem (CLT) </b> which states that when a large number of simple random samples are selected from the population and the mean is calculated for each then the distribution of these sample means will assume the normal probability distribution. For example, the distribution of sum of heights of all men in a region tends towards a Gaussian probability distribution.\n",
    "\n",
    "- 68% of the data falls within the first standard deviation from the mean.\n",
    "- 95% fall within two standard deviations.\n",
    "- 99.7% fall within three standard deviations."
   ]
  },
  {
   "cell_type": "code",
   "execution_count": 1,
   "metadata": {},
   "outputs": [
    {
     "data": {
      "text/plain": [
       "[<matplotlib.lines.Line2D at 0x7f530ace4eb8>]"
      ]
     },
     "execution_count": 1,
     "metadata": {},
     "output_type": "execute_result"
    },
    {
     "data": {
      "image/png": "[encoded data removed]",
      "text/plain": [
       "<Figure size 432x288 with 1 Axes>"
      ]
     },
     "metadata": {
      "needs_background": "light"
     },
     "output_type": "display_data"
    }
   ],
   "source": [
    "import numpy as np\n",
    "import matplotlib.pyplot as plt\n",
    "from scipy.stats import norm\n",
    "%matplotlib inline\n",
    "\n",
    "mu = 0 # mean\n",
    "variance = 2 #variance\n",
    "sigma = np.sqrt(variance) #standard deviation\",\n",
    "x = np.linspace(mu - 3*variance, mu + 3*variance, 100)\n",
    "plt.plot(x, norm.pdf(x, mu, sigma))"
   ]
  },
  {
   "cell_type": "markdown",
   "metadata": {},
   "source": [
    "<a id=\"Standard Normal distribution\"></a>\n",
    "### <u> Standard Normal distribution </u> \n",
    "\n",
    "When we standardize a random variable, its ‘mean’ becomes 0 and its standard deviation becomes 1. When a Normal Distribution is standardized, the result is called a Standard Normal Distribution.  \n",
    "\n",
    "$$\\text{Z} = \\frac{x - \\mu}{\\sigma}$$\n",
    "\n",
    "We use the letter Z to denote standardization. The standardized value i.e., Z is known as the z-score.\n",
    "\n",
    "These Z scores are important because they tell us how far a value is from the mean. If the Z score of x is zero, then the value of x is equal to the mean."
   ]
  },
  {
   "cell_type": "code",
   "execution_count": 2,
   "metadata": {},
   "outputs": [
    {
     "data": {
      "text/plain": [
       "[<matplotlib.lines.Line2D at 0x7f530ac83748>]"
      ]
     },
     "execution_count": 2,
     "metadata": {},
     "output_type": "execute_result"
    },
    {
     "data": {
      "image/png": "[encoded data removed]",
      "text/plain": [
       "<Figure size 432x288 with 1 Axes>"
      ]
     },
     "metadata": {
      "needs_background": "light"
     },
     "output_type": "display_data"
    }
   ],
   "source": [
    "import numpy as np\n",
    "import matplotlib.pyplot as plt\n",
    "from scipy.stats import norm\n",
    "%matplotlib inline\n",
    "\n",
    "mu = 0 # mean\n",
    "variance = 1 #variance\n",
    "sigma = np.sqrt(variance) #standard deviation\",\n",
    "x = np.linspace(mu - 2*variance, mu + 2*variance, 100)\n",
    "plt.plot(x, norm.pdf(x, mu, sigma))"
   ]
  },
  {
   "cell_type": "markdown",
   "metadata": {},
   "source": [
    "<a id=\"QQ-Plot\"></a>\n",
    "### <u> QQ-Plot </u>\n",
    "\n",
    "A QQ-Plot is used to visually determine how close a sample is to the normal distribution. The QQ-Plot orders the z-scores from low to high, and plots each value’s z-score on the y-axis; the x-axis is the corresponding quantile of a normal distribution for that value’s rank. Since the data is normalized, the units correspond to the number of standard deviations away of the data from the mean. If the points roughly fall on the diagonal line, then the sample distribution can be considered close to normal."
   ]
  },
  {
   "cell_type": "code",
   "execution_count": 3,
   "metadata": {},
   "outputs": [
    {
     "data": {
      "image/png": "[encoded data removed]",
      "text/plain": [
       "<Figure size 432x288 with 1 Axes>"
      ]
     },
     "metadata": {
      "needs_background": "light"
     },
     "output_type": "display_data"
    }
   ],
   "source": [
    "import numpy as np\n",
    "import statsmodels.api as sm\n",
    "import pylab\n",
    "\n",
    "sm.qqplot(x, loc = 0, scale = 1)\n",
    "pylab.show()"
   ]
  },
  {
   "cell_type": "markdown",
   "metadata": {},
   "source": [
    "<a id=\"Student’s T-Distribution\"></a>\n",
    "## <u> Student’s T-Distribution </u>\n",
    "\n",
    "T Distribution or Student’s T Distribution is a probability distribution that is used to estimate population parameters when the sample size is small(~30). It is the distribution of the difference between an estimated parameter and its true (or assumed) value divided by the standard deviation of the estimated parameter (standard error).\n",
    "\n",
    "Student’s T distribution looks much like a Normal distribution but generally has fatter tails. Fatter tails, allow for a higher dispersion of variables, as there is more uncertainty. The distribution follows Normal Distribution when the sample size is sufficiently large.\n",
    "\n",
    "The t-distribution has been used as a reference for the distribution of a sample mean, the difference between two sample means, regression parameters, and other statistics.\n",
    "\n",
    "As the z-statistic is related to the standard Normal distribution, the t-statistic is related to the Student’s T distribution. \n",
    "\n",
    "$$t = \\frac{\\bar{x} - \\mu}{\\frac{\\sigma}{\\sqrt{n}}}$$\n",
    "\n",
    "$ \\bar{x}$ =  Sample Mean, $ \\mu$ = Population Mean, $\\sigma$ = standard deviation, n  = sample size"
   ]
  },
  {
   "cell_type": "code",
   "execution_count": 4,
   "metadata": {},
   "outputs": [
    {
     "data": {
      "text/plain": [
       "[<matplotlib.lines.Line2D at 0x7f5301cb8b00>]"
      ]
     },
     "execution_count": 4,
     "metadata": {},
     "output_type": "execute_result"
    },
    {
     "data": {
      "image/png": "[encoded data removed]",
      "text/plain": [
       "<Figure size 432x288 with 1 Axes>"
      ]
     },
     "metadata": {
      "needs_background": "light"
     },
     "output_type": "display_data"
    }
   ],
   "source": [
    "import numpy as np\n",
    "import matplotlib.pyplot as plt\n",
    "from scipy.stats import norm\n",
    "%matplotlib inline\n",
    "\n",
    "mu = 0 # mean\n",
    "variance = 20 #variance\n",
    "sigma = np.sqrt(variance) #standard deviation\",\n",
    "x = np.linspace(mu - 3*variance, mu + 3*variance, 100)\n",
    "plt.plot(x, norm.pdf(x, mu, sigma))"
   ]
  },
  {
   "cell_type": "markdown",
   "metadata": {},
   "source": [
    "<a id=\"Binomial Distribution\"></a>\n",
    "## <u> Binomial Distribution </u> \n",
    "\n",
    "This type of distribution is used when there are exactly two outcomes of a trial. These outcomes are labeled as “Success” and “Failure”. The random variable X can take value 1 with the probability of success, p, and the value 0 with the probability of failure, q or 1−p.\n",
    " \n",
    "The probabilities of success and failure need not be equally likely.\n",
    "\n",
    "Same Probability: Probability of head in a toss(0.5/0.5)\n",
    "\n",
    "Different Probability: Probability of me winning with superman(0.1/0.9)\n",
    "\n",
    "Each trial is independent since the outcome of the previous toss doesn’t determine or affect the outcome of the current toss. An experiment with only two possible outcomes repeated n number of times is called binomial. The parameters of a binomial distribution are N and P where N is the total number of trials and P is the probability of success in each trial."
   ]
  },
  {
   "cell_type": "code",
   "execution_count": 5,
   "metadata": {},
   "outputs": [
    {
     "data": {
      "text/plain": [
       "[Text(0, 0.5, 'Frequency'), Text(0.5, 0, 'Binomial Distribution')]"
      ]
     },
     "execution_count": 5,
     "metadata": {},
     "output_type": "execute_result"
    },
    {
     "data": {
      "image/png": "[encoded data removed]",
      "text/plain": [
       "<Figure size 432x288 with 1 Axes>"
      ]
     },
     "metadata": {
      "needs_background": "light"
     },
     "output_type": "display_data"
    }
   ],
   "source": [
    "from scipy.stats import binom\n",
    "import seaborn as sns\n",
    "\n",
    "data_binom = binom.rvs(n=10,p=0.8,size=10000) # size = number of times to repeat the trials.\n",
    "ax = sns.distplot(data_binom, kde=True)\n",
    "ax.set(xlabel='Binomial Distribution', ylabel='Frequency')"
   ]
  },
  {
   "cell_type": "markdown",
   "metadata": {},
   "source": [
    "Since the probability(0.8) of success is greater than 0.5 the distribution is skewed towards the right side."
   ]
  },
  {
   "cell_type": "markdown",
   "metadata": {},
   "source": [
    "<a id=\"Bernoulli’s Distribution\"></a>\n",
    "## <u> Bernoulli’s Distribution </u> \n",
    "\n",
    "Bernoulli Distribution is a special case of Binomial Distribution with a single trial."
   ]
  },
  {
   "cell_type": "code",
   "execution_count": 6,
   "metadata": {},
   "outputs": [
    {
     "data": {
      "text/plain": [
       "[Text(0, 0.5, 'Frequency'), Text(0.5, 0, 'Bernoulli Distribution')]"
      ]
     },
     "execution_count": 6,
     "metadata": {},
     "output_type": "execute_result"
    },
    {
     "data": {
      "image/png": "[encoded data removed]",
      "text/plain": [
       "<Figure size 432x288 with 1 Axes>"
      ]
     },
     "metadata": {
      "needs_background": "light"
     },
     "output_type": "display_data"
    }
   ],
   "source": [
    "from scipy.stats import bernoulli\n",
    "\n",
    "data_bern = bernoulli.rvs(size=10000,p=0.6)\n",
    "ax= sns.distplot(data_bern, kde=False)\n",
    "ax.set(xlabel='Bernoulli Distribution', ylabel='Frequency')"
   ]
  },
  {
   "cell_type": "markdown",
   "metadata": {},
   "source": [
    "<a id=\"Uniform Distribution\"></a>\n",
    "## <u> Uniform Distribution </u> \n",
    "\n",
    "There are two kinds of uniform random variables: discrete and continuous ones.\n",
    "\n",
    "A discrete uniform distribution will take a (finite) set of values S, and assign a probability of 1/n to each of them, where n is the amount of elements in S.\n",
    "\n",
    "This way, if for instance a variable Y is uniform in {1,2,3}, there’d be 33% chance for each of those values to be assigned to Y.\n",
    "\n",
    "In a continuous uniform distribution, probability of Y taking a value in an interval (from c to d) is proportional to its size versus the size of the whole interval (b-a)."
   ]
  },
  {
   "cell_type": "code",
   "execution_count": 7,
   "metadata": {},
   "outputs": [
    {
     "data": {
      "text/plain": [
       "[Text(0, 0.5, 'Frequency'), Text(0.5, 0, 'Uniform Distribution ')]"
      ]
     },
     "execution_count": 7,
     "metadata": {},
     "output_type": "execute_result"
    },
    {
     "data": {
      "image/png": "[encoded data removed]",
      "text/plain": [
       "<Figure size 432x288 with 1 Axes>"
      ]
     },
     "metadata": {
      "needs_background": "light"
     },
     "output_type": "display_data"
    }
   ],
   "source": [
    "# import uniform distribution\n",
    "from scipy.stats import uniform\n",
    "import seaborn as sns\n",
    "\n",
    "data_uniform = uniform.rvs(size=1000, loc = 10, scale=20)\n",
    "ax = sns.distplot(data_uniform, bins=100, kde=True)\n",
    "ax.set(xlabel='Uniform Distribution ', ylabel='Frequency')"
   ]
  },
  {
   "cell_type": "markdown",
   "metadata": {},
   "source": [
    "<a id=\"Exponential Distribution\"></a>\n",
    "## <u> Exponential Distribution </u>\n",
    "\n",
    "Exponential Distribution measures the distribution of the time between events.\n",
    "\n",
    "<u> Example </u>\n",
    "1. Length of time beteeen metro arrivals,\n",
    "2. Length of time between arrivals at a gas station.\n",
    "3. The life of an Air Conditioner."
   ]
  },
  {
   "cell_type": "code",
   "execution_count": 8,
   "metadata": {},
   "outputs": [
    {
     "data": {
      "image/png": "[encoded data removed]",
      "text/plain": [
       "<Figure size 432x288 with 1 Axes>"
      ]
     },
     "metadata": {
      "needs_background": "light"
     },
     "output_type": "display_data"
    }
   ],
   "source": [
    "# Decreasing Exponential Function\n",
    "\n",
    "import numpy as np \n",
    "from scipy.stats import expon\n",
    "import matplotlib.pyplot as plt \n",
    "  \n",
    "distribution = np.linspace(expon.ppf(0.01), expon.ppf(0.99), 100)\n",
    "  \n",
    "plot = plt.plot(distribution, expon.pdf(distribution))"
   ]
  },
  {
   "cell_type": "code",
   "execution_count": 9,
   "metadata": {},
   "outputs": [
    {
     "data": {
      "text/plain": [
       "[Text(0, 0.5, 'Frequency'), Text(0.5, 0, 'Exponential Distribution')]"
      ]
     },
     "execution_count": 9,
     "metadata": {},
     "output_type": "execute_result"
    },
    {
     "data": {
      "image/png": "[encoded data removed]",
      "text/plain": [
       "<Figure size 432x288 with 1 Axes>"
      ]
     },
     "metadata": {
      "needs_background": "light"
     },
     "output_type": "display_data"
    }
   ],
   "source": [
    "from scipy.stats import expon\n",
    "data_expon = expon.rvs(scale=1,loc=0,size=1000)\n",
    "ax = sns.distplot(data_expon, kde=True, bins=100)\n",
    "ax.set(xlabel='Exponential Distribution', ylabel='Frequency')"
   ]
  },
  {
   "cell_type": "markdown",
   "metadata": {},
   "source": [
    "<a id=\"Poisson Distribution\"></a>\n",
    "## <u> Poisson Distribution </u>\n",
    "\n",
    "Poisson random variable is typically used to model the distribution of events per unit of time or space.\n",
    "\n",
    "<u> Example </u>\n",
    "- The number of emergency calls recorded at a hospital in a day.\n",
    "- The number of thefts reported in an area on a day.\n",
    "- The number of customers arriving at a salon in an hour.\n",
    "- The number of suicides reported in a particular city.\n",
    "- The number of printing errors at each page of the book.\n",
    "\n",
    "A distribution is called Poisson distribution when the following assumptions are valid:\n",
    "\n",
    "1. Any successful event should not influence the outcome of another successful event.\n",
    "2. The probability of success over a short interval must equal the probability of success over a longer interval.\n",
    "3. The probability of success in an interval approaches zero as the interval becomes smaller."
   ]
  },
  {
   "cell_type": "code",
   "execution_count": 10,
   "metadata": {},
   "outputs": [
    {
     "data": {
      "text/plain": [
       "[Text(0, 0.5, 'Frequency'), Text(0.5, 0, 'Poisson Distribution')]"
      ]
     },
     "execution_count": 10,
     "metadata": {},
     "output_type": "execute_result"
    },
    {
     "data": {
      "image/png": "[encoded data removed]",
      "text/plain": [
       "<Figure size 432x288 with 1 Axes>"
      ]
     },
     "metadata": {
      "needs_background": "light"
     },
     "output_type": "display_data"
    }
   ],
   "source": [
    "from scipy.stats import poisson\n",
    "\n",
    "# \"mu\" = \"The average number of events in an interval.\n",
    "data_poisson = poisson.rvs(mu=3, size=10000)\n",
    "ax = sns.distplot(data_poisson, bins=30, kde=True)\n",
    "ax.set(xlabel='Poisson Distribution', ylabel='Frequency')"
   ]
  },
  {
   "cell_type": "markdown",
   "metadata": {},
   "source": [
    "<a id=\"Probability Density Function and Probability Mass Function\"></a>\n",
    "## <u> Probability Density Function and Probability Mass Function </u> \n",
    "\n",
    "Probability density function and Probability mass function is a statistical expression that defines a Probability Distribution for a random variable.\n",
    "\n",
    "<b> Probability density function(PDF) </b> is used to determine the probability distribution for a Continuous Random Variable. When the PDF is graphically plotted the area under the curve indicates the interval in which the variable will fall.\n",
    "\n",
    "Whereas the <b> Probability Mass Function(PMF) </b> is used to determine the probability distribution for a Discrete Random Variable."
   ]
  },
  {
   "cell_type": "markdown",
   "metadata": {},
   "source": [
    "<a id=\"P-value\"></a>\n",
    "# <u> P-value </u>\n",
    "\n",
    "<a id=\"Hypothesis testing\"></a>\n",
    "## <u> Hypothesis testing </u>\n",
    "Hypothesis testing is a statistical method that is used in making statistical decisions using experimental data. It is an assumption that we make about the population parameter. A hypothesis test evaluates two mutually exclusive statements about a population to determine which statement is best supported by the sample data.\n",
    "\n",
    "<b>Null hypothesis </b>: A null hypothesis is a general statement or default position.\n",
    "\n",
    "Example : a company production is = 50 unit/per day.\n",
    "\n",
    "<b>Alternative hypothesis </b>: The alternative hypothesis is the hypothesis that is contrary to the null hypothesis.\n",
    "\n",
    "Example : a company production is !=50 unit/per day etc.\n",
    "\n",
    "<b>Level of significance </b>: Refers to the degree of significance in which we accept or reject the null-hypothesis. 100% accuracy is not possible for accepting or rejecting a hypothesis, so we therefore select a level of significance that is usually 5% which means the output should be 95% confident to give similar kind of result in each sample.\n",
    "\n",
    "\n",
    "In a Probability Distribution graph, we have the range of values on the x-axis and the frequency of occurrences of different values on the y-axis. If we pick any random value from this distribution, the probability that we will pick values close to the mean is highest as it has the highest peak (due to high occurrence values in that region). If we move away from the peak, the occurrence of the values decreases rapidly and so does the corresponding probability, towards a very small value close to zero."
   ]
  },
  {
   "cell_type": "code",
   "execution_count": 11,
   "metadata": {},
   "outputs": [
    {
     "name": "stdout",
     "output_type": "stream",
     "text": [
      "0.01760010010885238\n"
     ]
    },
    {
     "data": {
      "image/png": "[encoded data removed]",
      "text/plain": [
       "<Figure size 432x288 with 1 Axes>"
      ]
     },
     "metadata": {
      "needs_background": "light"
     },
     "output_type": "display_data"
    }
   ],
   "source": [
    "# In a coin toss suppose Head comes 60/100 times, N = 100, P(Head) = 60/100\n",
    "\n",
    "import scipy.stats\n",
    "import matplotlib.pyplot as plt\n",
    "\n",
    "# succes = np.linspace(0, 100, 101)\n",
    "succes = np.linspace(30, 70, 41)\n",
    "plt.plot(succes, scipy.stats.binom.pmf(succes, 100, 0.5), 'b-', label=\"Binomial(100, 0.5)\", color = \"blue\")\n",
    "upper_succes_tvalues = succes[succes > 60]\n",
    "plt.fill_between(upper_succes_tvalues, 0, scipy.stats.binom.pmf(upper_succes_tvalues, 100,0.5), alpha=.3, label=\"p-value\")\n",
    "plt.axvline(x=55, ymin=0, ymax=0.8, color = \"orange\")\n",
    "plt.axvline(x=58, ymin=0, ymax=0.5, color = \"red\")\n",
    "plt.axvline(x=upper_succes_tvalues[0], ymin=0, ymax=0.2, color = \"green\")\n",
    "plt.axvline(x=upper_succes_tvalues[3], ymin=0, ymax=0.15, color = \"pink\")\n",
    "_ = plt.legend()\n",
    "pval = 1 - scipy.stats.binom.cdf(60, 100, 0.5)\n",
    "print(pval)"
   ]
  },
  {
   "cell_type": "markdown",
   "metadata": {},
   "source": [
    "<u> p-value is the cumulative probability (area under the curve) of the values, right of the green line in the figure above.</u>\n",
    "\n",
    "Or,\n",
    "\n",
    "<u> p-value corresponding to the green point(point of intersection of green line and the curve) tells us about the ‘total probability’ of getting any value to the right hand side of the green line, when the values are picked randomly from the population distribution. </u>\n",
    "\n",
    "A large p-value implies that sample scores are more aligned or similar to the population score."
   ]
  },
  {
   "cell_type": "markdown",
   "metadata": {},
   "source": [
    "<a id=\"Alpha value / Significance Level\"></a>\n",
    "## <u> Alpha value / Significance Level</u>\n",
    "\n",
    "Alpha value / Significance Level (generally 0.05 or 5%) is a threshold p-value, which we decide before conducting a test of similarity or significance ( Z-test or a T-test).\n",
    "\n",
    "Consider the above normal distribution. The red point in this distribution represents the alpha value or the threshold p-value. Now, let’s say that the orange and pink points represent different sample results obtained after an experiment.\n",
    "\n",
    "### p-value > alpha:\n",
    "The orange point has a p-value greater than the alpha. As a result, these values can be obtained with fairly high probability. It also means that the results are in favor of the null hypothesis and therefore we fail to reject it. This result is often against the alternate hypothesis (obtained results are from another distribution).\n",
    "\n",
    "### p-value < alpha:\n",
    "The pink point has a p-value less than the alpha value (red). As a result, the sample results are a rare outcome. Therefore, they are significantly different from the population.\n",
    "\n",
    "The smaller the value of alpha we consider, the harder it is to consider the results as significant.\n",
    "\n",
    "\n",
    "<a id=\"Example\"></a>\n",
    "## <u> Example</u>"
   ]
  },
  {
   "cell_type": "code",
   "execution_count": 12,
   "metadata": {},
   "outputs": [
    {
     "name": "stdout",
     "output_type": "stream",
     "text": [
      "                            OLS Regression Results                            \n",
      "==============================================================================\n",
      "Dep. Variable:                 Profit   R-squared:                       0.951\n",
      "Model:                            OLS   Adj. R-squared:                  0.945\n",
      "Method:                 Least Squares   F-statistic:                     169.9\n",
      "Date:                Mon, 06 Jan 2020   Prob (F-statistic):           1.34e-27\n",
      "Time:                        06:07:16   Log-Likelihood:                -525.38\n",
      "No. Observations:                  50   AIC:                             1063.\n",
      "Df Residuals:                      44   BIC:                             1074.\n",
      "Df Model:                           5                                         \n",
      "Covariance Type:            nonrobust                                         \n",
      "====================================================================================\n",
      "                       coef    std err          t      P>|t|      [0.025      0.975]\n",
      "------------------------------------------------------------------------------------\n",
      "R&D Spend            0.8060      0.046     17.369      0.000       0.712       0.900\n",
      "Administration      -0.0270      0.052     -0.517      0.608      -0.132       0.078\n",
      "Marketing Spend      0.0270      0.017      1.574      0.123      -0.008       0.062\n",
      "State_California  5.013e+04   6884.820      7.281      0.000    3.62e+04     6.4e+04\n",
      "State_Florida     5.032e+04   7251.767      6.940      0.000    3.57e+04    6.49e+04\n",
      "State_New York    5.008e+04   6952.587      7.204      0.000    3.61e+04    6.41e+04\n",
      "==============================================================================\n",
      "Omnibus:                       14.782   Durbin-Watson:                   1.283\n",
      "Prob(Omnibus):                  0.001   Jarque-Bera (JB):               21.266\n",
      "Skew:                          -0.948   Prob(JB):                     2.41e-05\n",
      "Kurtosis:                       5.572   Cond. No.                     2.45e+06\n",
      "==============================================================================\n",
      "\n",
      "Warnings:\n",
      "[1] Standard Errors assume that the covariance matrix of the errors is correctly specified.\n",
      "[2] The condition number is large, 2.45e+06. This might indicate that there are\n",
      "strong multicollinearity or other numerical problems.\n"
     ]
    }
   ],
   "source": [
    "import numpy as np\n",
    "import matplotlib.pyplot as plt\n",
    "import pandas as pd\n",
    "import statsmodels.api as sm\n",
    "from sklearn.preprocessing import LabelEncoder, OneHotEncoder\n",
    "import warnings\n",
    "warnings.filterwarnings('ignore')\n",
    "\n",
    "dataset = pd.read_csv(\"../input/50-startups/50_Startups.csv\")\n",
    "X = dataset[['R&D Spend', 'Administration', 'Marketing Spend', 'State']] \n",
    "y = dataset[['Profit']] \n",
    "X = pd.get_dummies(X, columns = ['State'])\n",
    "model = sm.OLS(y, X).fit()\n",
    "predictions = model.predict(X)\n",
    "print(model.summary())"
   ]
  },
  {
   "cell_type": "markdown",
   "metadata": {},
   "source": [
    "We can clearly see that \"Administration\" has a p-value over 0.50.\n",
    "\n",
    "#### Hypothesis:\n",
    "\n",
    "- Null Hypothesis: The independent variable has no significant effect over the target variable.\n",
    "- Alternate Hypothesis: The independent variables have a significant effect on the target variable.\n",
    "\n",
    "The above results show that \"Administration\" has no significant effect over the “Profit” earned by the startups. Let’s remove this variable from the model."
   ]
  },
  {
   "cell_type": "code",
   "execution_count": 13,
   "metadata": {},
   "outputs": [
    {
     "name": "stdout",
     "output_type": "stream",
     "text": [
      "                            OLS Regression Results                            \n",
      "==============================================================================\n",
      "Dep. Variable:                 Profit   R-squared:                       0.950\n",
      "Model:                            OLS   Adj. R-squared:                  0.946\n",
      "Method:                 Least Squares   F-statistic:                     215.8\n",
      "Date:                Mon, 06 Jan 2020   Prob (F-statistic):           9.72e-29\n",
      "Time:                        06:07:16   Log-Likelihood:                -525.53\n",
      "No. Observations:                  50   AIC:                             1061.\n",
      "Df Residuals:                      45   BIC:                             1071.\n",
      "Df Model:                           4                                         \n",
      "Covariance Type:            nonrobust                                         \n",
      "====================================================================================\n",
      "                       coef    std err          t      P>|t|      [0.025      0.975]\n",
      "------------------------------------------------------------------------------------\n",
      "R&D Spend            0.7967      0.042     18.771      0.000       0.711       0.882\n",
      "Marketing Spend      0.0298      0.016      1.842      0.072      -0.003       0.062\n",
      "State_California  4.696e+04   3119.471     15.053      0.000    4.07e+04    5.32e+04\n",
      "State_Florida      4.71e+04   3670.129     12.833      0.000    3.97e+04    5.45e+04\n",
      "State_New York    4.694e+04   3342.591     14.043      0.000    4.02e+04    5.37e+04\n",
      "==============================================================================\n",
      "Omnibus:                       14.640   Durbin-Watson:                   1.257\n",
      "Prob(Omnibus):                  0.001   Jarque-Bera (JB):               21.037\n",
      "Skew:                          -0.938   Prob(JB):                     2.70e-05\n",
      "Kurtosis:                       5.565   Cond. No.                     9.45e+05\n",
      "==============================================================================\n",
      "\n",
      "Warnings:\n",
      "[1] Standard Errors assume that the covariance matrix of the errors is correctly specified.\n",
      "[2] The condition number is large, 9.45e+05. This might indicate that there are\n",
      "strong multicollinearity or other numerical problems.\n"
     ]
    }
   ],
   "source": [
    "X.drop(['Administration'], axis = 1, inplace = True) \n",
    "model = sm.OLS(y, X).fit()\n",
    "predictions = model.predict(X)\n",
    "print(model.summary())"
   ]
  },
  {
   "cell_type": "markdown",
   "metadata": {},
   "source": [
    "The most important thing to note in this model summary is that although we have reduced two independent variables, the value of the adjusted R-Square is increased.\n",
    "\n",
    "With the help of p-value, we not only made a simpler model with fewer variables,  but we also improved the model’s performance."
   ]
  },
  {
   "cell_type": "markdown",
   "metadata": {},
   "source": [
    "<a id=\"Remarks\"></a>\n",
    "## <u> Remarks </u>\n",
    "\n",
    "- Although a low p-value promotes the rejection of the null hypothesis, it addresses nothing about the probability of rejecting it.\n",
    "- We choose the significance level before we perform the experiment. If the p-value satisfies our level of significance (p < alpha), only then can we make conclusions.\n",
    "- To talk about a null hypothesis being true using a p-value is impossible. A high p-value means that our data is highly consistent with our null hypothesis, nothing more."
   ]
  },
  {
   "cell_type": "markdown",
   "metadata": {},
   "source": [
    "<a id=\"Degrees of Freedom\"></a>\n",
    "# <u> Degrees of Freedom </u>\n",
    "\n",
    "To explain what degrees of freedom are, let us just take an example. In a set of 3 numbers with the mean as 10 and two out of three variables as 5 and 15, there is only one possibility of the value that the third number can take up i.e. 10. With any set of 3 numbers with the same mean, for example: 12,8 and 10 or say 9,10 and 11, there is only one value for any 2 given values in the set. You can basically change the two values here and the third value fixes itself. The degree of freedom here is 2. Essentially, degrees of freedom is the number of independent data points that went into calculating the estimate."
   ]
  },
  {
   "cell_type": "markdown",
   "metadata": {},
   "source": [
    "<a id=\"Parametric vs. Non-Parametric Data\"></a>\n",
    "# <u> Parametric vs. Non-Parametric Data </u>\n",
    "\n",
    "<a id=\"Parametric Data\"></a>\n",
    "## <u> Parametric Data </u>\n",
    "\n",
    "Parametric data is a sample of data drawn from a known data distribution.\n",
    "\n",
    "This means that we already know the distribution and we know its parameters. Often, parametric is shorthand for real-valued data drawn from a Gaussian distribution. This is a useful shorthand, but strictly this is not entirely accurate.\n",
    "\n",
    "If we have parametric data, we can use parametric methods and can harness the entire suite of statistical methods developed for data assuming a Gaussian distribution, such as:\n",
    "\n",
    "- Summary statistics.\n",
    "- Correlation between variables.\n",
    "- Significance tests for comparing means.\n",
    "\n",
    "In general, we prefer to work with parametric data, and even go so far as to use data preparation methods that make data parametric, such as data transforms, so that we can harness these well-understood statistical methods.\n",
    "\n",
    "<a id=\"Non-Parametric Data\"></a>\n",
    "## <u> Non-Parametric Data </u>\n",
    "\n",
    "Data that does not fit a known or well-understood distribution is referred to as nonparametric data.\n",
    "\n",
    "Data could be non-parametric for many reasons, such as:\n",
    "\n",
    "- Data is not real-valued, but instead is ordinal, intervals, or some other form.\n",
    "- Data is real-valued but does not fit a well understood shape.\n",
    "- Data is almost parametric but contains outliers, multiple peaks, a shift, or some other feature.\n",
    "\n",
    "Most parametric methods have an equivalent nonparametric version.\n",
    "\n",
    "In general, the findings from nonparametric methods are less powerful than their parametric counterparts, namely because they must be generalized to work for all types of data.\n",
    "\n",
    "In the case of real-valued data(that does not fit the familiar Gaussian distribution) or ordinal data or interval data nonparametric statistics are the only type of statistics that can be used.\n",
    "\n",
    "<a id=\"Data Ranking\"></a>\n",
    "### <u> Data Ranking </u>\n",
    "\n",
    "Before a nonparametric statistical method can be applied, the data must be converted into a rank format.\n",
    "\n",
    "Data Ranking is exactly as its name suggests. The procedure is as follows:\n",
    "\n",
    "- Sort all data in the sample in ascending order.\n",
    "- Assign an integer rank from 1 to N for each unique value in the data sample."
   ]
  },
  {
   "cell_type": "code",
   "execution_count": 14,
   "metadata": {},
   "outputs": [
    {
     "data": {
      "text/plain": [
       "array([74., 53.,  4., 54., 33., 68., 36., 84., 34., 81.])"
      ]
     },
     "execution_count": 14,
     "metadata": {},
     "output_type": "execute_result"
    }
   ],
   "source": [
    "from numpy.random import rand\n",
    "from numpy.random import seed\n",
    "from scipy.stats import rankdata\n",
    "\n",
    "data = rand(100)\n",
    "# rank data\n",
    "ranked = rankdata(data)\n",
    "# review first 10 ranked samples\n",
    "ranked[:10]"
   ]
  },
  {
   "cell_type": "markdown",
   "metadata": {},
   "source": [
    "<a id=\"Univariate Statistical Analysis\"></a>\n",
    "# <u> Univariate Statistical Analysis </u>\n",
    "\n",
    "<a id=\"Normality Tests\"></a>\n",
    "## <u> Normality Tests </u>\n",
    "\n",
    "Statistical tests to check if the data has a Gaussian distribution.\n",
    "\n",
    "<a id=\"Shapiro-Wilk Test\"></a>\n",
    "### <u> Shapiro-Wilk Test </u>\n",
    "\n",
    "Test the null hypothesis that the data is drawn from a normal distribution.\n",
    "\n"
   ]
  },
  {
   "cell_type": "code",
   "execution_count": 15,
   "metadata": {},
   "outputs": [
    {
     "name": "stdout",
     "output_type": "stream",
     "text": [
      "stat=0.989, p=0.576\n",
      "Probably Gaussian\n"
     ]
    }
   ],
   "source": [
    "from scipy import stats\n",
    "\n",
    "x = stats.norm.rvs(loc=5, scale=3, size=100)\n",
    "stat, p = stats.shapiro(x)\n",
    "print('stat=%.3f, p=%.3f' % (stat, p))\n",
    "if p > 0.05:\n",
    "    print('Probably Gaussian')\n",
    "else:\n",
    "    print('Probably not Gaussian')"
   ]
  },
  {
   "cell_type": "markdown",
   "metadata": {},
   "source": [
    "<a id=\"D’Agostino’s K^2 Test\"></a>\n",
    "### <u> D’Agostino’s $K^2$ Test </u>\n",
    "\n",
    "Test the null hypothesis that the data is drawn from a normal distribution.\n"
   ]
  },
  {
   "cell_type": "code",
   "execution_count": 16,
   "metadata": {},
   "outputs": [
    {
     "name": "stdout",
     "output_type": "stream",
     "text": [
      "stat=1.757, p=0.415\n",
      "Probably Gaussian\n"
     ]
    }
   ],
   "source": [
    "from scipy import stats\n",
    "\n",
    "x = stats.norm.rvs(loc=5, scale=3, size=100)\n",
    "stat, p = stats.normaltest(x)\n",
    "print('stat=%.3f, p=%.3f' % (stat, p))\n",
    "if p > 0.05:\n",
    "    print('Probably Gaussian')\n",
    "else:\n",
    "    print('Probably not Gaussian')"
   ]
  },
  {
   "cell_type": "markdown",
   "metadata": {},
   "source": [
    "<a id=\"Anderson-Darling Test\"></a>\n",
    "### <u> Anderson-Darling Test </u> \n",
    "\n",
    "Test the null hypothesis that the data is drawn from a particular distribution.\n",
    "\n"
   ]
  },
  {
   "cell_type": "code",
   "execution_count": 17,
   "metadata": {},
   "outputs": [
    {
     "name": "stdout",
     "output_type": "stream",
     "text": [
      "0.466164312250271\n",
      "Probably exponential at the 15.0% level\n",
      "Probably exponential at the 10.0% level\n",
      "Probably exponential at the 5.0% level\n",
      "Probably exponential at the 2.5% level\n",
      "Probably exponential at the 1.0% level\n"
     ]
    }
   ],
   "source": [
    "from scipy.stats import anderson\n",
    "\n",
    "data_expon = expon.rvs(scale=1,loc=0,size=1000)\n",
    "\n",
    "statistic, critical_values, significance_level = anderson(data_expon, dist='expon')\n",
    "print(statistic)\n",
    "\n",
    "for i in range(len(critical_values)):\n",
    "    sl, cv = significance_level[i], critical_values[i]\n",
    "    if statistic < cv:\n",
    "        print('Probably exponential at the %.1f%% level' % (sl))\n",
    "    else:\n",
    "        print('Probably not exponential at the %.1f%% level' % (sl))"
   ]
  },
  {
   "cell_type": "markdown",
   "metadata": {},
   "source": [
    "<a id=\"Correlation Tests\"></a>\n",
    "## <u> Correlation Tests </u>\n",
    "\n",
    "<a id=\"Covariance Analysis\"></a>\n",
    "### <u> Covariance Analysis </u>"
   ]
  },
  {
   "cell_type": "code",
   "execution_count": 18,
   "metadata": {},
   "outputs": [
    {
     "name": "stdout",
     "output_type": "stream",
     "text": [
      "data1: mean=99.416 stdv=19.834\n",
      "data2: mean=149.812 stdv=22.491\n"
     ]
    },
    {
     "data": {
      "image/png": "[encoded data removed]",
      "text/plain": [
       "<Figure size 432x288 with 1 Axes>"
      ]
     },
     "metadata": {
      "needs_background": "light"
     },
     "output_type": "display_data"
    }
   ],
   "source": [
    "from numpy import mean\n",
    "from numpy import std\n",
    "from numpy.random import randn\n",
    "from numpy.random import seed\n",
    "from matplotlib import pyplot\n",
    "\n",
    "#  Random numbers drawn from a Gaussian distribution with mean = 100 and standard deviation = 20.\n",
    "data1 = 20 * randn(1000) + 100\n",
    "# Gaussian noise added with a mean of a 50 and a standard deviation of 10\n",
    "data2 = data1 + (10 * randn(1000) + 50)\n",
    "# summarize\n",
    "print('data1: mean=%.3f stdv=%.3f' % (mean(data1), std(data1)))\n",
    "print('data2: mean=%.3f stdv=%.3f' % (mean(data2), std(data2)))\n",
    "# plot\n",
    "pyplot.scatter(data1, data2)\n",
    "pyplot.show()"
   ]
  },
  {
   "cell_type": "code",
   "execution_count": 19,
   "metadata": {},
   "outputs": [
    {
     "data": {
      "text/plain": [
       "array([[393.77179845, 400.00427998],\n",
       "       [400.00427998, 506.34701761]])"
      ]
     },
     "execution_count": 19,
     "metadata": {},
     "output_type": "execute_result"
    }
   ],
   "source": [
    "from numpy import cov\n",
    "covariance = cov(data1, data2)\n",
    "covariance"
   ]
  },
  {
   "cell_type": "markdown",
   "metadata": {},
   "source": [
    "The covariance between the two variables is 389.75. We can see that it is positive, suggesting the variables change in the same direction as we expect."
   ]
  },
  {
   "cell_type": "markdown",
   "metadata": {},
   "source": [
    "<a id=\"Pearson’s Correlation Coefficient\"></a>\n",
    "### <u> Pearson’s Correlation Coefficient </u>\n",
    "\n",
    "Pearson Correlation Coefficient can be used with\n",
    " - Continuous variables that have a linear relationship. (draw a scatterplot first to check a linear relationship).\n",
    " \n",
    " Pearson Correlation Coefficient is not robust to outliers\n",
    "  - Presence of outliers will always impace Pearson Correlation Coefficient value."
   ]
  },
  {
   "cell_type": "code",
   "execution_count": 20,
   "metadata": {},
   "outputs": [
    {
     "data": {
      "text/plain": [
       "0.8958147427013752"
      ]
     },
     "execution_count": 20,
     "metadata": {},
     "output_type": "execute_result"
    }
   ],
   "source": [
    "from scipy.stats import pearsonr\n",
    "\n",
    "corr, _ = pearsonr(data1, data2)\n",
    "corr"
   ]
  },
  {
   "cell_type": "markdown",
   "metadata": {},
   "source": [
    "The two variables are positively correlated and the correlation is 0.8. This suggests a high level of correlation."
   ]
  },
  {
   "cell_type": "markdown",
   "metadata": {},
   "source": [
    "<a id=\"Spearman’s Rank Correlation\"></a>\n",
    "### <u> Spearman’s Rank Correlation </u>\n",
    "\n",
    "Spearman’s Correlation is used when: \n",
    "- Two variables are/may be related by a nonlinear relationship, such that the relationship is stronger or weaker across the distribution of the variables.\n",
    "- Two variables being considered may have a non-Gaussian distribution.\n",
    "\n",
    "Spearman’s Correlation can also be used if there is a linear relationship between the variables, but may result in lower coefficient scores.\n",
    "\n",
    "As with the Pearson correlation coefficient, the scores are between -1 and 1 for perfectly negatively correlated variables and perfectly positively correlated respectively.\n",
    "\n",
    "Instead of calculating the coefficient using covariance and standard deviations on the samples themselves, Spearman’s Correlation is calculated from the relative rank of values on each sample.\n",
    "\n",
    "$$\\text{Spearman’s Correlation Coefficient} = \\frac{Covariance(rank(x), rank(y))}{stdv(rank(x)) * stdv(rank(y))}$$ "
   ]
  },
  {
   "cell_type": "code",
   "execution_count": 21,
   "metadata": {},
   "outputs": [
    {
     "name": "stdout",
     "output_type": "stream",
     "text": [
      "Spearmans correlation: 0.886\n"
     ]
    }
   ],
   "source": [
    "from scipy.stats import spearmanr\n",
    "\n",
    "corr, _ = spearmanr(data1, data2)\n",
    "print('Spearmans correlation: %.3f' % corr)"
   ]
  },
  {
   "cell_type": "markdown",
   "metadata": {},
   "source": [
    "<a id=\"Chi-Squared Test\"></a>\n",
    "### <u> Chi-Squared Test </u>\n",
    "\n",
    "Chi-Square Test is used in statistics to test whether two non-negative features(boolean, category, non negative numbers) are related or independent. Given the data of two variables, we can get observed count O and expected count E. Chi-Square measures how expected count E and observed count O deviates each other.\n",
    "\n",
    "$$\\text{Chi-Square} = \\sum{\\frac{(O_i - E_i)^2}{E_i}} $$\n",
    "$$\\text{O = Observed values, E = Expected Values}$$\n",
    "\n",
    "In feature selection, we aim to select the features which are highly dependent on the response(y). When two features are independent, the observed count is close to the expected count, thus we will have smaller Chi-Square value. A higher Chi-Square value indicates that the feature is more dependent on the response and can be selected for model training.\n",
    "\n",
    "<u> Example </u>:\n",
    "\n",
    "Consider a data-set where we have to determine why customers are leaving the bank. Gender of a customer with values as Male/Female as the predictor(X) and Exited describes whether a customer is leaving the bank with values Yes/No as the response(y). In this test we will check is there any relationship between Gender and Exited.\n",
    "\n",
    "Steps to perform the Chi-Square Test:\n",
    "- Define Hypothesis.\n",
    "- Build a Contingency table.\n",
    "- Find the expected values.\n",
    "- Calculate the Chi-Square statistic.\n",
    "- Accept or Reject the Null Hypothesis.\n",
    "\n",
    "### <u> Define Hypothesis </u>:\n",
    "- Null Hypothesis (H0): Two variables are independent.\n",
    "- Alternate Hypothesis (H1): Two variables are not independent.\n",
    "\n",
    "### <u> Contingency table </u>:\n",
    "\n",
    "| Gender/Exited | Yes | No | Total |\n",
    "| --- | --- | --- |\n",
    "| Male | 38 | 178 | 216 |\n",
    "| Female | 44 | 140 | 184 |\n",
    "| Total | 82 | 318 | 400 |\n",
    "\n",
    "Degrees of freedom for contingency table is given as (r-1) * (c-1) where r,c are rows and columns. Here df = (2–1) * (2–1) = 1.\n",
    "\n",
    "In the above table we have figured out all observed values and our next steps is to find expected values, get the Chi-Square value and check for relationship.\n",
    "\n",
    "### <u> Find the Expected Value </u>:\n",
    "\n",
    "Based on the null hypothesis that the two variables are independent. We can say if A, B are two independent events\n",
    "\n",
    "$$P(A \\land B) = P(A) \\text{ * } P(B)$$\n",
    "\n",
    "Let’s calculate the expected value for the first cell that is those who are Males and are Exited from the bank.\n",
    "\n",
    "$$E_1 = N \\text{ * } P$$\n",
    "$$P = P(yes) \\text{ * } P(male)$$\n",
    "$$P = \\frac{82}{400} \\text{ * } \\frac{216}{400}$$\n",
    "$$P = 0.1107$$\n",
    "$$E_1 = 400 \\text{ * } 0.1107 = 44$$\n",
    "\n",
    "We also calculated E2, E3, E4 and get the following results.\n",
    "\n",
    "| Gender/Exited | Yes | No |\n",
    "| --- | --- |\n",
    "| Male | 44 | 172 |\n",
    "| Female | 38 | 146 |\n",
    "\n",
    "### <u> Calculate Chi-Square value </u>:\n",
    "\n",
    "| Gender/Exited | O | E | $\\frac{(O - E)^2}{E}$ |\n",
    "| --- | --- | --- |\n",
    "| Male, Yes | 38 | 44 | 0.8181 |\n",
    "| Male, No | 178 | 172 | 0.2093 |\n",
    "| Female, Yes | 44 | 38 | 0.9473 |\n",
    "| Female, No | 140 | 146 | 0.2465 |\n",
    "| Chi-Square Value |  |  | 2.2214 |\n",
    "\n",
    "### <u> Accept or Reject the Null Hypothesis </u>:\n",
    "The Chi-Square value is greater than alpha(0.05), we accept the null hypothesis."
   ]
  },
  {
   "cell_type": "code",
   "execution_count": 22,
   "metadata": {
    "_cell_guid": "",
    "_uuid": ""
   },
   "outputs": [
    {
     "data": {
      "text/plain": [
       "(array([556.13322467,  11.85325057,  51.53992627]),\n",
       " array([5.83146756e-123, 5.75607838e-004, 7.01557451e-013]))"
      ]
     },
     "execution_count": 22,
     "metadata": {},
     "output_type": "execute_result"
    }
   ],
   "source": [
    "import pandas as pd\n",
    "from sklearn.preprocessing import LabelEncoder\n",
    "from sklearn.feature_selection import chi2\n",
    "\n",
    "Churn_Modelling = pd.read_csv(\"../input/bank-customer-churn-modeling/Churn_Modelling.csv\")\n",
    "# Select all Categorical variables, and dependent variable\n",
    "Churn_Modelling = Churn_Modelling[['Surname', 'Geography', 'Gender', 'Exited']] \n",
    "Churn_Modelling = Churn_Modelling.apply(LabelEncoder().fit_transform)\n",
    "X = Churn_Modelling[['Surname', 'Geography', 'Gender']] \n",
    "y = Churn_Modelling['Exited']\n",
    "chi_scores = chi2(X,y)\n",
    "chi_scores"
   ]
  },
  {
   "cell_type": "markdown",
   "metadata": {},
   "source": [
    "first array represents chi square values and second array represnts p-values."
   ]
  },
  {
   "cell_type": "code",
   "execution_count": 23,
   "metadata": {},
   "outputs": [
    {
     "data": {
      "text/plain": [
       "<matplotlib.axes._subplots.AxesSubplot at 0x7f52fc895ac8>"
      ]
     },
     "execution_count": 23,
     "metadata": {},
     "output_type": "execute_result"
    },
    {
     "data": {
      "image/png": "[encoded data removed]",
      "text/plain": [
       "<Figure size 432x288 with 1 Axes>"
      ]
     },
     "metadata": {
      "needs_background": "light"
     },
     "output_type": "display_data"
    }
   ],
   "source": [
    "p_values = pd.Series(chi_scores[1],index = X.columns)\n",
    "p_values.sort_values(ascending = False , inplace = True)\n",
    "p_values.plot.bar()"
   ]
  },
  {
   "cell_type": "markdown",
   "metadata": {},
   "source": [
    "Since \"Geography\" has higher the p-value, it says that the variable is independent of the repsone and may not be considered for model training."
   ]
  },
  {
   "cell_type": "markdown",
   "metadata": {},
   "source": [
    "<a id=\"Stationary Tests\"></a>\n",
    "## <u> Stationary Tests </u>\n",
    "<a id=\"Augmented Dickey-Fuller\"></a>\n",
    "- ### <u> Augmented Dickey-Fuller </u>\n",
    "<a id=\"Kwiatkowski-Phillips-Schmidt-Shin\"></a>\n",
    "- ### <u> Kwiatkowski-Phillips-Schmidt-Shin </u>"
   ]
  },
  {
   "cell_type": "markdown",
   "metadata": {},
   "source": [
    "<a id=\"Parametric Statistical Hypothesis Tests\"></a>\n",
    "## <u> Parametric Statistical Hypothesis Tests </u>\n",
    "<a id=\"Student’s t-test\"></a>\n",
    "### <u> Student’s t-test </u>\n",
    "\n",
    "A common question about two or more datasets is whether they are same/different. Specifically, whether the simplarity/difference between their central tendency (e.g. mean or median) is statistically significant. Student’s t-test compares the means of two independent groups in order to determine if the two population means are equal. It assume that the two random variables are normally distributed.  The variances of the two samples may be assumed to be equal or unequal.\n",
    "\n",
    "Applications:\n",
    "- compare the performance of two workers of by checking the average sales done by each of them.\n",
    "- compare the performance of a worker by comparing the average sales done by him with the standard value."
   ]
  },
  {
   "cell_type": "code",
   "execution_count": 24,
   "metadata": {
    "_cell_guid": "",
    "_uuid": ""
   },
   "outputs": [
    {
     "data": {
      "text/plain": [
       "(3.3371870510833657, 0.0011297914644840823)"
      ]
     },
     "execution_count": 24,
     "metadata": {},
     "output_type": "execute_result"
    }
   ],
   "source": [
    "import pandas as pd\n",
    "from scipy import stats\n",
    "\n",
    "blood_pressure = pd.read_csv(\"../input/blood-pressure-dataset/blood_pressure.csv\")\n",
    "# Use \"ttest_rel\" when the data samples may represent two independent measures or evaluations of the same object. These data samples are repeated or dependent and are referred to as paired samples or repeated measures.\n",
    "ttest,pval = stats.ttest_rel(blood_pressure['bp_before'], blood_pressure['bp_after'])\n",
    "# ttest is the calculated difference of the population mean represented in units of standard error.\n",
    "# The greater the magnitude of T, the greater the evidence against the null hypothesis. The closer T is to 0, the more likely there isn't a significant difference.\n",
    "ttest,pval"
   ]
  },
  {
   "cell_type": "markdown",
   "metadata": {},
   "source": [
    "In the [scipy documents](https://docs.scipy.org/doc/scipy/reference/generated/scipy.stats.ttest_rel.html), Null Hypothesis for \"ttest_rel\" is : That 2 related or repeated samples have identical average (expected) values.\n",
    "\n",
    "As pval < 0.05, we can discard the null hypothesis."
   ]
  },
  {
   "cell_type": "markdown",
   "metadata": {},
   "source": [
    "<a id=\"Analysis of Variance Test\"></a>\n",
    "### <u> Analysis of Variance Test (ANOVA) </u>\n",
    "\n",
    "ANOVA is a statistical test that assumes that the mean across 2 or more groups are equal. If the evidence suggests that this is not the case, the null hypothesis is rejected and at least one data sample has a different distribution. It assume that the two(or more) random variables are normally distributed.\n",
    "\n",
    "Importantly, the test can only comment on whether all samples are the same or not; it cannot quantify which samples differ or by how much."
   ]
  },
  {
   "cell_type": "code",
   "execution_count": 25,
   "metadata": {},
   "outputs": [
    {
     "name": "stdout",
     "output_type": "stream",
     "text": [
      "stat=0.096, p=0.908\n",
      "Probably the same distribution\n"
     ]
    }
   ],
   "source": [
    "from scipy.stats import f_oneway\n",
    "data1 = [0.873, 2.817, 0.121, -0.945, -0.055, -1.436, 0.360, -1.478, -1.637, -1.869]\n",
    "data2 = [1.142, -0.432, -0.938, -0.729, -0.846, -0.157, 0.500, 1.183, -1.075, -0.169]\n",
    "data3 = [-0.208, 0.696, 0.928, -1.148, -0.213, 0.229, 0.137, 0.269, -0.870, -1.204]\n",
    "stat, p = f_oneway(data1, data2, data3)\n",
    "print('stat=%.3f, p=%.3f' % (stat, p))\n",
    "if p > 0.05:\n",
    "    print('Probably the same distribution')\n",
    "else:\n",
    "    print('Probably different distributions')"
   ]
  },
  {
   "cell_type": "markdown",
   "metadata": {},
   "source": [
    "<a id=\"Nonparametric Statistical Hypothesis Tests\"></a>\n",
    "## <u> Nonparametric Statistical Hypothesis Tests </u>\n",
    "\n",
    "The null hypothesis of these tests is often the assumption that both samples were drawn from a population with the same distribution, and therefore the same population parameters, such as mean or median.\n",
    "\n",
    "<a id=\"Test Dataset\"></a>\n",
    "### <u> Test Dataset </u>\n",
    "Generate two samples drawn from different distributions. We will draw the samples from Gaussian distributions for simplicity, although, as noted, the tests we review are for data samples where we do not know or assume any specific distribution.\n",
    "\n",
    "We expect the statistical tests to discover that the samples were drawn from differing distributions."
   ]
  },
  {
   "cell_type": "code",
   "execution_count": 26,
   "metadata": {},
   "outputs": [
    {
     "name": "stdout",
     "output_type": "stream",
     "text": [
      "data1: mean=49.082 stdv=4.589\n",
      "data2: mean=50.970 stdv=5.214\n",
      "data3: mean=52.415 stdv=4.935\n"
     ]
    }
   ],
   "source": [
    "# generate gaussian data samples\n",
    "from numpy.random import seed\n",
    "from numpy.random import randn\n",
    "from numpy import mean\n",
    "from numpy import std\n",
    "\n",
    "# generate two sets of univariate observations\n",
    "data1 = 5 * randn(100) + 50\n",
    "data2 = 5 * randn(100) + 51\n",
    "data3 = 5 * randn(100) + 52\n",
    "# summarize\n",
    "print('data1: mean=%.3f stdv=%.3f' % (mean(data1), std(data1)))\n",
    "print('data2: mean=%.3f stdv=%.3f' % (mean(data2), std(data2)))\n",
    "print('data3: mean=%.3f stdv=%.3f' % (mean(data3), std(data3)))"
   ]
  },
  {
   "cell_type": "markdown",
   "metadata": {},
   "source": [
    "<a id=\"Mann-Whitney U Test\"></a>\n",
    "### <u> Mann-Whitney U Test </u>\n",
    "\n",
    "In Mann-Whitney U Test, the two samples are combined and rank ordered together. The strategy is to determine if the values from the two samples are randomly mixed in the rank ordering or if they are clustered at opposite ends when combined. A random rank order would mean that the two samples are not different, while a cluster of one sample values would indicate a difference between them."
   ]
  },
  {
   "cell_type": "code",
   "execution_count": 27,
   "metadata": {},
   "outputs": [
    {
     "name": "stdout",
     "output_type": "stream",
     "text": [
      "Statistics=3734.000, p=0.001\n",
      "Different distribution (reject H0)\n"
     ]
    }
   ],
   "source": [
    "from scipy.stats import mannwhitneyu\n",
    "\n",
    "stat, p = mannwhitneyu(data1, data2)\n",
    "print('Statistics=%.3f, p=%.3f' % (stat, p))\n",
    "# interpret\n",
    "alpha = 0.05\n",
    "if p > alpha:\n",
    "    print('Same distribution (fail to reject H0)')\n",
    "else:\n",
    "    print('Different distribution (reject H0)')"
   ]
  },
  {
   "cell_type": "markdown",
   "metadata": {},
   "source": [
    "<a id=\"Wilcoxon Signed-Rank Test\"></a>\n",
    "### <u> Wilcoxon Signed-Rank Test </u>\n",
    "\n",
    "If the the data samples are paired in some way or represent two measurements of the same technique or each sample is independent, but comes from the same population, we use Wilcoxon Signed-Rank Test. It is the equivalent of the paired Student T-test, but for ranked data instead of real valued data with a Gaussian distribution.\n",
    "\n",
    "Examples of paired samples in machine learning might be the same algorithm evaluated on different datasets or different algorithms evaluated on exactly the same training and test data.\n",
    "\n",
    "The samples are not independent, therefore the Mann-Whitney U test cannot be used."
   ]
  },
  {
   "cell_type": "code",
   "execution_count": 28,
   "metadata": {},
   "outputs": [
    {
     "name": "stdout",
     "output_type": "stream",
     "text": [
      "Statistics=1844.000, p=0.019\n",
      "Different distribution (reject H0)\n"
     ]
    }
   ],
   "source": [
    "from scipy.stats import wilcoxon\n",
    "\n",
    "stat, p = wilcoxon(data1, data2)\n",
    "print('Statistics=%.3f, p=%.3f' % (stat, p))\n",
    "# interpret\n",
    "alpha = 0.05\n",
    "if p > alpha:\n",
    "    print('Same distribution (fail to reject H0)')\n",
    "else:\n",
    "    print('Different distribution (reject H0)')"
   ]
  },
  {
   "cell_type": "markdown",
   "metadata": {},
   "source": [
    "<a id=\"Kruskal-Wallis H Test\"></a>\n",
    "- ### <u> Kruskal-Wallis H Test </u>\n",
    "\n",
    "Generalization of Mann-Whitney U test.\n",
    "\n",
    "The Kruskal-Wallis test is a nonparametric version of the one-way analysis of ANOVA."
   ]
  },
  {
   "cell_type": "code",
   "execution_count": 29,
   "metadata": {},
   "outputs": [
    {
     "name": "stdout",
     "output_type": "stream",
     "text": [
      "Statistics=22.565, p=0.000\n",
      "Different distributions (reject H0)\n"
     ]
    }
   ],
   "source": [
    "from scipy.stats import kruskal\n",
    "\n",
    "stat, p = kruskal(data1, data2, data3)\n",
    "print('Statistics=%.3f, p=%.3f' % (stat, p))\n",
    "# interpret\n",
    "alpha = 0.05\n",
    "if p > alpha:\n",
    "    print('Same distributions (fail to reject H0)')\n",
    "else:\n",
    "    print('Different distributions (reject H0)')"
   ]
  },
  {
   "cell_type": "markdown",
   "metadata": {},
   "source": [
    "<a id=\"Friedman Test\"></a>\n",
    "- ### <u> Friedman Test </u>\n",
    "\n",
    "Generalization of the Kruskal-Wallis H Test to more than two samples.\n",
    "\n",
    "The Friedman test is the nonparametric version of the repeated measures analysis of variance test, or repeated measures ANOVA."
   ]
  },
  {
   "cell_type": "code",
   "execution_count": 30,
   "metadata": {},
   "outputs": [
    {
     "name": "stdout",
     "output_type": "stream",
     "text": [
      "Statistics=16.980, p=0.000\n",
      "Different distributions (reject H0)\n"
     ]
    }
   ],
   "source": [
    "from scipy.stats import friedmanchisquare\n",
    "\n",
    "stat, p = friedmanchisquare(data1, data2, data3)\n",
    "print('Statistics=%.3f, p=%.3f' % (stat, p))\n",
    "# interpret\n",
    "alpha = 0.05\n",
    "if p > alpha:\n",
    "    print('Same distributions (fail to reject H0)')\n",
    "else:\n",
    "    print('Different distributions (reject H0)')"
   ]
  },
  {
   "cell_type": "markdown",
   "metadata": {},
   "source": [
    "<a id=\"Multivariate Statistical Analysis\"></a>\n",
    "# <u> Multivariate Statistical Analysis </u>\n",
    "\n",
    "Multivariate statistics includes all statistical techniques for analyzing samples made of two or more variables.\n",
    "\n",
    "<a id=\"Covariance and Correlation Statistical Analysis\"></a>\n",
    "## <u> Covariance and Correlation Statistical Analysis </u>\n",
    "\n",
    "### <u> Covariance Matrix </u>\n",
    "\n",
    "The Covariance matrix of $X_{NP}$ is a \"P * P\" matrix where the covariance of any two features \"P1\", \"P2\" is calculated by the formula -\n",
    "\n",
    "$$Cov(P1, P2 ) = \\frac{\\sum({P1}_i - \\bar{P1}) ({P2}_i - \\bar{P2})}{N}$$\n",
    "\n",
    "For diagonal elements, $Cov(P1, P1) = Var(P1)$\n",
    "\n",
    "### <u> Correlation Matrix </u>\n",
    "\n",
    "The Correlation matrix of $X_{NP}$ is also a \"P * P\" matrix where the correlation of any two features \"P1\", \"P2\" is calculated by the formula -\n",
    "\n",
    "$$Corr(P1, P2 ) = \\frac{Cov(P1, P2 )}{\\sigma_{P1} \\sigma_{P2}}$$\n",
    "\n",
    "The correlation of an element with itself $ Corr(P1, P1) = 1$, or the highest value possible.\n",
    "\n",
    "### <u>Covariance and Correlation Statistical Analysis in PCA </u>:\n",
    "\n",
    "In PCA analysis, use the covariance matrix when the variable are on similar scales and the correlation matrix when the scales of the variables differ.\n",
    "\n",
    "We will see(R code) how Covariance and Correlation Matrix can be used to explain which features contributes to maximum variance in PCA analysis. We will also see how PCA results differ when computed with the correlation matrix and the covariance matrix respectively."
   ]
  },
  {
   "cell_type": "code",
   "execution_count": 31,
   "metadata": {},
   "outputs": [],
   "source": [
    "# rpy2 runs embedded R in a Python process."
   ]
  },
  {
   "cell_type": "code",
   "execution_count": 32,
   "metadata": {},
   "outputs": [
    {
     "name": "stdout",
     "output_type": "stream",
     "text": [
      "Collecting package metadata (current_repodata.json): - \b\b\\ \b\b| \b\b/ \b\b- \b\b\\ \b\b| \b\b/ \b\b- \b\b\\ \b\b| \b\b/ \b\b- \b\b\\ \b\b| \b\b/ \b\b- \b\b\\ \b\b| \b\b/ \b\b- \b\b\\ \b\b| \b\b/ \b\b- \b\b\\ \b\b| \b\b/ \b\b- \b\b\\ \b\b| \b\b/ \b\b- \b\b\\ \b\b| \b\b/ \b\b- \b\b\\ \b\b| \b\b/ \b\b- \b\b\\ \b\b| \b\b/ \b\b- \b\b\\ \b\b| \b\b/ \b\b- \b\b\\ \b\b| \b\bdone\r\n",
      "Solving environment: - \b\b\\ \b\b| \b\b/ \b\b- \b\b\\ \b\b| \b\b/ \b\b- \b\b\\ \b\b| \b\b/ \b\b- \b\b\\ \b\b| \b\b/ \b\b- \b\b\\ \b\b| \b\b/ \b\b- \b\b\\ \b\b| \b\b/ \b\b- \b\b\\ \b\b| \b\b/ \b\b- \b\b\\ \b\b| \b\b/ \b\b- \b\b\\ \b\b| \b\b/ \b\b- \b\b\\ \b\b| \b\b/ \b\b- \b\b\\ \b\b| \b\b/ \b\b- \b\b\\ \b\b| \b\b/ \b\b- \b\b\\ \b\b| \b\b/ \b\b- \b\b\\ \b\b| \b\b/ \b\b- \b\b\\ \b\b| \b\b/ \b\b- \b\b\\ \b\b| \b\b/ \b\b- \b\b\\ \b\b| \b\b/ \b\b- \b\b\\ \b\b| \b\b/ \b\b- \b\b\\ \b\b| \b\b/ \b\b- \b\b\\ \b\b| \b\b/ \b\b- \b\b\\ \b\b| \b\b/ \b\b- \b\b\\ \b\b| \b\b/ \b\b- \b\b\\ \b\b| \b\b/ \b\b- \b\b\\ \b\b| \b\b/ \b\b- \b\b\\ \b\b| \b\b/ \b\b- \b\b\\ \b\b| \b\b/ \b\b- \b\b\\ \b\b| \b\b/ \b\b- \b\b\\ \b\b| \b\b/ \b\b- \b\b\\ \b\b| \b\b/ \b\b- \b\b\\ \b\b| \b\b/ \b\b- \b\b\\ \b\b| \b\b/ \b\b- \b\b\\ \b\b| \b\b/ \b\b- \b\b\\ \b\b| \b\b/ \b\b- \b\b\\ \b\b| \b\b/ \b\b- \b\b\\ \b\b| \b\b/ \b\b- \b\b\\ \b\b| \b\b/ \b\b- \b\b\\ \b\b| \b\b/ \b\b- \b\b\\ \b\b| \b\b/ \b\b- \b\b\\ \b\b| \b\b/ \b\b- \b\b\\ \b\b| \b\b/ \b\b- \b\b\\ \b\b| \b\b/ \b\b- \b\b\\ \b\b| \b\b/ \b\b- \b\b\\ \b\b| \b\b/ \b\b- \b\b\\ \b\b| \b\b/ \b\b- \b\b\\ \b\b| \b\b/ \b\b- \b\b\\ \b\b| \b\b/ \b\b- \b\b\\ \b\b| \b\b/ \b\b- \b\b\\ \b\b| \b\b/ \b\b- \b\b\\ \b\b| \b\b/ \b\b- \b\b\\ \b\b| \b\b/ \b\b- \b\b\\ \b\b| \b\b/ \b\b- \b\b\\ \b\b| \b\b/ \b\b- \b\b\\ \b\b| \b\b/ \b\b- \b\b\\ \b\bfailed with initial frozen solve. Retrying with flexible solve.\r\n",
      "Solving environment: / \b\b- \b\b\\ \b\b| \b\b/ \b\b- \b\b\\ \b\b| \b\b/ \b\b- \b\b\\ \b\b| \b\b/ \b\b- \b\b\\ \b\b| \b\b/ \b\b- \b\b\\ \b\b| \b\b/ \b\b- \b\b\\ \b\b| \b\b/ \b\b- \b\b\\ \b\b| \b\b/ \b\b- \b\b\\ \b\b| \b\b/ \b\b- \b\b\\ \b\b| \b\b/ \b\b- \b\b\\ \b\b| \b\b/ \b\b- \b\b\\ \b\b| \b\b/ \b\b- \b\b\\ \b\b| \b\b/ \b\b- \b\b\\ \b\b| \b\b/ \b\b- \b\b\\ \b\b| \b\b/ \b\b- \b\b\\ \b\b| \b\b/ \b\b- \b\b\\ \b\b| \b\b/ \b\b- \b\b\\ \b\b| \b\b/ \b\b- \b\b\\ \b\b| \b\b/ \b\b- \b\b\\ \b\b| \b\b/ \b\b- \b\b\\ \b\b| \b\b/ \b\b- \b\b\\ \b\b| \b\b/ \b\b- \b\b\\ \b\b| \b\b/ \b\b- \b\b\\ \b\b| \b\b/ \b\b- \b\b\\ \b\b| \b\b/ \b\b- \b\b\\ \b\b| \b\b/ \b\b- \b\b\\ \b\b| \b\b/ \b\b- \b\b\\ \b\b| \b\b/ \b\b- \b\b\\ \b\b| \b\b/ \b\b- \b\b\\ \b\b| \b\b/ \b\b- \b\b\\ \b\b| \b\b/ \b\b- \b\b\\ \b\b| \b\b/ \b\b- \b\b\\ \b\b| \b\b/ \b\b- \b\b\\ \b\b| \b\b/ \b\b- \b\b\\ \b\b| \b\b/ \b\b- \b\b\\ \b\b| \b\b/ \b\b- \b\b\\ \b\b| \b\b/ \b\b- \b\b\\ \b\b| \b\b/ \b\b- \b\b\\ \b\b| \b\b/ \b\b- \b\b\\ \b\b| \b\b/ \b\b- \b\b\\ \b\b| \b\b/ \b\b- \b\b\\ \b\b| \b\b/ \b\b- \b\b\\ \b\b| \b\b/ \b\b- \b\b\\ \b\b| \b\b/ \b\b- \b\b\\ \b\b| \b\b/ \b\b- \b\b\\ \b\b| \b\b/ \b\b- \b\b\\ \b\b| \b\b/ \b\b- \b\b\\ \b\b| \b\b/ \b\b- \b\b\\ \b\b| \b\b/ \b\b- \b\b\\ \b\b| \b\b/ \b\b- \b\b\\ \b\b| \b\b/ \b\b- \b\b\\ \b\b| \b\b/ \b\b- \b\b\\ \b\b| \b\b/ \b\b- \b\b\\ \b\b| \b\b/ \b\b- \b\b\\ \b\b| \b\b/ \b\b- \b\b\\ \b\b| \b\b/ \b\b- \b\b\\ \b\b| \b\b/ \b\b- \b\b\\ \b\b| \b\b/ \b\b- \b\b\\ \b\b| \b\b/ \b\b- \b\b\\ \b\b| \b\b/ \b\b- \b\b\\ \b\b| \b\b/ \b\b- \b\b\\ \b\b| \b\b/ \b\b- \b\b\\ \b\b| \b\b/ \b\b- \b\b\\ \b\b| \b\b/ \b\b- \b\b\\ \b\b| \b\b/ \b\b- \b\b\\ \b\b| \b\b/ \b\b- \b\b\\ \b\b| \b\b/ \b\b- \b\b\\ \b\b| \b\b/ \b\b- \b\b\\ \b\b| \b\b/ \b\b- \b\b\\ \b\b| \b\b/ \b\b- \b\b\\ \b\b| \b\b/ \b\b- \b\b\\ \b\b| \b\b/ \b\b- \b\b\\ \b\b| \b\b/ \b\b- \b\b\\ \b\b| \b\b/ \b\b- \b\b\\ \b\b| \b\b/ \b\b- \b\b\\ \b\b| \b\b/ \b\b- \b\b\\ \b\b| \b\b/ \b\b- \b\b\\ \b\b| \b\b/ \b\b- \b\b\\ \b\b| \b\b/ \b\b- \b\b\\ \b\b| \b\b/ \b\b- \b\b\\ \b\b| \b\b/ \b\b- \b\b\\ \b\b| \b\b/ \b\b- \b\b\\ \b\b| \b\b/ \b\b- \b\b\\ \b\b| \b\b/ \b\b- \b\b\\ \b\b| \b\b/ \b\b- \b\b\\ \b\b| \b\b/ \b\b- \b\b\\ \b\bfailed with repodata from current_repodata.json, will retry with next repodata source.\r\n",
      "Collecting package metadata (repodata.json): / \b\b- \b\b\\ \b\b| \b\b/ \b\b- \b\b\\ \b\b| \b\b/ \b\b- \b\b\\ \b\b| \b\b/ \b\b- \b\b\\ \b\b| \b\b/ \b\b- \b\b\\ \b\b| \b\b/ \b\b- \b\b\\ \b\b| \b\b/ \b\b- \b\b\\ \b\b| \b\b/ \b\b- \b\b\\ \b\b| \b\b/ \b\b- \b\b\\ \b\b| \b\b/ \b\b- \b\b\\ \b\b| \b\b/ \b\b- \b\b\\ \b\b| \b\b/ \b\b- \b\b\\ \b\b| \b\b/ \b\b- \b\b\\ \b\b| \b\b/ \b\b- \b\b\\ \b\b| \b\b/ \b\b- \b\b\\ \b\b| \b\b/ \b\b- \b\b\\ \b\b| \b\b/ \b\b- \b\b\\ \b\b| \b\b/ \b\b- \b\b\\ \b\b| \b\b/ \b\b- \b\b\\ \b\b| \b\b/ \b\b- \b\b\\ \b\b| \b\b/ \b\b- \b\b\\ \b\b| \b\b/ \b\b- \b\b\\ \b\b| \b\b/ \b\b- \b\b\\ \b\b| \b\b/ \b\b- \b\b\\ \b\b| \b\b/ \b\b- \b\b\\ \b\b| \b\b/ \b\b- \b\b\\ \b\b| \b\b/ \b\b- \b\b\\ \b\b| \b\b/ \b\b- \b\bdone\r\n",
      "Solving environment: | \b\b/ \b\b- \b\b\\ \b\b| \b\b/ \b\b- \b\b\\ \b\b| \b\b/ \b\b- \b\b\\ \b\b| \b\b/ \b\b- \b\b\\ \b\b| \b\b/ \b\b- \b\b\\ \b\b| \b\b/ \b\b- \b\b\\ \b\b| \b\b/ \b\b- \b\b\\ \b\b| \b\b/ \b\b- \b\b\\ \b\b| \b\b/ \b\b- \b\b\\ \b\b| \b\b/ \b\b- \b\b\\ \b\b| \b\b/ \b\b- \b\b\\ \b\b| \b\b/ \b\b- \b\b\\ \b\b| \b\b/ \b\b- \b\b\\ \b\b| \b\b/ \b\b- \b\b\\ \b\b| \b\b/ \b\b- \b\b\\ \b\b| \b\b/ \b\b- \b\b\\ \b\b| \b\b/ \b\b- \b\b\\ \b\b| \b\b/ \b\b- \b\b\\ \b\b| \b\b/ \b\b- \b\b\\ \b\b| \b\b/ \b\b- \b\b\\ \b\b| \b\b/ \b\b- \b\b\\ \b\b| \b\b/ \b\b- \b\b\\ \b\b| \b\b/ \b\b- \b\b\\ \b\b| \b\b/ \b\b- \b\b\\ \b\b| \b\b/ \b\b- \b\b\\ \b\b| \b\b/ \b\b- \b\b\\ \b\b| \b\b/ \b\b- \b\b\\ \b\b| \b\b/ \b\b- \b\b\\ \b\b| \b\b/ \b\b- \b\b\\ \b\b| \b\b/ \b\b- \b\b\\ \b\b| \b\b/ \b\b- \b\b\\ \b\b| \b\b/ \b\b- \b\b\\ \b\b| \b\b/ \b\b- \b\b\\ \b\b| \b\b/ \b\b- \b\b\\ \b\b| \b\b/ \b\b- \b\b\\ \b\b| \b\b/ \b\b- \b\b\\ \b\b| \b\b/ \b\b- \b\b\\ \b\b| \b\b/ \b\b- \b\b\\ \b\b| \b\b/ \b\b- \b\b\\ \b\b| \b\b/ \b\b- \b\b\\ \b\b| \b\b/ \b\b- \b\b\\ \b\b| \b\b/ \b\b- \b\b\\ \b\b| \b\b/ \b\b- \b\b\\ \b\b| \b\b/ \b\b- \b\b\\ \b\b| \b\b/ \b\b- \b\b\\ \b\b| \b\b/ \b\b- \b\b\\ \b\b| \b\b/ \b\b- \b\b\\ \b\b| \b\b/ \b\b- \b\b\\ \b\b| \b\b/ \b\b- \b\b\\ \b\b| \b\b/ \b\b- \b\b\\ \b\b| \b\b/ \b\b- \b\b\\ \b\b| \b\b/ \b\b- \b\b\\ \b\b| \b\b/ \b\b- \b\b\\ \b\b| \b\b/ \b\b- \b\b\\ \b\b| \b\b/ \b\b- \b\b\\ \b\b| \b\b/ \b\b- \b\b\\ \b\b| \b\b/ \b\b- \b\b\\ \b\b| \b\b/ \b\b- \b\b\\ \b\b| \b\b/ \b\b- \b\b\\ \b\b| \b\b/ \b\b- \b\b\\ \b\b| \b\b/ \b\b- \b\b\\ \b\b| \b\b/ \b\b- \b\b\\ \b\b| \b\b/ \b\b- \b\b\\ \b\b| \b\b/ \b\b- \b\b\\ \b\b| \b\b/ \b\b- \b\b\\ \b\b| \b\b/ \b\b- \b\b\\ \b\b| \b\b/ \b\b- \b\b\\ \b\b| \b\b/ \b\b- \b\b\\ \b\b| \b\b/ \b\b- \b\b\\ \b\b| \b\b/ \b\b- \b\b\\ \b\b| \b\b/ \b\b- \b\b\\ \b\b| \b\b/ \b\b- \b\b\\ \b\b| \b\b/ \b\b- \b\b\\ \b\b| \b\b/ \b\b- \b\b\\ \b\b| \b\b/ \b\b- \b\b\\ \b\b| \b\b/ \b\b- \b\b\\ \b\b| \b\b/ \b\b- \b\b\\ \b\b| \b\b/ \b\b- \b\b\\ \b\b| \b\b/ \b\b- \b\b\\ \b\b| \b\b/ \b\b- \b\b\\ \b\b| \b\b/ \b\b- \b\b\\ \b\b| \b\b/ \b\b- \b\b\\ \b\b| \b\b/ \b\b- \b\b\\ \b\b| \b\b/ \b\b- \b\b\\ \b\b| \b\b/ \b\b- \b\b\\ \b\b| \b\b/ \b\b- \b\b\\ \b\b| \b\b/ \b\b- \b\b\\ \b\b| \b\b/ \b\b- \b\b\\ \b\b| \b\b/ \b\b- \b\b\\ \b\b| \b\bdone\r\n",
      "\r\n",
      "## Package Plan ##\r\n",
      "\r\n",
      "  environment location: /opt/conda\r\n",
      "\r\n",
      "  added / updated specs:\r\n",
      "    - rpy2\r\n",
      "\r\n",
      "\r\n",
      "The following packages will be downloaded:\r\n",
      "\r\n",
      "    package                    |            build\r\n",
      "    ---------------------------|-----------------\r\n",
      "    _r-mutex-1.0.0             |            mro_2           2 KB  r\r\n",
      "    ca-certificates-2019.11.27 |                0         124 KB\r\n",
      "    certifi-2019.11.28         |           py36_0         153 KB\r\n",
      "    conda-4.8.0                |           py36_1         2.8 MB\r\n",
      "    gfortran_impl_linux-64-7.3.0|       hdf63c60_1         7.8 MB\r\n",
      "    gfortran_linux-64-7.3.0    |       h553295d_8         169 KB\r\n",
      "    make-4.2.1                 |       h1bed415_1         415 KB\r\n",
      "    mro-base-3.5.1             |                3         4.9 MB  r\r\n",
      "    mro-base_impl-3.5.1        |       h9a62091_0        46.7 MB  r\r\n",
      "    openssl-1.0.2u             |       h7b6447c_0         2.2 MB\r\n",
      "    r-assertthat-0.2.0         | mro351hf348343_0          58 KB  r\r\n",
      "    r-bh-1.66.0_1              | mro351hf348343_0        10.0 MB  r\r\n",
      "    r-bindr-0.1.1              | mro351hf348343_0          21 KB  r\r\n",
      "    r-bindrcpp-0.2.2           | mro351hebc1506_0          94 KB  r\r\n",
      "    r-bit-1.1_14               | mro351hd10c6a6_0         235 KB  r\r\n",
      "    r-bit64-0.9_7              | mro351hd10c6a6_0         476 KB  r\r\n",
      "    r-blob-1.1.1               | mro351hf348343_0          28 KB  r\r\n",
      "    r-cli-1.0.0                | mro351hf348343_0         323 KB  r\r\n",
      "    r-crayon-1.3.4             | mro351hf348343_0         746 KB  r\r\n",
      "    r-dbi-1.0.0                | mro351hf348343_0         873 KB  r\r\n",
      "    r-dbplyr-1.2.2             | mro351hf348343_0         534 KB  r\r\n",
      "    r-digest-0.6.15            | mro351hd10c6a6_0         151 KB  r\r\n",
      "    r-dplyr-0.7.6              | mro351hebc1506_0         1.8 MB  r\r\n",
      "    r-fansi-0.2.3              | mro351hd10c6a6_0         141 KB  r\r\n",
      "    r-glue-1.3.0               | mro351hd10c6a6_0          96 KB  r\r\n",
      "    r-magrittr-1.5             | mro351hf348343_0         165 KB  r\r\n",
      "    r-memoise-1.1.0            | mro351hf348343_0          41 KB  r\r\n",
      "    r-pillar-1.3.0             | mro351hf348343_0         157 KB  r\r\n",
      "    r-pkgconfig-2.0.1          | mro351hf348343_0          24 KB  r\r\n",
      "    r-plogr-0.2.0              | mro351hf348343_0          19 KB  r\r\n",
      "    r-prettyunits-1.0.2        | mro351hf348343_0          35 KB  r\r\n",
      "    r-purrr-0.2.5              | mro351hd10c6a6_0         279 KB  r\r\n",
      "    r-r6-2.2.2                 | mro351hf348343_0         275 KB  r\r\n",
      "    r-rcpp-0.12.18             | mro351hebc1506_0         3.4 MB  r\r\n",
      "    r-revoutils-11.0.0         |         mro351_0         4.9 MB  r\r\n",
      "    r-revoutilsmath-11.0.0     |         mro351_0       178.2 MB  r\r\n",
      "    r-rlang-0.2.1              | mro351hd10c6a6_0         776 KB  r\r\n",
      "    r-rsqlite-2.1.1            | mro351hebc1506_0         992 KB  r\r\n",
      "    r-tibble-1.4.2             | mro351hd10c6a6_0         229 KB  r\r\n",
      "    r-tidyselect-0.2.4         | mro351hebc1506_0         125 KB  r\r\n",
      "    r-utf8-1.1.4               | mro351hd10c6a6_0         159 KB  r\r\n",
      "    rpy2-2.9.4                 |py36mro351h6853232_0         270 KB  r\r\n",
      "    ------------------------------------------------------------\r\n",
      "                                           Total:       270.7 MB\r\n",
      "\r\n",
      "The following NEW packages will be INSTALLED:\r\n",
      "\r\n",
      "  _r-mutex           r/linux-64::_r-mutex-1.0.0-mro_2\r\n",
      "  gfortran_impl_lin~ pkgs/main/linux-64::gfortran_impl_linux-64-7.3.0-hdf63c60_1\r\n",
      "  gfortran_linux-64  pkgs/main/linux-64::gfortran_linux-64-7.3.0-h553295d_8\r\n",
      "  make               pkgs/main/linux-64::make-4.2.1-h1bed415_1\r\n",
      "  mro-base           r/linux-64::mro-base-3.5.1-3\r\n",
      "  mro-base_impl      r/linux-64::mro-base_impl-3.5.1-h9a62091_0\r\n",
      "  r-assertthat       r/linux-64::r-assertthat-0.2.0-mro351hf348343_0\r\n",
      "  r-bh               r/linux-64::r-bh-1.66.0_1-mro351hf348343_0\r\n",
      "  r-bindr            r/linux-64::r-bindr-0.1.1-mro351hf348343_0\r\n",
      "  r-bindrcpp         r/linux-64::r-bindrcpp-0.2.2-mro351hebc1506_0\r\n",
      "  r-bit              r/linux-64::r-bit-1.1_14-mro351hd10c6a6_0\r\n",
      "  r-bit64            r/linux-64::r-bit64-0.9_7-mro351hd10c6a6_0\r\n",
      "  r-blob             r/linux-64::r-blob-1.1.1-mro351hf348343_0\r\n",
      "  r-cli              r/linux-64::r-cli-1.0.0-mro351hf348343_0\r\n",
      "  r-crayon           r/linux-64::r-crayon-1.3.4-mro351hf348343_0\r\n",
      "  r-dbi              r/linux-64::r-dbi-1.0.0-mro351hf348343_0\r\n",
      "  r-dbplyr           r/linux-64::r-dbplyr-1.2.2-mro351hf348343_0\r\n",
      "  r-digest           r/linux-64::r-digest-0.6.15-mro351hd10c6a6_0\r\n",
      "  r-dplyr            r/linux-64::r-dplyr-0.7.6-mro351hebc1506_0\r\n",
      "  r-fansi            r/linux-64::r-fansi-0.2.3-mro351hd10c6a6_0\r\n",
      "  r-glue             r/linux-64::r-glue-1.3.0-mro351hd10c6a6_0\r\n",
      "  r-magrittr         r/linux-64::r-magrittr-1.5-mro351hf348343_0\r\n",
      "  r-memoise          r/linux-64::r-memoise-1.1.0-mro351hf348343_0\r\n",
      "  r-pillar           r/linux-64::r-pillar-1.3.0-mro351hf348343_0\r\n",
      "  r-pkgconfig        r/linux-64::r-pkgconfig-2.0.1-mro351hf348343_0\r\n",
      "  r-plogr            r/linux-64::r-plogr-0.2.0-mro351hf348343_0\r\n",
      "  r-prettyunits      r/linux-64::r-prettyunits-1.0.2-mro351hf348343_0\r\n",
      "  r-purrr            r/linux-64::r-purrr-0.2.5-mro351hd10c6a6_0\r\n",
      "  r-r6               r/linux-64::r-r6-2.2.2-mro351hf348343_0\r\n",
      "  r-rcpp             r/linux-64::r-rcpp-0.12.18-mro351hebc1506_0\r\n",
      "  r-revoutils        r/linux-64::r-revoutils-11.0.0-mro351_0\r\n",
      "  r-revoutilsmath    r/linux-64::r-revoutilsmath-11.0.0-mro351_0\r\n",
      "  r-rlang            r/linux-64::r-rlang-0.2.1-mro351hd10c6a6_0\r\n",
      "  r-rsqlite          r/linux-64::r-rsqlite-2.1.1-mro351hebc1506_0\r\n",
      "  r-tibble           r/linux-64::r-tibble-1.4.2-mro351hd10c6a6_0\r\n",
      "  r-tidyselect       r/linux-64::r-tidyselect-0.2.4-mro351hebc1506_0\r\n",
      "  r-utf8             r/linux-64::r-utf8-1.1.4-mro351hd10c6a6_0\r\n",
      "  rpy2               r/linux-64::rpy2-2.9.4-py36mro351h6853232_0\r\n",
      "\r\n",
      "The following packages will be UPDATED:\r\n",
      "\r\n",
      "  ca-certificates                              2019.10.16-0 --> 2019.11.27-0\r\n",
      "  certifi                                  2019.9.11-py36_0 --> 2019.11.28-py36_0\r\n",
      "  conda                                       4.7.12-py36_0 --> 4.8.0-py36_1\r\n",
      "  openssl                                 1.0.2t-h7b6447c_1 --> 1.0.2u-h7b6447c_0\r\n",
      "\r\n",
      "\r\n",
      "\r\n",
      "Downloading and Extracting Packages\r\n",
      "r-blob-1.1.1         | 28 KB     | ##################################### | 100% \r\n",
      "conda-4.8.0          | 2.8 MB    | ##################################### | 100% \r\n",
      "certifi-2019.11.28   | 153 KB    | ##################################### | 100% \r\n",
      "r-bit64-0.9_7        | 476 KB    | ##################################### | 100% \r\n",
      "r-bindrcpp-0.2.2     | 94 KB     | ##################################### | 100% \r\n",
      "r-revoutils-11.0.0   | 4.9 MB    | ##################################### | 100% \r\n",
      "r-purrr-0.2.5        | 279 KB    | ##################################### | 100% \r\n",
      "r-rlang-0.2.1        | 776 KB    | ##################################### | 100% \r\n",
      "r-prettyunits-1.0.2  | 35 KB     | ##################################### | 100% \r\n",
      "ca-certificates-2019 | 124 KB    | ##################################### | 100% \r\n",
      "openssl-1.0.2u       | 2.2 MB    | ##################################### | 100% \r\n",
      "r-assertthat-0.2.0   | 58 KB     | ##################################### | 100% \r\n",
      "r-crayon-1.3.4       | 746 KB    | ##################################### | 100% \r\n",
      "r-dplyr-0.7.6        | 1.8 MB    | ##################################### | 100% \r\n",
      "mro-base_impl-3.5.1  | 46.7 MB   | ##################################### | 100% \r\n",
      "r-memoise-1.1.0      | 41 KB     | ##################################### | 100% \r\n",
      "r-digest-0.6.15      | 151 KB    | ##################################### | 100% \r\n",
      "r-tidyselect-0.2.4   | 125 KB    | ##################################### | 100% \r\n",
      "make-4.2.1           | 415 KB    | ##################################### | 100% \r\n",
      "r-rcpp-0.12.18       | 3.4 MB    | ##################################### | 100% \r\n",
      "mro-base-3.5.1       | 4.9 MB    | ##################################### | 100% \r\n",
      "r-rsqlite-2.1.1      | 992 KB    | ##################################### | 100% \r\n",
      "r-bindr-0.1.1        | 21 KB     | ##################################### | 100% \r\n",
      "r-pillar-1.3.0       | 157 KB    | ##################################### | 100% \r\n",
      "r-pkgconfig-2.0.1    | 24 KB     | ##################################### | 100% \r\n",
      "r-plogr-0.2.0        | 19 KB     | ##################################### | 100% \r\n",
      "r-dbplyr-1.2.2       | 534 KB    | ##################################### | 100% \r\n",
      "r-r6-2.2.2           | 275 KB    | ##################################### | 100% \r\n",
      "r-glue-1.3.0         | 96 KB     | ##################################### | 100% \r\n",
      "r-bh-1.66.0_1        | 10.0 MB   | ##################################### | 100% \r\n",
      "gfortran_impl_linux- | 7.8 MB    | ##################################### | 100% \r\n",
      "r-tibble-1.4.2       | 229 KB    | ##################################### | 100% \r\n",
      "r-dbi-1.0.0          | 873 KB    | ##################################### | 100% \r\n",
      "_r-mutex-1.0.0       | 2 KB      | ##################################### | 100% \r\n",
      "r-revoutilsmath-11.0 | 178.2 MB  | ##################################### | 100% \r\n",
      "r-utf8-1.1.4         | 159 KB    | ##################################### | 100% \r\n",
      "rpy2-2.9.4           | 270 KB    | ##################################### | 100% \r\n",
      "r-fansi-0.2.3        | 141 KB    | ##################################### | 100% \r\n",
      "gfortran_linux-64-7. | 169 KB    | ##################################### | 100% \r\n",
      "r-bit-1.1_14         | 235 KB    | ##################################### | 100% \r\n",
      "r-magrittr-1.5       | 165 KB    | ##################################### | 100% \r\n",
      "r-cli-1.0.0          | 323 KB    | ##################################### | 100% \r\n",
      "Preparing transaction: - \b\b\\ \b\b| \b\b/ \b\b- \b\b\\ \b\b| \b\b/ \b\b- \b\b\\ \b\b| \b\b/ \b\bdone\r\n",
      "Verifying transaction: \\ \b\b| \b\b/ \b\b- \b\b\\ \b\b| \b\b/ \b\b- \b\b\\ \b\b| \b\b/ \b\b- \b\b\\ \b\b| \b\b/ \b\b- \b\b\\ \b\b| \b\b/ \b\b- \b\b\\ \b\b| \b\b/ \b\b- \b\b\\ \b\b| \b\b/ \b\b- \b\b\\ \b\bdone\r\n",
      "Executing transaction: / \b\b- \b\b\\ \b\b| \b\b/ \b\b- \b\b\\ \b\b| \b\b/ \b\b- \b\b\\ \b\b| \b\b/ \b\b- \b\b\\ \b\b| \b\b/ \b\b- \b\b\\ \b\b| \b\b/ \b\b- \b\b\\ \b\b| \b\b/ \b\b- \b\b\\ \b\b| \b\b/ \b\b- \b\b\\ \b\b| \b\b/ \b\b- \b\b\\ \b\b| \b\b/ \b\b- \b\b\\ \b\b| \b\b/ \b\b- \b\b\\ \b\b| \b\b/ \b\b- \b\b\\ \b\b| \b\b/ \b\b- \b\b\\ \b\b| \b\b/ \b\b- \b\b\\ \b\b| \b\b/ \b\b- \b\b\\ \b\b| \b\b/ \b\b- \b\b\\ \b\b| \b\b/ \b\b- \b\b\\ \b\b| \b\b/ \b\b- \b\b\\ \b\b| \b\b/ \b\b- \b\b\\ \b\b| \b\b/ \b\b- \b\b\\ \b\b| \b\b/ \b\b- \b\b\\ \b\b| \b\b/ \b\b- \b\b\\ \b\b| \b\b/ \b\b- \b\b\\ \b\b| \b\b/ \b\b- \b\b\\ \b\bdone\r\n",
      "\n",
      "Note: you may need to restart the kernel to use updated packages.\n"
     ]
    }
   ],
   "source": [
    "conda install -c r rpy2 "
   ]
  },
  {
   "cell_type": "code",
   "execution_count": 33,
   "metadata": {},
   "outputs": [],
   "source": [
    "%load_ext rpy2.ipython"
   ]
  },
  {
   "cell_type": "code",
   "execution_count": 34,
   "metadata": {
    "_cell_guid": "",
    "_uuid": ""
   },
   "outputs": [],
   "source": [
    "import pandas as pd\n",
    "mtcars = pd.read_csv(\"../input/mtcars/mtcars.csv\")"
   ]
  },
  {
   "cell_type": "code",
   "execution_count": 35,
   "metadata": {},
   "outputs": [
    {
     "data": {
      "text/plain": [
       "              mpg cyl disp  hp drat    wt  qsec vs am gear carb\n",
       "Mazda RX4      21   6  160 110  3.9 2.620 16.46  0  1    4    4\n",
       "Mazda RX4 Wag  21   6  160 110  3.9 2.875 17.02  0  1    4    4\n"
      ]
     },
     "metadata": {},
     "output_type": "display_data"
    }
   ],
   "source": [
    "%%R\n",
    "head(mtcars, 2)"
   ]
  },
  {
   "cell_type": "markdown",
   "metadata": {},
   "source": [
    "#### <u>PCA with covariance matrix </u>"
   ]
  },
  {
   "cell_type": "code",
   "execution_count": 36,
   "metadata": {},
   "outputs": [
    {
     "data": {
      "text/plain": [
       "List of 5\n",
       " $ sdev    : num [1:10] 136.531 38.133 3.056 1.279 0.694 ...\n",
       " $ rotation: num [1:10, 1:10] -0.03812 0.01204 0.89959 0.43478 -0.00266 ...\n",
       "  ..- attr(*, \"dimnames\")=List of 2\n",
       "  .. ..$ : chr [1:10] \"mpg\" \"cyl\" \"disp\" \"hp\" ...\n",
       "  .. ..$ : chr [1:10] \"PC1\" \"PC2\" \"PC3\" \"PC4\" ...\n",
       " $ center  : Named num [1:10] 20.09 6.19 230.72 146.69 3.6 ...\n",
       "  ..- attr(*, \"names\")= chr [1:10] \"mpg\" \"cyl\" \"disp\" \"hp\" ...\n",
       " $ scale   : logi FALSE\n",
       " $ x       : num [1:32, 1:10] -79.6 -79.61 -133.89 8.53 128.69 ...\n",
       "  ..- attr(*, \"dimnames\")=List of 2\n",
       "  .. ..$ : chr [1:32] \"Mazda RX4\" \"Mazda RX4 Wag\" \"Datsun 710\" \"Hornet 4 Drive\" ...\n",
       "  .. ..$ : chr [1:10] \"PC1\" \"PC2\" \"PC3\" \"PC4\" ...\n",
       " - attr(*, \"class\")= chr \"prcomp\"\n"
      ]
     },
     "metadata": {},
     "output_type": "display_data"
    }
   ],
   "source": [
    "%%R\n",
    "# We will use the prcomp() function from the ‘stats’ package.\n",
    "# Setting the scale=FALSE option will use the covariance matrix to get the PCs\n",
    "cars.pca = prcomp(mtcars[,-11], scale=FALSE)\n",
    "str(cars.pca)"
   ]
  },
  {
   "cell_type": "markdown",
   "metadata": {},
   "source": [
    "prcomp() returns 5 key measures: sdev, rotation, center, scale and x.\n",
    "\n",
    "- The <b>center </b> and <b> scale </b> provide the respective means and standard deviation of the variables that were used for normalization before implementing PCA.\n",
    "- <b> sdev </b> shows the standard deviation of principal components. In other words, it shows the square roots of the eigenvalues.\n",
    "- Each column of the <b>rotation matrix </b> contains the principal component loading vector. The component loading can be represented as the correlation of a particular variable on the respective PC(principal component). It can assume both positive or negative. Higher the loading value, higher is the correlation. With this information, we can easily interpret the ‘key variable’ in the PC.\n",
    "- The matrix <b> x </b>has the principal component score vectors."
   ]
  },
  {
   "cell_type": "markdown",
   "metadata": {},
   "source": [
    "The scale measure is set as \"FALSE\" as specified by in the input arguments. Let us now look at the principal component loading vectors:"
   ]
  },
  {
   "cell_type": "code",
   "execution_count": 37,
   "metadata": {},
   "outputs": [
    {
     "data": {
      "text/plain": [
       "              PC1          PC2         PC3          PC4          PC5\n",
       "mpg  -0.038118431  0.009177803  0.98707874  0.080614103 -0.106901729\n",
       "cyl   0.012035276 -0.003374146 -0.06336789 -0.249447239 -0.785442272\n",
       "disp  0.899589008  0.435383541  0.03234754 -0.002129043  0.010156855\n",
       "hp    0.434779433 -0.899730621  0.02224827  0.029851022 -0.004975075\n",
       "drat -0.002660190 -0.003900299  0.04092572 -0.042849633  0.278420565\n",
       "wt    0.006239513  0.004865676 -0.08402499  0.160088611  0.027362011\n",
       "qsec -0.006670990  0.025019379 -0.07507228  0.918708867 -0.127002811\n",
       "vs   -0.002729464  0.002198189  0.00326512  0.178766718  0.075291165\n",
       "am   -0.001962763 -0.005795217  0.05598015 -0.130436959  0.227626712\n",
       "gear -0.002605011 -0.011273477  0.05102268 -0.099599441  0.468663483\n",
       "              PC6           PC7          PC8          PC9          PC10\n",
       "mpg   0.036975755 -0.0182523047  0.058319542 -0.031519870 -0.0108012463\n",
       "cyl   0.446745200  0.1670370386 -0.240145605 -0.049490308  0.1705372141\n",
       "disp -0.002125974  0.0002958043 -0.004631180  0.000797575 -0.0001978797\n",
       "hp   -0.005135699  0.0001897920  0.002870069  0.001896769 -0.0016085306\n",
       "drat  0.137810769  0.9405587307  0.013578339 -0.107656821 -0.0594289341\n",
       "wt    0.496969187 -0.1047549751  0.778883395 -0.285182464  0.1433868696\n",
       "qsec  0.173887973  0.0854667804 -0.202051645  0.233656001 -0.0240082114\n",
       "vs   -0.222853024 -0.0102503588 -0.255265856 -0.644871111  0.6569344038\n",
       "am    0.150313154  0.0193295936  0.036536926  0.640023413  0.7029000441\n",
       "gear  0.656167587 -0.2614531570 -0.474062284 -0.153460417 -0.1431729564\n"
      ]
     },
     "metadata": {},
     "output_type": "display_data"
    }
   ],
   "source": [
    "%%R\n",
    "cars.pca$rotation"
   ]
  },
  {
   "cell_type": "code",
   "execution_count": 38,
   "metadata": {},
   "outputs": [
    {
     "name": "stdout",
     "output_type": "stream",
     "text": [
      "Collecting package metadata (current_repodata.json): - \b\b\\ \b\b| \b\b/ \b\b- \b\b\\ \b\b| \b\b/ \b\b- \b\b\\ \b\b| \b\b/ \b\b- \b\b\\ \b\b| \b\b/ \b\b- \b\b\\ \b\b| \b\b/ \b\b- \b\b\\ \b\b| \b\b/ \b\b- \b\b\\ \b\b| \b\b/ \b\b- \b\b\\ \b\b| \b\b/ \b\b- \b\b\\ \b\b| \b\b/ \b\b- \b\b\\ \b\b| \b\b/ \b\b- \b\b\\ \b\b| \b\b/ \b\b- \b\b\\ \b\b| \b\b/ \b\b- \b\b\\ \b\b| \b\b/ \b\b- \b\b\\ \b\b| \b\b/ \b\bdone\r\n",
      "Solving environment: \\ \b\b| \b\b/ \b\b- \b\b\\ \b\b| \b\b/ \b\b- \b\b\\ \b\b| \b\b/ \b\b- \b\b\\ \b\b| \b\b/ \b\b- \b\b\\ \b\b| \b\b/ \b\b- \b\b\\ \b\b| \b\b/ \b\b- \b\b\\ \b\b| \b\b/ \b\b- \b\b\\ \b\b| \b\b/ \b\b- \b\b\\ \b\b| \b\b/ \b\b- \b\b\\ \b\b| \b\b/ \b\b- \b\b\\ \b\b| \b\b/ \b\b- \b\b\\ \b\b| \b\b/ \b\b- \b\b\\ \b\b| \b\b/ \b\b- \b\b\\ \b\b| \b\b/ \b\b- \b\b\\ \b\b| \b\b/ \b\b- \b\b\\ \b\b| \b\b/ \b\b- \b\b\\ \b\b| \b\b/ \b\b- \b\b\\ \b\b| \b\b/ \b\b- \b\b\\ \b\b| \b\b/ \b\b- \b\b\\ \b\b| \b\b/ \b\b- \b\b\\ \b\b| \b\b/ \b\b- \b\b\\ \b\b| \b\b/ \b\b- \b\b\\ \b\b| \b\b/ \b\b- \b\b\\ \b\b| \b\b/ \b\b- \b\b\\ \b\b| \b\b/ \b\b- \b\b\\ \b\b| \b\b/ \b\b- \b\b\\ \b\b| \b\b/ \b\b- \b\b\\ \b\b| \b\b/ \b\b- \b\b\\ \b\b| \b\b/ \b\b- \b\b\\ \b\b| \b\b/ \b\b- \b\b\\ \b\b| \b\b/ \b\b- \b\b\\ \b\b| \b\b/ \b\b- \b\b\\ \b\b| \b\b/ \b\b- \b\b\\ \b\b| \b\b/ \b\b- \b\b\\ \b\b| \b\b/ \b\b- \b\b\\ \b\b| \b\b/ \b\b- \b\b\\ \b\b| \b\b/ \b\b- \b\b\\ \b\b| \b\b/ \b\b- \b\b\\ \b\b| \b\b/ \b\b- \b\b\\ \b\b| \b\b/ \b\b- \b\b\\ \b\b| \b\b/ \b\b- \b\b\\ \b\b| \b\b/ \b\b- \b\b\\ \b\b| \b\b/ \b\b- \b\b\\ \b\b| \b\b/ \b\b- \b\b\\ \b\b| \b\b/ \b\b- \b\b\\ \b\b| \b\b/ \b\b- \b\b\\ \b\b| \b\b/ \b\b- \b\b\\ \b\b| \b\b/ \b\b- \b\b\\ \b\b| \b\b/ \b\b- \b\b\\ \b\b| \b\b/ \b\b- \b\b\\ \b\b| \b\b/ \b\b- \b\b\\ \b\b| \b\b/ \b\b- \b\b\\ \b\b| \b\b/ \b\b- \b\b\\ \b\b| \b\b/ \b\b- \b\b\\ \b\b| \b\b/ \b\b- \b\b\\ \b\b| \b\b/ \b\b- \b\b\\ \b\b| \b\b/ \b\b- \b\b\\ \b\b| \b\b/ \b\b- \b\b\\ \b\b| \b\b/ \b\b- \b\b\\ \b\b| \b\b/ \b\b- \b\b\\ \b\b| \b\b/ \b\b- \b\b\\ \b\b| \b\b/ \b\b- \b\b\\ \b\b| \b\b/ \b\b- \b\b\\ \b\b| \b\b/ \b\b- \b\b\\ \b\b| \b\b/ \b\b- \b\b\\ \b\b| \b\b/ \b\b- \b\b\\ \b\b| \b\b/ \b\b- \b\b\\ \b\b| \b\b/ \b\b- \b\b\\ \b\b| \b\b/ \b\b- \b\b\\ \b\b| \b\b/ \b\b- \b\b\\ \b\b| \b\b/ \b\b- \b\b\\ \b\b| \b\b/ \b\b- \b\b\\ \b\b| \b\b/ \b\b- \b\b\\ \b\b| \b\b/ \b\b- \b\b\\ \b\b| \b\b/ \b\b- \b\b\\ \b\b| \b\b/ \b\b- \b\b\\ \b\b| \b\b/ \b\b- \b\b\\ \b\b| \b\b/ \b\b- \b\b\\ \b\b| \b\b/ \b\b- \b\b\\ \b\b| \b\b/ \b\b- \b\b\\ \b\b| \b\b/ \b\b- \b\b\\ \b\b| \b\b/ \b\b- \b\b\\ \b\b| \b\b/ \b\b- \b\b\\ \b\b| \b\b/ \b\b- \b\b\\ \b\b| \b\b/ \b\b- \b\b\\ \b\b| \b\b/ \b\b- \b\b\\ \b\b| \b\b/ \b\b- \b\b\\ \b\b| \b\b/ \b\b- \b\b\\ \b\b| \b\b/ \b\b- \b\b\\ \b\b| \b\b/ \b\b- \b\b\\ \b\b| \b\b/ \b\b- \b\b\\ \b\b| \b\b/ \b\b- \b\b\\ \b\b| \b\b/ \b\b- \b\b\\ \b\b| \b\b/ \b\b- \b\b\\ \b\b| \b\b/ \b\b- \b\b\\ \b\b| \b\b/ \b\b- \b\b\\ \b\b| \b\b/ \b\b- \b\b\\ \b\b| \b\b/ \b\b- \b\b\\ \b\b| \b\b/ \b\b- \b\b\\ \b\b| \b\b/ \b\b- \b\b\\ \b\b| \b\b/ \b\b- \b\b\\ \b\b| \b\b/ \b\b- \b\b\\ \b\b| \b\b/ \b\b- \b\b\\ \b\b| \b\b/ \b\b- \b\b\\ \b\b| \b\b/ \b\b- \b\b\\ \b\b| \b\b/ \b\b- \b\b\\ \b\b| \b\b/ \b\b- \b\b\\ \b\b| \b\b/ \b\b- \b\b\\ \b\b| \b\b/ \b\b- \b\b\\ \b\b| \b\b/ \b\b- \b\b\\ \b\b| \b\b/ \b\b- \b\b\\ \b\b| \b\b/ \b\b- \b\b\\ \b\b| \b\b/ \b\b- \b\b\\ \b\b| \b\b/ \b\b- \b\b\\ \b\b| \b\b/ \b\b- \b\b\\ \b\b| \b\b/ \b\b- \b\b\\ \b\b| \b\b/ \b\b- \b\b\\ \b\b| \b\b/ \b\b- \b\b\\ \b\b| \b\b/ \b\b- \b\b\\ \b\b| \b\b/ \b\b- \b\b\\ \b\b| \b\b/ \b\b- \b\b\\ \b\b| \b\b/ \b\b- \b\b\\ \b\b| \b\b/ \b\b- \b\b\\ \b\b| \b\b/ \b\b- \b\b\\ \b\b| \b\b/ \b\b- \b\b\\ \b\b| \b\b/ \b\b- \b\b\\ \b\b| \b\b/ \b\b- \b\b\\ \b\b| \b\b/ \b\b- \b\b\\ \b\b| \b\b/ \b\b- \b\b\\ \b\b| \b\b/ \b\b- \b\b\\ \b\b| \b\b/ \b\b- \b\b\\ \b\b| \b\b/ \b\b- \b\b\\ \b\b| \b\b/ \b\b- \b\b\\ \b\b| \b\b/ \b\b- \b\b\\ \b\b| \b\b/ \b\b- \b\b\\ \b\b| \b\b/ \b\b- \b\b\\ \b\b| \b\b/ \b\b- \b\b\\ \b\b| \b\b/ \b\b- \b\b\\ \b\b| \b\b/ \b\b- \b\b\\ \b\b| \b\b/ \b\b- \b\b\\ \b\b| \b\b/ \b\b- \b\b\\ \b\b| \b\b/ \b\b- \b\b\\ \b\b| \b\b/ \b\b- \b\b\\ \b\b| \b\b/ \b\b- \b\b\\ \b\b| \b\b/ \b\b- \b\b\\ \b\b| \b\b/ \b\b- \b\b\\ \b\b| \b\b/ \b\b- \b\b\\ \b\b| \b\b/ \b\bfailed with initial frozen solve. Retrying with flexible solve.\r\n",
      "Solving environment: \\ \b\b| \b\b/ \b\b- \b\b\\ \b\b| \b\b/ \b\b- \b\b\\ \b\b| \b\b/ \b\b- \b\b\\ \b\b| \b\b/ \b\b- \b\b\\ \b\b| \b\b/ \b\b- \b\b\\ \b\b| \b\b/ \b\b- \b\b\\ \b\b| \b\b/ \b\b- \b\b\\ \b\b| \b\b/ \b\b- \b\b\\ \b\b| \b\b/ \b\b- \b\b\\ \b\b| \b\b/ \b\b- \b\b\\ \b\b| \b\b/ \b\b- \b\b\\ \b\b| \b\b/ \b\b- \b\b\\ \b\b| \b\b/ \b\b- \b\b\\ \b\b| \b\b/ \b\b- \b\b\\ \b\b| \b\b/ \b\b- \b\b\\ \b\b| \b\b/ \b\b- \b\b\\ \b\b| \b\b/ \b\b- \b\b\\ \b\b| \b\b/ \b\b- \b\b\\ \b\b| \b\b/ \b\b- \b\b\\ \b\b| \b\b/ \b\b- \b\b\\ \b\b| \b\b/ \b\b- \b\b\\ \b\b| \b\b/ \b\b- \b\b\\ \b\b| \b\b/ \b\b- \b\b\\ \b\b| \b\b/ \b\b- \b\b\\ \b\b| \b\b/ \b\b- \b\b\\ \b\b| \b\b/ \b\b- \b\b\\ \b\b| \b\b/ \b\b- \b\b\\ \b\b| \b\b/ \b\b- \b\b\\ \b\b| \b\b/ \b\b- \b\b\\ \b\b| \b\b/ \b\b- \b\b\\ \b\b| \b\b/ \b\b- \b\b\\ \b\b| \b\b/ \b\b- \b\b\\ \b\b| \b\b/ \b\b- \b\b\\ \b\b| \b\b/ \b\b- \b\b\\ \b\b| \b\b/ \b\b- \b\b\\ \b\b| \b\b/ \b\b- \b\b\\ \b\b| \b\b/ \b\b- \b\b\\ \b\b| \b\b/ \b\b- \b\b\\ \b\b| \b\b/ \b\b- \b\b\\ \b\b| \b\b/ \b\b- \b\b\\ \b\b| \b\b/ \b\b- \b\b\\ \b\b| \b\b/ \b\b- \b\b\\ \b\b| \b\b/ \b\b- \b\b\\ \b\b| \b\b/ \b\b- \b\b\\ \b\b| \b\b/ \b\b- \b\b\\ \b\b| \b\b/ \b\b- \b\b\\ \b\b| \b\b/ \b\b- \b\b\\ \b\b| \b\b/ \b\b- \b\b\\ \b\b| \b\b/ \b\b- \b\b\\ \b\b| \b\b/ \b\b- \b\b\\ \b\b| \b\b/ \b\b- \b\b\\ \b\b| \b\b/ \b\b- \b\b\\ \b\b| \b\b/ \b\b- \b\b\\ \b\b| \b\b/ \b\b- \b\b\\ \b\b| \b\b/ \b\b- \b\b\\ \b\b| \b\b/ \b\b- \b\b\\ \b\b| \b\b/ \b\b- \b\b\\ \b\b| \b\b/ \b\b- \b\b\\ \b\b| \b\b/ \b\b- \b\b\\ \b\b| \b\b/ \b\b- \b\b\\ \b\b| \b\b/ \b\b- \b\b\\ \b\b| \b\b/ \b\b- \b\b\\ \b\b| \b\b/ \b\b- \b\b\\ \b\b| \b\b/ \b\b- \b\b\\ \b\b| \b\b/ \b\b- \b\b\\ \b\b| \b\b/ \b\b- \b\b\\ \b\b| \b\b/ \b\b- \b\b\\ \b\b| \b\b/ \b\b- \b\b\\ \b\b| \b\b/ \b\b- \b\b\\ \b\b| \b\b/ \b\b- \b\b\\ \b\b| \b\b/ \b\b- \b\b\\ \b\b| \b\b/ \b\b- \b\b\\ \b\b| \b\b/ \b\b- \b\b\\ \b\b| \b\b/ \b\b- \b\b\\ \b\b| \b\b/ \b\b- \b\b\\ \b\b| \b\b/ \b\b- \b\b\\ \b\b| \b\b/ \b\b- \b\b\\ \b\b| \b\b/ \b\b- \b\b\\ \b\b| \b\b/ \b\b- \b\b\\ \b\b| \b\b/ \b\b- \b\b\\ \b\b| \b\b/ \b\b- \b\b\\ \b\b| \b\b/ \b\b- \b\b\\ \b\b| \b\b/ \b\b- \b\b\\ \b\b| \b\b/ \b\b- \b\b\\ \b\b| \b\b/ \b\b- \b\b\\ \b\b| \b\b/ \b\b- \b\b\\ \b\b| \b\b/ \b\b- \b\b\\ \b\b| \b\b/ \b\b- \b\b\\ \b\b| \b\b/ \b\b- \b\b\\ \b\b| \b\b/ \b\b- \b\b\\ \b\b| \b\b/ \b\b- \b\b\\ \b\b| \b\b/ \b\b- \b\b\\ \b\b| \b\b/ \b\b- \b\b\\ \b\b| \b\b/ \b\b- \b\b\\ \b\b| \b\b/ \b\b- \b\b\\ \b\b| \b\b/ \b\b- \b\b\\ \b\b| \b\b/ \b\b- \b\b\\ \b\b| \b\b/ \b\b- \b\b\\ \b\b| \b\b/ \b\b- \b\b\\ \b\b| \b\b/ \b\b- \b\b\\ \b\b| \b\b/ \b\b- \b\b\\ \b\b| \b\b/ \b\b- \b\b\\ \b\b| \b\b/ \b\b- \b\bfailed with repodata from current_repodata.json, will retry with next repodata source.\r\n",
      "Collecting package metadata (repodata.json): | \b\b/ \b\b- \b\b\\ \b\b| \b\b/ \b\b- \b\b\\ \b\b| \b\b/ \b\b- \b\b\\ \b\b| \b\b/ \b\b- \b\b\\ \b\b| \b\b/ \b\b- \b\b\\ \b\b| \b\b/ \b\b- \b\b\\ \b\b| \b\b/ \b\b- \b\b\\ \b\b| \b\b/ \b\b- \b\b\\ \b\b| \b\b/ \b\b- \b\b\\ \b\b| \b\b/ \b\b- \b\b\\ \b\b| \b\b/ \b\b- \b\b\\ \b\b| \b\b/ \b\b- \b\b\\ \b\b| \b\b/ \b\b- \b\b\\ \b\b| \b\b/ \b\b- \b\b\\ \b\b| \b\b/ \b\b- \b\b\\ \b\b| \b\b/ \b\b- \b\b\\ \b\b| \b\b/ \b\b- \b\b\\ \b\b| \b\b/ \b\b- \b\b\\ \b\b| \b\b/ \b\b- \b\b\\ \b\b| \b\b/ \b\b- \b\b\\ \b\b| \b\b/ \b\b- \b\b\\ \b\b| \b\b/ \b\b- \b\b\\ \b\b| \b\b/ \b\b- \b\b\\ \b\b| \b\b/ \b\b- \b\b\\ \b\b| \b\b/ \b\b- \b\b\\ \b\b| \b\b/ \b\b- \b\b\\ \b\b| \b\b/ \b\b- \b\b\\ \b\b| \b\b/ \b\b- \b\b\\ \b\b| \b\b/ \b\bdone\r\n",
      "Solving environment: \\ \b\b| \b\b/ \b\b- \b\b\\ \b\b| \b\b/ \b\b- \b\b\\ \b\b| \b\b/ \b\b- \b\b\\ \b\b| \b\b/ \b\b- \b\b\\ \b\b| \b\b/ \b\b- \b\b\\ \b\b| \b\b/ \b\b- \b\b\\ \b\b| \b\b/ \b\b- \b\b\\ \b\b| \b\b/ \b\b- \b\b\\ \b\b| \b\b/ \b\b- \b\b\\ \b\b| \b\b/ \b\b- \b\b\\ \b\b| \b\b/ \b\b- \b\b\\ \b\b| \b\b/ \b\b- \b\b\\ \b\b| \b\b/ \b\b- \b\b\\ \b\b| \b\b/ \b\b- \b\b\\ \b\b| \b\b/ \b\b- \b\b\\ \b\b| \b\b/ \b\b- \b\b\\ \b\b| \b\b/ \b\b- \b\b\\ \b\b| \b\b/ \b\b- \b\b\\ \b\b| \b\b/ \b\b- \b\b\\ \b\b| \b\b/ \b\b- \b\b\\ \b\b| \b\b/ \b\b- \b\b\\ \b\b| \b\b/ \b\b- \b\b\\ \b\b| \b\b/ \b\b- \b\b\\ \b\b| \b\b/ \b\b- \b\b\\ \b\b| \b\b/ \b\b- \b\b\\ \b\b| \b\b/ \b\b- \b\b\\ \b\b| \b\b/ \b\b- \b\b\\ \b\b| \b\b/ \b\b- \b\b\\ \b\b| \b\b/ \b\b- \b\b\\ \b\b| \b\b/ \b\b- \b\b\\ \b\b| \b\b/ \b\b- \b\b\\ \b\b| \b\b/ \b\b- \b\b\\ \b\b| \b\b/ \b\b- \b\b\\ \b\b| \b\b/ \b\b- \b\b\\ \b\b| \b\b/ \b\b- \b\b\\ \b\b| \b\b/ \b\b- \b\b\\ \b\b| \b\b/ \b\b- \b\b\\ \b\b| \b\b/ \b\b- \b\b\\ \b\b| \b\b/ \b\b- \b\b\\ \b\b| \b\b/ \b\b- \b\b\\ \b\b| \b\b/ \b\b- \b\b\\ \b\b| \b\b/ \b\b- \b\b\\ \b\b| \b\b/ \b\b- \b\b\\ \b\b| \b\b/ \b\b- \b\b\\ \b\b| \b\b/ \b\b- \b\b\\ \b\b| \b\b/ \b\b- \b\b\\ \b\b| \b\b/ \b\b- \b\b\\ \b\b| \b\b/ \b\b- \b\b\\ \b\b| \b\b/ \b\b- \b\b\\ \b\b| \b\b/ \b\b- \b\b\\ \b\b| \b\b/ \b\b- \b\b\\ \b\b| \b\b/ \b\b- \b\b\\ \b\b| \b\b/ \b\b- \b\b\\ \b\b| \b\b/ \b\b- \b\b\\ \b\b| \b\b/ \b\b- \b\b\\ \b\b| \b\b/ \b\b- \b\b\\ \b\b| \b\b/ \b\b- \b\b\\ \b\b| \b\b/ \b\b- \b\b\\ \b\b| \b\b/ \b\b- \b\b\\ \b\b| \b\b/ \b\b- \b\b\\ \b\b| \b\b/ \b\b- \b\b\\ \b\b| \b\b/ \b\b- \b\b\\ \b\b| \b\b/ \b\b- \b\b\\ \b\b| \b\b/ \b\b- \b\b\\ \b\b| \b\b/ \b\b- \b\b\\ \b\b| \b\b/ \b\b- \b\b\\ \b\b| \b\b/ \b\b- \b\b\\ \b\b| \b\b/ \b\b- \b\b\\ \b\b| \b\b/ \b\b- \b\b\\ \b\b| \b\b/ \b\b- \b\b\\ \b\b| \b\b/ \b\b- \b\b\\ \b\b| \b\b/ \b\b- \b\b\\ \b\b| \b\b/ \b\b- \b\b\\ \b\b| \b\b/ \b\b- \b\b\\ \b\b| \b\b/ \b\b- \b\b\\ \b\b| \b\b/ \b\b- \b\b\\ \b\b| \b\b/ \b\b- \b\b\\ \b\b| \b\b/ \b\b- \b\b\\ \b\b| \b\b/ \b\b- \b\b\\ \b\b| \b\b/ \b\b- \b\b\\ \b\b| \b\b/ \b\b- \b\b\\ \b\b| \b\b/ \b\b- \b\b\\ \b\b| \b\b/ \b\b- \b\b\\ \b\b| \b\b/ \b\b- \b\b\\ \b\b| \b\b/ \b\b- \b\b\\ \b\b| \b\b/ \b\b- \b\b\\ \b\b| \b\b/ \b\b- \b\b\\ \b\b| \b\b/ \b\b- \b\b\\ \b\b| \b\b/ \b\b- \b\b\\ \b\b| \b\b/ \b\b- \b\b\\ \b\b| \b\b/ \b\b- \b\b\\ \b\b| \b\b/ \b\b- \b\b\\ \b\b| \b\b/ \b\b- \b\b\\ \b\b| \b\b/ \b\b- \b\b\\ \b\b| \b\b/ \b\b- \b\b\\ \b\b| \b\b/ \b\b- \b\b\\ \b\b| \b\b/ \b\b- \b\b\\ \b\b| \b\b/ \b\b- \b\b\\ \b\b| \b\b/ \b\b- \b\b\\ \b\b| \b\b/ \b\b- \b\b\\ \b\b| \b\b/ \b\b- \b\b\\ \b\b| \b\b/ \b\b- \b\b\\ \b\b| \b\b/ \b\b- \b\b\\ \b\b| \b\b/ \b\b- \b\b\\ \b\b| \b\b/ \b\b- \b\b\\ \b\b| \b\b/ \b\b- \b\b\\ \b\b| \b\b/ \b\b- \b\b\\ \b\b| \b\b/ \b\b- \b\b\\ \b\b| \b\b/ \b\b- \b\b\\ \b\b| \b\b/ \b\b- \b\b\\ \b\b| \b\b/ \b\b- \b\b\\ \b\b| \b\b/ \b\b- \b\b\\ \b\b| \b\b/ \b\b- \b\b\\ \b\b| \b\b/ \b\b- \b\b\\ \b\b| \b\b/ \b\b- \b\b\\ \b\b| \b\b/ \b\b- \b\b\\ \b\b| \b\b/ \b\b- \b\b\\ \b\b| \b\b/ \b\b- \b\b\\ \b\b| \b\b/ \b\b- \b\b\\ \b\b| \b\b/ \b\b- \b\b\\ \b\b| \b\b/ \b\b- \b\b\\ \b\b| \b\b/ \b\b- \b\b\\ \b\b| \b\b/ \b\b- \b\b\\ \b\b| \b\b/ \b\b- \b\b\\ \b\b| \b\b/ \b\b- \b\b\\ \b\b| \b\b/ \b\b- \b\b\\ \b\b| \b\b/ \b\b- \b\b\\ \b\b| \b\b/ \b\b- \b\b\\ \b\b| \b\b/ \b\b- \b\b\\ \b\b| \b\b/ \b\b- \b\b\\ \b\b| \b\b/ \b\b- \b\b\\ \b\b| \b\b/ \b\b- \b\b\\ \b\b| \b\b/ \b\b- \b\b\\ \b\b| \b\b/ \b\b- \b\b\\ \b\b| \b\b/ \b\b- \b\b\\ \b\b| \b\b/ \b\b- \b\b\\ \b\b| \b\b/ \b\b- \b\b\\ \b\b| \b\b/ \b\b- \b\b\\ \b\b| \b\b/ \b\b- \b\b\\ \b\b| \b\b/ \b\b- \b\b\\ \b\b| \b\b/ \b\b- \b\b\\ \b\b| \b\b/ \b\b- \b\b\\ \b\b| \b\b/ \b\b- \b\b\\ \b\b| \b\b/ \b\b- \b\b\\ \b\b| \b\b/ \b\b- \b\b\\ \b\b| \b\b/ \b\b- \b\b\\ \b\b| \b\b/ \b\b- \b\b\\ \b\b| \b\b/ \b\b- \b\b\\ \b\b| \b\b/ \b\b- \b\b\\ \b\b| \b\b/ \b\b- \b\b\\ \b\b| \b\b/ \b\b- \b\b\\ \b\b| \b\b/ \b\b- \b\b\\ \b\b| \b\b/ \b\b- \b\b\\ \b\b| \b\b/ \b\b- \b\b\\ \b\b| \b\b/ \b\b- \b\b\\ \b\b| \b\b/ \b\b- \b\b\\ \b\b| \b\b/ \b\b- \b\b\\ \b\b| \b\b/ \b\b- \b\b\\ \b\b| \b\b/ \b\b- \b\b\\ \b\b| \b\b/ \b\b- \b\b\\ \b\b| \b\b/ \b\b- \b\b\\ \b\b| \b\b/ \b\b- \b\b\\ \b\b| \b\b/ \b\b- \b\b\\ \b\b| \b\b/ \b\b- \b\b\\ \b\b| \b\b/ \b\b- \b\b\\ \b\b| \b\b/ \b\b- \b\b\\ \b\b| \b\b/ \b\b- \b\b\\ \b\b| \b\b/ \b\b- \b\b\\ \b\b| \b\b/ \b\b- \b\b\\ \b\b| \b\b/ \b\b- \b\b\\ \b\b| \b\b/ \b\b- \b\b\\ \b\b| \b\b/ \b\b- \b\b\\ \b\b| \b\b/ \b\b- \b\b\\ \b\b| \b\b/ \b\b- \b\b\\ \b\b| \b\b/ \b\b- \b\b\\ \b\b| \b\b/ \b\b- \b\b\\ \b\b| \b\b/ \b\b- \b\b\\ \b\b| \b\b/ \b\b- \b\b\\ \b\b| \b\b/ \b\b- \b\b\\ \b\b| \b\b/ \b\b- \b\b\\ \b\b| \b\b/ \b\b- \b\b\\ \b\b| \b\b/ \b\b- \b\b\\ \b\b| \b\b/ \b\b- \b\b\\ \b\b| \b\b/ \b\b- \b\b\\ \b\b| \b\b/ \b\b- \b\b\\ \b\b| \b\b/ \b\b- \b\b\\ \b\b| \b\bdone\r\n",
      "\r\n",
      "## Package Plan ##\r\n",
      "\r\n",
      "  environment location: /opt/conda\r\n",
      "\r\n",
      "  added / updated specs:\r\n",
      "    - r-ggbiplot\r\n",
      "\r\n",
      "\r\n",
      "The following packages will be downloaded:\r\n",
      "\r\n",
      "    package                    |            build\r\n",
      "    ---------------------------|-----------------\r\n",
      "    _r-mutex-1.0.0             |      anacondar_1           3 KB\r\n",
      "    bwidget-1.9.11             |                1         116 KB\r\n",
      "    curl-7.55.1                |       h78862de_4         457 KB\r\n",
      "    gsl-2.4                    |       h14c3975_4         1.8 MB\r\n",
      "    libcurl-7.61.1             |       heec0ca6_0         355 KB\r\n",
      "    r-assertthat-0.2.0         |   r351h6115d3f_0          55 KB\r\n",
      "    r-base-3.5.1               |       h1e0a451_2        26.5 MB\r\n",
      "    r-bh-1.66.0_1              |   r351h6115d3f_0         6.8 MB\r\n",
      "    r-bindr-0.1.1              |   r351h6115d3f_0          20 KB\r\n",
      "    r-bindrcpp-0.2.2           |   r351h29659fb_0          82 KB\r\n",
      "    r-bit-1.1_14               |   r351hd10c6a6_0         225 KB\r\n",
      "    r-bit64-0.9_7              |   r351hd10c6a6_0         446 KB\r\n",
      "    r-blob-1.1.1               |   r351hf348343_0          27 KB\r\n",
      "    r-cli-1.0.0                |   r351h6115d3f_1         310 KB\r\n",
      "    r-colorspace-1.3_2         |   r351h96ca727_0         470 KB\r\n",
      "    r-crayon-1.3.4             |   r351h6115d3f_0         729 KB\r\n",
      "    r-curl-3.2                 |   r351h96ca727_0         374 KB\r\n",
      "    r-dbi-1.0.0                |   r351h6115d3f_0         799 KB\r\n",
      "    r-dbplyr-1.2.2             |   r351hf348343_0         505 KB\r\n",
      "    r-devtools-1.13.6          |   r351h6115d3f_0         665 KB\r\n",
      "    r-dichromat-2.0_0          |   r351h6115d3f_4         147 KB\r\n",
      "    r-digest-0.6.15            |   r351h96ca727_0         138 KB\r\n",
      "    r-dplyr-0.7.6              |   r351h29659fb_0         1.6 MB\r\n",
      "    r-fansi-0.2.3              |   r351h96ca727_0         133 KB\r\n",
      "    r-ggbiplot-0.55            |   r351h14c3975_2          34 KB  bioconda\r\n",
      "    r-ggplot2-3.0.0            |   r351h6115d3f_0         3.3 MB\r\n",
      "    r-git2r-0.23.0             |   r351h96ca727_0         802 KB\r\n",
      "    r-glue-1.3.0               |   r351h96ca727_0          90 KB\r\n",
      "    r-gridbase-0.4_7           |   r351h6115d3f_4         161 KB\r\n",
      "    r-gtable-0.2.0             |   r351h6115d3f_0          85 KB\r\n",
      "    r-httr-1.3.1               |   r351h6115d3f_1         421 KB\r\n",
      "    r-jsonlite-1.5             |   r351h96ca727_0         632 KB\r\n",
      "    r-labeling-0.3             |   r351h6115d3f_4          62 KB\r\n",
      "    r-lattice-0.20_35          |   r351h96ca727_0         1.1 MB\r\n",
      "    r-lazyeval-0.2.1           |   r351h96ca727_0         138 KB\r\n",
      "    r-magrittr-1.5             |   r351h6115d3f_4         157 KB\r\n",
      "    r-mass-7.3_50              |   r351h96ca727_0         1.1 MB\r\n",
      "    r-matrix-1.2_14            |   r351h96ca727_0         3.3 MB\r\n",
      "    r-memoise-1.1.0            |   r351h6115d3f_0          38 KB\r\n",
      "    r-mgcv-1.8_24              |   r351h96ca727_0         2.4 MB\r\n",
      "    r-mime-0.5                 |   r351h96ca727_0          37 KB\r\n",
      "    r-munsell-0.5.0            |   r351h6115d3f_0         233 KB\r\n",
      "    r-nlme-3.1_137             |   r351ha65eedd_0         2.1 MB\r\n",
      "    r-openssl-1.0.2            |   r351h96ca727_0         588 KB\r\n",
      "    r-pillar-1.3.0             |   r351h6115d3f_0         152 KB\r\n",
      "    r-pkgconfig-2.0.1          |   r351h6115d3f_0          22 KB\r\n",
      "    r-plogr-0.2.0              |   r351h6115d3f_0          18 KB\r\n",
      "    r-plyr-1.8.4               |   r351h29659fb_0         784 KB\r\n",
      "    r-prettyunits-1.0.2        |   r351hf348343_0          33 KB\r\n",
      "    r-purrr-0.2.5              |   r351h96ca727_0         267 KB\r\n",
      "    r-r6-2.2.2                 |   r351h6115d3f_0         245 KB\r\n",
      "    r-rcolorbrewer-1.1_2       |   r351h6115d3f_0          56 KB\r\n",
      "    r-rcpp-0.12.18             |   r351h29659fb_0         3.2 MB\r\n",
      "    r-reshape2-1.4.3           |   r351h29659fb_0         116 KB\r\n",
      "    r-rlang-0.2.1              |   r351h96ca727_0         744 KB\r\n",
      "    r-rsqlite-2.1.1            |   r351h29659fb_0         910 KB\r\n",
      "    r-rstudioapi-0.7           |   r351h6115d3f_0         126 KB\r\n",
      "    r-scales-0.5.0             |   r351h29659fb_0         281 KB\r\n",
      "    r-stringi-1.2.4            |   r351h29659fb_0         693 KB\r\n",
      "    r-stringr-1.3.1            |   r351h6115d3f_0         178 KB\r\n",
      "    r-tibble-1.4.2             |   r351h96ca727_0         215 KB\r\n",
      "    r-tidyselect-0.2.4         |   r351h29659fb_0         116 KB\r\n",
      "    r-utf8-1.1.4               |   r351h96ca727_0         138 KB\r\n",
      "    r-viridislite-0.3.0        |   r351h6115d3f_0          61 KB\r\n",
      "    r-whisker-0.3_2            |   r351hf348343_4          63 KB\r\n",
      "    r-withr-2.1.2              |   r351h6115d3f_0         148 KB\r\n",
      "    rpy2-2.9.1                 |py36r351h035aef0_0         265 KB\r\n",
      "    tktable-2.10               |       h14c3975_0          86 KB\r\n",
      "    ------------------------------------------------------------\r\n",
      "                                           Total:        68.2 MB\r\n",
      "\r\n",
      "The following NEW packages will be INSTALLED:\r\n",
      "\r\n",
      "  bwidget            pkgs/main/linux-64::bwidget-1.9.11-1\r\n",
      "  gsl                pkgs/main/linux-64::gsl-2.4-h14c3975_4\r\n",
      "  r-base             pkgs/r/linux-64::r-base-3.5.1-h1e0a451_2\r\n",
      "  r-colorspace       pkgs/r/linux-64::r-colorspace-1.3_2-r351h96ca727_0\r\n",
      "  r-curl             pkgs/r/linux-64::r-curl-3.2-r351h96ca727_0\r\n",
      "  r-devtools         pkgs/r/linux-64::r-devtools-1.13.6-r351h6115d3f_0\r\n",
      "  r-dichromat        pkgs/r/linux-64::r-dichromat-2.0_0-r351h6115d3f_4\r\n",
      "  r-ggbiplot         bioconda/linux-64::r-ggbiplot-0.55-r351h14c3975_2\r\n",
      "  r-ggplot2          pkgs/r/linux-64::r-ggplot2-3.0.0-r351h6115d3f_0\r\n",
      "  r-git2r            pkgs/r/linux-64::r-git2r-0.23.0-r351h96ca727_0\r\n",
      "  r-gridbase         pkgs/r/linux-64::r-gridbase-0.4_7-r351h6115d3f_4\r\n",
      "  r-gtable           pkgs/r/linux-64::r-gtable-0.2.0-r351h6115d3f_0\r\n",
      "  r-httr             pkgs/r/linux-64::r-httr-1.3.1-r351h6115d3f_1\r\n",
      "  r-jsonlite         pkgs/r/linux-64::r-jsonlite-1.5-r351h96ca727_0\r\n",
      "  r-labeling         pkgs/r/linux-64::r-labeling-0.3-r351h6115d3f_4\r\n",
      "  r-lattice          pkgs/r/linux-64::r-lattice-0.20_35-r351h96ca727_0\r\n",
      "  r-lazyeval         pkgs/r/linux-64::r-lazyeval-0.2.1-r351h96ca727_0\r\n",
      "  r-mass             pkgs/r/linux-64::r-mass-7.3_50-r351h96ca727_0\r\n",
      "  r-matrix           pkgs/r/linux-64::r-matrix-1.2_14-r351h96ca727_0\r\n",
      "  r-mgcv             pkgs/r/linux-64::r-mgcv-1.8_24-r351h96ca727_0\r\n",
      "  r-mime             pkgs/r/linux-64::r-mime-0.5-r351h96ca727_0\r\n",
      "  r-munsell          pkgs/r/linux-64::r-munsell-0.5.0-r351h6115d3f_0\r\n",
      "  r-nlme             pkgs/r/linux-64::r-nlme-3.1_137-r351ha65eedd_0\r\n",
      "  r-openssl          pkgs/r/linux-64::r-openssl-1.0.2-r351h96ca727_0\r\n",
      "  r-plyr             pkgs/r/linux-64::r-plyr-1.8.4-r351h29659fb_0\r\n",
      "  r-rcolorbrewer     pkgs/r/linux-64::r-rcolorbrewer-1.1_2-r351h6115d3f_0\r\n",
      "  r-reshape2         pkgs/r/linux-64::r-reshape2-1.4.3-r351h29659fb_0\r\n",
      "  r-rstudioapi       pkgs/r/linux-64::r-rstudioapi-0.7-r351h6115d3f_0\r\n",
      "  r-scales           pkgs/r/linux-64::r-scales-0.5.0-r351h29659fb_0\r\n",
      "  r-stringi          pkgs/r/linux-64::r-stringi-1.2.4-r351h29659fb_0\r\n",
      "  r-stringr          pkgs/r/linux-64::r-stringr-1.3.1-r351h6115d3f_0\r\n",
      "  r-viridislite      pkgs/r/linux-64::r-viridislite-0.3.0-r351h6115d3f_0\r\n",
      "  r-whisker          pkgs/r/linux-64::r-whisker-0.3_2-r351hf348343_4\r\n",
      "  r-withr            pkgs/r/linux-64::r-withr-2.1.2-r351h6115d3f_0\r\n",
      "  tktable            pkgs/main/linux-64::tktable-2.10-h14c3975_0\r\n",
      "\r\n",
      "The following packages will be REMOVED:\r\n",
      "\r\n",
      "  mro-base-3.5.1-3\r\n",
      "  mro-base_impl-3.5.1-h9a62091_0\r\n",
      "  r-revoutils-11.0.0-mro351_0\r\n",
      "  r-revoutilsmath-11.0.0-mro351_0\r\n",
      "\r\n",
      "The following packages will be UPDATED:\r\n",
      "\r\n",
      "  libcurl                                 7.61.0-h1ad7b7a_0 --> 7.61.1-heec0ca6_0\r\n",
      "  r-cli                     r::r-cli-1.0.0-mro351hf348343_0 --> pkgs/r::r-cli-1.0.0-r351h6115d3f_1\r\n",
      "  r-magrittr             r::r-magrittr-1.5-mro351hf348343_0 --> pkgs/r::r-magrittr-1.5-r351h6115d3f_4\r\n",
      "\r\n",
      "The following packages will be SUPERSEDED by a higher-priority channel:\r\n",
      "\r\n",
      "  _r-mutex                          r::_r-mutex-1.0.0-mro_2 --> pkgs/r::_r-mutex-1.0.0-anacondar_1\r\n",
      "  r-assertthat       r::r-assertthat-0.2.0-mro351hf348343_0 --> pkgs/r::r-assertthat-0.2.0-r351h6115d3f_0\r\n",
      "  r-bh                    r::r-bh-1.66.0_1-mro351hf348343_0 --> pkgs/r::r-bh-1.66.0_1-r351h6115d3f_0\r\n",
      "  r-bindr                 r::r-bindr-0.1.1-mro351hf348343_0 --> pkgs/r::r-bindr-0.1.1-r351h6115d3f_0\r\n",
      "  r-bindrcpp           r::r-bindrcpp-0.2.2-mro351hebc1506_0 --> pkgs/r::r-bindrcpp-0.2.2-r351h29659fb_0\r\n",
      "  r-bit                    r::r-bit-1.1_14-mro351hd10c6a6_0 --> pkgs/r::r-bit-1.1_14-r351hd10c6a6_0\r\n",
      "  r-bit64                 r::r-bit64-0.9_7-mro351hd10c6a6_0 --> pkgs/r::r-bit64-0.9_7-r351hd10c6a6_0\r\n",
      "  r-blob                   r::r-blob-1.1.1-mro351hf348343_0 --> pkgs/r::r-blob-1.1.1-r351hf348343_0\r\n",
      "  r-crayon               r::r-crayon-1.3.4-mro351hf348343_0 --> pkgs/r::r-crayon-1.3.4-r351h6115d3f_0\r\n",
      "  r-dbi                     r::r-dbi-1.0.0-mro351hf348343_0 --> pkgs/r::r-dbi-1.0.0-r351h6115d3f_0\r\n",
      "  r-dbplyr               r::r-dbplyr-1.2.2-mro351hf348343_0 --> pkgs/r::r-dbplyr-1.2.2-r351hf348343_0\r\n",
      "  r-digest              r::r-digest-0.6.15-mro351hd10c6a6_0 --> pkgs/r::r-digest-0.6.15-r351h96ca727_0\r\n",
      "  r-dplyr                 r::r-dplyr-0.7.6-mro351hebc1506_0 --> pkgs/r::r-dplyr-0.7.6-r351h29659fb_0\r\n",
      "  r-fansi                 r::r-fansi-0.2.3-mro351hd10c6a6_0 --> pkgs/r::r-fansi-0.2.3-r351h96ca727_0\r\n",
      "  r-glue                   r::r-glue-1.3.0-mro351hd10c6a6_0 --> pkgs/r::r-glue-1.3.0-r351h96ca727_0\r\n",
      "  r-memoise             r::r-memoise-1.1.0-mro351hf348343_0 --> pkgs/r::r-memoise-1.1.0-r351h6115d3f_0\r\n",
      "  r-pillar               r::r-pillar-1.3.0-mro351hf348343_0 --> pkgs/r::r-pillar-1.3.0-r351h6115d3f_0\r\n",
      "  r-pkgconfig         r::r-pkgconfig-2.0.1-mro351hf348343_0 --> pkgs/r::r-pkgconfig-2.0.1-r351h6115d3f_0\r\n",
      "  r-plogr                 r::r-plogr-0.2.0-mro351hf348343_0 --> pkgs/r::r-plogr-0.2.0-r351h6115d3f_0\r\n",
      "  r-prettyunits      r::r-prettyunits-1.0.2-mro351hf348343~ --> pkgs/r::r-prettyunits-1.0.2-r351hf348343_0\r\n",
      "  r-purrr                 r::r-purrr-0.2.5-mro351hd10c6a6_0 --> pkgs/r::r-purrr-0.2.5-r351h96ca727_0\r\n",
      "  r-r6                       r::r-r6-2.2.2-mro351hf348343_0 --> pkgs/r::r-r6-2.2.2-r351h6115d3f_0\r\n",
      "  r-rcpp                 r::r-rcpp-0.12.18-mro351hebc1506_0 --> pkgs/r::r-rcpp-0.12.18-r351h29659fb_0\r\n",
      "  r-rlang                 r::r-rlang-0.2.1-mro351hd10c6a6_0 --> pkgs/r::r-rlang-0.2.1-r351h96ca727_0\r\n",
      "  r-rsqlite             r::r-rsqlite-2.1.1-mro351hebc1506_0 --> pkgs/r::r-rsqlite-2.1.1-r351h29659fb_0\r\n",
      "  r-tibble               r::r-tibble-1.4.2-mro351hd10c6a6_0 --> pkgs/r::r-tibble-1.4.2-r351h96ca727_0\r\n",
      "  r-tidyselect       r::r-tidyselect-0.2.4-mro351hebc1506_0 --> pkgs/r::r-tidyselect-0.2.4-r351h29659fb_0\r\n",
      "  r-utf8                   r::r-utf8-1.1.4-mro351hd10c6a6_0 --> pkgs/r::r-utf8-1.1.4-r351h96ca727_0\r\n",
      "  rpy2                   r::rpy2-2.9.4-py36mro351h6853232_0 --> pkgs/r::rpy2-2.9.1-py36r351h035aef0_0\r\n",
      "\r\n",
      "The following packages will be DOWNGRADED:\r\n",
      "\r\n",
      "  curl                                    7.61.0-h84994c4_0 --> 7.55.1-h78862de_4\r\n",
      "\r\n",
      "\r\n",
      "\r\n",
      "Downloading and Extracting Packages\r\n",
      "r-stringi-1.2.4      | 693 KB    | ##################################### | 100% \r\n",
      "r-jsonlite-1.5       | 632 KB    | ##################################### | 100% \r\n",
      "r-labeling-0.3       | 62 KB     | ##################################### | 100% \r\n",
      "r-plyr-1.8.4         | 784 KB    | ##################################### | 100% \r\n",
      "rpy2-2.9.1           | 265 KB    | ##################################### | 100% \r\n",
      "r-viridislite-0.3.0  | 61 KB     | ##################################### | 100% \r\n",
      "r-dichromat-2.0_0    | 147 KB    | ##################################### | 100% \r\n",
      "r-base-3.5.1         | 26.5 MB   | ##################################### | 100% \r\n",
      "r-pkgconfig-2.0.1    | 22 KB     | ##################################### | 100% \r\n",
      "r-cli-1.0.0          | 310 KB    | ##################################### | 100% \r\n",
      "r-matrix-1.2_14      | 3.3 MB    | ##################################### | 100% \r\n",
      "r-rsqlite-2.1.1      | 910 KB    | ##################################### | 100% \r\n",
      "gsl-2.4              | 1.8 MB    | ##################################### | 100% \r\n",
      "r-stringr-1.3.1      | 178 KB    | ##################################### | 100% \r\n",
      "r-bindr-0.1.1        | 20 KB     | ##################################### | 100% \r\n",
      "libcurl-7.61.1       | 355 KB    | ##################################### | 100% \r\n",
      "r-lattice-0.20_35    | 1.1 MB    | ##################################### | 100% \r\n",
      "r-crayon-1.3.4       | 729 KB    | ##################################### | 100% \r\n",
      "_r-mutex-1.0.0       | 3 KB      | ##################################### | 100% \r\n",
      "r-gridbase-0.4_7     | 161 KB    | ##################################### | 100% \r\n",
      "r-gtable-0.2.0       | 85 KB     | ##################################### | 100% \r\n",
      "r-scales-0.5.0       | 281 KB    | ##################################### | 100% \r\n",
      "r-bit-1.1_14         | 225 KB    | ##################################### | 100% \r\n",
      "r-tibble-1.4.2       | 215 KB    | ##################################### | 100% \r\n",
      "r-fansi-0.2.3        | 133 KB    | ##################################### | 100% \r\n",
      "r-digest-0.6.15      | 138 KB    | ##################################### | 100% \r\n",
      "r-memoise-1.1.0      | 38 KB     | ##################################### | 100% \r\n",
      "r-mgcv-1.8_24        | 2.4 MB    | ##################################### | 100% \r\n",
      "tktable-2.10         | 86 KB     | ##################################### | 100% \r\n",
      "r-pillar-1.3.0       | 152 KB    | ##################################### | 100% \r\n",
      "r-ggbiplot-0.55      | 34 KB     | ##################################### | 100% \r\n",
      "r-glue-1.3.0         | 90 KB     | ##################################### | 100% \r\n",
      "curl-7.55.1          | 457 KB    | ##################################### | 100% \r\n",
      "r-lazyeval-0.2.1     | 138 KB    | ##################################### | 100% \r\n",
      "r-withr-2.1.2        | 148 KB    | ##################################### | 100% \r\n",
      "r-mime-0.5           | 37 KB     | ##################################### | 100% \r\n",
      "r-magrittr-1.5       | 157 KB    | ##################################### | 100% \r\n",
      "bwidget-1.9.11       | 116 KB    | ##################################### | 100% \r\n",
      "r-bindrcpp-0.2.2     | 82 KB     | ##################################### | 100% \r\n",
      "r-purrr-0.2.5        | 267 KB    | ##################################### | 100% \r\n",
      "r-curl-3.2           | 374 KB    | ##################################### | 100% \r\n",
      "r-rstudioapi-0.7     | 126 KB    | ##################################### | 100% \r\n",
      "r-prettyunits-1.0.2  | 33 KB     | ##################################### | 100% \r\n",
      "r-plogr-0.2.0        | 18 KB     | ##################################### | 100% \r\n",
      "r-bh-1.66.0_1        | 6.8 MB    | ##################################### | 100% \r\n",
      "r-devtools-1.13.6    | 665 KB    | ##################################### | 100% \r\n",
      "r-blob-1.1.1         | 27 KB     | ##################################### | 100% \r\n",
      "r-colorspace-1.3_2   | 470 KB    | ##################################### | 100% \r\n",
      "r-dbi-1.0.0          | 799 KB    | ##################################### | 100% \r\n",
      "r-whisker-0.3_2      | 63 KB     | ##################################### | 100% \r\n",
      "r-r6-2.2.2           | 245 KB    | ##################################### | 100% \r\n",
      "r-rcolorbrewer-1.1_2 | 56 KB     | ##################################### | 100% \r\n",
      "r-utf8-1.1.4         | 138 KB    | ##################################### | 100% \r\n",
      "r-httr-1.3.1         | 421 KB    | ##################################### | 100% \r\n",
      "r-ggplot2-3.0.0      | 3.3 MB    | ##################################### | 100% \r\n",
      "r-assertthat-0.2.0   | 55 KB     | ##################################### | 100% \r\n",
      "r-reshape2-1.4.3     | 116 KB    | ##################################### | 100% \r\n",
      "r-rlang-0.2.1        | 744 KB    | ##################################### | 100% \r\n",
      "r-tidyselect-0.2.4   | 116 KB    | ##################################### | 100% \r\n",
      "r-git2r-0.23.0       | 802 KB    | ##################################### | 100% \r\n",
      "r-dbplyr-1.2.2       | 505 KB    | ##################################### | 100% \r\n",
      "r-rcpp-0.12.18       | 3.2 MB    | ##################################### | 100% \r\n",
      "r-dplyr-0.7.6        | 1.6 MB    | ##################################### | 100% \r\n",
      "r-bit64-0.9_7        | 446 KB    | ##################################### | 100% \r\n",
      "r-nlme-3.1_137       | 2.1 MB    | ##################################### | 100% \r\n",
      "r-munsell-0.5.0      | 233 KB    | ##################################### | 100% \r\n",
      "r-mass-7.3_50        | 1.1 MB    | ##################################### | 100% \r\n",
      "r-openssl-1.0.2      | 588 KB    | ##################################### | 100% \r\n",
      "Preparing transaction: - \b\b\\ \b\b| \b\b/ \b\b- \b\b\\ \b\b| \b\b/ \b\b- \b\b\\ \b\b| \b\b/ \b\b- \b\bdone\r\n",
      "Verifying transaction: | \b\b/ \b\b- \b\b\\ \b\b| \b\b/ \b\b- \b\b\\ \b\b| \b\b/ \b\b- \b\b\\ \b\b| \b\b/ \b\b- \b\b\\ \b\b| \b\b/ \b\b- \b\b\\ \b\b| \b\b/ \b\b- \b\b\\ \b\bdone\r\n",
      "Executing transaction: / \b\b- \b\b\\ \b\b| \b\b/ \b\b- \b\b\\ \b\b| \b\b/ \b\b- \b\b\\ \b\b| \b\b/ \b\b- \b\b\\ \b\b| \b\b/ \b\b- \b\b\\ \b\b| \b\b/ \b\b- \b\b\\ \b\b| \b\b/ \b\b- \b\b\\ \b\b| \b\b/ \b\b- \b\b\\ \b\b| \b\b/ \b\b- \b\b\\ \b\b| \b\b/ \b\b- \b\b\\ \b\b| \b\b/ \b\b- \b\b\\ \b\b| \b\b/ \b\b- \b\b\\ \b\b| \b\b/ \b\b- \b\b\\ \b\b| \b\b/ \b\b- \b\b\\ \b\b| \b\b/ \b\b- \b\b\\ \b\b| \b\b/ \b\b- \b\b\\ \b\b| \b\b/ \b\b- \b\b\\ \b\b| \b\b/ \b\b- \b\b\\ \b\b| \b\b/ \b\b- \b\b\\ \b\b| \b\b/ \b\b- \b\b\\ \b\b| \b\b/ \b\b- \b\b\\ \b\b| \b\b/ \b\b- \b\b\\ \b\b| \b\b/ \b\b- \b\b\\ \b\b| \b\b/ \b\b- \b\b\\ \b\b| \b\b/ \b\b- \b\b\\ \b\b| \b\b/ \b\b- \b\b\\ \b\b| \b\b/ \b\b- \b\b\\ \b\b| \b\b/ \b\b- \b\b\\ \b\b| \b\b/ \b\bdone\r\n",
      "\n",
      "Note: you may need to restart the kernel to use updated packages.\n"
     ]
    }
   ],
   "source": [
    "conda install -c bioconda r-ggbiplot"
   ]
  },
  {
   "cell_type": "markdown",
   "metadata": {},
   "source": [
    "To help with the interpretation, let us plot these results."
   ]
  },
  {
   "cell_type": "code",
   "execution_count": 39,
   "metadata": {},
   "outputs": [
    {
     "data": {
      "image/png": "[encoded data removed]"
     },
     "metadata": {},
     "output_type": "display_data"
    }
   ],
   "source": [
    "%%R\n",
    "\n",
    "library(ggbiplot)\n",
    "ggbiplot(cars.pca, labels=rownames(mtcars))"
   ]
  },
  {
   "cell_type": "markdown",
   "metadata": {},
   "source": [
    "To read this chart, one has to look at the extreme ends (top, down, left and right). The first principal component here (on the left and right) corresponds to the measure of ‘disp’ and ‘hp’. The second principal component (PC2) does not seem to have a strong measure.\n",
    "\n",
    "We can finish this analysis with a summary of the PCA with the covariance matrix:"
   ]
  },
  {
   "cell_type": "code",
   "execution_count": 40,
   "metadata": {},
   "outputs": [
    {
     "data": {
      "text/plain": [
       "Importance of components:\n",
       "                            PC1      PC2     PC3     PC4     PC5     PC6   PC7\n",
       "Standard deviation     136.5308 38.13336 3.05607 1.27948 0.69381 0.37784 0.286\n",
       "Proportion of Variance   0.9271  0.07232 0.00046 0.00008 0.00002 0.00001 0.000\n",
       "Cumulative Proportion    0.9271  0.99941 0.99987 0.99996 0.99998 0.99999 1.000\n",
       "                          PC8    PC9  PC10\n",
       "Standard deviation     0.2795 0.2388 0.199\n",
       "Proportion of Variance 0.0000 0.0000 0.000\n",
       "Cumulative Proportion  1.0000 1.0000 1.000\n"
      ]
     },
     "metadata": {},
     "output_type": "display_data"
    }
   ],
   "source": [
    "%%R\n",
    "summary(cars.pca)"
   ]
  },
  {
   "cell_type": "markdown",
   "metadata": {},
   "source": [
    "From this table, we see that the maximum contribution to variation caused is caused by PC1 (~92.7%) and all other principal components have progressively lower contribution. In simpler terms, it means that almost 93% of the variance in the data-set can be explained using the first principal component with measures of ‘disp’ and ‘hp’.\n",
    "\n",
    "As a conclusion, not a lot of significant insights can be driven from the Principal Component Analysis on the basis of the covariance matrix."
   ]
  },
  {
   "cell_type": "markdown",
   "metadata": {},
   "source": [
    "#### <u> PCA with correlation matrix </u>"
   ]
  },
  {
   "cell_type": "code",
   "execution_count": 41,
   "metadata": {},
   "outputs": [
    {
     "data": {
      "image/png": "[encoded data removed]"
     },
     "metadata": {},
     "output_type": "display_data"
    }
   ],
   "source": [
    "%%R\n",
    "# Setting the scale=FALSE option will use the correlation matrix to get the PCs\n",
    "cars.pca = prcomp(mtcars[,-11], scale=TRUE)\n",
    "# obtain the rootation matrix\n",
    "cars.pca$rotation\n",
    "# obtain the biplot\n",
    "ggbiplot(cars.pca, labels=rownames(mtcars))"
   ]
  },
  {
   "cell_type": "markdown",
   "metadata": {},
   "source": [
    "This plot looks more informative. It says that variables like ‘disp’, ‘cyl’, ‘hp’, ‘wt’, ‘mpg’, ‘drat’ and ‘vs’ contribute significantly to PC1 (first principal component). ‘qsec, ‘gear’ and ‘am’ have a significant contribution to PC2.\n",
    "\n",
    "Let us try to look at the summary of this analysis."
   ]
  },
  {
   "cell_type": "code",
   "execution_count": 42,
   "metadata": {},
   "outputs": [
    {
     "data": {
      "text/plain": [
       "Importance of components:\n",
       "                          PC1    PC2     PC3     PC4     PC5     PC6     PC7\n",
       "Standard deviation     2.5196 1.4928 0.67327 0.51595 0.46293 0.42045 0.36485\n",
       "Proportion of Variance 0.6348 0.2228 0.04533 0.02662 0.02143 0.01768 0.01331\n",
       "Cumulative Proportion  0.6348 0.8577 0.90301 0.92963 0.95106 0.96874 0.98205\n",
       "                           PC8     PC9    PC10\n",
       "Standard deviation     0.28878 0.23287 0.20472\n",
       "Proportion of Variance 0.00834 0.00542 0.00419\n",
       "Cumulative Proportion  0.99039 0.99581 1.00000\n"
      ]
     },
     "metadata": {},
     "output_type": "display_data"
    }
   ],
   "source": [
    "%%R\n",
    "summary(cars.pca)"
   ]
  },
  {
   "cell_type": "markdown",
   "metadata": {},
   "source": [
    "One significant change we see is the drop in the contribution of PC1 to the total variation. It has dropped from 92.7% to 63.5%. On the other hand, the contribution of PC2 has increased from 7% to 22%. Furthermore, the component loading values show that the relationship between the variables in the data-set is way more structured and distributed. Another significant difference can be observed if we look at the standard deviation values in both the results above. The values from PCA done using the correlation matrix are closer to each other and more uniform as compared to the analysis done using the covariance matrix.\n",
    "\n",
    "This analysis with the correlation matrix definitely, uncovers some better structure in the data and relationships between variables. The above example can be used to conclude that the results significantly differ when one tries to define variable relationships using covariance and correlation. This in turn, affects the importance of the variables computed for any further analyses. Selection of predictors and independent variables is one prominent application of such exercises."
   ]
  },
  {
   "cell_type": "markdown",
   "metadata": {},
   "source": [
    "### <u>Correlation Matrix for to compare feature correlations </u>:"
   ]
  },
  {
   "cell_type": "code",
   "execution_count": 43,
   "metadata": {},
   "outputs": [
    {
     "data": {
      "text/plain": [
       "<matplotlib.axes._subplots.AxesSubplot at 0x7f52f5b5c5c0>"
      ]
     },
     "execution_count": 43,
     "metadata": {},
     "output_type": "execute_result"
    },
    {
     "data": {
      "image/png": "[encoded data removed]",
      "text/plain": [
       "<Figure size 720x720 with 2 Axes>"
      ]
     },
     "metadata": {
      "needs_background": "light"
     },
     "output_type": "display_data"
    }
   ],
   "source": [
    "import seaborn as sns\n",
    "\n",
    "# correlation matrix:\n",
    "# method : {‘pearson’, ‘kendall’, ‘spearman’} \n",
    "corrMatrix = mtcars.corr(method ='pearson')\n",
    "\n",
    "fig, ax = plt.subplots(figsize=(10,10)) \n",
    "sns.heatmap(corrMatrix, annot=True, ax = ax)"
   ]
  },
  {
   "cell_type": "markdown",
   "metadata": {},
   "source": [
    "Q&A\n",
    "\n",
    "Q: What is the difference between type I vs type II error?\n",
    "\n",
    "A: Type I error:  False Positive, when a girl is not pregnant but the doctor has stated that she is pregnant. i.e. the null hypothesis is true but is rejected. Type II error is opposite of Type I error."
   ]
  }
 ],
 "metadata": {
  "kernelspec": {
   "display_name": "Python 3",
   "language": "python",
   "name": "python3"
  },
  "language_info": {
   "codemirror_mode": {
    "name": "ipython",
    "version": 3
   },
   "file_extension": ".py",
   "mimetype": "text/x-python",
   "name": "python",
   "nbconvert_exporter": "python",
   "pygments_lexer": "ipython3",
   "version": "3.6.6"
  }
 },
 "nbformat": 4,
 "nbformat_minor": 1
}
