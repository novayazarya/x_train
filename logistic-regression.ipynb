{
 "cells": [
  {
   "cell_type": "markdown",
   "metadata": {
    "colab_type": "text",
    "id": "abd8yZSRhQKD"
   },
   "source": [
    "## Логистическая регрессия"
   ]
  },
  {
   "cell_type": "code",
   "execution_count": 1,
   "metadata": {
    "colab": {},
    "colab_type": "code",
    "id": "gaLXEC3ESQfi"
   },
   "outputs": [],
   "source": [
    "import numpy as np\n",
    "import pandas as pd\n",
    "import matplotlib.pyplot as plt\n",
    "from matplotlib.colors import ListedColormap\n",
    "from sklearn.datasets import make_blobs\n",
    "from sklearn import metrics\n",
    "from sklearn.model_selection import train_test_split\n",
    "%matplotlib inline\n",
    "np.random.seed(7)"
   ]
  },
  {
   "cell_type": "markdown",
   "metadata": {
    "colab_type": "text",
    "id": "gxvjX5oSR9FU"
   },
   "source": [
    "## 1. Логистическая регрессия на синтетических данных"
   ]
  },
  {
   "cell_type": "markdown",
   "metadata": {
    "colab_type": "text",
    "id": "mdKmYoSsX8C9"
   },
   "source": [
    "Для генерации синтетических данных для задачи бинарной классификации можно воспользоваться функцией [`sklearn.datasets.make_blobs`](https://scikit-learn.org/stable/modules/generated/sklearn.datasets.make_blobs.html). Сгенерируем данные с двумя признаками (факторами), чтобы их было удобно изобразить на плоскости."
   ]
  },
  {
   "cell_type": "code",
   "execution_count": 2,
   "metadata": {
    "colab": {},
    "colab_type": "code",
    "id": "qgvZKSCnsDmP"
   },
   "outputs": [],
   "source": [
    "X, y = make_blobs(n_samples=100, centers=2, n_features=2, random_state=9)"
   ]
  },
  {
   "cell_type": "code",
   "execution_count": 4,
   "metadata": {
    "colab": {
     "base_uri": "https://localhost:8080/",
     "height": 747
    },
    "colab_type": "code",
    "id": "UMyGwBchYUZS",
    "outputId": "0a511151-18b3-4fa7-c324-c9e90f114963"
   },
   "outputs": [
    {
     "data": {
      "image/png": "[encoded data removed]",
      "text/plain": [
       "<Figure size 600x400 with 1 Axes>"
      ]
     },
     "metadata": {
      "needs_background": "light"
     },
     "output_type": "display_data"
    }
   ],
   "source": [
    "plt.figure(dpi=100)\n",
    "plt.scatter(X[y == 0, 0], X[y == 0, 1], label='Класс 1 ($y = 0$)')\n",
    "plt.scatter(X[y == 1, 0], X[y == 1, 1], label='Класс 2 ($y = 1$)')\n",
    "plt.xlabel('$x_1$')\n",
    "plt.ylabel('$x_2$')\n",
    "plt.legend()\n",
    "plt.show()"
   ]
  },
  {
   "cell_type": "markdown",
   "metadata": {
    "colab_type": "text",
    "id": "dZsvLzH5YxbF"
   },
   "source": [
    "Ниже представлена заготовка класса логистической регрессии. Реализуйте недостающие части."
   ]
  },
  {
   "cell_type": "code",
   "execution_count": 102,
   "metadata": {
    "colab": {},
    "colab_type": "code",
    "id": "JcO6OJOjZjvA"
   },
   "outputs": [],
   "source": [
    "class LogisticRegression:\n",
    "    '''\n",
    "    A simple logistic regression for binary classification with gradient descent\n",
    "    '''\n",
    "    \n",
    "    def __init__(self, learning_rate=0.1, max_iter=1000, verbose=False):\n",
    "        # Learning rate for gradient descent\n",
    "        self._lr = learning_rate\n",
    "        # Maximum number of iterations for gradient descent\n",
    "        self._max_iter = max_iter\n",
    "        # Show verbose history\n",
    "        self.verbose = verbose\n",
    "        # How often to print validation info\n",
    "        self._validation_freq = 50\n",
    "        \n",
    "        \n",
    "    def fit(self, X, y):\n",
    "        losses = []\n",
    "        # Add extra dummy feature (x[-1] = 1) for bias\n",
    "        X = self.__add_intercept(X)\n",
    "        y = y.reshape(-1, 1)\n",
    "        n_objects, n_features = X.shape\n",
    "        self._weights = np.random.normal(size=(n_features, 1), scale=0.1)\n",
    "        \n",
    "        # Iterative gradient descent\n",
    "        for i in range(self._max_iter):\n",
    "            '''\n",
    "            Compute probabilities, gradient, and update weights\n",
    "            '''\n",
    "            p = self.__sigmoid(np.dot(X, self._weights))\n",
    "            grad = self.__gradient_descent(X, p, y)\n",
    "            self._weights = self._weights - grad * self._lr\n",
    "            \n",
    "            # Compute probabilities after weights update\n",
    "            p = self.__sigmoid(np.dot(X, self._weights))\n",
    "            \n",
    "            # Clip values for numeric stability in logarithm\n",
    "            p = np.clip(p, 1e-10, 1 - 1e-10)\n",
    "            \n",
    "            # Compute Negative log-likelihood loss \n",
    "            loss = self.__loss(y, p)\n",
    "            losses.append(loss)\n",
    "\n",
    "            # Compute accuracy\n",
    "            acc = np.mean((p >= 0.5) == y)\n",
    "                \n",
    "            if self.verbose and i % self._validation_freq == 0:\n",
    "                print(\"Iteration {}: Loss = {}. Accuracy = {}\".format(i, loss, acc))\n",
    "\n",
    "        return losses\n",
    "        \n",
    "    def predict(self, X, threshold=0.5):\n",
    "        '''\n",
    "        Predict class labels for samples in X.\n",
    "        '''\n",
    "        X = self.__add_intercept(X)\n",
    "        #return np.where(self.__sigmoid(np.dot(X, self._weights)) < \n",
    "        #                             threshold, 0, 1).flatten().flatten()\n",
    "        #return (1 * (self.__sigmoid(np.dot(X, self._weights)) >\n",
    "        #                                          threshold)).flatten()\n",
    "        predictions = np.where(self.__sigmoid(np.dot(X, self._weights)) >= threshold, 1, 0)\n",
    "        return np.squeeze(predictions)\n",
    "\n",
    "    def predict_proba(self, X):\n",
    "        '''\n",
    "        Probability estimates.\n",
    "        '''\n",
    "        X = self.__add_intercept(X)\n",
    "        return self.__sigmoid(np.dot(X, self._weights)).flatten()\n",
    "    \n",
    "    def __gradient_descent(self, X, p, y):\n",
    "        return np.dot(X.T, (p - y)) / y.shape[0]\n",
    "    \n",
    "    def __add_intercept(self, X):\n",
    "        return np.hstack([X, np.ones((len(X), 1))])\n",
    "    \n",
    "    def __loss(self, y, p):\n",
    "        '''\n",
    "        Compute negative log-likelihood loss\n",
    "        '''\n",
    "        return (-y * np.log(p) - (1 - y) * np.log(1 - p)).mean()\n",
    "\n",
    "    def __sigmoid(self, v):\n",
    "        return 1.0 / (1 + np.exp(-v))\n",
    "\n",
    "    def __logit(self, x):\n",
    "        return np.log(x / (1 - x))"
   ]
  },
  {
   "cell_type": "markdown",
   "metadata": {
    "colab_type": "text",
    "id": "swAGEXsTSg3-"
   },
   "source": [
    "Обучите модель на сгенерированных ранее данных."
   ]
  },
  {
   "cell_type": "code",
   "execution_count": 6,
   "metadata": {
    "colab": {
     "base_uri": "https://localhost:8080/",
     "height": 51
    },
    "colab_type": "code",
    "id": "x60lHxXuSrZl",
    "outputId": "85ab607d-3608-494a-d129-d0f68eb4b864"
   },
   "outputs": [
    {
     "name": "stdout",
     "output_type": "stream",
     "text": [
      "Iteration 0: Loss = 0.16294514841166624. Accuracy = 1.0\n",
      "Iteration 50: Loss = 0.007553621049117038. Accuracy = 1.0\n"
     ]
    }
   ],
   "source": [
    "clf = LogisticRegression(learning_rate=0.1, max_iter=100, verbose=True)\n",
    "losses = clf.fit(X, y)"
   ]
  },
  {
   "cell_type": "markdown",
   "metadata": {
    "colab_type": "text",
    "id": "YX5Y0Tz1vOmC"
   },
   "source": [
    "Постройте график, показывающий зависимость значения функции потерь от номера итерации."
   ]
  },
  {
   "cell_type": "code",
   "execution_count": 7,
   "metadata": {
    "colab": {
     "base_uri": "https://localhost:8080/",
     "height": 295
    },
    "colab_type": "code",
    "id": "vk8jcqApn3jL",
    "outputId": "a2d15d8f-36a0-48ca-c383-8db554eb125e"
   },
   "outputs": [
    {
     "data": {
      "image/png": "[encoded data removed]",
      "text/plain": [
       "<Figure size 432x288 with 1 Axes>"
      ]
     },
     "metadata": {
      "needs_background": "light"
     },
     "output_type": "display_data"
    }
   ],
   "source": [
    "plt.plot(losses)\n",
    "plt.title(\"Log Loss\");\n",
    "plt.ylabel('Loss');\n",
    "plt.xlabel('Iterations');"
   ]
  },
  {
   "cell_type": "markdown",
   "metadata": {
    "colab_type": "text",
    "id": "MNMOC2-RSvsB"
   },
   "source": [
    "Постройте график, показывающей форму границы решения (англ. decision boundary)."
   ]
  },
  {
   "cell_type": "code",
   "execution_count": 8,
   "metadata": {
    "colab": {
     "base_uri": "https://localhost:8080/",
     "height": 708
    },
    "colab_type": "code",
    "id": "P60pzp5B01t5",
    "outputId": "60ca6600-533b-48e3-9c98-162874d55113"
   },
   "outputs": [
    {
     "data": {
      "image/png": "[encoded data removed]",
      "text/plain": [
       "<Figure size 600x400 with 1 Axes>"
      ]
     },
     "metadata": {
      "needs_background": "light"
     },
     "output_type": "display_data"
    }
   ],
   "source": [
    "fig = plt.figure(dpi=100)\n",
    "xx, yy = np.meshgrid(np.linspace(X[:,0].min() - 1, X[:,0].max() + 1, 1000), \n",
    "                     np.linspace(X[:,1].min() - 1, X[:,1].max() + 1, 1000))\n",
    "pred = clf.predict(np.c_[xx.ravel(), yy.ravel()])\n",
    "pred = pred.reshape(xx.shape)\n",
    "plt.pcolormesh(xx, yy, pred, cmap=ListedColormap(['#AAAAFF','#FFAFAF']))\n",
    "plt.grid()\n",
    "plt.scatter(X[:,0], X[:,1], c=y)\n",
    "\n",
    "plt.show()"
   ]
  },
  {
   "cell_type": "markdown",
   "metadata": {
    "colab_type": "text",
    "id": "hsp4UhZAwxkZ"
   },
   "source": [
    "Выпишите уравнение границы решения. "
   ]
  },
  {
   "cell_type": "markdown",
   "metadata": {
    "colab_type": "text",
    "id": "BwZM2Qihw69C"
   },
   "source": [
    "**Ответ:** $Y = -(\\epsilon + \\beta{_0}X) / \\beta{_1}$"
   ]
  },
  {
   "cell_type": "markdown",
   "metadata": {
    "colab_type": "text",
    "id": "sxX8AkzIxDI-"
   },
   "source": [
    "Постройте график получившейся прямой на диаграмме рассеяния."
   ]
  },
  {
   "cell_type": "code",
   "execution_count": 9,
   "metadata": {
    "colab": {},
    "colab_type": "code",
    "id": "DcATO7fevBwC"
   },
   "outputs": [],
   "source": [
    "w0, w1, eps = clf._weights\n",
    "xx = np.linspace(X[:,0].min() - 1, X[:,0].max() + 1, 100)\n",
    "yy = -(eps + w0 * xx) / w1"
   ]
  },
  {
   "cell_type": "code",
   "execution_count": 10,
   "metadata": {
    "colab": {
     "base_uri": "https://localhost:8080/",
     "height": 747
    },
    "colab_type": "code",
    "id": "0DNiVYQDoHLb",
    "outputId": "f65eec21-65d8-4cb5-e157-67f6c2640f6b"
   },
   "outputs": [
    {
     "data": {
      "image/png": "[encoded data removed]",
      "text/plain": [
       "<Figure size 600x400 with 1 Axes>"
      ]
     },
     "metadata": {
      "needs_background": "light"
     },
     "output_type": "display_data"
    }
   ],
   "source": [
    "plt.figure(dpi=100)\n",
    "plt.scatter(X[y == 0, 0], X[y == 0, 1], label='Класс 1 ($y = 0$)')\n",
    "plt.scatter(X[y == 1, 0], X[y == 1, 1], label='Класс 2 ($y = 1$)')\n",
    "plt.plot(xx, yy)\n",
    "plt.xlabel('$x_1$')\n",
    "plt.ylabel('$x_2$')\n",
    "plt.legend()\n",
    "plt.show()"
   ]
  },
  {
   "cell_type": "markdown",
   "metadata": {
    "colab_type": "text",
    "id": "VWFtNhtw2GYI"
   },
   "source": [
    "Постройте ROC-кривую для получившейся модели. Вычислите значение AUC."
   ]
  },
  {
   "cell_type": "code",
   "execution_count": 11,
   "metadata": {
    "colab": {},
    "colab_type": "code",
    "id": "CAN-wGUSocVc"
   },
   "outputs": [],
   "source": [
    "def plot_roc_auc(fpr, tpr, roc_auc):\n",
    "    plt.figure(dpi=100)\n",
    "    plt.title('Receiver Operating Characteristic')\n",
    "    plt.plot(fpr, tpr, 'b', label = 'AUC = %0.2f' % roc_auc)\n",
    "    plt.legend(loc = 'lower right')\n",
    "    plt.plot([0, 1], [0, 1],'r--')\n",
    "    plt.xlim([0, 1])\n",
    "    plt.ylim([0, 1])\n",
    "    plt.ylabel('True Positive Rate')\n",
    "    plt.xlabel('False Positive Rate')\n",
    "    plt.show()"
   ]
  },
  {
   "cell_type": "code",
   "execution_count": 12,
   "metadata": {
    "colab": {
     "base_uri": "https://localhost:8080/",
     "height": 790
    },
    "colab_type": "code",
    "id": "5Ifq67pd2Pqy",
    "outputId": "097d01f3-c3b6-4ef0-9442-9fe487f8f171"
   },
   "outputs": [
    {
     "data": {
      "image/png": "[encoded data removed]",
      "text/plain": [
       "<Figure size 600x400 with 1 Axes>"
      ]
     },
     "metadata": {
      "needs_background": "light"
     },
     "output_type": "display_data"
    }
   ],
   "source": [
    "probs = clf.predict_proba(X)\n",
    "fpr, tpr, threshold = metrics.roc_curve(y, probs)\n",
    "roc_auc = metrics.auc(fpr, tpr)\n",
    "plot_roc_auc(fpr, tpr, roc_auc)"
   ]
  },
  {
   "cell_type": "markdown",
   "metadata": {
    "colab_type": "text",
    "id": "bFMoXFQDpHRc"
   },
   "source": [
    "Как можно объяснить полученный вид кривой и значение AUC?"
   ]
  },
  {
   "cell_type": "markdown",
   "metadata": {
    "colab_type": "text",
    "id": "-d8haBMBpUYz"
   },
   "source": [
    "**Ответ:** Площадь под ROC-кривой равна 1 — доле всех правильных ответов."
   ]
  },
  {
   "cell_type": "markdown",
   "metadata": {
    "colab_type": "text",
    "id": "ivFmS1WIpguX"
   },
   "source": [
    "Постройте диаграмму рассеяния и обучите модель логистической регресси для данных, сгенерированных ниже."
   ]
  },
  {
   "cell_type": "code",
   "execution_count": 13,
   "metadata": {
    "colab": {},
    "colab_type": "code",
    "id": "QZC-Sk0HpxR8"
   },
   "outputs": [],
   "source": [
    "X, y = make_blobs(n_samples=100, n_features=2, centers=[[1, 2], [2, 3]])"
   ]
  },
  {
   "cell_type": "code",
   "execution_count": 14,
   "metadata": {
    "colab": {
     "base_uri": "https://localhost:8080/",
     "height": 747
    },
    "colab_type": "code",
    "id": "qOKzmpkJpy38",
    "outputId": "aab4b75f-d002-4ec8-88b2-e53063bc30db"
   },
   "outputs": [
    {
     "data": {
      "image/png": "[encoded data removed]",
      "text/plain": [
       "<Figure size 600x400 with 1 Axes>"
      ]
     },
     "metadata": {
      "needs_background": "light"
     },
     "output_type": "display_data"
    }
   ],
   "source": [
    "plt.figure(dpi=100)\n",
    "plt.scatter(X[y == 0, 0], X[y == 0, 1], label='Класс 1 ($y = 0$)')\n",
    "plt.scatter(X[y == 1, 0], X[y == 1, 1], label='Класс 2 ($y = 1$)')\n",
    "plt.xlabel('$x_1$')\n",
    "plt.ylabel('$x_2$')\n",
    "plt.legend()\n",
    "plt.show()"
   ]
  },
  {
   "cell_type": "code",
   "execution_count": 15,
   "metadata": {
    "colab": {
     "base_uri": "https://localhost:8080/",
     "height": 51
    },
    "colab_type": "code",
    "id": "XKcJKQFIp4Vg",
    "outputId": "7ebe828c-8f03-4d1e-ac09-0897d195de03"
   },
   "outputs": [
    {
     "name": "stdout",
     "output_type": "stream",
     "text": [
      "Iteration 0: Loss = 0.6976389830908285. Accuracy = 0.51\n",
      "Iteration 50: Loss = 0.6006010386469383. Accuracy = 0.68\n"
     ]
    }
   ],
   "source": [
    "clf = LogisticRegression(learning_rate=0.1, max_iter=100, verbose=True)\n",
    "losses = clf.fit(X, y)"
   ]
  },
  {
   "cell_type": "markdown",
   "metadata": {
    "colab_type": "text",
    "id": "LqHOF9-AqLm5"
   },
   "source": [
    "Реализуйте функции `roc_curve(y, probs)` и `auc(fpr, tpr)`. Первая функция по меткам классов `y` и вероятностям `probs`, выданным логистической регрессией, должна вычислять массывы значений TPR (True Positives Rate) и FPR (False Positives Rate) для разных значений порога (и возвращает полученные значения TPR, FPR и thresholds). Вторая функция должна вычислять значение AUC (Area Under Curve) для кривой, заданной точками `fpr` и `tpr`. При реализации нельзя использовать сторонние библиотеки (за исключением NumPy)."
   ]
  },
  {
   "cell_type": "code",
   "execution_count": 16,
   "metadata": {
    "colab": {},
    "colab_type": "code",
    "id": "-SGaNNj_qL5I"
   },
   "outputs": [],
   "source": [
    "def roc_curve(y, probs):\n",
    "  \n",
    "    #thresholds = np.arange(max(probs), 0, -0.012)\n",
    "    #thresholds = np.insert(thresholds, 0, max(thresholds) + 1, axis=0)\n",
    "    size = int(len(y) * 0.4) - 2\n",
    "    thresholds = np.linspace(np.median(probs) / 2, max(probs), \n",
    "                                           int(len(y) / 2))[::-1][:size]\n",
    "    thresholds = np.insert(thresholds, 0, max(probs) + 1, axis=0)\n",
    "    thresholds = np.insert(thresholds, len(thresholds), min(probs), axis=0)\n",
    "\n",
    "    # false positive rate\n",
    "    fpr = np.zeros(thresholds.shape[0])\n",
    "    # true positive rate\n",
    "    tpr = np.zeros(thresholds.shape[0])\n",
    "\n",
    "    # get number of positive and negative examples in the dataset\n",
    "    P = np.sum(y)\n",
    "    N = len(y) - P\n",
    "\n",
    "    # iterate through all thresholds and determine fraction of true positives\n",
    "    # and false positives found at this threshold\n",
    "    for num, thresh in enumerate(thresholds):\n",
    "        FP, FN = 0, 0\n",
    "        TP, TN = 0, 0\n",
    "        for i in range(len(probs)):\n",
    "            if probs[i] >= thresh:\n",
    "                if y[i] == 1:\n",
    "                    TP += 1\n",
    "                else: #if y[i] == 0:\n",
    "                    FP += 1\n",
    "            else:\n",
    "                if y[i] == 0:\n",
    "                    TN += 1\n",
    "                else:\n",
    "                    FN += 1\n",
    "        #Sp = TN / (TN + FP)\n",
    "        fpr[num] = FP / (FP + TN) # 1 - Sp\n",
    "        tpr[num] = TP / (TP + FN)\n",
    "    return fpr, tpr, thresholds\n",
    "\n",
    "def auc(fpr, tpr):\n",
    "    yy = (tpr[1:] + tpr[:-1]) / 2\n",
    "    xx = np.diff(fpr)\n",
    "    return np.sum(yy * xx)"
   ]
  },
  {
   "cell_type": "code",
   "execution_count": 17,
   "metadata": {
    "colab": {
     "base_uri": "https://localhost:8080/",
     "height": 323
    },
    "colab_type": "code",
    "id": "mdF7_ooHrAkv",
    "outputId": "286de2f6-c420-4a67-9591-bfe5309e4f8c"
   },
   "outputs": [
    {
     "data": {
      "text/plain": [
       "(array([0.  , 0.02, 0.46, 0.46, 0.48, 0.48, 0.48, 0.48, 0.48, 0.48, 0.48,\n",
       "        0.48, 0.48, 0.48, 0.48, 0.48, 0.48, 0.48, 0.48, 0.48, 0.48, 0.48,\n",
       "        0.48, 0.48, 0.48, 0.48, 0.48, 0.48, 0.48, 0.48, 0.48, 0.48, 0.48,\n",
       "        0.48, 0.48, 0.48, 0.48, 0.48, 0.48, 1.  ]),\n",
       " array([0.  , 0.  , 0.5 , 0.52, 0.52, 0.52, 0.52, 0.52, 0.52, 0.52, 0.52,\n",
       "        0.52, 0.52, 0.52, 0.52, 0.52, 0.52, 0.52, 0.52, 0.52, 0.52, 0.52,\n",
       "        0.52, 0.52, 0.52, 0.52, 0.52, 0.52, 0.52, 0.52, 0.52, 0.52, 0.52,\n",
       "        0.52, 0.52, 0.52, 0.52, 0.52, 0.52, 1.  ]),\n",
       " array([1.99953929e+00, 9.99539291e-01, 9.84170661e-01, 9.68802031e-01,\n",
       "        9.53433400e-01, 9.38064770e-01, 9.22696139e-01, 9.07327509e-01,\n",
       "        8.91958879e-01, 8.76590248e-01, 8.61221618e-01, 8.45852988e-01,\n",
       "        8.30484357e-01, 8.15115727e-01, 7.99747096e-01, 7.84378466e-01,\n",
       "        7.69009836e-01, 7.53641205e-01, 7.38272575e-01, 7.22903944e-01,\n",
       "        7.07535314e-01, 6.92166684e-01, 6.76798053e-01, 6.61429423e-01,\n",
       "        6.46060793e-01, 6.30692162e-01, 6.15323532e-01, 5.99954901e-01,\n",
       "        5.84586271e-01, 5.69217641e-01, 5.53849010e-01, 5.38480380e-01,\n",
       "        5.23111749e-01, 5.07743119e-01, 4.92374489e-01, 4.77005858e-01,\n",
       "        4.61637228e-01, 4.46268598e-01, 4.30899967e-01, 2.22257466e-04]))"
      ]
     },
     "execution_count": 17,
     "metadata": {},
     "output_type": "execute_result"
    }
   ],
   "source": [
    "roc_curve(y, probs)"
   ]
  },
  {
   "cell_type": "code",
   "execution_count": 18,
   "metadata": {
    "colab": {
     "base_uri": "https://localhost:8080/",
     "height": 790
    },
    "colab_type": "code",
    "id": "f2Yfq2jOqtqg",
    "outputId": "0b6642ac-72a5-40b4-a978-74bfc9aed06c"
   },
   "outputs": [
    {
     "data": {
      "image/png": "[encoded data removed]",
      "text/plain": [
       "<Figure size 600x400 with 1 Axes>"
      ]
     },
     "metadata": {
      "needs_background": "light"
     },
     "output_type": "display_data"
    }
   ],
   "source": [
    "probs = clf.predict_proba(X)\n",
    "fpr, tpr, threshold = roc_curve(y, probs)\n",
    "roc_auc = auc(fpr, tpr)\n",
    "plot_roc_auc(fpr, tpr, roc_auc)"
   ]
  },
  {
   "cell_type": "code",
   "execution_count": 19,
   "metadata": {
    "colab": {},
    "colab_type": "code",
    "id": "TBZh3kADSpSO"
   },
   "outputs": [],
   "source": [
    "probs = clf.predict_proba(X)"
   ]
  },
  {
   "cell_type": "markdown",
   "metadata": {
    "colab_type": "text",
    "id": "tdhe0jWZuk73"
   },
   "source": [
    "Проверьте правильность работы своих функций, сравнив полученную кривую и значение AUC, с аналогичными значеними, рассчитанными с помощью библиотеки `sklearn`."
   ]
  },
  {
   "cell_type": "code",
   "execution_count": 20,
   "metadata": {
    "colab": {
     "base_uri": "https://localhost:8080/",
     "height": 34
    },
    "colab_type": "code",
    "id": "uUsP7GkfOMhI",
    "outputId": "86c63454-815b-4cdb-f9ae-dfec97506c67"
   },
   "outputs": [
    {
     "data": {
      "text/plain": [
       "0.7904000000000001"
      ]
     },
     "execution_count": 20,
     "metadata": {},
     "output_type": "execute_result"
    }
   ],
   "source": [
    "fpr, tpr, threshold = metrics.roc_curve(y, probs)\n",
    "metrics.auc(fpr, tpr)"
   ]
  },
  {
   "cell_type": "code",
   "execution_count": 21,
   "metadata": {
    "colab": {
     "base_uri": "https://localhost:8080/",
     "height": 790
    },
    "colab_type": "code",
    "id": "7tQrRbV95997",
    "outputId": "15be0b53-5d00-4eb1-9b1d-624658a8210e"
   },
   "outputs": [
    {
     "data": {
      "image/png": "[encoded data removed]",
      "text/plain": [
       "<Figure size 600x400 with 1 Axes>"
      ]
     },
     "metadata": {
      "needs_background": "light"
     },
     "output_type": "display_data"
    }
   ],
   "source": [
    "preds = clf.predict_proba(X)\n",
    "fpr, tpr, threshold = metrics.roc_curve(y, preds)\n",
    "roc_auc = metrics.auc(fpr, tpr)\n",
    "plot_roc_auc(fpr, tpr, roc_auc)"
   ]
  },
  {
   "cell_type": "markdown",
   "metadata": {
    "colab_type": "text",
    "id": "Gs1RnZUHKaQK"
   },
   "source": [
    "## 2. Логистическая регрессия на реальных данных"
   ]
  },
  {
   "cell_type": "markdown",
   "metadata": {
    "colab_type": "text",
    "id": "5VZVac5Wr8Eo"
   },
   "source": [
    "Во второй части вам нужно построить модель логистической регрессии, позволяющую предсказать, есть ли у пациента диабет II типа, по набору результатов обследований. Для построения модели предлагается использовать данные [Pima Indians Diabetes Database](https://www.kaggle.com/uciml/pima-indians-diabetes-database), которые содержат данные обследований 768 пациенток индийской народности Пима. В данных содержатся следующие показатели.\n",
    "\n",
    "\n",
    "1. Число беременностей (Pregnancies).\n",
    "2. Концентрация глюкозы в плазме через 2 часа после введения в пероральном глюкозотолерантном тесте (Glucose).\n",
    "3. Диастолическое артериальное давление [мм рт. ст.] (BloodPressure).\n",
    "4. Толщина кожной складки в районе трицепса [мм] (SkinThickness).\n",
    "5. Концентрация инсулина в сыворотке крови [мкЕд/мл] (Insulin).\n",
    "6. Индекс массы тела [вес в кг/(рост в м)^2] (BMI).\n",
    "7. Функция, описывающая генетическую предрасположенность к диабету (DiabetesPedigreeFunction).\n",
    "8. Возраст [годы] (Age).\n",
    "\n",
    "Outcome -- страдает ли пациент сахарным диабетом. Если страдает Outcome = 1, в противном случае Outcome = 0.\n",
    "\n"
   ]
  },
  {
   "cell_type": "code",
   "execution_count": 22,
   "metadata": {
    "colab": {
     "base_uri": "https://localhost:8080/",
     "height": 34
    },
    "colab_type": "code",
    "id": "mKyGDtD1pHBH",
    "outputId": "d9d08a40-04c1-4e1c-83a7-bba94b339a79"
   },
   "outputs": [
    {
     "name": "stdout",
     "output_type": "stream",
     "text": [
      "(768, 9)\n"
     ]
    }
   ],
   "source": [
    "df = pd.read_csv('http://edu.std-900.ist.mospolytech.ru/files/diabetes.csv')\n",
    "print(df.shape)"
   ]
  },
  {
   "cell_type": "code",
   "execution_count": 23,
   "metadata": {
    "colab": {
     "base_uri": "https://localhost:8080/",
     "height": 204
    },
    "colab_type": "code",
    "id": "dnlvg6EGpLGw",
    "outputId": "a9ba41b7-f76b-4379-8ed6-c8965e7f1327"
   },
   "outputs": [
    {
     "data": {
      "text/html": [
       "<div>\n",
       "<style scoped>\n",
       "    .dataframe tbody tr th:only-of-type {\n",
       "        vertical-align: middle;\n",
       "    }\n",
       "\n",
       "    .dataframe tbody tr th {\n",
       "        vertical-align: top;\n",
       "    }\n",
       "\n",
       "    .dataframe thead th {\n",
       "        text-align: right;\n",
       "    }\n",
       "</style>\n",
       "<table border=\"1\" class=\"dataframe\">\n",
       "  <thead>\n",
       "    <tr style=\"text-align: right;\">\n",
       "      <th></th>\n",
       "      <th>Pregnancies</th>\n",
       "      <th>Glucose</th>\n",
       "      <th>BloodPressure</th>\n",
       "      <th>SkinThickness</th>\n",
       "      <th>Insulin</th>\n",
       "      <th>BMI</th>\n",
       "      <th>DiabetesPedigreeFunction</th>\n",
       "      <th>Age</th>\n",
       "      <th>Outcome</th>\n",
       "    </tr>\n",
       "  </thead>\n",
       "  <tbody>\n",
       "    <tr>\n",
       "      <th>0</th>\n",
       "      <td>6</td>\n",
       "      <td>148</td>\n",
       "      <td>72</td>\n",
       "      <td>35</td>\n",
       "      <td>0</td>\n",
       "      <td>33.6</td>\n",
       "      <td>0.627</td>\n",
       "      <td>50</td>\n",
       "      <td>1</td>\n",
       "    </tr>\n",
       "    <tr>\n",
       "      <th>1</th>\n",
       "      <td>1</td>\n",
       "      <td>85</td>\n",
       "      <td>66</td>\n",
       "      <td>29</td>\n",
       "      <td>0</td>\n",
       "      <td>26.6</td>\n",
       "      <td>0.351</td>\n",
       "      <td>31</td>\n",
       "      <td>0</td>\n",
       "    </tr>\n",
       "    <tr>\n",
       "      <th>2</th>\n",
       "      <td>8</td>\n",
       "      <td>183</td>\n",
       "      <td>64</td>\n",
       "      <td>0</td>\n",
       "      <td>0</td>\n",
       "      <td>23.3</td>\n",
       "      <td>0.672</td>\n",
       "      <td>32</td>\n",
       "      <td>1</td>\n",
       "    </tr>\n",
       "    <tr>\n",
       "      <th>3</th>\n",
       "      <td>1</td>\n",
       "      <td>89</td>\n",
       "      <td>66</td>\n",
       "      <td>23</td>\n",
       "      <td>94</td>\n",
       "      <td>28.1</td>\n",
       "      <td>0.167</td>\n",
       "      <td>21</td>\n",
       "      <td>0</td>\n",
       "    </tr>\n",
       "    <tr>\n",
       "      <th>4</th>\n",
       "      <td>0</td>\n",
       "      <td>137</td>\n",
       "      <td>40</td>\n",
       "      <td>35</td>\n",
       "      <td>168</td>\n",
       "      <td>43.1</td>\n",
       "      <td>2.288</td>\n",
       "      <td>33</td>\n",
       "      <td>1</td>\n",
       "    </tr>\n",
       "  </tbody>\n",
       "</table>\n",
       "</div>"
      ],
      "text/plain": [
       "   Pregnancies  Glucose  BloodPressure  SkinThickness  Insulin   BMI  \\\n",
       "0            6      148             72             35        0  33.6   \n",
       "1            1       85             66             29        0  26.6   \n",
       "2            8      183             64              0        0  23.3   \n",
       "3            1       89             66             23       94  28.1   \n",
       "4            0      137             40             35      168  43.1   \n",
       "\n",
       "   DiabetesPedigreeFunction  Age  Outcome  \n",
       "0                     0.627   50        1  \n",
       "1                     0.351   31        0  \n",
       "2                     0.672   32        1  \n",
       "3                     0.167   21        0  \n",
       "4                     2.288   33        1  "
      ]
     },
     "execution_count": 23,
     "metadata": {},
     "output_type": "execute_result"
    }
   ],
   "source": [
    "df.head()"
   ]
  },
  {
   "cell_type": "code",
   "execution_count": 24,
   "metadata": {
    "colab": {
     "base_uri": "https://localhost:8080/",
     "height": 289
    },
    "colab_type": "code",
    "id": "xBIxlJXsqUxO",
    "outputId": "737d5077-8f15-4577-9126-97fc2e7b355b"
   },
   "outputs": [
    {
     "name": "stdout",
     "output_type": "stream",
     "text": [
      "<class 'pandas.core.frame.DataFrame'>\n",
      "RangeIndex: 768 entries, 0 to 767\n",
      "Data columns (total 9 columns):\n",
      " #   Column                    Non-Null Count  Dtype  \n",
      "---  ------                    --------------  -----  \n",
      " 0   Pregnancies               768 non-null    int64  \n",
      " 1   Glucose                   768 non-null    int64  \n",
      " 2   BloodPressure             768 non-null    int64  \n",
      " 3   SkinThickness             768 non-null    int64  \n",
      " 4   Insulin                   768 non-null    int64  \n",
      " 5   BMI                       768 non-null    float64\n",
      " 6   DiabetesPedigreeFunction  768 non-null    float64\n",
      " 7   Age                       768 non-null    int64  \n",
      " 8   Outcome                   768 non-null    int64  \n",
      "dtypes: float64(2), int64(7)\n",
      "memory usage: 54.1 KB\n"
     ]
    }
   ],
   "source": [
    "df.info()"
   ]
  },
  {
   "cell_type": "markdown",
   "metadata": {
    "colab_type": "text",
    "id": "GK0zB8iwqWIB"
   },
   "source": [
    "Разделите данные на обучающую и тестовую выборки в пропорции 70% на 30% соответственно с помощью функции [`sklearn.model_selection.train_test_split`](https://scikit-learn.org/stable/modules/generated/sklearn.model_selection.train_test_split.html). Обратите внимание на параметр `stratify`."
   ]
  },
  {
   "cell_type": "code",
   "execution_count": 25,
   "metadata": {
    "colab": {
     "base_uri": "https://localhost:8080/",
     "height": 34
    },
    "colab_type": "code",
    "id": "5zcwvzHVIzBA",
    "outputId": "684ab301-4e77-4966-e9c3-b82127a8ae31"
   },
   "outputs": [
    {
     "name": "stdout",
     "output_type": "stream",
     "text": [
      "Is this a balanced dataset? False\n"
     ]
    }
   ],
   "source": [
    "counts = df.Outcome.value_counts()\n",
    "print(\"Is this a balanced dataset? {}\".format(counts[1] == counts[0]))"
   ]
  },
  {
   "cell_type": "code",
   "execution_count": 26,
   "metadata": {
    "colab": {},
    "colab_type": "code",
    "id": "S7dNg2wtJcKZ"
   },
   "outputs": [],
   "source": [
    "X = df.drop('Outcome', axis=1)\n",
    "y = df.Outcome"
   ]
  },
  {
   "cell_type": "code",
   "execution_count": 27,
   "metadata": {
    "colab": {
     "base_uri": "https://localhost:8080/",
     "height": 34
    },
    "colab_type": "code",
    "id": "X4XlD6AGrHAg",
    "outputId": "fbbb9c90-26a3-4346-c241-e33ccbaf1d30"
   },
   "outputs": [
    {
     "name": "stdout",
     "output_type": "stream",
     "text": [
      "(537, 8) (231, 8) (537,) (231,)\n"
     ]
    }
   ],
   "source": [
    "X_train, X_test, y_train, y_test = train_test_split(X, y, test_size = .3, stratify=y)\n",
    "print(X_train.shape, X_test.shape, y_train.shape, y_test.shape)"
   ]
  },
  {
   "cell_type": "markdown",
   "metadata": {
    "colab_type": "text",
    "id": "s-XBiy4xsFFX"
   },
   "source": [
    "Проведите [стандартизацию](https://wiki.loginom.ru/articles/data-standartization.html) данных, чтобы привести признаки к одному масштабу. В дальнейшем это позволит сравнивать коэффициенты регрессии при разных признаках.\n",
    "\n",
    "*Подсказка: среднее значение и стандартное отклонение нужно вычислять по обучающей выборке.*"
   ]
  },
  {
   "cell_type": "code",
   "execution_count": 28,
   "metadata": {
    "colab": {},
    "colab_type": "code",
    "id": "31n4mCB3KVkb"
   },
   "outputs": [],
   "source": [
    "mu = X_train.mean()\n",
    "sigma = X_train.std()"
   ]
  },
  {
   "cell_type": "code",
   "execution_count": 29,
   "metadata": {
    "colab": {},
    "colab_type": "code",
    "id": "6H7eiajksgBO"
   },
   "outputs": [],
   "source": [
    "X_train_normalized = (X_train - mu) / sigma\n",
    "X_test_normalized = (X_test - mu) / sigma"
   ]
  },
  {
   "cell_type": "markdown",
   "metadata": {
    "colab_type": "text",
    "id": "RWuD6RNitaTA"
   },
   "source": [
    "Обучите на подготовленных данных модель логистической регрессии. Экспериментальным путём подберите оптимальное значение `learning_rate`."
   ]
  },
  {
   "cell_type": "code",
   "execution_count": 103,
   "metadata": {
    "colab": {
     "base_uri": "https://localhost:8080/",
     "height": 170
    },
    "colab_type": "code",
    "id": "mbSZC7RGtlMf",
    "outputId": "191c4195-f4db-4e20-aea5-7c2c5e0dee7e"
   },
   "outputs": [
    {
     "name": "stderr",
     "output_type": "stream",
     "text": [
      "/Users/popov/anaconda3/lib/python3.7/site-packages/ipykernel_launcher.py:84: RuntimeWarning: overflow encountered in exp\n"
     ]
    }
   ],
   "source": [
    "rates = [0.001, 0.01, 0.05, 0.1, 0.2, 0.3, 0.4, 0.5]\n",
    "losses_ = []\n",
    "for r in rates:\n",
    "    clf = LogisticRegression(learning_rate=r, max_iter=1000, verbose=False)\n",
    "    los = clf.fit(X_train.values, y_train.values)\n",
    "    losses_.append((np.mean(np.mean(los))))"
   ]
  },
  {
   "cell_type": "code",
   "execution_count": 104,
   "metadata": {
    "colab": {
     "base_uri": "https://localhost:8080/",
     "height": 153
    },
    "colab_type": "code",
    "id": "5NCg9Q0x9FqQ",
    "outputId": "229bd57c-58f2-4096-eb54-56c494f4f4f0"
   },
   "outputs": [
    {
     "data": {
      "text/plain": [
       "[2.2696333446735877,\n",
       " 8.264419608315249,\n",
       " 9.331833924921975,\n",
       " 9.535915292801855,\n",
       " 9.56194476841444,\n",
       " 9.59167758418307,\n",
       " 9.541034256999458,\n",
       " 9.603289175142981]"
      ]
     },
     "execution_count": 104,
     "metadata": {},
     "output_type": "execute_result"
    }
   ],
   "source": [
    "losses_"
   ]
  },
  {
   "cell_type": "markdown",
   "metadata": {
    "colab_type": "text",
    "id": "d6UphjVrwypK"
   },
   "source": [
    "Постройте график, показывающий зависимость значения функции потерь от номера итерации."
   ]
  },
  {
   "cell_type": "code",
   "execution_count": 105,
   "metadata": {
    "colab": {
     "base_uri": "https://localhost:8080/",
     "height": 51
    },
    "colab_type": "code",
    "id": "BgobKWCCwzXX",
    "outputId": "eae986a6-3e9a-4978-8bee-794ef6d1de95"
   },
   "outputs": [
    {
     "name": "stdout",
     "output_type": "stream",
     "text": [
      "Iteration 0: Loss = 1.6431403496975738. Accuracy = 0.6033519553072626\n",
      "Iteration 50: Loss = 4.1661333917248475. Accuracy = 0.6517690875232774\n"
     ]
    }
   ],
   "source": [
    "clf = LogisticRegression(learning_rate=rates[0], max_iter=100, verbose=True)\n",
    "losses = clf.fit(X_train.values, y_train.values)"
   ]
  },
  {
   "cell_type": "code",
   "execution_count": 106,
   "metadata": {
    "colab": {
     "base_uri": "https://localhost:8080/",
     "height": 282
    },
    "colab_type": "code",
    "id": "Kya6aedZdVHy",
    "outputId": "ca270a4c-db4b-4e89-91b0-4f9e144b47b8"
   },
   "outputs": [
    {
     "data": {
      "text/plain": [
       "[<matplotlib.lines.Line2D at 0x1a205a4e50>]"
      ]
     },
     "execution_count": 106,
     "metadata": {},
     "output_type": "execute_result"
    },
    {
     "data": {
      "image/png": "[encoded data removed]",
      "text/plain": [
       "<Figure size 432x288 with 1 Axes>"
      ]
     },
     "metadata": {
      "needs_background": "light"
     },
     "output_type": "display_data"
    }
   ],
   "source": [
    "plt.plot(losses)"
   ]
  },
  {
   "cell_type": "markdown",
   "metadata": {
    "colab_type": "text",
    "id": "75Z9KITEts5T"
   },
   "source": [
    "Вычислите значения accuracy, precision, recall для тестовой выборки. Можно воспользоваться функциями `accuracy_score`, `precision_score`, `recall_score` модуля [`sklearn.metrics`](https://scikit-learn.org/stable/modules/generated/sklearn.metrics.recall_score.html#sklearn.metrics.recall_score)."
   ]
  },
  {
   "cell_type": "code",
   "execution_count": 34,
   "metadata": {
    "colab": {},
    "colab_type": "code",
    "id": "-wwdgLi4veA8"
   },
   "outputs": [],
   "source": [
    "from sklearn.metrics import accuracy_score, precision_score, recall_score, f1_score"
   ]
  },
  {
   "cell_type": "code",
   "execution_count": 108,
   "metadata": {
    "colab": {
     "base_uri": "https://localhost:8080/",
     "height": 34
    },
    "colab_type": "code",
    "id": "oT6jEs-nrucW",
    "outputId": "fa2131d1-780f-4ce8-da9a-cffa0a4af32f"
   },
   "outputs": [
    {
     "data": {
      "text/plain": [
       "0.6363636363636364"
      ]
     },
     "execution_count": 108,
     "metadata": {},
     "output_type": "execute_result"
    }
   ],
   "source": [
    "accuracy_score(clf.predict(X_test.values), y_test.values)"
   ]
  },
  {
   "cell_type": "code",
   "execution_count": 109,
   "metadata": {
    "colab": {
     "base_uri": "https://localhost:8080/",
     "height": 34
    },
    "colab_type": "code",
    "id": "dytehqUvsFIF",
    "outputId": "d8b5e44c-8fc6-4b89-9722-7e28e63c8aa0"
   },
   "outputs": [
    {
     "data": {
      "text/plain": [
       "0.7283950617283951"
      ]
     },
     "execution_count": 109,
     "metadata": {},
     "output_type": "execute_result"
    }
   ],
   "source": [
    "precision_score(clf.predict(X_test.values), y_test.values)"
   ]
  },
  {
   "cell_type": "code",
   "execution_count": 110,
   "metadata": {
    "colab": {
     "base_uri": "https://localhost:8080/",
     "height": 34
    },
    "colab_type": "code",
    "id": "DWEZG-LhsI6D",
    "outputId": "ed00c754-1767-4cdb-c338-ae865255d75d"
   },
   "outputs": [
    {
     "data": {
      "text/plain": [
       "0.48760330578512395"
      ]
     },
     "execution_count": 110,
     "metadata": {},
     "output_type": "execute_result"
    }
   ],
   "source": [
    "recall_score(clf.predict(X_test.values), y_test.values)"
   ]
  },
  {
   "cell_type": "code",
   "execution_count": 111,
   "metadata": {
    "colab": {
     "base_uri": "https://localhost:8080/",
     "height": 34
    },
    "colab_type": "code",
    "id": "VoEcooELsOc9",
    "outputId": "80d9b6f0-136b-435c-9cad-24f5b6c92933"
   },
   "outputs": [
    {
     "data": {
      "text/plain": [
       "0.5841584158415841"
      ]
     },
     "execution_count": 111,
     "metadata": {},
     "output_type": "execute_result"
    }
   ],
   "source": [
    "f1_score(clf.predict(X_test.values), y_test.values)"
   ]
  },
  {
   "cell_type": "markdown",
   "metadata": {
    "colab_type": "text",
    "id": "tgGeH-oIvzOa"
   },
   "source": [
    "Постройте ROC-кривую и вычислите значение AUC."
   ]
  },
  {
   "cell_type": "code",
   "execution_count": 107,
   "metadata": {
    "colab": {
     "base_uri": "https://localhost:8080/",
     "height": 790
    },
    "colab_type": "code",
    "id": "N6_eEqeDv4SN",
    "outputId": "2e545ae1-72bd-4c76-ebb0-31cf5ec858ca"
   },
   "outputs": [
    {
     "data": {
      "image/png": "[encoded data removed]",
      "text/plain": [
       "<Figure size 600x400 with 1 Axes>"
      ]
     },
     "metadata": {
      "needs_background": "light"
     },
     "output_type": "display_data"
    }
   ],
   "source": [
    "preds = clf.predict_proba(X_test.values)\n",
    "fpr, tpr, threshold = metrics.roc_curve(y_test.values, preds)\n",
    "roc_auc = metrics.auc(fpr, tpr)\n",
    "plot_roc_auc(fpr, tpr, roc_auc)"
   ]
  },
  {
   "cell_type": "markdown",
   "metadata": {
    "colab_type": "text",
    "id": "EbBXCKiFziVO"
   },
   "source": [
    "Один из способов определить оптимальное значение порога для классификации -- это [индекс Юдена](https://en.wikipedia.org/wiki/Youden%27s_J_statistic). Реализуйте функцию `youdens_j_threshold`, которая имеет 3 параметра: `fpr`,`tpr`,`thresholds` -- значения, возвращаемые функцией `roc_curve`, и возвращает оптимальное значение порога. \n",
    "\n",
    "Подсказка: можно использовать функцию `np.argmax`. Подробнее о индексе Юдена можно прочитать в [презентации](http://edu.std-900.ist.mospolytech.ru/presentations/logistic-regression)."
   ]
  },
  {
   "cell_type": "code",
   "execution_count": 46,
   "metadata": {
    "colab": {},
    "colab_type": "code",
    "id": "xLf2m_ML1KrB"
   },
   "outputs": [],
   "source": [
    "def youdens_j_threshold(fpr, tpr, thresholds):\n",
    "    j = thresholds[np.argmax(tpr - fpr)]\n",
    "    return j"
   ]
  },
  {
   "cell_type": "code",
   "execution_count": 113,
   "metadata": {
    "colab": {
     "base_uri": "https://localhost:8080/",
     "height": 34
    },
    "colab_type": "code",
    "id": "yAW0_OwStfvT",
    "outputId": "3a2d744f-f360-4dc7-df29-d25d69fe6a49"
   },
   "outputs": [
    {
     "data": {
      "text/plain": [
       "0.4949655913556094"
      ]
     },
     "execution_count": 113,
     "metadata": {},
     "output_type": "execute_result"
    }
   ],
   "source": [
    "youdens_j_threshold(*metrics.roc_curve(y_test.values, preds))"
   ]
  },
  {
   "cell_type": "markdown",
   "metadata": {
    "colab_type": "text",
    "id": "HFeL_SR01Swm"
   },
   "source": [
    "Используйте полученное в предыдущем задании значение порога в функции `predict`. Как изменятся значения accuracy, precision, recall при новом значении порога?"
   ]
  },
  {
   "cell_type": "code",
   "execution_count": 114,
   "metadata": {
    "colab": {
     "base_uri": "https://localhost:8080/",
     "height": 34
    },
    "colab_type": "code",
    "id": "OWgqGjDi2DGJ",
    "outputId": "11ddeb3b-1ac6-4b75-d420-ab010c441129"
   },
   "outputs": [
    {
     "data": {
      "text/plain": [
       "0.6363636363636364"
      ]
     },
     "execution_count": 114,
     "metadata": {},
     "output_type": "execute_result"
    }
   ],
   "source": [
    "accuracy_score(clf.predict(X_test.values, threshold=0.494), y_test.values)"
   ]
  },
  {
   "cell_type": "code",
   "execution_count": 115,
   "metadata": {
    "colab": {
     "base_uri": "https://localhost:8080/",
     "height": 34
    },
    "colab_type": "code",
    "id": "QK10pjAsvFel",
    "outputId": "b18312bf-4a9b-4d16-9508-036811f2888c"
   },
   "outputs": [
    {
     "data": {
      "text/plain": [
       "0.7530864197530864"
      ]
     },
     "execution_count": 115,
     "metadata": {},
     "output_type": "execute_result"
    }
   ],
   "source": [
    "precision_score(clf.predict(X_test.values, threshold=0.494), y_test.values)"
   ]
  },
  {
   "cell_type": "code",
   "execution_count": 116,
   "metadata": {
    "colab": {
     "base_uri": "https://localhost:8080/",
     "height": 34
    },
    "colab_type": "code",
    "id": "jrAY7lpkvL8o",
    "outputId": "19542ce5-ff15-4a0f-b2d8-9f7274b01b99"
   },
   "outputs": [
    {
     "data": {
      "text/plain": [
       "0.488"
      ]
     },
     "execution_count": 116,
     "metadata": {},
     "output_type": "execute_result"
    }
   ],
   "source": [
    "recall_score(clf.predict(X_test.values, threshold=0.494), y_test.values)"
   ]
  },
  {
   "cell_type": "markdown",
   "metadata": {
    "colab_type": "text",
    "id": "LNR_yHUu2GaQ"
   },
   "source": [
    "Для диагностических тестов используются такие показатели как чувствительность (англ. sensitivity) -- вероятность того, что тест\n",
    "окажется позитивным при наличии признака $\\left (\\frac{TP}{TP+FN} \\right )$, и специфичность (англ. specificity) -- вероятность того, что тест окажется негативным при отсутствии признака $\\left (\\frac{TN}{TN+FP} \\right )$. Вычислите [чувствительность и специфичность](https://ru.wikipedia.org/wiki/%D0%A7%D1%83%D0%B2%D1%81%D1%82%D0%B2%D0%B8%D1%82%D0%B5%D0%BB%D1%8C%D0%BD%D0%BE%D1%81%D1%82%D1%8C_%D0%B8_%D1%81%D0%BF%D0%B5%D1%86%D0%B8%D1%84%D0%B8%D1%87%D0%BD%D0%BE%D1%81%D1%82%D1%8C) для обученной логистической регрессии. Какое значение порога является более предпочтительным с точки зрения этих показателей: значение по умолчанию 0,5 или значение, полученное при помощи индекса Юдена? "
   ]
  },
  {
   "cell_type": "code",
   "execution_count": 51,
   "metadata": {
    "colab": {},
    "colab_type": "code",
    "id": "RoMvZuezXmXJ"
   },
   "outputs": [],
   "source": [
    "def sens_spec(y_test, predictions):\n",
    "    TP = FP = TN = FN = 0\n",
    "    for i in range(len(y_test)):\n",
    "        TP += y_test[i] == predictions[i] == 1\n",
    "        TN += y_test[i] == predictions[i] == 0\n",
    "        FP += y_test[i] == 0 and predictions[i] == 1\n",
    "        FN += y_test[i] == 1 and predictions[i] == 0\n",
    "    return TP / (TP + FN), TN / (TN + FP) # sensitivity, specificity"
   ]
  },
  {
   "cell_type": "code",
   "execution_count": 117,
   "metadata": {
    "colab": {},
    "colab_type": "code",
    "id": "-yqpSYOq3dQZ"
   },
   "outputs": [],
   "source": [
    "predicts = clf.predict(X_test.values, threshold=0.5)"
   ]
  },
  {
   "cell_type": "code",
   "execution_count": 118,
   "metadata": {
    "colab": {
     "base_uri": "https://localhost:8080/",
     "height": 34
    },
    "colab_type": "code",
    "id": "hUWHbmFkZj3F",
    "outputId": "db5ef6a6-1909-41fb-9795-5b7650fb7e5c"
   },
   "outputs": [
    {
     "data": {
      "text/plain": [
       "(0.7283950617283951, 0.5866666666666667)"
      ]
     },
     "execution_count": 118,
     "metadata": {},
     "output_type": "execute_result"
    }
   ],
   "source": [
    "sens_spec(y_test.values, predicts)"
   ]
  },
  {
   "cell_type": "code",
   "execution_count": 119,
   "metadata": {
    "colab": {},
    "colab_type": "code",
    "id": "d5JHEeqKWdmb"
   },
   "outputs": [],
   "source": [
    "predicts = clf.predict(X_test.values, threshold=0.494)"
   ]
  },
  {
   "cell_type": "code",
   "execution_count": 120,
   "metadata": {
    "colab": {
     "base_uri": "https://localhost:8080/",
     "height": 34
    },
    "colab_type": "code",
    "id": "gpafrLc1WhMu",
    "outputId": "d8bddd4f-5ebf-4575-ee73-e037d7331e07"
   },
   "outputs": [
    {
     "data": {
      "text/plain": [
       "(0.7530864197530864, 0.5733333333333334)"
      ]
     },
     "execution_count": 120,
     "metadata": {},
     "output_type": "execute_result"
    }
   ],
   "source": [
    "sens_spec(y_test.values, predicts)"
   ]
  },
  {
   "cell_type": "markdown",
   "metadata": {
    "colab_type": "text",
    "id": "lyeUyx8F3got"
   },
   "source": [
    "**Ответ:** Чуствительность модели 0.73 при значении трешхолда 0.5, специфичность — 0.59. При трешхолде равном 0.494, полученном по результатам теста Юдена, чувствительность увеличивается, при незначительном уменьшении показателя специфичности."
   ]
  },
  {
   "cell_type": "markdown",
   "metadata": {
    "colab_type": "text",
    "id": "fFurkcO-xHHb"
   },
   "source": [
    "Выведите полученные значения коэффициентов регрессии для каждого признака."
   ]
  },
  {
   "cell_type": "code",
   "execution_count": 121,
   "metadata": {
    "colab": {
     "base_uri": "https://localhost:8080/",
     "height": 153
    },
    "colab_type": "code",
    "id": "bH34OVqlxOj2",
    "outputId": "a5476e7a-3be1-4202-c302-c0b40af9e951"
   },
   "outputs": [
    {
     "data": {
      "text/plain": [
       "array([[-0.00175451],\n",
       "       [ 0.04408776],\n",
       "       [-0.08622449],\n",
       "       [ 0.00157762],\n",
       "       [ 0.01067776],\n",
       "       [-0.05258252],\n",
       "       [-0.05824581],\n",
       "       [ 0.05443306]])"
      ]
     },
     "execution_count": 121,
     "metadata": {},
     "output_type": "execute_result"
    }
   ],
   "source": [
    "clf._weights[:-1]"
   ]
  },
  {
   "cell_type": "code",
   "execution_count": 122,
   "metadata": {
    "colab": {
     "base_uri": "https://localhost:8080/",
     "height": 1000
    },
    "colab_type": "code",
    "id": "XpIRwlvQxZyG",
    "outputId": "e2a762cb-bbe8-44ef-c909-c5e62502bb26"
   },
   "outputs": [
    {
     "data": {
      "image/png": "[encoded data removed]",
      "text/plain": [
       "<Figure size 600x400 with 1 Axes>"
      ]
     },
     "metadata": {
      "needs_background": "light"
     },
     "output_type": "display_data"
    }
   ],
   "source": [
    "fig = plt.figure(dpi=100)\n",
    "plt.bar(df.columns[:-1], clf._weights[:-1].squeeze())\n",
    "plt.xticks(rotation=90)\n",
    "plt.show()"
   ]
  },
  {
   "cell_type": "markdown",
   "metadata": {
    "colab_type": "text",
    "id": "pq5VvXVxx6fT"
   },
   "source": [
    "На основе анализа полученных данных определите, какие признаки являются наиболее значимыми (информативными) для диагностирования у пациента диабета II типа."
   ]
  },
  {
   "cell_type": "markdown",
   "metadata": {
    "colab_type": "text",
    "id": "1dbguEk9yLxr"
   },
   "source": [
    "**Ответ:** На основе анализа модели можно выделить три особенно значимых признака: \n",
    " 1. концентрация глюкозы в плазме *;\n",
    " 2. концентрация инсулина в сыворотке;\n",
    " 3. возраст пациента *.\n",
    "\n"
   ]
  },
  {
   "cell_type": "markdown",
   "metadata": {
    "colab_type": "text",
    "id": "txwMZjlCjzNF"
   },
   "source": [
    "### Полезные материалы\n",
    "1. [Материалы по логистической регрессии курса по машинному обучению от МФТИ](https://github.com/ml-mipt/ml-mipt/tree/master/week0_03_logistic)\n",
    "2. [Pima Indians Diabetes Database](https://www.kaggle.com/uciml/pima-indians-diabetes-database)\n",
    "3. [Обсуждение методов вычисления оптимального порога для ROC-кривой на StackOverflow](https://stackoverflow.com/questions/28719067/roc-curve-and-cut-off-point-python)"
   ]
  }
 ],
 "metadata": {
  "colab": {
   "collapsed_sections": [],
   "name": "logit-regression.ipynb",
   "provenance": []
  },
  "kernelspec": {
   "display_name": "Python 3",
   "language": "python",
   "name": "python3"
  },
  "language_info": {
   "codemirror_mode": {
    "name": "ipython",
    "version": 3
   },
   "file_extension": ".py",
   "mimetype": "text/x-python",
   "name": "python",
   "nbconvert_exporter": "python",
   "pygments_lexer": "ipython3",
   "version": "3.7.4"
  }
 },
 "nbformat": 4,
 "nbformat_minor": 1
}
