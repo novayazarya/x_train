{
 "cells": [
  {
   "cell_type": "code",
   "execution_count": 2,
   "metadata": {},
   "outputs": [],
   "source": [
    "import math\n",
    "import numpy as np\n",
    "import matplotlib.pyplot as plt\n",
    "import seaborn as sns\n",
    "%matplotlib inline"
   ]
  },
  {
   "cell_type": "markdown",
   "metadata": {},
   "source": [
    "## ОПЕРАЦИИ НАД МАТРИЦАМИ И ИХ СВОЙСТВА"
   ]
  },
  {
   "cell_type": "markdown",
   "metadata": {},
   "source": [
    "### Возведение матрицы в степень"
   ]
  },
  {
   "cell_type": "markdown",
   "metadata": {},
   "source": [
    "Возвести $\\begin{equation*}\n",
    "A = \n",
    "\\begin{pmatrix}\n",
    "1 & 2 \\\\\n",
    "3 & 4 \\\\ \n",
    "\\end{pmatrix}\n",
    "\\end{equation*}$ в третью степень"
   ]
  },
  {
   "cell_type": "code",
   "execution_count": 8,
   "metadata": {},
   "outputs": [
    {
     "data": {
      "text/plain": [
       "array([[ 37,  81],\n",
       "       [ 54, 118]])"
      ]
     },
     "execution_count": 8,
     "metadata": {},
     "output_type": "execute_result"
    }
   ],
   "source": [
    "A = np.array([[1, 3], [2, 4]])\n",
    "np.linalg.matrix_power(A, 3)"
   ]
  },
  {
   "cell_type": "markdown",
   "metadata": {},
   "source": [
    "### Транспонирование матрицы"
   ]
  },
  {
   "cell_type": "markdown",
   "metadata": {},
   "source": [
    "Транспонировать матрицу $\\begin{equation*}\n",
    "A = \n",
    "\\begin{pmatrix}\n",
    "1 & 2 \\\\\n",
    "3 & 4 \\\\ \n",
    "\\end{pmatrix}\n",
    "\\end{equation*}$"
   ]
  },
  {
   "cell_type": "code",
   "execution_count": 7,
   "metadata": {},
   "outputs": [
    {
     "data": {
      "text/plain": [
       "array([[1, 2],\n",
       "       [2, 3]])"
      ]
     },
     "execution_count": 7,
     "metadata": {},
     "output_type": "execute_result"
    }
   ],
   "source": [
    "A.transpose()"
   ]
  },
  {
   "cell_type": "markdown",
   "metadata": {},
   "source": [
    "Вычислить значения многочлена $F(x) = 2x^3 - x + 5$ от матрицы $\\begin{equation*}\n",
    "A = \n",
    "\\begin{pmatrix}\n",
    "-1 & 2 \\\\\n",
    "0 & 2 \\\\ \n",
    "\\end{pmatrix}\n",
    "\\end{equation*}$"
   ]
  },
  {
   "cell_type": "code",
   "execution_count": 9,
   "metadata": {},
   "outputs": [
    {
     "data": {
      "text/plain": [
       "array([[ 5,  5],\n",
       "       [ 9, 11]])"
      ]
     },
     "execution_count": 9,
     "metadata": {},
     "output_type": "execute_result"
    }
   ],
   "source": [
    "A = np.array([[-1, 0], [2, 2]])\n",
    "np.linalg.matrix_power(A, 3) - A + 5"
   ]
  },
  {
   "cell_type": "markdown",
   "metadata": {},
   "source": [
    "Вычислить определитель матрицы $\\begin{equation*}\n",
    "A = \n",
    "\\begin{pmatrix}\n",
    "1 & 2 & 3 & 4 \\\\\n",
    "2 & 1 & 3 & 4 \\\\ \n",
    "3 & 1 & 2 & 4 \\\\\n",
    "4 & 3 & 2 & 1 \\\\\n",
    "\\end{pmatrix}\n",
    "\\end{equation*}$"
   ]
  },
  {
   "cell_type": "code",
   "execution_count": 14,
   "metadata": {},
   "outputs": [
    {
     "data": {
      "text/plain": [
       "-30.000000000000004"
      ]
     },
     "execution_count": 14,
     "metadata": {},
     "output_type": "execute_result"
    }
   ],
   "source": [
    "A = np.array([[1, 2, 3, 4], \n",
    "              [2, 1, 3, 4],\n",
    "              [3, 1, 2, 4],\n",
    "              [4, 3, 2, 1]])\n",
    "np.linalg.det(A)"
   ]
  },
  {
   "cell_type": "markdown",
   "metadata": {},
   "source": [
    "Вычислить обратную матрицу $\\begin{equation*}\n",
    "A = \n",
    "\\begin{pmatrix}\n",
    "1 & -1 & 1 \\\\\n",
    "2 & 1 & 1 \\\\ \n",
    "1 & 1 & 2 \\\\\n",
    "\\end{pmatrix}\n",
    "\\end{equation*}$"
   ]
  },
  {
   "cell_type": "code",
   "execution_count": 17,
   "metadata": {},
   "outputs": [
    {
     "data": {
      "text/plain": [
       "array([[ 0.2,  0.6, -0.4],\n",
       "       [-0.6,  0.2,  0.2],\n",
       "       [ 0.2, -0.4,  0.6]])"
      ]
     },
     "execution_count": 17,
     "metadata": {},
     "output_type": "execute_result"
    }
   ],
   "source": [
    "A = np.array([[1, -1, 1], \n",
    "              [2, 1, 1],\n",
    "              [1, 1, 2]])\n",
    "\n",
    "np.linalg.inv(A)"
   ]
  },
  {
   "cell_type": "markdown",
   "metadata": {},
   "source": [
    "Решить матричное уравнение $A X = B$\n",
    "\n",
    "$\\begin{equation*}A = \n",
    "\\begin{pmatrix}\n",
    "3 & 1 \\\\\n",
    "-3 & 1 \\\\ \n",
    "\\end{pmatrix}\n",
    "\\end{equation*}$,\n",
    "$\\begin{equation*}B = \n",
    "\\begin{pmatrix}\n",
    "9 & 5 \\\\\n",
    "-3 & -1 \\\\ \n",
    "\\end{pmatrix}\n",
    "\\end{equation*}$\n",
    "\n",
    "Матрицу `X` находим путем произведения обратной матрицы $A^-1$ и $B$"
   ]
  },
  {
   "cell_type": "code",
   "execution_count": 18,
   "metadata": {},
   "outputs": [
    {
     "data": {
      "text/plain": [
       "array([[2., 1.],\n",
       "       [3., 2.]])"
      ]
     },
     "execution_count": 18,
     "metadata": {},
     "output_type": "execute_result"
    }
   ],
   "source": [
    "A = np.array([[3, 1], \n",
    "              [-3, 1]])\n",
    "\n",
    "B = np.array([[9, 5], \n",
    "              [-3, -1]])\n",
    "\n",
    "np.dot(np.linalg.inv(A), B)"
   ]
  },
  {
   "cell_type": "markdown",
   "metadata": {},
   "source": [
    "Вычислить ранг матрицы $\\begin{equation*}\n",
    "A = \n",
    "\\begin{pmatrix}\n",
    "0 & -1 & 3 & 0 & 2 \\\\\n",
    "2 & -4 & 1 & 5 & 3 \\\\ \n",
    "-4 & 5 & 7 & -10 & 0 \\\\\n",
    "-2 & 1 & 8 & -5 & 3 \\\\\n",
    "\\end{pmatrix}\n",
    "\\end{equation*}$"
   ]
  },
  {
   "cell_type": "code",
   "execution_count": 21,
   "metadata": {},
   "outputs": [
    {
     "data": {
      "text/plain": [
       "2"
      ]
     },
     "execution_count": 21,
     "metadata": {},
     "output_type": "execute_result"
    }
   ],
   "source": [
    "A = np.array([[0, -1, 3, 0, 2], \n",
    "              [2, -4, 1, 5, 3],\n",
    "              [-4, 5, 7, -10, 0],\n",
    "              [-2, 1, 8, -5, 3]])\n",
    "\n",
    "np.linalg.matrix_rank(A)"
   ]
  },
  {
   "cell_type": "markdown",
   "metadata": {},
   "source": [
    "### СИСТЕМЫ ЛИНЕЙНЫХ УРАВНЕНИЙ (СЛУ)"
   ]
  },
  {
   "cell_type": "markdown",
   "metadata": {},
   "source": [
    "$${\\displaystyle {\\begin{cases}a_{11}x_{1}+a_{12}x_{2}+\\dots +a_{1n}x_{n}=b_{1}\\\\a_{21}x_{1}+a_{22}x_{2}+\\dots +a_{2n}x_{n}=b_{2}\\\\\\dots \\\\a_{m1}x_{1}+a_{m2}x_{2}+\\dots +a_{mn}x_{n}=b_{m}\\\\\\end{cases}}}$$\n",
    "\n",
    "где $a_{ij}$ и $b_{j}$ — произвольные числа, называемые коэффициентами при меременных $x_{1}, x_{2} \\dots x_{n}$ и свободными членами. Матричная форма записи имеет вид $A = XB$, где\n",
    "\n",
    "$A = \\begin{pmatrix}\n",
    "a_{11} & a_{12} & \\cdots & a_{1n} \\\\\n",
    "a_{21} & a_{22} & \\cdots & a_{2n} \\\\\n",
    "\\vdots & \\vdots & \\ddots & \\vdots \\\\\n",
    "a_{m1} & a_{m2} & \\cdots & a_{mn} \n",
    "\\end{pmatrix}$ — матрица коэффициентов при неизвестных,\n",
    "\n",
    "$X = \\begin{pmatrix}\n",
    "x_1 \\\\\n",
    "x_2 \\\\\n",
    "\\vdots \\\\\n",
    "x_n\n",
    "\\end{pmatrix}$ — матрица из неизвестных системы,\n",
    "\n",
    "$B =\n",
    "\\begin{pmatrix}\n",
    "b_1 \\\\\n",
    "b_2 \\\\\n",
    "\\vdots \\\\\n",
    "b_m\n",
    "\\end{pmatrix}$ — матрица из свободных членов.\n",
    "\n",
    "Решением системы `m` линейных уравнений с `n` переменными называют упорядоченный набор чисел, при подстановке которых в каждое уравнение системы вместо соответствующих переменных получают верное равенство. Как доказывает <a href=\"https://ru.wikipedia.org/wiki/%D0%A2%D0%B5%D0%BE%D1%80%D0%B5%D0%BC%D0%B0_%D0%9A%D1%80%D0%BE%D0%BD%D0%B5%D0%BA%D0%B5%D1%80%D0%B0_%E2%80%94_%D0%9A%D0%B0%D0%BF%D0%B5%D0%BB%D0%BB%D0%B8\">Теорема Кронекера-Капелли</a>, СЛУ могут иметь одно решение, бесконечное множество решений, так и не иметь решения."
   ]
  },
  {
   "cell_type": "markdown",
   "metadata": {},
   "source": [
    "Рассмотрим случай, когда система имеет единственное решение. Это значит, что матрицв системы невырожднная, т.е. ее определитель не равен нулю, и эту систему можно решать по правилу <a href=\"https://ru.wikipedia.org/wiki/%D0%9C%D0%B5%D1%82%D0%BE%D0%B4_%D0%9A%D1%80%D0%B0%D0%BC%D0%B5%D1%80%D0%B0\">Крамера</a> или методом обратной матрицы.\n",
    "\n",
    "${\\displaystyle {\\begin{cases}3x_{1}-x_{2}+x_{3}=5\\\\\n",
    "x_{1}-x_{2}-x_{3}=3\\\\\n",
    "5x_{1}-3x_{2}-x_{3}=10\\\\\\end{cases}}}$\n",
    "\n",
    "Для решения системы воспользуемся функцией <a href=\"https://numpy.org/doc/stable/reference/generated/numpy.linalg.solve.html\">numpy.linalg.solve</a>. Функция принимает два параметра:\n",
    " - матрица коэффициентов перед переменными\n",
    " - вектор свободных членов"
   ]
  },
  {
   "cell_type": "code",
   "execution_count": 28,
   "metadata": {},
   "outputs": [
    {
     "name": "stdout",
     "output_type": "stream",
     "text": [
      "x1 = -4.00\n",
      "x2 = -10.75\n",
      "x3 = 4.25\n"
     ]
    }
   ],
   "source": [
    "A = np.array([[3, -1, 1], \n",
    "              [1, -1, 1],\n",
    "              [5, -3, -1,]])\n",
    "\n",
    "B = np.array([3, 11, 8])\n",
    "\n",
    "X = np.linalg.solve(A, B)\n",
    "\n",
    "for i, x in enumerate(X, 1):\n",
    "    print(f'x{i} = {x:.2f}')"
   ]
  },
  {
   "cell_type": "markdown",
   "metadata": {},
   "source": [
    "Определитель основной матрицы системы не равен нулю, мы получили единственное решение, хотя и не целочисленное."
   ]
  },
  {
   "cell_type": "code",
   "execution_count": 29,
   "metadata": {},
   "outputs": [
    {
     "data": {
      "text/plain": [
       "7.999999999999998"
      ]
     },
     "execution_count": 29,
     "metadata": {},
     "output_type": "execute_result"
    }
   ],
   "source": [
    "np.linalg.det(A)"
   ]
  },
  {
   "cell_type": "markdown",
   "metadata": {},
   "source": [
    "### Решение системы линейных уравнений $AX = B$ методом обратной матрицы"
   ]
  },
  {
   "cell_type": "markdown",
   "metadata": {},
   "source": [
    "Для этого:\n",
    "   1. вычислим определитель матрицы $A$. Если определитель равен нулю, то конец решения. Система имеет бесконечное множество решений.\n",
    "   2. при определителе отличном от нуля, через алгебраические дополнения находится обратная матрица $A^{-1}$.\n",
    "   3. вектор решения $X = \\{x_{1}, x_{2} \\dots x_{n}\\}$ получается умолжением обратной матрицы на вектор результата $B$."
   ]
  },
  {
   "cell_type": "markdown",
   "metadata": {},
   "source": [
    "Hешить СЛУ методом обратной матрицы\n",
    "\n",
    "${\\displaystyle \n",
    "{\\begin{cases}\n",
    "2x_{1}-x_{2}-2x_{3}=-3\\\\\n",
    "x_{1}-2x_{2}+x_{3}=5\\\\\n",
    "3x_{1}+x_{2}-x_{3}=0\\\\\\end\n",
    "{cases}}}$"
   ]
  },
  {
   "cell_type": "code",
   "execution_count": 34,
   "metadata": {},
   "outputs": [
    {
     "name": "stdout",
     "output_type": "stream",
     "text": [
      "Решение системы [ 1. -1.  2.]\n"
     ]
    }
   ],
   "source": [
    "A = np.array([[2, 1, -2], \n",
    "              [1, -2, 1],\n",
    "              [3, 1, -1,]])\n",
    "\n",
    "B = np.array([-3, 5, 0])\n",
    "\n",
    "det = np.linalg.det(A)\n",
    "\n",
    "if det == 0:\n",
    "    print('Система имеет бесконечное множество решений, \\\n",
    "           определитель матрицы равен 0')\n",
    "else:\n",
    "    AI = np.linalg.inv(A)\n",
    "    X = np.dot(AI, B)\n",
    "    print(f'Решение системы {X}')"
   ]
  }
 ],
 "metadata": {
  "kernelspec": {
   "display_name": "Python 3",
   "language": "python",
   "name": "python3"
  },
  "language_info": {
   "codemirror_mode": {
    "name": "ipython",
    "version": 3
   },
   "file_extension": ".py",
   "mimetype": "text/x-python",
   "name": "python",
   "nbconvert_exporter": "python",
   "pygments_lexer": "ipython3",
   "version": "3.8.3"
  }
 },
 "nbformat": 4,
 "nbformat_minor": 4
}
