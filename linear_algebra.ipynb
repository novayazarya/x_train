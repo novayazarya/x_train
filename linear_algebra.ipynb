{
 "cells": [
  {
   "cell_type": "markdown",
   "metadata": {},
   "source": [
    "# Элементы линейной алгебры на Python"
   ]
  },
  {
   "cell_type": "code",
   "execution_count": 2,
   "metadata": {},
   "outputs": [],
   "source": [
    "import math\n",
    "import numpy as np\n",
    "import matplotlib.pyplot as plt\n",
    "import seaborn as sns\n",
    "%matplotlib inline"
   ]
  },
  {
   "cell_type": "markdown",
   "metadata": {},
   "source": [
    "## ОПЕРАЦИИ НАД МАТРИЦАМИ И ИХ СВОЙСТВА"
   ]
  },
  {
   "cell_type": "markdown",
   "metadata": {},
   "source": [
    "### Возведение матрицы в степень"
   ]
  },
  {
   "cell_type": "markdown",
   "metadata": {},
   "source": [
    "Возвести $\\begin{equation*}\n",
    "A = \n",
    "\\begin{pmatrix}\n",
    "1 & 2 \\\\\n",
    "3 & 4 \\\\ \n",
    "\\end{pmatrix}\n",
    "\\end{equation*}$ в третью степень"
   ]
  },
  {
   "cell_type": "code",
   "execution_count": 8,
   "metadata": {},
   "outputs": [
    {
     "data": {
      "text/plain": [
       "array([[ 37,  81],\n",
       "       [ 54, 118]])"
      ]
     },
     "execution_count": 8,
     "metadata": {},
     "output_type": "execute_result"
    }
   ],
   "source": [
    "A = np.array([[1, 3], [2, 4]])\n",
    "np.linalg.matrix_power(A, 3)"
   ]
  },
  {
   "cell_type": "markdown",
   "metadata": {},
   "source": [
    "### Транспонирование матрицы"
   ]
  },
  {
   "cell_type": "markdown",
   "metadata": {},
   "source": [
    "Транспонировать матрицу $\\begin{equation*}\n",
    "A = \n",
    "\\begin{pmatrix}\n",
    "1 & 2 \\\\\n",
    "3 & 4 \\\\ \n",
    "\\end{pmatrix}\n",
    "\\end{equation*}$"
   ]
  },
  {
   "cell_type": "code",
   "execution_count": 7,
   "metadata": {},
   "outputs": [
    {
     "data": {
      "text/plain": [
       "array([[1, 2],\n",
       "       [2, 3]])"
      ]
     },
     "execution_count": 7,
     "metadata": {},
     "output_type": "execute_result"
    }
   ],
   "source": [
    "A.transpose()"
   ]
  },
  {
   "cell_type": "markdown",
   "metadata": {},
   "source": [
    "Вычислить значения многочлена $F(x) = 2x^3 - x + 5$ от матрицы $\\begin{equation*}\n",
    "A = \n",
    "\\begin{pmatrix}\n",
    "-1 & 2 \\\\\n",
    "0 & 2 \\\\ \n",
    "\\end{pmatrix}\n",
    "\\end{equation*}$"
   ]
  },
  {
   "cell_type": "code",
   "execution_count": 9,
   "metadata": {},
   "outputs": [
    {
     "data": {
      "text/plain": [
       "array([[ 5,  5],\n",
       "       [ 9, 11]])"
      ]
     },
     "execution_count": 9,
     "metadata": {},
     "output_type": "execute_result"
    }
   ],
   "source": [
    "A = np.array([[-1, 0], [2, 2]])\n",
    "np.linalg.matrix_power(A, 3) - A + 5"
   ]
  },
  {
   "cell_type": "markdown",
   "metadata": {},
   "source": [
    "Вычислить определитель матрицы $\\begin{equation*}\n",
    "A = \n",
    "\\begin{pmatrix}\n",
    "1 & 2 & 3 & 4 \\\\\n",
    "2 & 1 & 3 & 4 \\\\ \n",
    "3 & 1 & 2 & 4 \\\\\n",
    "4 & 3 & 2 & 1 \\\\\n",
    "\\end{pmatrix}\n",
    "\\end{equation*}$"
   ]
  },
  {
   "cell_type": "code",
   "execution_count": 14,
   "metadata": {},
   "outputs": [
    {
     "data": {
      "text/plain": [
       "-30.000000000000004"
      ]
     },
     "execution_count": 14,
     "metadata": {},
     "output_type": "execute_result"
    }
   ],
   "source": [
    "A = np.array([[1, 2, 3, 4], \n",
    "              [2, 1, 3, 4],\n",
    "              [3, 1, 2, 4],\n",
    "              [4, 3, 2, 1]])\n",
    "np.linalg.det(A)"
   ]
  },
  {
   "cell_type": "markdown",
   "metadata": {},
   "source": [
    "Вычислить обратную матрицу $\\begin{equation*}\n",
    "A = \n",
    "\\begin{pmatrix}\n",
    "1 & -1 & 1 \\\\\n",
    "2 & 1 & 1 \\\\ \n",
    "1 & 1 & 2 \\\\\n",
    "\\end{pmatrix}\n",
    "\\end{equation*}$"
   ]
  },
  {
   "cell_type": "code",
   "execution_count": 17,
   "metadata": {},
   "outputs": [
    {
     "data": {
      "text/plain": [
       "array([[ 0.2,  0.6, -0.4],\n",
       "       [-0.6,  0.2,  0.2],\n",
       "       [ 0.2, -0.4,  0.6]])"
      ]
     },
     "execution_count": 17,
     "metadata": {},
     "output_type": "execute_result"
    }
   ],
   "source": [
    "A = np.array([[1, -1, 1], \n",
    "              [2, 1, 1],\n",
    "              [1, 1, 2]])\n",
    "\n",
    "np.linalg.inv(A)"
   ]
  },
  {
   "cell_type": "markdown",
   "metadata": {},
   "source": [
    "Решить матричное уравнение $A X = B$\n",
    "\n",
    "$\\begin{equation*}A = \n",
    "\\begin{pmatrix}\n",
    "3 & 1 \\\\\n",
    "-3 & 1 \\\\ \n",
    "\\end{pmatrix}\n",
    "\\end{equation*}$,\n",
    "$\\begin{equation*}B = \n",
    "\\begin{pmatrix}\n",
    "9 & 5 \\\\\n",
    "-3 & -1 \\\\ \n",
    "\\end{pmatrix}\n",
    "\\end{equation*}$\n",
    "\n",
    "Матрицу `X` находим путем произведения обратной матрицы $A^-1$ и $B$"
   ]
  },
  {
   "cell_type": "code",
   "execution_count": 18,
   "metadata": {},
   "outputs": [
    {
     "data": {
      "text/plain": [
       "array([[2., 1.],\n",
       "       [3., 2.]])"
      ]
     },
     "execution_count": 18,
     "metadata": {},
     "output_type": "execute_result"
    }
   ],
   "source": [
    "A = np.array([[3, 1], \n",
    "              [-3, 1]])\n",
    "\n",
    "B = np.array([[9, 5], \n",
    "              [-3, -1]])\n",
    "\n",
    "np.dot(np.linalg.inv(A), B)"
   ]
  },
  {
   "cell_type": "markdown",
   "metadata": {},
   "source": [
    "Вычислить ранг матрицы $\\begin{equation*}\n",
    "A = \n",
    "\\begin{pmatrix}\n",
    "0 & -1 & 3 & 0 & 2 \\\\\n",
    "2 & -4 & 1 & 5 & 3 \\\\ \n",
    "-4 & 5 & 7 & -10 & 0 \\\\\n",
    "-2 & 1 & 8 & -5 & 3 \\\\\n",
    "\\end{pmatrix}\n",
    "\\end{equation*}$"
   ]
  },
  {
   "cell_type": "code",
   "execution_count": 21,
   "metadata": {},
   "outputs": [
    {
     "data": {
      "text/plain": [
       "2"
      ]
     },
     "execution_count": 21,
     "metadata": {},
     "output_type": "execute_result"
    }
   ],
   "source": [
    "A = np.array([[0, -1, 3, 0, 2], \n",
    "              [2, -4, 1, 5, 3],\n",
    "              [-4, 5, 7, -10, 0],\n",
    "              [-2, 1, 8, -5, 3]])\n",
    "\n",
    "np.linalg.matrix_rank(A)"
   ]
  },
  {
   "cell_type": "markdown",
   "metadata": {},
   "source": [
    "## СИСТЕМЫ ЛИНЕЙНЫХ УРАВНЕНИЙ (СЛУ)"
   ]
  },
  {
   "cell_type": "markdown",
   "metadata": {},
   "source": [
    "$${\\displaystyle {\\begin{cases}a_{11}x_{1}+a_{12}x_{2}+\\dots +a_{1n}x_{n}=b_{1}\\\\a_{21}x_{1}+a_{22}x_{2}+\\dots +a_{2n}x_{n}=b_{2}\\\\\\dots \\\\a_{m1}x_{1}+a_{m2}x_{2}+\\dots +a_{mn}x_{n}=b_{m}\\\\\\end{cases}}}$$\n",
    "\n",
    "где $a_{ij}$ и $b_{j}$ — произвольные числа, называемые коэффициентами при меременных $x_{1}, x_{2} \\dots x_{n}$ и свободными членами. Матричная форма записи имеет вид $A = XB$, где\n",
    "\n",
    "$A = \\begin{pmatrix}\n",
    "a_{11} & a_{12} & \\cdots & a_{1n} \\\\\n",
    "a_{21} & a_{22} & \\cdots & a_{2n} \\\\\n",
    "\\vdots & \\vdots & \\ddots & \\vdots \\\\\n",
    "a_{m1} & a_{m2} & \\cdots & a_{mn} \n",
    "\\end{pmatrix}$ — матрица коэффициентов при неизвестных,\n",
    "\n",
    "$X = \\begin{pmatrix}\n",
    "x_1 \\\\\n",
    "x_2 \\\\\n",
    "\\vdots \\\\\n",
    "x_n\n",
    "\\end{pmatrix}$ — матрица из неизвестных системы,\n",
    "\n",
    "$B =\n",
    "\\begin{pmatrix}\n",
    "b_1 \\\\\n",
    "b_2 \\\\\n",
    "\\vdots \\\\\n",
    "b_m\n",
    "\\end{pmatrix}$ — матрица из свободных членов.\n",
    "\n",
    "Решением системы `m` линейных уравнений с `n` переменными называют упорядоченный набор чисел, при подстановке которых в каждое уравнение системы вместо соответствующих переменных получают верное равенство. Как доказывает <a href=\"https://ru.wikipedia.org/wiki/%D0%A2%D0%B5%D0%BE%D1%80%D0%B5%D0%BC%D0%B0_%D0%9A%D1%80%D0%BE%D0%BD%D0%B5%D0%BA%D0%B5%D1%80%D0%B0_%E2%80%94_%D0%9A%D0%B0%D0%BF%D0%B5%D0%BB%D0%BB%D0%B8\">Теорема Кронекера-Капелли</a>, СЛУ могут иметь одно решение, бесконечное множество решений, так и не иметь решения."
   ]
  },
  {
   "cell_type": "markdown",
   "metadata": {},
   "source": [
    "Рассмотрим случай, когда система имеет единственное решение. Это значит, что матрицв системы невырожднная, т.е. ее определитель не равен нулю, и эту систему можно решать по правилу <a href=\"https://ru.wikipedia.org/wiki/%D0%9C%D0%B5%D1%82%D0%BE%D0%B4_%D0%9A%D1%80%D0%B0%D0%BC%D0%B5%D1%80%D0%B0\">Крамера</a> или методом обратной матрицы.\n",
    "\n",
    "${\\displaystyle {\\begin{cases}3x_{1}-x_{2}+x_{3}=5\\\\\n",
    "x_{1}-x_{2}-x_{3}=3\\\\\n",
    "5x_{1}-3x_{2}-x_{3}=10\\\\\\end{cases}}}$\n",
    "\n",
    "Для решения системы воспользуемся функцией <a href=\"https://numpy.org/doc/stable/reference/generated/numpy.linalg.solve.html\">numpy.linalg.solve</a>. Функция принимает два параметра:\n",
    " - матрица коэффициентов перед переменными\n",
    " - вектор свободных членов"
   ]
  },
  {
   "cell_type": "code",
   "execution_count": 28,
   "metadata": {},
   "outputs": [
    {
     "name": "stdout",
     "output_type": "stream",
     "text": [
      "x1 = -4.00\n",
      "x2 = -10.75\n",
      "x3 = 4.25\n"
     ]
    }
   ],
   "source": [
    "A = np.array([[3, -1, 1], \n",
    "              [1, -1, 1],\n",
    "              [5, -3, -1,]])\n",
    "\n",
    "B = np.array([3, 11, 8])\n",
    "\n",
    "X = np.linalg.solve(A, B)\n",
    "\n",
    "for i, x in enumerate(X, 1):\n",
    "    print(f'x{i} = {x:.2f}')"
   ]
  },
  {
   "cell_type": "markdown",
   "metadata": {},
   "source": [
    "Определитель основной матрицы системы не равен нулю, мы получили единственное решение, хотя и не целочисленное."
   ]
  },
  {
   "cell_type": "code",
   "execution_count": 29,
   "metadata": {},
   "outputs": [
    {
     "data": {
      "text/plain": [
       "7.999999999999998"
      ]
     },
     "execution_count": 29,
     "metadata": {},
     "output_type": "execute_result"
    }
   ],
   "source": [
    "np.linalg.det(A)"
   ]
  },
  {
   "cell_type": "markdown",
   "metadata": {},
   "source": [
    "### Решение системы линейных уравнений $AX = B$ методом обратной матрицы"
   ]
  },
  {
   "cell_type": "markdown",
   "metadata": {},
   "source": [
    "Для этого:\n",
    "   1. вычислим определитель матрицы $A$. Если определитель равен нулю, то конец решения. Система имеет бесконечное множество решений.\n",
    "   2. при определителе отличном от нуля, через алгебраические дополнения находится обратная матрица $A^{-1}$.\n",
    "   3. вектор решения $X = \\{x_{1}, x_{2} \\dots x_{n}\\}$ получается умолжением обратной матрицы на вектор результата $B$."
   ]
  },
  {
   "cell_type": "markdown",
   "metadata": {},
   "source": [
    "__Решить СЛУ методом обратной матрицы__\n",
    "\n",
    "${\\displaystyle{\\begin{cases}2x_{1}-x_{2}-2x_{3}=-3\\\\\n",
    "x_{1}-2x_{2}+x_{3}=5\\\\\n",
    "3x_{1}+x_{2}-x_{3}=0\\\\\\end{cases}}}$"
   ]
  },
  {
   "cell_type": "code",
   "execution_count": 34,
   "metadata": {},
   "outputs": [
    {
     "name": "stdout",
     "output_type": "stream",
     "text": [
      "Решение системы [ 1. -1.  2.]\n"
     ]
    }
   ],
   "source": [
    "A = np.array([[2, 1, -2], \n",
    "              [1, -2, 1],\n",
    "              [3, 1, -1,]])\n",
    "\n",
    "B = np.array([-3, 5, 0])\n",
    "\n",
    "det = np.linalg.det(A)\n",
    "if det == 0:\n",
    "    print('Система имеет бесконечное множество решений, \\\n",
    "           определитель матрицы равен 0')\n",
    "else:\n",
    "    AI = np.linalg.inv(A)\n",
    "    X = np.dot(AI, B)\n",
    "    print(f'Решение системы {X}')"
   ]
  },
  {
   "cell_type": "markdown",
   "metadata": {},
   "source": [
    "### Решение системы линейных уравнений $AX = B$ с использованием метода Крамера"
   ]
  },
  {
   "cell_type": "markdown",
   "metadata": {},
   "source": [
    "Если определитель матрицы системы не равен нулю, ее можно решить по <a href=\"https://ru.wikipedia.org/wiki/%D0%9C%D0%B5%D1%82%D0%BE%D0%B4_%D0%9A%D1%80%D0%B0%D0%BC%D0%B5%D1%80%D0%B0\">правилу Крамера</a>. Для этого находят определитель матрицы системы и делят на него определители, полученные заменой $i$-го столбца матрицы системы на столбец свободных членов. Эти отношения и будуи составлять решение системы. Оно будет единственным.\n",
    "\n",
    "__Решить СЛУ методом Крамера__\n",
    "\n",
    "${\\displaystyle{\\begin{cases}2x_{1}-x_{2}-2x_{3}=-3\\\\\n",
    "x_{1}-2x_{2}+x_{3}=5\\\\\n",
    "3x_{1}+x_{2}-x_{3}=0\\\\\\end{cases}}}$"
   ]
  },
  {
   "cell_type": "code",
   "execution_count": 40,
   "metadata": {},
   "outputs": [
    {
     "name": "stdout",
     "output_type": "stream",
     "text": [
      "Решение системы [0.9999999999999996, -1.0, 2.0000000000000004]\n"
     ]
    }
   ],
   "source": [
    "det = np.linalg.det(A)\n",
    "if det == 0:\n",
    "    print('определитель матрицы равен 0, \\\n",
    "          система имеет бесконечное множество решений')\n",
    "else:\n",
    "    s0, s1, s2 = A[:,0], A[:,1], A[:,2]\n",
    "    a1 = np.column_stack((B, s1, s2))\n",
    "    a2 = np.column_stack((s0, B, s2))\n",
    "    a3 = np.column_stack((s0, s1, B))\n",
    "    X = [d / det for d in map(np.linalg.det, (a1, a2, a3))]\n",
    "    print(f'Решение системы {X}')"
   ]
  },
  {
   "cell_type": "markdown",
   "metadata": {},
   "source": [
    "Рассмотрим пример системы, которая имеет бесконечное множество решений.\n",
    "\n",
    "### Этапы решения\n",
    "\n",
    "  1. Найти определитель матрицы системы\n",
    "  2. Если он не равен нулю, вывести решения с помошью `np.linalg.solve(A, B)`\n",
    "  3. Иначе сравниваем ранги расширенной и основной матриц системы и используем <a href=\"https://ru.wikipedia.org/wiki/%D0%A2%D0%B5%D0%BE%D1%80%D0%B5%D0%BC%D0%B0_%D0%9A%D1%80%D0%BE%D0%BD%D0%B5%D0%BA%D0%B5%D1%80%D0%B0_%E2%80%94_%D0%9A%D0%B0%D0%BF%D0%B5%D0%BB%D0%BB%D0%B8\">теорему Кронекера-Капелли</a>.\n",
    "  \n",
    "__Решить СЛУ__\n",
    "\n",
    "${\\displaystyle{\\begin{cases}x_{1}+2x_{2}-x_{3}=7\\\\\n",
    "2x_{1}-3x_{2}+x_{3}=3\\\\\n",
    "4x_{1}+x_{2}-x_{3}=16\\\\\\end{cases}}}$"
   ]
  },
  {
   "cell_type": "code",
   "execution_count": 63,
   "metadata": {},
   "outputs": [
    {
     "name": "stdout",
     "output_type": "stream",
     "text": [
      "Система не имеет решений\n"
     ]
    }
   ],
   "source": [
    "A = np.array([[1, 2, -1], \n",
    "              [2, -3, 1],\n",
    "              [4, 1, -1,]])\n",
    "\n",
    "B = np.array([7, 3, 16])\n",
    "\n",
    "det = np.linalg.det(A)\n",
    "\n",
    "B1 = B.reshape((1, -1)) # B[np.newaxis, :]\n",
    "AB = np.vstack((A, B1))\n",
    "\n",
    "if det:\n",
    "    X = np.linalg.solve(A, B)\n",
    "    print('Единственное решение', X)\n",
    "else:\n",
    "    rank_a = np.linalg.matrix_rank(A) \n",
    "    rank_ab = np.linalg.matrix_rank(AB) \n",
    "    if rank_a == rank_ab:\n",
    "        print('Система имеет бесконечное множество \\\n",
    "                               решений и частное', X)\n",
    "    else:\n",
    "        print('Система не имеет решений')"
   ]
  },
  {
   "cell_type": "markdown",
   "metadata": {},
   "source": [
    "# Элементы аналитической геометрии"
   ]
  },
  {
   "cell_type": "markdown",
   "metadata": {},
   "source": [
    "## Векторы на плоскости и в пространстве. Операции над векторами.\n",
    "\n",
    "Вектором на плостости и в пространстве называютмножество сонаправленных отрезков, имеющих одиноковую длину. Обозначают векторы малыми латинскими буквами со стрелкой ${\\vec {a}}$. Если даны координаты начала и конца вектора, то чтобы найти координаты вектора, нужно из координат конца вычесть координаты начала. Если $A = (x_{1};y_{1}), B = (x_{2};y_{2})$, то ${\\overrightarrow {AB}} = (x_{2}-x_{1};y_{2}-y_{1})$, а длина вектора $|{\\overrightarrow  {AB}}| = |AB| = {\\sqrt {(x_{2}-x_{1})^{2}+(y_{2}-y_{1})^{2}}}$.\n",
    "\n",
    "Векторы линейно зависимые, если один из них можно представить как линейную комбинацию других."
   ]
  },
  {
   "cell_type": "markdown",
   "metadata": {},
   "source": [
    "### Примеры решений"
   ]
  },
  {
   "cell_type": "markdown",
   "metadata": {},
   "source": [
    "1) Даны вектор $a(5;1)$ и точка $A(-2;3)$. Найти координаты точки $B$, такой, что ${\\vec {a}} = AB$"
   ]
  },
  {
   "cell_type": "code",
   "execution_count": 67,
   "metadata": {},
   "outputs": [
    {
     "data": {
      "text/plain": [
       "array([2, 4])"
      ]
     },
     "execution_count": 67,
     "metadata": {},
     "output_type": "execute_result"
    }
   ],
   "source": [
    "a = np.array([5, 1])\n",
    "A = np.array([-3, 3])\n",
    "B = a + A; B"
   ]
  },
  {
   "cell_type": "markdown",
   "metadata": {},
   "source": [
    "2) Найти вектор — результат векторного произведения векторов $a = (1;3;-1), b = (2;-2;1)$ и его длину."
   ]
  },
  {
   "cell_type": "markdown",
   "metadata": {},
   "source": [
    "Запишем вектор ${\\vec {с}}$ через разлодение по базисным ортам $i, j, k$ и найдем его длину с помощью функции `np.linalg.norm`.\n",
    "\n",
    "${\\vec {с}} = {\\displaystyle [{\\vec {a}},\\;{\\vec {b}}]={\\begin{vmatrix}\\mathbf {i} &\\mathbf {j} &\\mathbf {k} \\\\a_{x}&a_{y}&a_{z}\\\\b_{x}&b_{y}&b_{z}\\end{vmatrix}}}$"
   ]
  },
  {
   "cell_type": "code",
   "execution_count": 92,
   "metadata": {},
   "outputs": [
    {
     "name": "stdout",
     "output_type": "stream",
     "text": [
      "c = (1.0)i + (3.0)j + (-8.0)k\n",
      "Длина векторного произведения n = 8.602325267042625\n"
     ]
    }
   ],
   "source": [
    "a = np.array([[1, 3, -1],\n",
    "              [2, -2, 1]])\n",
    "\n",
    "i, j, k = [a[:,x] for x in range(3)]\n",
    "\n",
    "a1 = np.column_stack((j, k))\n",
    "a2 = np.column_stack((i, k))\n",
    "a3 = np.column_stack((i, j))\n",
    "\n",
    "c = [*map(np.linalg.det, (a1, a2, a3))]\n",
    "\n",
    "print('c = ({:.1f})i + ({:.1f})j + ({:.1f})k\\n\\\n",
    "Длина векторного произведения n = {}'.format(*c, np.linalg.norm(c)))"
   ]
  }
 ],
 "metadata": {
  "kernelspec": {
   "display_name": "Python 3",
   "language": "python",
   "name": "python3"
  },
  "language_info": {
   "codemirror_mode": {
    "name": "ipython",
    "version": 3
   },
   "file_extension": ".py",
   "mimetype": "text/x-python",
   "name": "python",
   "nbconvert_exporter": "python",
   "pygments_lexer": "ipython3",
   "version": "3.8.3"
  }
 },
 "nbformat": 4,
 "nbformat_minor": 4
}
